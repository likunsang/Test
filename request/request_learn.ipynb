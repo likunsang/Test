{
 "cells": [
  {
   "cell_type": "code",
   "execution_count": 3,
   "metadata": {},
   "outputs": [],
   "source": [
    "import requests"
   ]
  },
  {
   "cell_type": "code",
   "execution_count": 16,
   "metadata": {},
   "outputs": [],
   "source": [
    "from IPython.core.interactiveshell import InteractiveShell\n",
    "InteractiveShell.ast_node_interactivity='all'"
   ]
  },
  {
   "cell_type": "code",
   "execution_count": 35,
   "metadata": {},
   "outputs": [],
   "source": [
    "get_request = requests.get('https://api.github.com/events')"
   ]
  },
  {
   "cell_type": "code",
   "execution_count": 5,
   "metadata": {},
   "outputs": [
    {
     "data": {
      "text/plain": [
       "<Response [200]>"
      ]
     },
     "execution_count": 5,
     "metadata": {},
     "output_type": "execute_result"
    }
   ],
   "source": [
    "get_request"
   ]
  },
  {
   "cell_type": "code",
   "execution_count": 6,
   "metadata": {},
   "outputs": [],
   "source": [
    "post_request = requests.post('https://httpbin.org/post',data={'key':'value'})"
   ]
  },
  {
   "cell_type": "code",
   "execution_count": 13,
   "metadata": {
    "collapsed": true
   },
   "outputs": [
    {
     "data": {
      "text/plain": [
       "'[{\"id\":\"10079558864\",\"type\":\"IssuesEvent\",\"actor\":{\"id\":1741797,\"login\":\"hashman\",\"display_login\":\"hashman\",\"gravatar_id\":\"\",\"url\":\"https://api.github.com/users/hashman\",\"avatar_url\":\"https://avatars.githubusercontent.com/u/1741797?\"},\"repo\":{\"id\":5794776,\"name\":\"MOPCON/MOPCON\",\"url\":\"https://api.github.com/repos/MOPCON/MOPCON\"},\"payload\":{\"action\":\"opened\",\"issue\":{\"url\":\"https://api.github.com/repos/MOPCON/MOPCON/issues/190\",\"repository_url\":\"https://api.github.com/repos/MOPCON/MOPCON\",\"labels_url\":\"https://api.github.com/repos/MOPCON/MOPCON/issues/190/labels{/name}\",\"comments_url\":\"https://api.github.com/repos/MOPCON/MOPCON/issues/190/comments\",\"events_url\":\"https://api.github.com/repos/MOPCON/MOPCON/issues/190/events\",\"html_url\":\"https://github.com/MOPCON/MOPCON/issues/190\",\"id\":472625094,\"node_id\":\"MDU6SXNzdWU0NzI2MjUwOTQ=\",\"number\":190,\"title\":\"協助確認各組介紹詞\",\"user\":{\"login\":\"hashman\",\"id\":1741797,\"node_id\":\"MDQ6VXNlcjE3NDE3OTc=\",\"avatar_url\":\"https://avatars2.githubusercontent.com/u/1741797?v=4\",\"gravatar_id\":\"\",\"url\":\"https://api.github.com/users/hashman\",\"html_url\":\"https://github.com/hashman\",\"followers_url\":\"https://api.github.com/users/hashman/followers\",\"following_url\":\"https://api.github.com/users/hashman/following{/other_user}\",\"gists_url\":\"https://api.github.com/users/hashman/gists{/gist_id}\",\"starred_url\":\"https://api.github.com/users/hashman/starred{/owner}{/repo}\",\"subscriptions_url\":\"https://api.github.com/users/hashman/subscriptions\",\"organizations_url\":\"https://api.github.com/users/hashman/orgs\",\"repos_url\":\"https://api.github.com/users/hashman/repos\",\"events_url\":\"https://api.github.com/users/hashman/events{/privacy}\",\"received_events_url\":\"https://api.github.com/users/hashman/received_events\",\"type\":\"User\",\"site_admin\":false},\"labels\":[],\"state\":\"open\",\"locked\":false,\"assignee\":{\"login\":\"hashman\",\"id\":1741797,\"node_id\":\"MDQ6VXNlcjE3NDE3OTc=\",\"avatar_url\":\"https://avatars2.githubusercontent.com/u/1741797?v=4\",\"gravatar_id\":\"\",\"url\":\"https://api.github.com/users/hashman\",\"html_url\":\"https://github.com/hashman\",\"followers_url\":\"https://api.github.com/users/hashman/followers\",\"following_url\":\"https://api.github.com/users/hashman/following{/other_user}\",\"gists_url\":\"https://api.github.com/users/hashman/gists{/gist_id}\",\"starred_url\":\"https://api.github.com/users/hashman/starred{/owner}{/repo}\",\"subscriptions_url\":\"https://api.github.com/users/hashman/subscriptions\",\"organizations_url\":\"https://api.github.com/users/hashman/orgs\",\"repos_url\":\"https://api.github.com/users/hashman/repos\",\"events_url\":\"https://api.github.com/users/hashman/events{/privacy}\",\"received_events_url\":\"https://api.github.com/users/hashman/received_events\",\"type\":\"User\",\"site_admin\":false},\"assignees\":[{\"login\":\"hashman\",\"id\":1741797,\"node_id\":\"MDQ6VXNlcjE3NDE3OTc=\",\"avatar_url\":\"https://avatars2.githubusercontent.com/u/1741797?v=4\",\"gravatar_id\":\"\",\"url\":\"https://api.github.com/users/hashman\",\"html_url\":\"https://github.com/hashman\",\"followers_url\":\"https://api.github.com/users/hashman/followers\",\"following_url\":\"https://api.github.com/users/hashman/following{/other_user}\",\"gists_url\":\"https://api.github.com/users/hashman/gists{/gist_id}\",\"starred_url\":\"https://api.github.com/users/hashman/starred{/owner}{/repo}\",\"subscriptions_url\":\"https://api.github.com/users/hashman/subscriptions\",\"organizations_url\":\"https://api.github.com/users/hashman/orgs\",\"repos_url\":\"https://api.github.com/users/hashman/repos\",\"events_url\":\"https://api.github.com/users/hashman/events{/privacy}\",\"received_events_url\":\"https://api.github.com/users/hashman/received_events\",\"type\":\"User\",\"site_admin\":false}],\"milestone\":{\"url\":\"https://api.github.com/repos/MOPCON/MOPCON/milestones/10\",\"html_url\":\"https://github.com/MOPCON/MOPCON/milestone/10\",\"labels_url\":\"https://api.github.com/repos/MOPCON/MOPCON/milestones/10/labels\",\"id\":4490290,\"node_id\":\"MDk6TWlsZXN0b25lNDQ5MDI5MA==\",\"number\":10,\"title\":\"Sprint 7\",\"description\":\"\",\"creator\":{\"login\":\"hashman\",\"id\":1741797,\"node_id\":\"MDQ6VXNlcjE3NDE3OTc=\",\"avatar_url\":\"https://avatars2.githubusercontent.com/u/1741797?v=4\",\"gravatar_id\":\"\",\"url\":\"https://api.github.com/users/hashman\",\"html_url\":\"https://github.com/hashman\",\"followers_url\":\"https://api.github.com/users/hashman/followers\",\"following_url\":\"https://api.github.com/users/hashman/following{/other_user}\",\"gists_url\":\"https://api.github.com/users/hashman/gists{/gist_id}\",\"starred_url\":\"https://api.github.com/users/hashman/starred{/owner}{/repo}\",\"subscriptions_url\":\"https://api.github.com/users/hashman/subscriptions\",\"organizations_url\":\"https://api.github.com/users/hashman/orgs\",\"repos_url\":\"https://api.github.com/users/hashman/repos\",\"events_url\":\"https://api.github.com/users/hashman/events{/privacy}\",\"received_events_url\":\"https://api.github.com/users/hashman/received_events\",\"type\":\"User\",\"site_admin\":false},\"open_issues\":4,\"closed_issues\":0,\"state\":\"open\",\"created_at\":\"2019-07-14T14:42:34Z\",\"updated_at\":\"2019-07-25T01:48:06Z\",\"due_on\":\"2019-08-11T07:00:00Z\",\"closed_at\":null},\"comments\":0,\"created_at\":\"2019-07-25T01:48:06Z\",\"updated_at\":\"2019-07-25T01:48:06Z\",\"closed_at\":null,\"author_association\":\"NONE\",\"body\":\"目前資訊組正在著手進行主辦社群 / 工作人員頁面工作，需要麻煩組朋友提供給我各組的介紹詞\\\\r\\\\n\\\\r\\\\n如果不知道要寫什麼可以參考 [去年的至工組織頁面](https://mopcon.org/2018/volunteer.php)\\\\r\\\\n\\\\r\\\\n如果沒有 Github 帳號無法留言者，你可以選擇申請一個 Github 帳號或是直接於 Slack 中留言跟我說，我來幫你填寫\\\\r\\\\n\\\\r\\\\n謝謝\"}},\"public\":true,\"created_at\":\"2019-07-25T01:48:06Z\",\"org\":{\"id\":3915736,\"login\":\"MOPCON\",\"gravatar_id\":\"\",\"url\":\"https://api.github.com/orgs/MOPCON\",\"avatar_url\":\"https://avatars.githubusercontent.com/u/3915736?\"}},{\"id\":\"10079558860\",\"type\":\"PushEvent\",\"actor\":{\"id\":159722,\"login\":\"neozenith\",\"display_login\":\"neozenith\",\"gravatar_id\":\"\",\"url\":\"https://api.github.com/users/neozenith\",\"avatar_url\":\"https://avatars.githubusercontent.com/u/159722?\"},\"repo\":{\"id\":194181667,\"name\":\"neozenith/vcrpy\",\"url\":\"https://api.github.com/repos/neozenith/vcrpy\"},\"payload\":{\"push_id\":3853207865,\"size\":1,\"distinct_size\":1,\"ref\":\"refs/heads/master\",\"head\":\"857488ee3a6b4f667af5343851f49274fba76838\",\"before\":\"9fb8a7b0ba8d1cd9dc46ecaaf984883b8ab047ef\",\"commits\":[{\"sha\":\"857488ee3a6b4f667af5343851f49274fba76838\",\"author\":{\"email\":\"neozenith.dev@gmail.com\",\"name\":\"Josh Peak\"},\"message\":\"Add pytest-cov to check coverage of tox installed library\",\"distinct\":true,\"url\":\"https://api.github.com/repos/neozenith/vcrpy/commits/857488ee3a6b4f667af5343851f49274fba76838\"}]},\"public\":true,\"created_at\":\"2019-07-25T01:48:06Z\"},{\"id\":\"10079558861\",\"type\":\"WatchEvent\",\"actor\":{\"id\":7379732,\"login\":\"lincome\",\"display_login\":\"lincome\",\"gravatar_id\":\"\",\"url\":\"https://api.github.com/users/lincome\",\"avatar_url\":\"https://avatars.githubusercontent.com/u/7379732?\"},\"repo\":{\"id\":163385434,\"name\":\"chinese-poetry/weapp-calendar\",\"url\":\"https://api.github.com/repos/chinese-poetry/weapp-calendar\"},\"payload\":{\"action\":\"started\"},\"public\":true,\"created_at\":\"2019-07-25T01:48:06Z\",\"org\":{\"id\":30764933,\"login\":\"chinese-poetry\",\"gravatar_id\":\"\",\"url\":\"https://api.github.com/orgs/chinese-poetry\",\"avatar_url\":\"https://avatars.githubusercontent.com/u/30764933?\"}},{\"id\":\"10079558856\",\"type\":\"CreateEvent\",\"actor\":{\"id\":20524332,\"login\":\"ezexedge\",\"display_login\":\"ezexedge\",\"gravatar_id\":\"\",\"url\":\"https://api.github.com/users/ezexedge\",\"avatar_url\":\"https://avatars.githubusercontent.com/u/20524332?\"},\"repo\":{\"id\":198735195,\"name\":\"ezexedge/babasonicos\",\"url\":\"https://api.github.com/repos/ezexedge/babasonicos\"},\"payload\":{\"ref\":\"master\",\"ref_type\":\"branch\",\"master_branch\":\"master\",\"description\":\"copiando la web de babasonicos con wordpress b4-jq-php-ajax\",\"pusher_type\":\"user\"},\"public\":true,\"created_at\":\"2019-07-25T01:48:06Z\"},{\"id\":\"10079558850\",\"type\":\"PushEvent\",\"actor\":{\"id\":1864654,\"login\":\"pdexheimer\",\"display_login\":\"pdexheimer\",\"gravatar_id\":\"\",\"url\":\"https://api.github.com/users/pdexheimer\",\"avatar_url\":\"https://avatars.githubusercontent.com/u/1864654?\"},\"repo\":{\"id\":191244941,\"name\":\"pdexheimer/scuttle\",\"url\":\"https://api.github.com/repos/pdexheimer/scuttle\"},\"payload\":{\"push_id\":3853207863,\"size\":1,\"distinct_size\":1,\"ref\":\"refs/heads/improve/arguments\",\"head\":\"26fc0be126bc5019e336aeea3569217a7b45d793\",\"before\":\"dcbfab8174213b594ab99e12c69f524444661d99\",\"commits\":[{\"sha\":\"26fc0be126bc5019e336aeea3569217a7b45d793\",\"author\":{\"email\":\"phillip.dexheimer@cchmc.org\",\"name\":\"Phillip Dexheimer\"},\"message\":\"Fixed comments\",\"distinct\":true,\"url\":\"https://api.github.com/repos/pdexheimer/scuttle/commits/26fc0be126bc5019e336aeea3569217a7b45d793\"}]},\"public\":true,\"created_at\":\"2019-07-25T01:48:06Z\"},{\"id\":\"10079558852\",\"type\":\"WatchEvent\",\"actor\":{\"id\":40601393,\"login\":\"SweetWhen\",\"display_login\":\"SweetWhen\",\"gravatar_id\":\"\",\"url\":\"https://api.github.com/users/SweetWhen\",\"avatar_url\":\"https://avatars.githubusercontent.com/u/40601393?\"},\"repo\":{\"id\":74175805,\"name\":\"istio/istio\",\"url\":\"https://api.github.com/repos/istio/istio\"},\"payload\":{\"action\":\"started\"},\"public\":true,\"created_at\":\"2019-07-25T01:48:06Z\",\"org\":{\"id\":23534644,\"login\":\"istio\",\"gravatar_id\":\"\",\"url\":\"https://api.github.com/orgs/istio\",\"avatar_url\":\"https://avatars.githubusercontent.com/u/23534644?\"}},{\"id\":\"10079558842\",\"type\":\"CreateEvent\",\"actor\":{\"id\":53146591,\"login\":\"ashultzwilliams\",\"display_login\":\"ashultzwilliams\",\"gravatar_id\":\"\",\"url\":\"https://api.github.com/users/ashultzwilliams\",\"avatar_url\":\"https://avatars.githubusercontent.com/u/53146591?\"},\"repo\":{\"id\":198736162,\"name\":\"ashultzwilliams/js-node-practice-lab-bootcamp-prep-000\",\"url\":\"https://api.github.com/repos/ashultzwilliams/js-node-practice-lab-bootcamp-prep-000\"},\"payload\":{\"ref\":\"wip\",\"ref_type\":\"branch\",\"master_branch\":\"master\",\"description\":null,\"pusher_type\":\"user\"},\"public\":true,\"created_at\":\"2019-07-25T01:48:06Z\"},{\"id\":\"10079558839\",\"type\":\"PushEvent\",\"actor\":{\"id\":52677504,\"login\":\"estebanespinoza24\",\"display_login\":\"estebanespinoza24\",\"gravatar_id\":\"\",\"url\":\"https://api.github.com/users/estebanespinoza24\",\"avatar_url\":\"https://avatars.githubusercontent.com/u/52677504?\"},\"repo\":{\"id\":198732924,\"name\":\"estebanespinoza24/nomster\",\"url\":\"https://api.github.com/repos/estebanespinoza24/nomster\"},\"payload\":{\"push_id\":3853207859,\"size\":1,\"distinct_size\":1,\"ref\":\"refs/heads/master\",\"head\":\"41ccdddb349a84f1b58d540f9e00e73f6c44a7f0\",\"before\":\"cb7d4db1c9595ff978e08e77e51cb1c60f208515\",\"commits\":[{\"sha\":\"41ccdddb349a84f1b58d540f9e00e73f6c44a7f0\",\"author\":{\"email\":\"estebanespinoza146@gmail.com\",\"name\":\"Esteban Espinoza\"},\"message\":\"Added places to our database\",\"distinct\":true,\"url\":\"https://api.github.com/repos/estebanespinoza24/nomster/commits/41ccdddb349a84f1b58d540f9e00e73f6c44a7f0\"}]},\"public\":true,\"created_at\":\"2019-07-25T01:48:06Z\"},{\"id\":\"10079558840\",\"type\":\"PullRequestEvent\",\"actor\":{\"id\":8052263,\"login\":\"domenicbove\",\"display_login\":\"domenicbove\",\"gravatar_id\":\"\",\"url\":\"https://api.github.com/users/domenicbove\",\"avatar_url\":\"https://avatars.githubusercontent.com/u/8052263?\"},\"repo\":{\"id\":119743330,\"name\":\"confluentinc/cp-ansible\",\"url\":\"https://api.github.com/repos/confluentinc/cp-ansible\"},\"payload\":{\"action\":\"closed\",\"number\":116,\"pull_request\":{\"url\":\"https://api.github.com/repos/confluentinc/cp-ansible/pulls/116\",\"id\":300916121,\"node_id\":\"MDExOlB1bGxSZXF1ZXN0MzAwOTE2MTIx\",\"html_url\":\"https://github.com/confluentinc/cp-ansible/pull/116\",\"diff_url\":\"https://github.com/confluentinc/cp-ansible/pull/116.diff\",\"patch_url\":\"https://github.com/confluentinc/cp-ansible/pull/116.patch\",\"issue_url\":\"https://api.github.com/repos/confluentinc/cp-ansible/issues/116\",\"number\":116,\"state\":\"closed\",\"locked\":false,\"title\":\"kerberos realm hardcoded to confluent.example.com\",\"user\":{\"login\":\"domenicbove\",\"id\":8052263,\"node_id\":\"MDQ6VXNlcjgwNTIyNjM=\",\"avatar_url\":\"https://avatars0.githubusercontent.com/u/8052263?v=4\",\"gravatar_id\":\"\",\"url\":\"https://api.github.com/users/domenicbove\",\"html_url\":\"https://github.com/domenicbove\",\"followers_url\":\"https://api.github.com/users/domenicbove/followers\",\"following_url\":\"https://api.github.com/users/domenicbove/following{/other_user}\",\"gists_url\":\"https://api.github.com/users/domenicbove/gists{/gist_id}\",\"starred_url\":\"https://api.github.com/users/domenicbove/starred{/owner}{/repo}\",\"subscriptions_url\":\"https://api.github.com/users/domenicbove/subscriptions\",\"organizations_url\":\"https://api.github.com/users/domenicbove/orgs\",\"repos_url\":\"https://api.github.com/users/domenicbove/repos\",\"events_url\":\"https://api.github.com/users/domenicbove/events{/privacy}\",\"received_events_url\":\"https://api.github.com/users/domenicbove/received_events\",\"type\":\"User\",\"site_admin\":false},\"body\":\"documented variable to use is realm not realm_name, so the kerberos config automatically gets set to confluent.example.com\\\\r\\\\n\\\\r\\\\ntested with kerberos playbook and realm name (!= confluent.example.com), services came up\",\"created_at\":\"2019-07-24T22:20:43Z\",\"updated_at\":\"2019-07-25T01:48:06Z\",\"closed_at\":\"2019-07-25T01:48:06Z\",\"merged_at\":null,\"merge_commit_sha\":\"851812d3510b1937ec0fd1c2e9b3237d74456d8e\",\"assignee\":null,\"assignees\":[],\"requested_reviewers\":[{\"login\":\"JumaX\",\"id\":1376580,\"node_id\":\"MDQ6VXNlcjEzNzY1ODA=\",\"avatar_url\":\"https://avatars0.githubusercontent.com/u/1376580?v=4\",\"gravatar_id\":\"\",\"url\":\"https://api.github.com/users/JumaX\",\"html_url\":\"https://github.com/JumaX\",\"followers_url\":\"https://api.github.com/users/JumaX/followers\",\"following_url\":\"https://api.github.com/users/JumaX/following{/other_user}\",\"gists_url\":\"https://api.github.com/users/JumaX/gists{/gist_id}\",\"starred_url\":\"https://api.github.com/users/JumaX/starred{/owner}{/repo}\",\"subscriptions_url\":\"https://api.github.com/users/JumaX/subscriptions\",\"organizations_url\":\"https://api.github.com/users/JumaX/orgs\",\"repos_url\":\"https://api.github.com/users/JumaX/repos\",\"events_url\":\"https://api.github.com/users/JumaX/events{/privacy}\",\"received_events_url\":\"https://api.github.com/users/JumaX/received_events\",\"type\":\"User\",\"site_admin\":false}],\"requested_teams\":[],\"labels\":[],\"milestone\":null,\"commits_url\":\"https://api.github.com/repos/confluentinc/cp-ansible/pulls/116/commits\",\"review_comments_url\":\"https://api.github.com/repos/confluentinc/cp-ansible/pulls/116/comments\",\"review_comment_url\":\"https://api.github.com/repos/confluentinc/cp-ansible/pulls/comments{/number}\",\"comments_url\":\"https://api.github.com/repos/confluentinc/cp-ansible/issues/116/comments\",\"statuses_url\":\"https://api.github.com/repos/confluentinc/cp-ansible/statuses/aa7dca529f9b98dcdb5e15152b167cd248871d95\",\"head\":{\"label\":\"confluentinc:kerbos-bug\",\"ref\":\"kerbos-bug\",\"sha\":\"aa7dca529f9b98dcdb5e15152b167cd248871d95\",\"user\":{\"login\":\"confluentinc\",\"id\":9439498,\"node_id\":\"MDEyOk9yZ2FuaXphdGlvbjk0Mzk0OTg=\",\"avatar_url\":\"https://avatars0.githubusercontent.com/u/9439498?v=4\",\"gravatar_id\":\"\",\"url\":\"https://api.github.com/users/confluentinc\",\"html_url\":\"https://github.com/confluentinc\",\"followers_url\":\"https://api.github.com/users/confluentinc/followers\",\"following_url\":\"https://api.github.com/users/confluentinc/following{/other_user}\",\"gists_url\":\"https://api.github.com/users/confluentinc/gists{/gist_id}\",\"starred_url\":\"https://api.github.com/users/confluentinc/starred{/owner}{/repo}\",\"subscriptions_url\":\"https://api.github.com/users/confluentinc/subscriptions\",\"organizations_url\":\"https://api.github.com/users/confluentinc/orgs\",\"repos_url\":\"https://api.github.com/users/confluentinc/repos\",\"events_url\":\"https://api.github.com/users/confluentinc/events{/privacy}\",\"received_events_url\":\"https://api.github.com/users/confluentinc/received_events\",\"type\":\"Organization\",\"site_admin\":false},\"repo\":{\"id\":119743330,\"node_id\":\"MDEwOlJlcG9zaXRvcnkxMTk3NDMzMzA=\",\"name\":\"cp-ansible\",\"full_name\":\"confluentinc/cp-ansible\",\"private\":false,\"owner\":{\"login\":\"confluentinc\",\"id\":9439498,\"node_id\":\"MDEyOk9yZ2FuaXphdGlvbjk0Mzk0OTg=\",\"avatar_url\":\"https://avatars0.githubusercontent.com/u/9439498?v=4\",\"gravatar_id\":\"\",\"url\":\"https://api.github.com/users/confluentinc\",\"html_url\":\"https://github.com/confluentinc\",\"followers_url\":\"https://api.github.com/users/confluentinc/followers\",\"following_url\":\"https://api.github.com/users/confluentinc/following{/other_user}\",\"gists_url\":\"https://api.github.com/users/confluentinc/gists{/gist_id}\",\"starred_url\":\"https://api.github.com/users/confluentinc/starred{/owner}{/repo}\",\"subscriptions_url\":\"https://api.github.com/users/confluentinc/subscriptions\",\"organizations_url\":\"https://api.github.com/users/confluentinc/orgs\",\"repos_url\":\"https://api.github.com/users/confluentinc/repos\",\"events_url\":\"https://api.github.com/users/confluentinc/events{/privacy}\",\"received_events_url\":\"https://api.github.com/users/confluentinc/received_events\",\"type\":\"Organization\",\"site_admin\":false},\"html_url\":\"https://github.com/confluentinc/cp-ansible\",\"description\":\"Ansible playbooks for the Confluent Platform\",\"fork\":false,\"url\":\"https://api.github.com/repos/confluentinc/cp-ansible\",\"forks_url\":\"https://api.github.com/repos/confluentinc/cp-ansible/forks\",\"keys_url\":\"https://api.github.com/repos/confluentinc/cp-ansible/keys{/key_id}\",\"collaborators_url\":\"https://api.github.com/repos/confluentinc/cp-ansible/collaborators{/collaborator}\",\"teams_url\":\"https://api.github.com/repos/confluentinc/cp-ansible/teams\",\"hooks_url\":\"https://api.github.com/repos/confluentinc/cp-ansible/hooks\",\"issue_events_url\":\"https://api.github.com/repos/confluentinc/cp-ansible/issues/events{/number}\",\"events_url\":\"https://api.github.com/repos/confluentinc/cp-ansible/events\",\"assignees_url\":\"https://api.github.com/repos/confluentinc/cp-ansible/assignees{/user}\",\"branches_url\":\"https://api.github.com/repos/confluentinc/cp-ansible/branches{/branch}\",\"tags_url\":\"https://api.github.com/repos/confluentinc/cp-ansible/tags\",\"blobs_url\":\"https://api.github.com/repos/confluentinc/cp-ansible/git/blobs{/sha}\",\"git_tags_url\":\"https://api.github.com/repos/confluentinc/cp-ansible/git/tags{/sha}\",\"git_refs_url\":\"https://api.github.com/repos/confluentinc/cp-ansible/git/refs{/sha}\",\"trees_url\":\"https://api.github.com/repos/confluentinc/cp-ansible/git/trees{/sha}\",\"statuses_url\":\"https://api.github.com/repos/confluentinc/cp-ansible/statuses/{sha}\",\"languages_url\":\"https://api.github.com/repos/confluentinc/cp-ansible/languages\",\"stargazers_url\":\"https://api.github.com/repos/confluentinc/cp-ansible/stargazers\",\"contributors_url\":\"https://api.github.com/repos/confluentinc/cp-ansible/contributors\",\"subscribers_url\":\"https://api.github.com/repos/confluentinc/cp-ansible/subscribers\",\"subscription_url\":\"https://api.github.com/repos/confluentinc/cp-ansible/subscription\",\"commits_url\":\"https://api.github.com/repos/confluentinc/cp-ansible/commits{/sha}\",\"git_commits_url\":\"https://api.github.com/repos/confluentinc/cp-ansible/git/commits{/sha}\",\"comments_url\":\"https://api.github.com/repos/confluentinc/cp-ansible/comments{/number}\",\"issue_comment_url\":\"https://api.github.com/repos/confluentinc/cp-ansible/issues/comments{/number}\",\"contents_url\":\"https://api.github.com/repos/confluentinc/cp-ansible/contents/{+path}\",\"compare_url\":\"https://api.github.com/repos/confluentinc/cp-ansible/compare/{base}...{head}\",\"merges_url\":\"https://api.github.com/repos/confluentinc/cp-ansible/merges\",\"archive_url\":\"https://api.github.com/repos/confluentinc/cp-ansible/{archive_format}{/ref}\",\"downloads_url\":\"https://api.github.com/repos/confluentinc/cp-ansible/downloads\",\"issues_url\":\"https://api.github.com/repos/confluentinc/cp-ansible/issues{/number}\",\"pulls_url\":\"https://api.github.com/repos/confluentinc/cp-ansible/pulls{/number}\",\"milestones_url\":\"https://api.github.com/repos/confluentinc/cp-ansible/milestones{/number}\",\"notifications_url\":\"https://api.github.com/repos/confluentinc/cp-ansible/notifications{?since,all,participating}\",\"labels_url\":\"https://api.github.com/repos/confluentinc/cp-ansible/labels{/name}\",\"releases_url\":\"https://api.github.com/repos/confluentinc/cp-ansible/releases{/id}\",\"deployments_url\":\"https://api.github.com/repos/confluentinc/cp-ansible/deployments\",\"created_at\":\"2018-01-31T21:06:17Z\",\"updated_at\":\"2019-07-19T09:45:13Z\",\"pushed_at\":\"2019-07-24T23:48:43Z\",\"git_url\":\"git://github.com/confluentinc/cp-ansible.git\",\"ssh_url\":\"git@github.com:confluentinc/cp-ansible.git\",\"clone_url\":\"https://github.com/confluentinc/cp-ansible.git\",\"svn_url\":\"https://github.com/confluentinc/cp-ansible\",\"homepage\":\"\",\"size\":198,\"stargazers_count\":115,\"watchers_count\":115,\"language\":\"Shell\",\"has_issues\":true,\"has_projects\":true,\"has_downloads\":true,\"has_wiki\":true,\"has_pages\":false,\"forks_count\":91,\"mirror_url\":null,\"archived\":false,\"disabled\":false,\"open_issues_count\":43,\"license\":{\"key\":\"apache-2.0\",\"name\":\"Apache License 2.0\",\"spdx_id\":\"Apache-2.0\",\"url\":\"https://api.github.com/licenses/apache-2.0\",\"node_id\":\"MDc6TGljZW5zZTI=\"},\"forks\":91,\"open_issues\":43,\"watchers\":115,\"default_branch\":\"5.3.x\"}},\"base\":{\"label\":\"confluentinc:5.3.0-pre\",\"ref\":\"5.3.0-pre\",\"sha\":\"7d74e0e74e52113ecb245915b0a53effce879df2\",\"user\":{\"login\":\"confluentinc\",\"id\":9439498,\"node_id\":\"MDEyOk9yZ2FuaXphdGlvbjk0Mzk0OTg=\",\"avatar_url\":\"https://avatars0.githubusercontent.com/u/9439498?v=4\",\"gravatar_id\":\"\",\"url\":\"https://api.github.com/users/confluentinc\",\"html_url\":\"https://github.com/confluentinc\",\"followers_url\":\"https://api.github.com/users/confluentinc/followers\",\"following_url\":\"https://api.github.com/users/confluentinc/following{/other_user}\",\"gists_url\":\"https://api.github.com/users/confluentinc/gists{/gist_id}\",\"starred_url\":\"https://api.github.com/users/confluentinc/starred{/owner}{/repo}\",\"subscriptions_url\":\"https://api.github.com/users/confluentinc/subscriptions\",\"organizations_url\":\"https://api.github.com/users/confluentinc/orgs\",\"repos_url\":\"https://api.github.com/users/confluentinc/repos\",\"events_url\":\"https://api.github.com/users/confluentinc/events{/privacy}\",\"received_events_url\":\"https://api.github.com/users/confluentinc/received_events\",\"type\":\"Organization\",\"site_admin\":false},\"repo\":{\"id\":119743330,\"node_id\":\"MDEwOlJlcG9zaXRvcnkxMTk3NDMzMzA=\",\"name\":\"cp-ansible\",\"full_name\":\"confluentinc/cp-ansible\",\"private\":false,\"owner\":{\"login\":\"confluentinc\",\"id\":9439498,\"node_id\":\"MDEyOk9yZ2FuaXphdGlvbjk0Mzk0OTg=\",\"avatar_url\":\"https://avatars0.githubusercontent.com/u/9439498?v=4\",\"gravatar_id\":\"\",\"url\":\"https://api.github.com/users/confluentinc\",\"html_url\":\"https://github.com/confluentinc\",\"followers_url\":\"https://api.github.com/users/confluentinc/followers\",\"following_url\":\"https://api.github.com/users/confluentinc/following{/other_user}\",\"gists_url\":\"https://api.github.com/users/confluentinc/gists{/gist_id}\",\"starred_url\":\"https://api.github.com/users/confluentinc/starred{/owner}{/repo}\",\"subscriptions_url\":\"https://api.github.com/users/confluentinc/subscriptions\",\"organizations_url\":\"https://api.github.com/users/confluentinc/orgs\",\"repos_url\":\"https://api.github.com/users/confluentinc/repos\",\"events_url\":\"https://api.github.com/users/confluentinc/events{/privacy}\",\"received_events_url\":\"https://api.github.com/users/confluentinc/received_events\",\"type\":\"Organization\",\"site_admin\":false},\"html_url\":\"https://github.com/confluentinc/cp-ansible\",\"description\":\"Ansible playbooks for the Confluent Platform\",\"fork\":false,\"url\":\"https://api.github.com/repos/confluentinc/cp-ansible\",\"forks_url\":\"https://api.github.com/repos/confluentinc/cp-ansible/forks\",\"keys_url\":\"https://api.github.com/repos/confluentinc/cp-ansible/keys{/key_id}\",\"collaborators_url\":\"https://api.github.com/repos/confluentinc/cp-ansible/collaborators{/collaborator}\",\"teams_url\":\"https://api.github.com/repos/confluentinc/cp-ansible/teams\",\"hooks_url\":\"https://api.github.com/repos/confluentinc/cp-ansible/hooks\",\"issue_events_url\":\"https://api.github.com/repos/confluentinc/cp-ansible/issues/events{/number}\",\"events_url\":\"https://api.github.com/repos/confluentinc/cp-ansible/events\",\"assignees_url\":\"https://api.github.com/repos/confluentinc/cp-ansible/assignees{/user}\",\"branches_url\":\"https://api.github.com/repos/confluentinc/cp-ansible/branches{/branch}\",\"tags_url\":\"https://api.github.com/repos/confluentinc/cp-ansible/tags\",\"blobs_url\":\"https://api.github.com/repos/confluentinc/cp-ansible/git/blobs{/sha}\",\"git_tags_url\":\"https://api.github.com/repos/confluentinc/cp-ansible/git/tags{/sha}\",\"git_refs_url\":\"https://api.github.com/repos/confluentinc/cp-ansible/git/refs{/sha}\",\"trees_url\":\"https://api.github.com/repos/confluentinc/cp-ansible/git/trees{/sha}\",\"statuses_url\":\"https://api.github.com/repos/confluentinc/cp-ansible/statuses/{sha}\",\"languages_url\":\"https://api.github.com/repos/confluentinc/cp-ansible/languages\",\"stargazers_url\":\"https://api.github.com/repos/confluentinc/cp-ansible/stargazers\",\"contributors_url\":\"https://api.github.com/repos/confluentinc/cp-ansible/contributors\",\"subscribers_url\":\"https://api.github.com/repos/confluentinc/cp-ansible/subscribers\",\"subscription_url\":\"https://api.github.com/repos/confluentinc/cp-ansible/subscription\",\"commits_url\":\"https://api.github.com/repos/confluentinc/cp-ansible/commits{/sha}\",\"git_commits_url\":\"https://api.github.com/repos/confluentinc/cp-ansible/git/commits{/sha}\",\"comments_url\":\"https://api.github.com/repos/confluentinc/cp-ansible/comments{/number}\",\"issue_comment_url\":\"https://api.github.com/repos/confluentinc/cp-ansible/issues/comments{/number}\",\"contents_url\":\"https://api.github.com/repos/confluentinc/cp-ansible/contents/{+path}\",\"compare_url\":\"https://api.github.com/repos/confluentinc/cp-ansible/compare/{base}...{head}\",\"merges_url\":\"https://api.github.com/repos/confluentinc/cp-ansible/merges\",\"archive_url\":\"https://api.github.com/repos/confluentinc/cp-ansible/{archive_format}{/ref}\",\"downloads_url\":\"https://api.github.com/repos/confluentinc/cp-ansible/downloads\",\"issues_url\":\"https://api.github.com/repos/confluentinc/cp-ansible/issues{/number}\",\"pulls_url\":\"https://api.github.com/repos/confluentinc/cp-ansible/pulls{/number}\",\"milestones_url\":\"https://api.github.com/repos/confluentinc/cp-ansible/milestones{/number}\",\"notifications_url\":\"https://api.github.com/repos/confluentinc/cp-ansible/notifications{?since,all,participating}\",\"labels_url\":\"https://api.github.com/repos/confluentinc/cp-ansible/labels{/name}\",\"releases_url\":\"https://api.github.com/repos/confluentinc/cp-ansible/releases{/id}\",\"deployments_url\":\"https://api.github.com/repos/confluentinc/cp-ansible/deployments\",\"created_at\":\"2018-01-31T21:06:17Z\",\"updated_at\":\"2019-07-19T09:45:13Z\",\"pushed_at\":\"2019-07-24T23:48:43Z\",\"git_url\":\"git://github.com/confluentinc/cp-ansible.git\",\"ssh_url\":\"git@github.com:confluentinc/cp-ansible.git\",\"clone_url\":\"https://github.com/confluentinc/cp-ansible.git\",\"svn_url\":\"https://github.com/confluentinc/cp-ansible\",\"homepage\":\"\",\"size\":198,\"stargazers_count\":115,\"watchers_count\":115,\"language\":\"Shell\",\"has_issues\":true,\"has_projects\":true,\"has_downloads\":true,\"has_wiki\":true,\"has_pages\":false,\"forks_count\":91,\"mirror_url\":null,\"archived\":false,\"disabled\":false,\"open_issues_count\":43,\"license\":{\"key\":\"apache-2.0\",\"name\":\"Apache License 2.0\",\"spdx_id\":\"Apache-2.0\",\"url\":\"https://api.github.com/licenses/apache-2.0\",\"node_id\":\"MDc6TGljZW5zZTI=\"},\"forks\":91,\"open_issues\":43,\"watchers\":115,\"default_branch\":\"5.3.x\"}},\"_links\":{\"self\":{\"href\":\"https://api.github.com/repos/confluentinc/cp-ansible/pulls/116\"},\"html\":{\"href\":\"https://github.com/confluentinc/cp-ansible/pull/116\"},\"issue\":{\"href\":\"https://api.github.com/repos/confluentinc/cp-ansible/issues/116\"},\"comments\":{\"href\":\"https://api.github.com/repos/confluentinc/cp-ansible/issues/116/comments\"},\"review_comments\":{\"href\":\"https://api.github.com/repos/confluentinc/cp-ansible/pulls/116/comments\"},\"review_comment\":{\"href\":\"https://api.github.com/repos/confluentinc/cp-ansible/pulls/comments{/number}\"},\"commits\":{\"href\":\"https://api.github.com/repos/confluentinc/cp-ansible/pulls/116/commits\"},\"statuses\":{\"href\":\"https://api.github.com/repos/confluentinc/cp-ansible/statuses/aa7dca529f9b98dcdb5e15152b167cd248871d95\"}},\"author_association\":\"NONE\",\"merged\":false,\"mergeable\":true,\"rebaseable\":true,\"mergeable_state\":\"clean\",\"merged_by\":null,\"comments\":1,\"review_comments\":0,\"maintainer_can_modify\":false,\"commits\":1,\"additions\":7,\"deletions\":11,\"changed_files\":2}},\"public\":true,\"created_at\":\"2019-07-25T01:48:06Z\",\"org\":{\"id\":9439498,\"login\":\"confluentinc\",\"gravatar_id\":\"\",\"url\":\"https://api.github.com/orgs/confluentinc\",\"avatar_url\":\"https://avatars.githubusercontent.com/u/9439498?\"}},{\"id\":\"10079558838\",\"type\":\"PushEvent\",\"actor\":{\"id\":25783712,\"login\":\"tongchengbin\",\"display_login\":\"tongchengbin\",\"gravatar_id\":\"\",\"url\":\"https://api.github.com/users/tongchengbin\",\"avatar_url\":\"https://avatars.githubusercontent.com/u/25783712?\"},\"repo\":{\"id\":198408838,\"name\":\"tongchengbin/falconDemo\",\"url\":\"https://api.github.com/repos/tongchengbin/falconDemo\"},\"payload\":{\"push_id\":3853207860,\"size\":1,\"distinct_size\":1,\"ref\":\"refs/heads/master\",\"head\":\"2654c68b7e76931d25eb4ec9ba5ec8590b429d24\",\"before\":\"6207ce6cd57446d86c3773649a0b5de40383bd8b\",\"commits\":[{\"sha\":\"2654c68b7e76931d25eb4ec9ba5ec8590b429d24\",\"author\":{\"email\":\"58296672@qq.com\",\"name\":\"tongchengbin\"},\"message\":\"readme\",\"distinct\":true,\"url\":\"https://api.github.com/repos/tongchengbin/falconDemo/commits/2654c68b7e76931d25eb4ec9ba5ec8590b429d24\"}]},\"public\":true,\"created_at\":\"2019-07-25T01:48:06Z\"},{\"id\":\"10079558833\",\"type\":\"PushEvent\",\"actor\":{\"id\":51352276,\"login\":\"baiden00\",\"display_login\":\"baiden00\",\"gravatar_id\":\"\",\"url\":\"https://api.github.com/users/baiden00\",\"avatar_url\":\"https://avatars.githubusercontent.com/u/51352276?\"},\"repo\":{\"id\":197868940,\"name\":\"baiden00/guessinggame\",\"url\":\"https://api.github.com/repos/baiden00/guessinggame\"},\"payload\":{\"push_id\":3853207857,\"size\":1,\"distinct_size\":1,\"ref\":\"refs/heads/master\",\"head\":\"baf369f6e7ba6e18cdeaec4775cee3cb4c5fcd06\",\"before\":\"048fff681dbc84c9362167df5ac9d1c326c81f80\",\"commits\":[{\"sha\":\"baf369f6e7ba6e18cdeaec4775cee3cb4c5fcd06\",\"author\":{\"email\":\"51352276+baiden00@users.noreply.github.com\",\"name\":\"baiden00\"},\"message\":\"Guessing.py\",\"distinct\":true,\"url\":\"https://api.github.com/repos/baiden00/guessinggame/commits/baf369f6e7ba6e18cdeaec4775cee3cb4c5fcd06\"}]},\"public\":true,\"created_at\":\"2019-07-25T01:48:06Z\"},{\"id\":\"10079558837\",\"type\":\"IssueCommentEvent\",\"actor\":{\"id\":37936606,\"login\":\"github-learning-lab[bot]\",\"display_login\":\"github-learning-lab\",\"gravatar_id\":\"\",\"url\":\"https://api.github.com/users/github-learning-lab[bot]\",\"avatar_url\":\"https://avatars.githubusercontent.com/u/37936606?\"},\"repo\":{\"id\":198608607,\"name\":\"DreamerLeon/community-starter-kit\",\"url\":\"https://api.github.com/repos/DreamerLeon/community-starter-kit\"},\"payload\":{\"action\":\"created\",\"issue\":{\"url\":\"https://api.github.com/repos/DreamerLeon/community-starter-kit/issues/2\",\"repository_url\":\"https://api.github.com/repos/DreamerLeon/community-starter-kit\",\"labels_url\":\"https://api.github.com/repos/DreamerLeon/community-starter-kit/issues/2/labels{/name}\",\"comments_url\":\"https://api.github.com/repos/DreamerLeon/community-starter-kit/issues/2/comments\",\"events_url\":\"https://api.github.com/repos/DreamerLeon/community-starter-kit/issues/2/events\",\"html_url\":\"https://github.com/DreamerLeon/community-starter-kit/pull/2\",\"id\":472620717,\"node_id\":\"MDExOlB1bGxSZXF1ZXN0MzAwOTQ4NDE1\",\"number\":2,\"title\":\"Add a repository description\",\"user\":{\"login\":\"github-learning-lab[bot]\",\"id\":37936606,\"node_id\":\"MDM6Qm90Mzc5MzY2MDY=\",\"avatar_url\":\"https://avatars0.githubusercontent.com/in/10572?v=4\",\"gravatar_id\":\"\",\"url\":\"https://api.github.com/users/github-learning-lab%5Bbot%5D\",\"html_url\":\"https://github.com/apps/github-learning-lab\",\"followers_url\":\"https://api.github.com/users/github-learning-lab%5Bbot%5D/followers\",\"following_url\":\"https://api.github.com/users/github-learning-lab%5Bbot%5D/following{/other_user}\",\"gists_url\":\"https://api.github.com/users/github-learning-lab%5Bbot%5D/gists{/gist_id}\",\"starred_url\":\"https://api.github.com/users/github-learning-lab%5Bbot%5D/starred{/owner}{/repo}\",\"subscriptions_url\":\"https://api.github.com/users/github-learning-lab%5Bbot%5D/subscriptions\",\"organizations_url\":\"https://api.github.com/users/github-learning-lab%5Bbot%5D/orgs\",\"repos_url\":\"https://api.github.com/users/github-learning-lab%5Bbot%5D/repos\",\"events_url\":\"https://api.github.com/users/github-learning-lab%5Bbot%5D/events{/privacy}\",\"received_events_url\":\"https://api.github.com/users/github-learning-lab%5Bbot%5D/received_events\",\"type\":\"Bot\",\"site_admin\":false},\"labels\":[],\"state\":\"closed\",\"locked\":false,\"assignee\":null,\"assignees\":[],\"milestone\":null,\"comments\":1,\"created_at\":\"2019-07-25T01:25:46Z\",\"updated_at\":\"2019-07-25T01:48:06Z\",\"closed_at\":\"2019-07-25T01:48:04Z\",\"author_association\":\"NONE\",\"pull_request\":{\"url\":\"https://api.github.com/repos/DreamerLeon/community-starter-kit/pulls/2\",\"html_url\":\"https://github.com/DreamerLeon/community-starter-kit/pull/2\",\"diff_url\":\"https://github.com/DreamerLeon/community-starter-kit/pull/2.diff\",\"patch_url\":\"https://github.com/DreamerLeon/community-starter-kit/pull/2.patch\"},\"body\":\"## Step 2: Edit the README.md\\\\n\\\\n:wave: @DreamerLeon, Mona has created a README and needs your help making it great. :sparkles:\\\\n\\\\n### Why you need a README.md\\\\n\\\\nThe `README.md` is the landing page for your project. It helps people understand, at a glance, whether your project is something that will be useful to them.\\\\n\\\\n`README.md` files typically include information on:\\\\n\\\\n- What the project does\\\\n- The features and benefits of the project\\\\n- How users can get started with the project\\\\n- Where users can get help with your project\\\\n- Who maintains and contributes to the project\\\\n\\\\n### Check it out\\\\n\\\\nMona\\'s `README.md` is missing some of the information above. Will you help Mona by replacing the placeholder text?\\\\n\\\\n### :keyboard: Activity: Editing the README.md\\\\n\\\\n1. Access the **Files changed** tab in this pull request.\\\\n2. Click the icon on the right of the file to edit the `README.md`.\\\\n3. Find the two placeholder texts labeled **DESCRIPTION PLACEHOLDER** and **FEATURES PLACEHOLDER**. Replace them with some bulleted information that may be helpful to new users.\\\\n4. After editing the `README.md` file, scroll down and click the **Commit changes** button.\\\\n\\\\n<hr>\\\\n<h3 align=\\\\\"center\\\\\">Watch below for my response.</h3>\\\\n\"},\"comment\":{\"url\":\"https://api.github.com/repos/DreamerLeon/community-starter-kit/issues/comments/514861896\",\"html_url\":\"https://github.com/DreamerLeon/community-starter-kit/pull/2#issuecomment-514861896\",\"issue_url\":\"https://api.github.com/repos/DreamerLeon/community-starter-kit/issues/2\",\"id\":514861896,\"node_id\":\"MDEyOklzc3VlQ29tbWVudDUxNDg2MTg5Ng==\",\"user\":{\"login\":\"github-learning-lab[bot]\",\"id\":37936606,\"node_id\":\"MDM6Qm90Mzc5MzY2MDY=\",\"avatar_url\":\"https://avatars0.githubusercontent.com/in/10572?v=4\",\"gravatar_id\":\"\",\"url\":\"https://api.github.com/users/github-learning-lab%5Bbot%5D\",\"html_url\":\"https://github.com/apps/github-learning-lab\",\"followers_url\":\"https://api.github.com/users/github-learning-lab%5Bbot%5D/followers\",\"following_url\":\"https://api.github.com/users/github-learning-lab%5Bbot%5D/following{/other_user}\",\"gists_url\":\"https://api.github.com/users/github-learning-lab%5Bbot%5D/gists{/gist_id}\",\"starred_url\":\"https://api.github.com/users/github-learning-lab%5Bbot%5D/starred{/owner}{/repo}\",\"subscriptions_url\":\"https://api.github.com/users/github-learning-lab%5Bbot%5D/subscriptions\",\"organizations_url\":\"https://api.github.com/users/github-learning-lab%5Bbot%5D/orgs\",\"repos_url\":\"https://api.github.com/users/github-learning-lab%5Bbot%5D/repos\",\"events_url\":\"https://api.github.com/users/github-learning-lab%5Bbot%5D/events{/privacy}\",\"received_events_url\":\"https://api.github.com/users/github-learning-lab%5Bbot%5D/received_events\",\"type\":\"Bot\",\"site_admin\":false},\"created_at\":\"2019-07-25T01:48:06Z\",\"updated_at\":\"2019-07-25T01:48:06Z\",\"author_association\":\"NONE\",\"body\":\"The `README.md` is a great introduction, but some documentation will help users feel even more supported as they start using the app. Mona has created a draft. Can you help?\\\\n\\\\n<hr>\\\\n<h3 align=\\\\\"center\\\\\">Check out <a href=\\\\\"https://github.com/DreamerLeon/community-starter-kit/pull/3\\\\\">the pull request</a>.</h3>\\\\n\"}},\"public\":true,\"created_at\":\"2019-07-25T01:48:06Z\"},{\"id\":\"10079558832\",\"type\":\"PushEvent\",\"actor\":{\"id\":39275089,\"login\":\"ManassesD\",\"display_login\":\"ManassesD\",\"gravatar_id\":\"\",\"url\":\"https://api.github.com/users/ManassesD\",\"avatar_url\":\"https://avatars.githubusercontent.com/u/39275089?\"},\"repo\":{\"id\":198724916,\"name\":\"ManassesD/Python2019\",\"url\":\"https://api.github.com/repos/ManassesD/Python2019\"},\"payload\":{\"push_id\":3853207856,\"size\":1,\"distinct_size\":1,\"ref\":\"refs/heads/master\",\"head\":\"9b8951b3e0158116f5b9f6cdaf8b3fc695ccf430\",\"before\":\"77125ca830bc366d7d430e900bcd3044564c30c7\",\"commits\":[{\"sha\":\"9b8951b3e0158116f5b9f6cdaf8b3fc695ccf430\",\"author\":{\"email\":\"39275089+ManassesD@users.noreply.github.com\",\"name\":\"ManassesD\"},\"message\":\"Add files via upload\",\"distinct\":true,\"url\":\"https://api.github.com/repos/ManassesD/Python2019/commits/9b8951b3e0158116f5b9f6cdaf8b3fc695ccf430\"}]},\"public\":true,\"created_at\":\"2019-07-25T01:48:06Z\"},{\"id\":\"10079558827\",\"type\":\"PushEvent\",\"actor\":{\"id\":39682099,\"login\":\"mat0829\",\"display_login\":\"mat0829\",\"gravatar_id\":\"\",\"url\":\"https://api.github.com/users/mat0829\",\"avatar_url\":\"https://avatars.githubusercontent.com/u/39682099?\"},\"repo\":{\"id\":198721004,\"name\":\"mat0829/sinatra-restful-routes-lab-v-000\",\"url\":\"https://api.github.com/repos/mat0829/sinatra-restful-routes-lab-v-000\"},\"payload\":{\"push_id\":3853207853,\"size\":1,\"distinct_size\":1,\"ref\":\"refs/heads/wip\",\"head\":\"41cbc60d20fdf6a277d2b37ec72231cd157043d9\",\"before\":\"21dbfd52a0c90a11dd874f33d41b982d1b738380\",\"commits\":[{\"sha\":\"41cbc60d20fdf6a277d2b37ec72231cd157043d9\",\"author\":{\"email\":\"matandersonlv@hotmail.com\",\"name\":\"Mat Anderson\"},\"message\":\"Automatically backed up by Learn\",\"distinct\":true,\"url\":\"https://api.github.com/repos/mat0829/sinatra-restful-routes-lab-v-000/commits/41cbc60d20fdf6a277d2b37ec72231cd157043d9\"}]},\"public\":true,\"created_at\":\"2019-07-25T01:48:06Z\"},{\"id\":\"10079558825\",\"type\":\"PushEvent\",\"actor\":{\"id\":19367726,\"login\":\"faherreraur\",\"display_login\":\"faherreraur\",\"gravatar_id\":\"\",\"url\":\"https://api.github.com/users/faherreraur\",\"avatar_url\":\"https://avatars.githubusercontent.com/u/19367726?\"},\"repo\":{\"id\":132310236,\"name\":\"fherreralab/fherreralab.github.io\",\"url\":\"https://api.github.com/repos/fherreralab/fherreralab.github.io\"},\"payload\":{\"push_id\":3853207851,\"size\":1,\"distinct_size\":1,\"ref\":\"refs/heads/master\",\"head\":\"7d6393081062ac69bd0204469244bd720c249e3e\",\"before\":\"988462e26785ec677fee6735942325dfb0e9d917\",\"commits\":[{\"sha\":\"7d6393081062ac69bd0204469244bd720c249e3e\",\"author\":{\"email\":\"faherreraur@gmail.com\",\"name\":\"Felipe Herrera\"},\"message\":\"updated publications\",\"distinct\":true,\"url\":\"https://api.github.com/repos/fherreralab/fherreralab.github.io/commits/7d6393081062ac69bd0204469244bd720c249e3e\"}]},\"public\":true,\"created_at\":\"2019-07-25T01:48:06Z\",\"org\":{\"id\":38922743,\"login\":\"fherreralab\",\"gravatar_id\":\"\",\"url\":\"https://api.github.com/orgs/fherreralab\",\"avatar_url\":\"https://avatars.githubusercontent.com/u/38922743?\"}},{\"id\":\"10079558822\",\"type\":\"WatchEvent\",\"actor\":{\"id\":46738016,\"login\":\"GitHubNum163\",\"display_login\":\"GitHubNum163\",\"gravatar_id\":\"\",\"url\":\"https://api.github.com/users/GitHubNum163\",\"avatar_url\":\"https://avatars.githubusercontent.com/u/46738016?\"},\"repo\":{\"id\":165864442,\"name\":\"TaleLin/lin-cms-vue\",\"url\":\"https://api.github.com/repos/TaleLin/lin-cms-vue\"},\"payload\":{\"action\":\"started\"},\"public\":true,\"created_at\":\"2019-07-25T01:48:06Z\",\"org\":{\"id\":46488686,\"login\":\"TaleLin\",\"gravatar_id\":\"\",\"url\":\"https://api.github.com/orgs/TaleLin\",\"avatar_url\":\"https://avatars.githubusercontent.com/u/46488686?\"}},{\"id\":\"10079558823\",\"type\":\"WatchEvent\",\"actor\":{\"id\":19761796,\"login\":\"esmark-developer\",\"display_login\":\"esmark-developer\",\"gravatar_id\":\"\",\"url\":\"https://api.github.com/users/esmark-developer\",\"avatar_url\":\"https://avatars.githubusercontent.com/u/19761796?\"},\"repo\":{\"id\":196353673,\"name\":\"taosdata/TDengine\",\"url\":\"https://api.github.com/repos/taosdata/TDengine\"},\"payload\":{\"action\":\"started\"},\"public\":true,\"created_at\":\"2019-07-25T01:48:06Z\",\"org\":{\"id\":48876650,\"login\":\"taosdata\",\"gravatar_id\":\"\",\"url\":\"https://api.github.com/orgs/taosdata\",\"avatar_url\":\"https://avatars.githubusercontent.com/u/48876650?\"}},{\"id\":\"10079558817\",\"type\":\"WatchEvent\",\"actor\":{\"id\":13793143,\"login\":\"thelongestusernameofall\",\"display_login\":\"thelongestusernameofall\",\"gravatar_id\":\"\",\"url\":\"https://api.github.com/users/thelongestusernameofall\",\"avatar_url\":\"https://avatars.githubusercontent.com/u/13793143?\"},\"repo\":{\"id\":75980194,\"name\":\"intelxed/mbuild\",\"url\":\"https://api.github.com/repos/intelxed/mbuild\"},\"payload\":{\"action\":\"started\"},\"public\":true,\"created_at\":\"2019-07-25T01:48:06Z\",\"org\":{\"id\":24464627,\"login\":\"intelxed\",\"gravatar_id\":\"\",\"url\":\"https://api.github.com/orgs/intelxed\",\"avatar_url\":\"https://avatars.githubusercontent.com/u/24464627?\"}},{\"id\":\"10079558807\",\"type\":\"PushEvent\",\"actor\":{\"id\":32428698,\"login\":\"hashibiroko\",\"display_login\":\"hashibiroko\",\"gravatar_id\":\"\",\"url\":\"https://api.github.com/users/hashibiroko\",\"avatar_url\":\"https://avatars.githubusercontent.com/u/32428698?\"},\"repo\":{\"id\":105738748,\"name\":\"hashibiroko/tanoshi\",\"url\":\"https://api.github.com/repos/hashibiroko/tanoshi\"},\"payload\":{\"push_id\":3853207844,\"size\":1,\"distinct_size\":1,\"ref\":\"refs/heads/master\",\"head\":\"c6e9344ce12f7e5bbcfeac56bf6c47ce9f7d686a\",\"before\":\"63ad9b76e0020279d75439b9285b072fb6fb57dc\",\"commits\":[{\"sha\":\"c6e9344ce12f7e5bbcfeac56bf6c47ce9f7d686a\",\"author\":{\"email\":\"kemo.hashibiroko@gmail.com\",\"name\":\"hashibiroko\"},\"message\":\"wa-i\",\"distinct\":true,\"url\":\"https://api.github.com/repos/hashibiroko/tanoshi/commits/c6e9344ce12f7e5bbcfeac56bf6c47ce9f7d686a\"}]},\"public\":true,\"created_at\":\"2019-07-25T01:48:06Z\"},{\"id\":\"10079558806\",\"type\":\"PushEvent\",\"actor\":{\"id\":38429025,\"login\":\"chuan12\",\"display_login\":\"chuan12\",\"gravatar_id\":\"\",\"url\":\"https://api.github.com/users/chuan12\",\"avatar_url\":\"https://avatars.githubusercontent.com/u/38429025?\"},\"repo\":{\"id\":129750934,\"name\":\"chuan12/shenzhouzd\",\"url\":\"https://api.github.com/repos/chuan12/shenzhouzd\"},\"payload\":{\"push_id\":3853207843,\"size\":1,\"distinct_size\":1,\"ref\":\"refs/heads/master\",\"head\":\"6430175aa4f318d0a2ea5cad3f3e17f0b3cccfa7\",\"before\":\"7f7b50cad63b9cc3ab8da5b90efa3fcda28f3384\",\"commits\":[{\"sha\":\"6430175aa4f318d0a2ea5cad3f3e17f0b3cccfa7\",\"author\":{\"email\":\"38429025+chuan12@users.noreply.github.com\",\"name\":\"chuan12\"},\"message\":\"Update data.js\",\"distinct\":true,\"url\":\"https://api.github.com/repos/chuan12/shenzhouzd/commits/6430175aa4f318d0a2ea5cad3f3e17f0b3cccfa7\"}]},\"public\":true,\"created_at\":\"2019-07-25T01:48:06Z\"},{\"id\":\"10079558808\",\"type\":\"WatchEvent\",\"actor\":{\"id\":10348085,\"login\":\"balugeorge\",\"display_login\":\"balugeorge\",\"gravatar_id\":\"\",\"url\":\"https://api.github.com/users/balugeorge\",\"avatar_url\":\"https://avatars.githubusercontent.com/u/10348085?\"},\"repo\":{\"id\":1377867,\"name\":\"locustio/locust\",\"url\":\"https://api.github.com/repos/locustio/locust\"},\"payload\":{\"action\":\"started\"},\"public\":true,\"created_at\":\"2019-07-25T01:48:06Z\",\"org\":{\"id\":2641063,\"login\":\"locustio\",\"gravatar_id\":\"\",\"url\":\"https://api.github.com/orgs/locustio\",\"avatar_url\":\"https://avatars.githubusercontent.com/u/2641063?\"}},{\"id\":\"10079558804\",\"type\":\"PullRequestEvent\",\"actor\":{\"id\":37936606,\"login\":\"github-learning-lab[bot]\",\"display_login\":\"github-learning-lab\",\"gravatar_id\":\"\",\"url\":\"https://api.github.com/users/github-learning-lab[bot]\",\"avatar_url\":\"https://avatars.githubusercontent.com/u/37936606?\"},\"repo\":{\"id\":198608607,\"name\":\"DreamerLeon/community-starter-kit\",\"url\":\"https://api.github.com/repos/DreamerLeon/community-starter-kit\"},\"payload\":{\"action\":\"opened\",\"number\":3,\"pull_request\":{\"url\":\"https://api.github.com/repos/DreamerLeon/community-starter-kit/pulls/3\",\"id\":300951741,\"node_id\":\"MDExOlB1bGxSZXF1ZXN0MzAwOTUxNzQx\",\"html_url\":\"https://github.com/DreamerLeon/community-starter-kit/pull/3\",\"diff_url\":\"https://github.com/DreamerLeon/community-starter-kit/pull/3.diff\",\"patch_url\":\"https://github.com/DreamerLeon/community-starter-kit/pull/3.patch\",\"issue_url\":\"https://api.github.com/repos/DreamerLeon/community-starter-kit/issues/3\",\"number\":3,\"state\":\"open\",\"locked\":false,\"title\":\"Add documentation\",\"user\":{\"login\":\"github-learning-lab[bot]\",\"id\":37936606,\"node_id\":\"MDM6Qm90Mzc5MzY2MDY=\",\"avatar_url\":\"https://avatars0.githubusercontent.com/in/10572?v=4\",\"gravatar_id\":\"\",\"url\":\"https://api.github.com/users/github-learning-lab%5Bbot%5D\",\"html_url\":\"https://github.com/apps/github-learning-lab\",\"followers_url\":\"https://api.github.com/users/github-learning-lab%5Bbot%5D/followers\",\"following_url\":\"https://api.github.com/users/github-learning-lab%5Bbot%5D/following{/other_user}\",\"gists_url\":\"https://api.github.com/users/github-learning-lab%5Bbot%5D/gists{/gist_id}\",\"starred_url\":\"https://api.github.com/users/github-learning-lab%5Bbot%5D/starred{/owner}{/repo}\",\"subscriptions_url\":\"https://api.github.com/users/github-learning-lab%5Bbot%5D/subscriptions\",\"organizations_url\":\"https://api.github.com/users/github-learning-lab%5Bbot%5D/orgs\",\"repos_url\":\"https://api.github.com/users/github-learning-lab%5Bbot%5D/repos\",\"events_url\":\"https://api.github.com/users/github-learning-lab%5Bbot%5D/events{/privacy}\",\"received_events_url\":\"https://api.github.com/users/github-learning-lab%5Bbot%5D/received_events\",\"type\":\"Bot\",\"site_admin\":false},\"body\":\"## Step 4: Create user documentation\\\\n\\\\nWell written user documentation is the key to a great user experience. Experts say, \\\\\"if a user can\\'t figure out how to use your project in less than an hour, they will move on.\\\\\" It pays to attract a few technical writers to your project. :wink:\\\\n\\\\n<details>\\\\n<summary>Where to create your documentation</summary>\\\\n<hr>\\\\n\\\\n ### Where to create documentation\\\\n\\\\n Your user documentation should be easy for your users to find. Some prefer to keep it on an externally facing website while others will use a docs folder in their project or the repository wiki.\\\\n\\\\n #### Getting organized\\\\n\\\\n As an open source project becomes more popular and more sophisticated, some maintainers find it is easier to move their open source project into an a GitHub organization. This allows you to create separate repositories for your project\\'s promotional website, documentation, source code, etc.\\\\n\\\\n <hr>\\\\n </details>\\\\n\\\\n### What to include\\\\n\\\\nDocumentation needs for open source projects will vary, but at a minimum you should include:\\\\n\\\\n- [ ] Installation instructions\\\\n- [ ] Completing essential tasks\\\\n- [ ] Customizing and configuring\\\\n\\\\nWill you help Mona ensure the documentation covers these minimum topics?\\\\n\\\\n### :keyboard: Activity: Creating user documentation\\\\n\\\\n1. Access the **Files changed** tab in this pull request.\\\\n2. Click the icon to the right of the file to edit the `getting-started.md` document.\\\\n3. Find the text marked **CONFIGS PLACEHOLDER** and add some example welcome messages that may be helpful to new users.\\\\n4. After editing the `getting-started.md` file, scroll down and click the **Commit changes** button.\\\\n\\\\n<hr>\\\\n<h3 align=\\\\\"center\\\\\">Watch below for my next comment.</h3>\\\\n\",\"created_at\":\"2019-07-25T01:48:05Z\",\"updated_at\":\"2019-07-25T01:48:05Z\",\"closed_at\":null,\"merged_at\":null,\"merge_commit_sha\":null,\"assignee\":null,\"assignees\":[],\"requested_reviewers\":[],\"requested_teams\":[],\"labels\":[],\"milestone\":null,\"commits_url\":\"https://api.github.com/repos/DreamerLeon/community-starter-kit/pulls/3/commits\",\"review_comments_url\":\"https://api.github.com/repos/DreamerLeon/community-starter-kit/pulls/3/comments\",\"review_comment_url\":\"https://api.github.com/repos/DreamerLeon/community-starter-kit/pulls/comments{/number}\",\"comments_url\":\"https://api.github.com/repos/DreamerLeon/community-starter-kit/issues/3/comments\",\"statuses_url\":\"https://api.github.com/repos/DreamerLeon/community-starter-kit/statuses/9c539d20a7ca7f8d8046322bb14bc451704f19fb\",\"head\":{\"label\":\"DreamerLeon:add-docs\",\"ref\":\"add-docs\",\"sha\":\"9c539d20a7ca7f8d8046322bb14bc451704f19fb\",\"user\":{\"login\":\"DreamerLeon\",\"id\":15936891,\"node_id\":\"MDQ6VXNlcjE1OTM2ODkx\",\"avatar_url\":\"https://avatars2.githubusercontent.com/u/15936891?v=4\",\"gravatar_id\":\"\",\"url\":\"https://api.github.com/users/DreamerLeon\",\"html_url\":\"https://github.com/DreamerLeon\",\"followers_url\":\"https://api.github.com/users/DreamerLeon/followers\",\"following_url\":\"https://api.github.com/users/DreamerLeon/following{/other_user}\",\"gists_url\":\"https://api.github.com/users/DreamerLeon/gists{/gist_id}\",\"starred_url\":\"https://api.github.com/users/DreamerLeon/starred{/owner}{/repo}\",\"subscriptions_url\":\"https://api.github.com/users/DreamerLeon/subscriptions\",\"organizations_url\":\"https://api.github.com/users/DreamerLeon/orgs\",\"repos_url\":\"https://api.github.com/users/DreamerLeon/repos\",\"events_url\":\"https://api.github.com/users/DreamerLeon/events{/privacy}\",\"received_events_url\":\"https://api.github.com/users/DreamerLeon/received_events\",\"type\":\"User\",\"site_admin\":false},\"repo\":{\"id\":198608607,\"node_id\":\"MDEwOlJlcG9zaXRvcnkxOTg2MDg2MDc=\",\"name\":\"community-starter-kit\",\"full_name\":\"DreamerLeon/community-starter-kit\",\"private\":false,\"owner\":{\"login\":\"DreamerLeon\",\"id\":15936891,\"node_id\":\"MDQ6VXNlcjE1OTM2ODkx\",\"avatar_url\":\"https://avatars2.githubusercontent.com/u/15936891?v=4\",\"gravatar_id\":\"\",\"url\":\"https://api.github.com/users/DreamerLeon\",\"html_url\":\"https://github.com/DreamerLeon\",\"followers_url\":\"https://api.github.com/users/DreamerLeon/followers\",\"following_url\":\"https://api.github.com/users/DreamerLeon/following{/other_user}\",\"gists_url\":\"https://api.github.com/users/DreamerLeon/gists{/gist_id}\",\"starred_url\":\"https://api.github.com/users/DreamerLeon/starred{/owner}{/repo}\",\"subscriptions_url\":\"https://api.github.com/users/DreamerLeon/subscriptions\",\"organizations_url\":\"https://api.github.com/users/DreamerLeon/orgs\",\"repos_url\":\"https://api.github.com/users/DreamerLeon/repos\",\"events_url\":\"https://api.github.com/users/DreamerLeon/events{/privacy}\",\"received_events_url\":\"https://api.github.com/users/DreamerLeon/received_events\",\"type\":\"User\",\"site_admin\":false},\"html_url\":\"https://github.com/DreamerLeon/community-starter-kit\",\"description\":\"community starter kit\",\"fork\":false,\"url\":\"https://api.github.com/repos/DreamerLeon/community-starter-kit\",\"forks_url\":\"https://api.github.com/repos/DreamerLeon/community-starter-kit/forks\",\"keys_url\":\"https://api.github.com/repos/DreamerLeon/community-starter-kit/keys{/key_id}\",\"collaborators_url\":\"https://api.github.com/repos/DreamerLeon/community-starter-kit/collaborators{/collaborator}\",\"teams_url\":\"https://api.github.com/repos/DreamerLeon/community-starter-kit/teams\",\"hooks_url\":\"https://api.github.com/repos/DreamerLeon/community-starter-kit/hooks\",\"issue_events_url\":\"https://api.github.com/repos/DreamerLeon/community-starter-kit/issues/events{/number}\",\"events_url\":\"https://api.github.com/repos/DreamerLeon/community-starter-kit/events\",\"assignees_url\":\"https://api.github.com/repos/DreamerLeon/community-starter-kit/assignees{/user}\",\"branches_url\":\"https://api.github.com/repos/DreamerLeon/community-starter-kit/branches{/branch}\",\"tags_url\":\"https://api.github.com/repos/DreamerLeon/community-starter-kit/tags\",\"blobs_url\":\"https://api.github.com/repos/DreamerLeon/community-starter-kit/git/blobs{/sha}\",\"git_tags_url\":\"https://api.github.com/repos/DreamerLeon/community-starter-kit/git/tags{/sha}\",\"git_refs_url\":\"https://api.github.com/repos/DreamerLeon/community-starter-kit/git/refs{/sha}\",\"trees_url\":\"https://api.github.com/repos/DreamerLeon/community-starter-kit/git/trees{/sha}\",\"statuses_url\":\"https://api.github.com/repos/DreamerLeon/community-starter-kit/statuses/{sha}\",\"languages_url\":\"https://api.github.com/repos/DreamerLeon/community-starter-kit/languages\",\"stargazers_url\":\"https://api.github.com/repos/DreamerLeon/community-starter-kit/stargazers\",\"contributors_url\":\"https://api.github.com/repos/DreamerLeon/community-starter-kit/contributors\",\"subscribers_url\":\"https://api.github.com/repos/DreamerLeon/community-starter-kit/subscribers\",\"subscription_url\":\"https://api.github.com/repos/DreamerLeon/community-starter-kit/subscription\",\"commits_url\":\"https://api.github.com/repos/DreamerLeon/community-starter-kit/commits{/sha}\",\"git_commits_url\":\"https://api.github.com/repos/DreamerLeon/community-starter-kit/git/commits{/sha}\",\"comments_url\":\"https://api.github.com/repos/DreamerLeon/community-starter-kit/comments{/number}\",\"issue_comment_url\":\"https://api.github.com/repos/DreamerLeon/community-starter-kit/issues/comments{/number}\",\"contents_url\":\"https://api.github.com/repos/DreamerLeon/community-starter-kit/contents/{+path}\",\"compare_url\":\"https://api.github.com/repos/DreamerLeon/community-starter-kit/compare/{base}...{head}\",\"merges_url\":\"https://api.github.com/repos/DreamerLeon/community-starter-kit/merges\",\"archive_url\":\"https://api.github.com/repos/DreamerLeon/community-starter-kit/{archive_format}{/ref}\",\"downloads_url\":\"https://api.github.com/repos/DreamerLeon/community-starter-kit/downloads\",\"issues_url\":\"https://api.github.com/repos/DreamerLeon/community-starter-kit/issues{/number}\",\"pulls_url\":\"https://api.github.com/repos/DreamerLeon/community-starter-kit/pulls{/number}\",\"milestones_url\":\"https://api.github.com/repos/DreamerLeon/community-starter-kit/milestones{/number}\",\"notifications_url\":\"https://api.github.com/repos/DreamerLeon/community-starter-kit/notifications{?since,all,participating}\",\"labels_url\":\"https://api.github.com/repos/DreamerLeon/community-starter-kit/labels{/name}\",\"releases_url\":\"https://api.github.com/repos/DreamerLeon/community-starter-kit/releases{/id}\",\"deployments_url\":\"https://api.github.com/repos/DreamerLeon/community-starter-kit/deployments\",\"created_at\":\"2019-07-24T10:01:14Z\",\"updated_at\":\"2019-07-25T01:24:35Z\",\"pushed_at\":\"2019-07-25T01:48:04Z\",\"git_url\":\"git://github.com/DreamerLeon/community-starter-kit.git\",\"ssh_url\":\"git@github.com:DreamerLeon/community-starter-kit.git\",\"clone_url\":\"https://github.com/DreamerLeon/community-starter-kit.git\",\"svn_url\":\"https://github.com/DreamerLeon/community-starter-kit\",\"homepage\":\"https://lab.github.com/githubtraining/community-starter-kit\",\"size\":13,\"stargazers_count\":0,\"watchers_count\":0,\"language\":null,\"has_issues\":true,\"has_projects\":true,\"has_downloads\":true,\"has_wiki\":true,\"has_pages\":false,\"forks_count\":0,\"mirror_url\":null,\"archived\":false,\"disabled\":false,\"open_issues_count\":1,\"license\":null,\"forks\":0,\"open_issues\":1,\"watchers\":0,\"default_branch\":\"master\"}},\"base\":{\"label\":\"DreamerLeon:master\",\"ref\":\"master\",\"sha\":\"e56cac86158b47140c248a376954d5e80db6a352\",\"user\":{\"login\":\"DreamerLeon\",\"id\":15936891,\"node_id\":\"MDQ6VXNlcjE1OTM2ODkx\",\"avatar_url\":\"https://avatars2.githubusercontent.com/u/15936891?v=4\",\"gravatar_id\":\"\",\"url\":\"https://api.github.com/users/DreamerLeon\",\"html_url\":\"https://github.com/DreamerLeon\",\"followers_url\":\"https://api.github.com/users/DreamerLeon/followers\",\"following_url\":\"https://api.github.com/users/DreamerLeon/following{/other_user}\",\"gists_url\":\"https://api.github.com/users/DreamerLeon/gists{/gist_id}\",\"starred_url\":\"https://api.github.com/users/DreamerLeon/starred{/owner}{/repo}\",\"subscriptions_url\":\"https://api.github.com/users/DreamerLeon/subscriptions\",\"organizations_url\":\"https://api.github.com/users/DreamerLeon/orgs\",\"repos_url\":\"https://api.github.com/users/DreamerLeon/repos\",\"events_url\":\"https://api.github.com/users/DreamerLeon/events{/privacy}\",\"received_events_url\":\"https://api.github.com/users/DreamerLeon/received_events\",\"type\":\"User\",\"site_admin\":false},\"repo\":{\"id\":198608607,\"node_id\":\"MDEwOlJlcG9zaXRvcnkxOTg2MDg2MDc=\",\"name\":\"community-starter-kit\",\"full_name\":\"DreamerLeon/community-starter-kit\",\"private\":false,\"owner\":{\"login\":\"DreamerLeon\",\"id\":15936891,\"node_id\":\"MDQ6VXNlcjE1OTM2ODkx\",\"avatar_url\":\"https://avatars2.githubusercontent.com/u/15936891?v=4\",\"gravatar_id\":\"\",\"url\":\"https://api.github.com/users/DreamerLeon\",\"html_url\":\"https://github.com/DreamerLeon\",\"followers_url\":\"https://api.github.com/users/DreamerLeon/followers\",\"following_url\":\"https://api.github.com/users/DreamerLeon/following{/other_user}\",\"gists_url\":\"https://api.github.com/users/DreamerLeon/gists{/gist_id}\",\"starred_url\":\"https://api.github.com/users/DreamerLeon/starred{/owner}{/repo}\",\"subscriptions_url\":\"https://api.github.com/users/DreamerLeon/subscriptions\",\"organizations_url\":\"https://api.github.com/users/DreamerLeon/orgs\",\"repos_url\":\"https://api.github.com/users/DreamerLeon/repos\",\"events_url\":\"https://api.github.com/users/DreamerLeon/events{/privacy}\",\"received_events_url\":\"https://api.github.com/users/DreamerLeon/received_events\",\"type\":\"User\",\"site_admin\":false},\"html_url\":\"https://github.com/DreamerLeon/community-starter-kit\",\"description\":\"community starter kit\",\"fork\":false,\"url\":\"https://api.github.com/repos/DreamerLeon/community-starter-kit\",\"forks_url\":\"https://api.github.com/repos/DreamerLeon/community-starter-kit/forks\",\"keys_url\":\"https://api.github.com/repos/DreamerLeon/community-starter-kit/keys{/key_id}\",\"collaborators_url\":\"https://api.github.com/repos/DreamerLeon/community-starter-kit/collaborators{/collaborator}\",\"teams_url\":\"https://api.github.com/repos/DreamerLeon/community-starter-kit/teams\",\"hooks_url\":\"https://api.github.com/repos/DreamerLeon/community-starter-kit/hooks\",\"issue_events_url\":\"https://api.github.com/repos/DreamerLeon/community-starter-kit/issues/events{/number}\",\"events_url\":\"https://api.github.com/repos/DreamerLeon/community-starter-kit/events\",\"assignees_url\":\"https://api.github.com/repos/DreamerLeon/community-starter-kit/assignees{/user}\",\"branches_url\":\"https://api.github.com/repos/DreamerLeon/community-starter-kit/branches{/branch}\",\"tags_url\":\"https://api.github.com/repos/DreamerLeon/community-starter-kit/tags\",\"blobs_url\":\"https://api.github.com/repos/DreamerLeon/community-starter-kit/git/blobs{/sha}\",\"git_tags_url\":\"https://api.github.com/repos/DreamerLeon/community-starter-kit/git/tags{/sha}\",\"git_refs_url\":\"https://api.github.com/repos/DreamerLeon/community-starter-kit/git/refs{/sha}\",\"trees_url\":\"https://api.github.com/repos/DreamerLeon/community-starter-kit/git/trees{/sha}\",\"statuses_url\":\"https://api.github.com/repos/DreamerLeon/community-starter-kit/statuses/{sha}\",\"languages_url\":\"https://api.github.com/repos/DreamerLeon/community-starter-kit/languages\",\"stargazers_url\":\"https://api.github.com/repos/DreamerLeon/community-starter-kit/stargazers\",\"contributors_url\":\"https://api.github.com/repos/DreamerLeon/community-starter-kit/contributors\",\"subscribers_url\":\"https://api.github.com/repos/DreamerLeon/community-starter-kit/subscribers\",\"subscription_url\":\"https://api.github.com/repos/DreamerLeon/community-starter-kit/subscription\",\"commits_url\":\"https://api.github.com/repos/DreamerLeon/community-starter-kit/commits{/sha}\",\"git_commits_url\":\"https://api.github.com/repos/DreamerLeon/community-starter-kit/git/commits{/sha}\",\"comments_url\":\"https://api.github.com/repos/DreamerLeon/community-starter-kit/comments{/number}\",\"issue_comment_url\":\"https://api.github.com/repos/DreamerLeon/community-starter-kit/issues/comments{/number}\",\"contents_url\":\"https://api.github.com/repos/DreamerLeon/community-starter-kit/contents/{+path}\",\"compare_url\":\"https://api.github.com/repos/DreamerLeon/community-starter-kit/compare/{base}...{head}\",\"merges_url\":\"https://api.github.com/repos/DreamerLeon/community-starter-kit/merges\",\"archive_url\":\"https://api.github.com/repos/DreamerLeon/community-starter-kit/{archive_format}{/ref}\",\"downloads_url\":\"https://api.github.com/repos/DreamerLeon/community-starter-kit/downloads\",\"issues_url\":\"https://api.github.com/repos/DreamerLeon/community-starter-kit/issues{/number}\",\"pulls_url\":\"https://api.github.com/repos/DreamerLeon/community-starter-kit/pulls{/number}\",\"milestones_url\":\"https://api.github.com/repos/DreamerLeon/community-starter-kit/milestones{/number}\",\"notifications_url\":\"https://api.github.com/repos/DreamerLeon/community-starter-kit/notifications{?since,all,participating}\",\"labels_url\":\"https://api.github.com/repos/DreamerLeon/community-starter-kit/labels{/name}\",\"releases_url\":\"https://api.github.com/repos/DreamerLeon/community-starter-kit/releases{/id}\",\"deployments_url\":\"https://api.github.com/repos/DreamerLeon/community-starter-kit/deployments\",\"created_at\":\"2019-07-24T10:01:14Z\",\"updated_at\":\"2019-07-25T01:24:35Z\",\"pushed_at\":\"2019-07-25T01:48:04Z\",\"git_url\":\"git://github.com/DreamerLeon/community-starter-kit.git\",\"ssh_url\":\"git@github.com:DreamerLeon/community-starter-kit.git\",\"clone_url\":\"https://github.com/DreamerLeon/community-starter-kit.git\",\"svn_url\":\"https://github.com/DreamerLeon/community-starter-kit\",\"homepage\":\"https://lab.github.com/githubtraining/community-starter-kit\",\"size\":13,\"stargazers_count\":0,\"watchers_count\":0,\"language\":null,\"has_issues\":true,\"has_projects\":true,\"has_downloads\":true,\"has_wiki\":true,\"has_pages\":false,\"forks_count\":0,\"mirror_url\":null,\"archived\":false,\"disabled\":false,\"open_issues_count\":1,\"license\":null,\"forks\":0,\"open_issues\":1,\"watchers\":0,\"default_branch\":\"master\"}},\"_links\":{\"self\":{\"href\":\"https://api.github.com/repos/DreamerLeon/community-starter-kit/pulls/3\"},\"html\":{\"href\":\"https://github.com/DreamerLeon/community-starter-kit/pull/3\"},\"issue\":{\"href\":\"https://api.github.com/repos/DreamerLeon/community-starter-kit/issues/3\"},\"comments\":{\"href\":\"https://api.github.com/repos/DreamerLeon/community-starter-kit/issues/3/comments\"},\"review_comments\":{\"href\":\"https://api.github.com/repos/DreamerLeon/community-starter-kit/pulls/3/comments\"},\"review_comment\":{\"href\":\"https://api.github.com/repos/DreamerLeon/community-starter-kit/pulls/comments{/number}\"},\"commits\":{\"href\":\"https://api.github.com/repos/DreamerLeon/community-starter-kit/pulls/3/commits\"},\"statuses\":{\"href\":\"https://api.github.com/repos/DreamerLeon/community-starter-kit/statuses/9c539d20a7ca7f8d8046322bb14bc451704f19fb\"}},\"author_association\":\"NONE\",\"merged\":false,\"mergeable\":null,\"rebaseable\":null,\"mergeable_state\":\"unknown\",\"merged_by\":null,\"comments\":0,\"review_comments\":0,\"maintainer_can_modify\":false,\"commits\":6,\"additions\":38,\"deletions\":0,\"changed_files\":1}},\"public\":true,\"created_at\":\"2019-07-25T01:48:05Z\"},{\"id\":\"10079558800\",\"type\":\"CreateEvent\",\"actor\":{\"id\":47734305,\"login\":\"yotapoon\",\"display_login\":\"yotapoon\",\"gravatar_id\":\"\",\"url\":\"https://api.github.com/users/yotapoon\",\"avatar_url\":\"https://avatars.githubusercontent.com/u/47734305?\"},\"repo\":{\"id\":198735330,\"name\":\"yotapoon/EM-algorithm\",\"url\":\"https://api.github.com/repos/yotapoon/EM-algorithm\"},\"payload\":{\"ref\":\"yotapoon-patch-1\",\"ref_type\":\"branch\",\"master_branch\":\"master\",\"description\":\"EMアルゴリズムによってGMM (Gaussian Mixture Model)により生成されたデータをクラスタリングする。\",\"pusher_type\":\"user\"},\"public\":true,\"created_at\":\"2019-07-25T01:48:05Z\"},{\"id\":\"10079558801\",\"type\":\"WatchEvent\",\"actor\":{\"id\":24368528,\"login\":\"BlinfoldKing\",\"display_login\":\"BlinfoldKing\",\"gravatar_id\":\"\",\"url\":\"https://api.github.com/users/BlinfoldKing\",\"avatar_url\":\"https://avatars.githubusercontent.com/u/24368528?\"},\"repo\":{\"id\":45557469,\"name\":\"NVIDIA/nvidia-docker\",\"url\":\"https://api.github.com/repos/NVIDIA/nvidia-docker\"},\"payload\":{\"action\":\"started\"},\"public\":true,\"created_at\":\"2019-07-25T01:48:05Z\",\"org\":{\"id\":1728152,\"login\":\"NVIDIA\",\"gravatar_id\":\"\",\"url\":\"https://api.github.com/orgs/NVIDIA\",\"avatar_url\":\"https://avatars.githubusercontent.com/u/1728152?\"}},{\"id\":\"10079558790\",\"type\":\"PushEvent\",\"actor\":{\"id\":14881725,\"login\":\"zodiacaca\",\"display_login\":\"zodiacaca\",\"gravatar_id\":\"\",\"url\":\"https://api.github.com/users/zodiacaca\",\"avatar_url\":\"https://avatars.githubusercontent.com/u/14881725?\"},\"repo\":{\"id\":195861806,\"name\":\"zodiacaca/Towers-and-Turrets\",\"url\":\"https://api.github.com/repos/zodiacaca/Towers-and-Turrets\"},\"payload\":{\"push_id\":3853207839,\"size\":5,\"distinct_size\":5,\"ref\":\"refs/heads/master\",\"head\":\"9e3e2910018486ac4bc5e1e2beefb30a18e370fc\",\"before\":\"21fee559b7c893ddc5db146b7a05a0cd242f0cac\",\"commits\":[{\"sha\":\"11c9c7ee299e52c43cbe43f5036a8acc4a652675\",\"author\":{\"email\":\"121059464@qq.com\",\"name\":\"zodiacaca\"},\"message\":\"u\",\"distinct\":true,\"url\":\"https://api.github.com/repos/zodiacaca/Towers-and-Turrets/commits/11c9c7ee299e52c43cbe43f5036a8acc4a652675\"},{\"sha\":\"831f29ea78932ace638f98ce27eecdbe61a7a0a6\",\"author\":{\"email\":\"121059464@qq.com\",\"name\":\"zodiacaca\"},\"message\":\"u\",\"distinct\":true,\"url\":\"https://api.github.com/repos/zodiacaca/Towers-and-Turrets/commits/831f29ea78932ace638f98ce27eecdbe61a7a0a6\"},{\"sha\":\"9131fd5c9e77b566dfe59b53cfb4cf79d583f2db\",\"author\":{\"email\":\"121059464@qq.com\",\"name\":\"zodiacaca\"},\"message\":\"u\",\"distinct\":true,\"url\":\"https://api.github.com/repos/zodiacaca/Towers-and-Turrets/commits/9131fd5c9e77b566dfe59b53cfb4cf79d583f2db\"},{\"sha\":\"d1b19bae5dbba6f3832f625a3f060631e80df8f9\",\"author\":{\"email\":\"121059464@qq.com\",\"name\":\"zodiacaca\"},\"message\":\"u\",\"distinct\":true,\"url\":\"https://api.github.com/repos/zodiacaca/Towers-and-Turrets/commits/d1b19bae5dbba6f3832f625a3f060631e80df8f9\"},{\"sha\":\"9e3e2910018486ac4bc5e1e2beefb30a18e370fc\",\"author\":{\"email\":\"121059464@qq.com\",\"name\":\"zodiacaca\"},\"message\":\"u\",\"distinct\":true,\"url\":\"https://api.github.com/repos/zodiacaca/Towers-and-Turrets/commits/9e3e2910018486ac4bc5e1e2beefb30a18e370fc\"}]},\"public\":true,\"created_at\":\"2019-07-25T01:48:05Z\"},{\"id\":\"10079558785\",\"type\":\"PushEvent\",\"actor\":{\"id\":15936891,\"login\":\"DreamerLeon\",\"display_login\":\"DreamerLeon\",\"gravatar_id\":\"\",\"url\":\"https://api.github.com/users/DreamerLeon\",\"avatar_url\":\"https://avatars.githubusercontent.com/u/15936891?\"},\"repo\":{\"id\":198608607,\"name\":\"DreamerLeon/community-starter-kit\",\"url\":\"https://api.github.com/repos/DreamerLeon/community-starter-kit\"},\"payload\":{\"push_id\":3853207836,\"size\":4,\"distinct_size\":1,\"ref\":\"refs/heads/master\",\"head\":\"e56cac86158b47140c248a376954d5e80db6a352\",\"before\":\"82e3267080cf40072af21dbf50409b4ea792cbcf\",\"commits\":[{\"sha\":\"9cbec822f8a27c5ac03a3c0720003d3785ff568b\",\"author\":{\"email\":\"trainingdemos+githubteacher@github.com\",\"name\":\"GitHub Teacher\"},\"message\":\"Draft of community focused README\",\"distinct\":false,\"url\":\"https://api.github.com/repos/DreamerLeon/community-starter-kit/commits/9cbec822f8a27c5ac03a3c0720003d3785ff568b\"},{\"sha\":\"e1413a66ffd7e74a5588b8e33bf63e6e7e5e063f\",\"author\":{\"email\":\"beardofedu@github.com\",\"name\":\"Matt Desmond\"},\"message\":\"add welcome bot install\",\"distinct\":false,\"url\":\"https://api.github.com/repos/DreamerLeon/community-starter-kit/commits/e1413a66ffd7e74a5588b8e33bf63e6e7e5e063f\"},{\"sha\":\"8746acf9fbe2b049b460854623807c04bee14f89\",\"author\":{\"email\":\"86625957@qq.com\",\"name\":\"Léon\"},\"message\":\"Update README.md\\\\n\\\\nreplace placeholder text\",\"distinct\":false,\"url\":\"https://api.github.com/repos/DreamerLeon/community-starter-kit/commits/8746acf9fbe2b049b460854623807c04bee14f89\"},{\"sha\":\"e56cac86158b47140c248a376954d5e80db6a352\",\"author\":{\"email\":\"86625957@qq.com\",\"name\":\"Léon\"},\"message\":\"Merge pull request #2 from DreamerLeon/add-readme\\\\n\\\\nAdd a repository description\",\"distinct\":true,\"url\":\"https://api.github.com/repos/DreamerLeon/community-starter-kit/commits/e56cac86158b47140c248a376954d5e80db6a352\"}]},\"public\":true,\"created_at\":\"2019-07-25T01:48:05Z\"},{\"id\":\"10079558786\",\"type\":\"CreateEvent\",\"actor\":{\"id\":8922930,\"login\":\"CoopTang\",\"display_login\":\"CoopTang\",\"gravatar_id\":\"\",\"url\":\"https://api.github.com/users/CoopTang\",\"avatar_url\":\"https://avatars.githubusercontent.com/u/8922930?\"},\"repo\":{\"id\":198736583,\"name\":\"CoopTang/git_homework\",\"url\":\"https://api.github.com/repos/CoopTang/git_homework\"},\"payload\":{\"ref\":null,\"ref_type\":\"repository\",\"master_branch\":\"master\",\"description\":null,\"pusher_type\":\"user\"},\"public\":true,\"created_at\":\"2019-07-25T01:48:05Z\"},{\"id\":\"10079558781\",\"type\":\"WatchEvent\",\"actor\":{\"id\":11884199,\"login\":\"winkstu\",\"display_login\":\"winkstu\",\"gravatar_id\":\"\",\"url\":\"https://api.github.com/users/winkstu\",\"avatar_url\":\"https://avatars.githubusercontent.com/u/11884199?\"},\"repo\":{\"id\":130013,\"name\":\"akka/akka\",\"url\":\"https://api.github.com/repos/akka/akka\"},\"payload\":{\"action\":\"started\"},\"public\":true,\"created_at\":\"2019-07-25T01:48:05Z\",\"org\":{\"id\":1496237,\"login\":\"akka\",\"gravatar_id\":\"\",\"url\":\"https://api.github.com/orgs/akka\",\"avatar_url\":\"https://avatars.githubusercontent.com/u/1496237?\"}},{\"id\":\"10079558771\",\"type\":\"WatchEvent\",\"actor\":{\"id\":16433547,\"login\":\"thanhtoan1196\",\"display_login\":\"thanhtoan1196\",\"gravatar_id\":\"\",\"url\":\"https://api.github.com/users/thanhtoan1196\",\"avatar_url\":\"https://avatars.githubusercontent.com/u/16433547?\"},\"repo\":{\"id\":767607,\"name\":\"LiosK/UUID.js\",\"url\":\"https://api.github.com/repos/LiosK/UUID.js\"},\"payload\":{\"action\":\"started\"},\"public\":true,\"created_at\":\"2019-07-25T01:48:05Z\"},{\"id\":\"10079558767\",\"type\":\"PushEvent\",\"actor\":{\"id\":210782,\"login\":\"aarond10\",\"display_login\":\"aarond10\",\"gravatar_id\":\"\",\"url\":\"https://api.github.com/users/aarond10\",\"avatar_url\":\"https://avatars.githubusercontent.com/u/210782?\"},\"repo\":{\"id\":57128539,\"name\":\"aarond10/https_dns_proxy\",\"url\":\"https://api.github.com/repos/aarond10/https_dns_proxy\"},\"payload\":{\"push_id\":3853207832,\"size\":2,\"distinct_size\":2,\"ref\":\"refs/heads/master\",\"head\":\"69e18ea256c9586ea04ef111115fbf20e4b67c96\",\"before\":\"4e47de7b27bffe153670b7c1c0c29776ea1d6cd6\",\"commits\":[{\"sha\":\"4822f1c354fc6276855ce021631c545e95ac0823\",\"author\":{\"email\":\"ldir@darbyshire-bryant.me.uk\",\"name\":\"Kevin Darbyshire-Bryant\"},\"message\":\"options: stop loglevel going negative\\\\n\\\\nLog level is controlled by the number of \\'-v\\' options passed in cmdline,\\\\nhowever there\\'s nothing to stop the log level going negative.\\\\nFortunately because the log level is currently a signed type the\\\\ncomparison of < message level works.  Let\\'s limit to 0.\\\\n\\\\nSigned-off-by: Kevin Darbyshire-Bryant <ldir@darbyshire-bryant.me.uk>\",\"distinct\":true,\"url\":\"https://api.github.com/repos/aarond10/https_dns_proxy/commits/4822f1c354fc6276855ce021631c545e95ac0823\"},{\"sha\":\"69e18ea256c9586ea04ef111115fbf20e4b67c96\",\"author\":{\"email\":\"aarond10@gmail.com\",\"name\":\"Aaron Drew\"},\"message\":\"Merge pull request #60 from ldir-EDB0/master\\\\n\\\\noptions: stop loglevel going negative\",\"distinct\":true,\"url\":\"https://api.github.com/repos/aarond10/https_dns_proxy/commits/69e18ea256c9586ea04ef111115fbf20e4b67c96\"}]},\"public\":true,\"created_at\":\"2019-07-25T01:48:05Z\"}]'"
      ]
     },
     "execution_count": 13,
     "metadata": {},
     "output_type": "execute_result"
    }
   ],
   "source": [
    "get_request.content.decode('utf-8')"
   ]
  },
  {
   "cell_type": "code",
   "execution_count": 19,
   "metadata": {},
   "outputs": [
    {
     "name": "stdout",
     "output_type": "stream",
     "text": [
      "Help on function get in module requests.api:\n",
      "\n",
      "get(url, params=None, **kwargs)\n",
      "    Sends a GET request.\n",
      "    \n",
      "    :param url: URL for the new :class:`Request` object.\n",
      "    :param params: (optional) Dictionary, list of tuples or bytes to send\n",
      "        in the body of the :class:`Request`.\n",
      "    :param \\*\\*kwargs: Optional arguments that ``request`` takes.\n",
      "    :return: :class:`Response <Response>` object\n",
      "    :rtype: requests.Response\n",
      "\n"
     ]
    }
   ],
   "source": [
    "help(requests.get)"
   ]
  },
  {
   "cell_type": "code",
   "execution_count": 20,
   "metadata": {},
   "outputs": [],
   "source": [
    "para = {'key1':'value1','key2':'value2'}\n",
    "get_request2 = requests.get('https://httpbin.org/get',params = para)"
   ]
  },
  {
   "cell_type": "code",
   "execution_count": 21,
   "metadata": {},
   "outputs": [
    {
     "data": {
      "text/plain": [
       "'https://httpbin.org/get?key1=value1&key2=value2'"
      ]
     },
     "execution_count": 21,
     "metadata": {},
     "output_type": "execute_result"
    }
   ],
   "source": [
    "get_request2.url"
   ]
  },
  {
   "cell_type": "code",
   "execution_count": 26,
   "metadata": {},
   "outputs": [],
   "source": [
    "para_2 = {'key1':'value1','key2':['value21','value22']}\n",
    "get_request_2 = requests.get('https://httpbin.org/get',params = para_2)"
   ]
  },
  {
   "cell_type": "code",
   "execution_count": 27,
   "metadata": {},
   "outputs": [
    {
     "data": {
      "text/plain": [
       "'https://httpbin.org/get?key1=value1&key2=value21&key2=value22'"
      ]
     },
     "execution_count": 27,
     "metadata": {},
     "output_type": "execute_result"
    }
   ],
   "source": [
    "get_request_2.url"
   ]
  },
  {
   "cell_type": "code",
   "execution_count": 36,
   "metadata": {
    "collapsed": true
   },
   "outputs": [
    {
     "data": {
      "text/plain": [
       "'[{\"id\":\"10079767836\",\"type\":\"PushEvent\",\"actor\":{\"id\":4945153,\"login\":\"apan1121\",\"display_login\":\"apan1121\",\"gravatar_id\":\"\",\"url\":\"https://api.github.com/users/apan1121\",\"avatar_url\":\"https://avatars.githubusercontent.com/u/4945153?\"},\"repo\":{\"id\":98047378,\"name\":\"apan1121/powerInfo\",\"url\":\"https://api.github.com/repos/apan1121/powerInfo\"},\"payload\":{\"push_id\":3853318630,\"size\":1,\"distinct_size\":1,\"ref\":\"refs/heads/gh-pages\",\"head\":\"861de8fe143112a580ffe8932f8e8c9da505a590\",\"before\":\"30d7e66e165a8ada3aa5755793f992656a6fa374\",\"commits\":[{\"sha\":\"861de8fe143112a580ffe8932f8e8c9da505a590\",\"author\":{\"email\":\"apan1121@gmail.com\",\"name\":\"byron-linode\"},\"message\":\"[auto] add new log\",\"distinct\":true,\"url\":\"https://api.github.com/repos/apan1121/powerInfo/commits/861de8fe143112a580ffe8932f8e8c9da505a590\"}]},\"public\":true,\"created_at\":\"2019-07-25T02:45:11Z\"},{\"id\":\"10079767834\",\"type\":\"PushEvent\",\"actor\":{\"id\":44431867,\"login\":\"minhnguyenduy99\",\"display_login\":\"minhnguyenduy99\",\"gravatar_id\":\"\",\"url\":\"https://api.github.com/users/minhnguyenduy99\",\"avatar_url\":\"https://avatars.githubusercontent.com/u/44431867?\"},\"repo\":{\"id\":196821666,\"name\":\"Daiyamondo2018/GameUIT\",\"url\":\"https://api.github.com/repos/Daiyamondo2018/GameUIT\"},\"payload\":{\"push_id\":3853318628,\"size\":5,\"distinct_size\":1,\"ref\":\"refs/heads/master\",\"head\":\"effb9e1e5b432521ce604eb317939742b578d9cd\",\"before\":\"a49cfec3bc2e0cb98b8b43d2abbd3013d5466a2a\",\"commits\":[{\"sha\":\"dfcc1a43152bad8f5ed393345ecf87aa5b47f156\",\"author\":{\"email\":\"minhnguyenduy99@gmail.com\",\"name\":\"Nguyen Duy Minh\"},\"message\":\"Update\",\"distinct\":false,\"url\":\"https://api.github.com/repos/Daiyamondo2018/GameUIT/commits/dfcc1a43152bad8f5ed393345ecf87aa5b47f156\"},{\"sha\":\"d84e56b34ddb36ea3775944c744f93ae6c1d58a3\",\"author\":{\"email\":\"minhnguyenduy99@gmail.com\",\"name\":\"Nguyen Duy Minh\"},\"message\":\"Merge branch \\'Test_collision\\' of https://github.com/Daiyamondo2018/GameUIT into Test_collision\",\"distinct\":false,\"url\":\"https://api.github.com/repos/Daiyamondo2018/GameUIT/commits/d84e56b34ddb36ea3775944c744f93ae6c1d58a3\"},{\"sha\":\"9b3e82f49fe68319ad6d669171cd937dce6182e6\",\"author\":{\"email\":\"minhnguyenduy99@gmail.com\",\"name\":\"Nguyen Duy Minh\"},\"message\":\"Update\",\"distinct\":false,\"url\":\"https://api.github.com/repos/Daiyamondo2018/GameUIT/commits/9b3e82f49fe68319ad6d669171cd937dce6182e6\"},{\"sha\":\"ddc056772db46b44003aaad2bd0f02da500af502\",\"author\":{\"email\":\"44431867+minhnguyenduy99@users.noreply.github.com\",\"name\":\"minhnguyenduy99\"},\"message\":\"Merge branch \\'master\\' into Test_collision\",\"distinct\":false,\"url\":\"https://api.github.com/repos/Daiyamondo2018/GameUIT/commits/ddc056772db46b44003aaad2bd0f02da500af502\"},{\"sha\":\"effb9e1e5b432521ce604eb317939742b578d9cd\",\"author\":{\"email\":\"44431867+minhnguyenduy99@users.noreply.github.com\",\"name\":\"minhnguyenduy99\"},\"message\":\"Merge pull request #5 from Daiyamondo2018/Test_collision\\\\n\\\\nupdate beta collision\",\"distinct\":true,\"url\":\"https://api.github.com/repos/Daiyamondo2018/GameUIT/commits/effb9e1e5b432521ce604eb317939742b578d9cd\"}]},\"public\":true,\"created_at\":\"2019-07-25T02:45:11Z\"},{\"id\":\"10079767831\",\"type\":\"PushEvent\",\"actor\":{\"id\":37233625,\"login\":\"tammytdo\",\"display_login\":\"tammytdo\",\"gravatar_id\":\"\",\"url\":\"https://api.github.com/users/tammytdo\",\"avatar_url\":\"https://avatars.githubusercontent.com/u/37233625?\"},\"repo\":{\"id\":195910629,\"name\":\"tammytdo/401_labs\",\"url\":\"https://api.github.com/repos/tammytdo/401_labs\"},\"payload\":{\"push_id\":3853318623,\"size\":1,\"distinct_size\":1,\"ref\":\"refs/heads/http_server\",\"head\":\"9a7f563716dab417cbe4296957bcb558955fde74\",\"before\":\"23415c59c6d75964d0a10aec8fc03aa42431c2f1\",\"commits\":[{\"sha\":\"9a7f563716dab417cbe4296957bcb558955fde74\",\"author\":{\"email\":\"tammytdo11@gmail.com\",\"name\":\"tammytdo11\"},\"message\":\"search query data rendering in browser\",\"distinct\":true,\"url\":\"https://api.github.com/repos/tammytdo/401_labs/commits/9a7f563716dab417cbe4296957bcb558955fde74\"}]},\"public\":true,\"created_at\":\"2019-07-25T02:45:11Z\"},{\"id\":\"10079767832\",\"type\":\"CreateEvent\",\"actor\":{\"id\":52971853,\"login\":\"n13r\",\"display_login\":\"n13r\",\"gravatar_id\":\"\",\"url\":\"https://api.github.com/users/n13r\",\"avatar_url\":\"https://avatars.githubusercontent.com/u/52971853?\"},\"repo\":{\"id\":198744103,\"name\":\"n13r/n13r.github.io\",\"url\":\"https://api.github.com/repos/n13r/n13r.github.io\"},\"payload\":{\"ref\":\"master\",\"ref_type\":\"branch\",\"master_branch\":\"master\",\"description\":\"Im new start from small project.\",\"pusher_type\":\"user\"},\"public\":true,\"created_at\":\"2019-07-25T02:45:11Z\"},{\"id\":\"10079767830\",\"type\":\"PushEvent\",\"actor\":{\"id\":1787865,\"login\":\"figo930\",\"display_login\":\"figo930\",\"gravatar_id\":\"\",\"url\":\"https://api.github.com/users/figo930\",\"avatar_url\":\"https://avatars.githubusercontent.com/u/1787865?\"},\"repo\":{\"id\":187750956,\"name\":\"figo930/solo-blog\",\"url\":\"https://api.github.com/repos/figo930/solo-blog\"},\"payload\":{\"push_id\":3853318619,\"size\":1,\"distinct_size\":1,\"ref\":\"refs/heads/master\",\"head\":\"d18d6ec2ea159aaee98f09450c4798a944741e18\",\"before\":\"e64ddcb046ff57abf0497857057aa17809e72883\",\"commits\":[{\"sha\":\"d18d6ec2ea159aaee98f09450c4798a944741e18\",\"author\":{\"email\":\"figo.lzz@gmail.com\",\"name\":\"fly\"},\"message\":\":memo: 更新博客\",\"distinct\":true,\"url\":\"https://api.github.com/repos/figo930/solo-blog/commits/d18d6ec2ea159aaee98f09450c4798a944741e18\"}]},\"public\":true,\"created_at\":\"2019-07-25T02:45:11Z\"},{\"id\":\"10079767829\",\"type\":\"PushEvent\",\"actor\":{\"id\":30195442,\"login\":\"caicaicn\",\"display_login\":\"caicaicn\",\"gravatar_id\":\"\",\"url\":\"https://api.github.com/users/caicaicn\",\"avatar_url\":\"https://avatars.githubusercontent.com/u/30195442?\"},\"repo\":{\"id\":198157777,\"name\":\"caicaicn/vue-demo\",\"url\":\"https://api.github.com/repos/caicaicn/vue-demo\"},\"payload\":{\"push_id\":3853318625,\"size\":1,\"distinct_size\":1,\"ref\":\"refs/heads/V1.0\",\"head\":\"69fd09a07c461d17941ae45e3c6156c76ba92bfc\",\"before\":\"75dc1c4221b91f7fb03166b3f0d3d9bd6f4f7fd0\",\"commits\":[{\"sha\":\"69fd09a07c461d17941ae45e3c6156c76ba92bfc\",\"author\":{\"email\":\"cairan@peilian.com\",\"name\":\"cairan\"},\"message\":\"1\",\"distinct\":true,\"url\":\"https://api.github.com/repos/caicaicn/vue-demo/commits/69fd09a07c461d17941ae45e3c6156c76ba92bfc\"}]},\"public\":true,\"created_at\":\"2019-07-25T02:45:11Z\"},{\"id\":\"10079767826\",\"type\":\"PushEvent\",\"actor\":{\"id\":50294555,\"login\":\"doingway2much\",\"display_login\":\"doingway2much\",\"gravatar_id\":\"\",\"url\":\"https://api.github.com/users/doingway2much\",\"avatar_url\":\"https://avatars.githubusercontent.com/u/50294555?\"},\"repo\":{\"id\":196731269,\"name\":\"doingway2much/ProjectOne\",\"url\":\"https://api.github.com/repos/doingway2much/ProjectOne\"},\"payload\":{\"push_id\":3853318624,\"size\":1,\"distinct_size\":1,\"ref\":\"refs/heads/doingway2much\",\"head\":\"51dd430c2272788ee0558e1fb4e26c0fd53ba29a\",\"before\":\"0a54c6069829efa033ef43b8a27c9de5a2d05b34\",\"commits\":[{\"sha\":\"51dd430c2272788ee0558e1fb4e26c0fd53ba29a\",\"author\":{\"email\":\"sethhrandell@gmail.com\",\"name\":\"Seth Randell\"},\"message\":\"Finally got the code working fro calculating distances from coords\",\"distinct\":true,\"url\":\"https://api.github.com/repos/doingway2much/ProjectOne/commits/51dd430c2272788ee0558e1fb4e26c0fd53ba29a\"}]},\"public\":true,\"created_at\":\"2019-07-25T02:45:11Z\"},{\"id\":\"10079767825\",\"type\":\"CreateEvent\",\"actor\":{\"id\":35355806,\"login\":\"gaoweimeng\",\"display_login\":\"gaoweimeng\",\"gravatar_id\":\"\",\"url\":\"https://api.github.com/users/gaoweimeng\",\"avatar_url\":\"https://avatars.githubusercontent.com/u/35355806?\"},\"repo\":{\"id\":198743870,\"name\":\"gaoweimeng/monitoring-platform\",\"url\":\"https://api.github.com/repos/gaoweimeng/monitoring-platform\"},\"payload\":{\"ref\":\"master\",\"ref_type\":\"branch\",\"master_branch\":\"master\",\"description\":\"监控系统\",\"pusher_type\":\"user\"},\"public\":true,\"created_at\":\"2019-07-25T02:45:11Z\"},{\"id\":\"10079767824\",\"type\":\"DeleteEvent\",\"actor\":{\"id\":52566209,\"login\":\"tree-bot\",\"display_login\":\"tree-bot\",\"gravatar_id\":\"\",\"url\":\"https://api.github.com/users/tree-bot\",\"avatar_url\":\"https://avatars.githubusercontent.com/u/52566209?\"},\"repo\":{\"id\":195376917,\"name\":\"mirror-land/bzip2\",\"url\":\"https://api.github.com/repos/mirror-land/bzip2\"},\"payload\":{\"ref\":\"v5.2\",\"ref_type\":\"branch\",\"pusher_type\":\"user\"},\"public\":true,\"created_at\":\"2019-07-25T02:45:11Z\",\"org\":{\"id\":52557696,\"login\":\"mirror-land\",\"gravatar_id\":\"\",\"url\":\"https://api.github.com/orgs/mirror-land\",\"avatar_url\":\"https://avatars.githubusercontent.com/u/52557696?\"}},{\"id\":\"10079767819\",\"type\":\"PushEvent\",\"actor\":{\"id\":40587912,\"login\":\"supermobiteam2\",\"display_login\":\"supermobiteam2\",\"gravatar_id\":\"\",\"url\":\"https://api.github.com/users/supermobiteam2\",\"avatar_url\":\"https://avatars.githubusercontent.com/u/40587912?\"},\"repo\":{\"id\":138681984,\"name\":\"supermobiteam2/Tizi\",\"url\":\"https://api.github.com/repos/supermobiteam2/Tizi\"},\"payload\":{\"push_id\":3853318615,\"size\":1,\"distinct_size\":1,\"ref\":\"refs/heads/master\",\"head\":\"2fd79a82ff0ada5aa31033b009610ab474351b45\",\"before\":\"b0a29bb9046009e8e17d29743e6e3ff8832eda9b\",\"commits\":[{\"sha\":\"2fd79a82ff0ada5aa31033b009610ab474351b45\",\"author\":{\"email\":\"40587912+supermobiteam2@users.noreply.github.com\",\"name\":\"supermobiteam2\"},\"message\":\"tizi ios\",\"distinct\":true,\"url\":\"https://api.github.com/repos/supermobiteam2/Tizi/commits/2fd79a82ff0ada5aa31033b009610ab474351b45\"}]},\"public\":true,\"created_at\":\"2019-07-25T02:45:11Z\"},{\"id\":\"10079767818\",\"type\":\"PushEvent\",\"actor\":{\"id\":4970,\"login\":\"gugod\",\"display_login\":\"gugod\",\"gravatar_id\":\"\",\"url\":\"https://api.github.com/users/gugod\",\"avatar_url\":\"https://avatars.githubusercontent.com/u/4970?\"},\"repo\":{\"id\":115630585,\"name\":\"g0v-data/mirror-minutely\",\"url\":\"https://api.github.com/repos/g0v-data/mirror-minutely\"},\"payload\":{\"push_id\":3853318614,\"size\":1,\"distinct_size\":1,\"ref\":\"refs/heads/master\",\"head\":\"df0f7f0c80a567b2592cb78c44fc979dc0d999df\",\"before\":\"2d5834b49b2976c829192ceeb1f89f7d67ba95ef\",\"commits\":[{\"sha\":\"df0f7f0c80a567b2592cb78c44fc979dc0d999df\",\"author\":{\"email\":\"nobody@nowhere\",\"name\":\"nobody\"},\"message\":\"\",\"distinct\":true,\"url\":\"https://api.github.com/repos/g0v-data/mirror-minutely/commits/df0f7f0c80a567b2592cb78c44fc979dc0d999df\"}]},\"public\":true,\"created_at\":\"2019-07-25T02:45:11Z\",\"org\":{\"id\":5207509,\"login\":\"g0v-data\",\"gravatar_id\":\"\",\"url\":\"https://api.github.com/orgs/g0v-data\",\"avatar_url\":\"https://avatars.githubusercontent.com/u/5207509?\"}},{\"id\":\"10079767816\",\"type\":\"PushEvent\",\"actor\":{\"id\":40529132,\"login\":\"agusasdfkajsd\",\"display_login\":\"agusasdfkajsd\",\"gravatar_id\":\"\",\"url\":\"https://api.github.com/users/agusasdfkajsd\",\"avatar_url\":\"https://avatars.githubusercontent.com/u/40529132?\"},\"repo\":{\"id\":193111177,\"name\":\"agusasdfkajsd/serverip\",\"url\":\"https://api.github.com/repos/agusasdfkajsd/serverip\"},\"payload\":{\"push_id\":3853318613,\"size\":1,\"distinct_size\":1,\"ref\":\"refs/heads/master\",\"head\":\"682bfef13a659c459b2c29792437e67840ebba26\",\"before\":\"13b4ed657c99cb2e695ffb9000acbcb526881ba7\",\"commits\":[{\"sha\":\"682bfef13a659c459b2c29792437e67840ebba26\",\"author\":{\"email\":\"root@informixAperez.NZXT\",\"name\":\"root\"},\"message\":\"IP actualizada Wed Jul 24 23:45:02 -03 2019\",\"distinct\":true,\"url\":\"https://api.github.com/repos/agusasdfkajsd/serverip/commits/682bfef13a659c459b2c29792437e67840ebba26\"}]},\"public\":true,\"created_at\":\"2019-07-25T02:45:11Z\"},{\"id\":\"10079767811\",\"type\":\"DeleteEvent\",\"actor\":{\"id\":52566209,\"login\":\"tree-bot\",\"display_login\":\"tree-bot\",\"gravatar_id\":\"\",\"url\":\"https://api.github.com/users/tree-bot\",\"avatar_url\":\"https://avatars.githubusercontent.com/u/52566209?\"},\"repo\":{\"id\":195376917,\"name\":\"mirror-land/bzip2\",\"url\":\"https://api.github.com/repos/mirror-land/bzip2\"},\"payload\":{\"ref\":\"v5.0\",\"ref_type\":\"branch\",\"pusher_type\":\"user\"},\"public\":true,\"created_at\":\"2019-07-25T02:45:11Z\",\"org\":{\"id\":52557696,\"login\":\"mirror-land\",\"gravatar_id\":\"\",\"url\":\"https://api.github.com/orgs/mirror-land\",\"avatar_url\":\"https://avatars.githubusercontent.com/u/52557696?\"}},{\"id\":\"10079767807\",\"type\":\"PushEvent\",\"actor\":{\"id\":15208100,\"login\":\"paraofheaven\",\"display_login\":\"paraofheaven\",\"gravatar_id\":\"\",\"url\":\"https://api.github.com/users/paraofheaven\",\"avatar_url\":\"https://avatars.githubusercontent.com/u/15208100?\"},\"repo\":{\"id\":198192704,\"name\":\"paraofheaven/xm-wxapp\",\"url\":\"https://api.github.com/repos/paraofheaven/xm-wxapp\"},\"payload\":{\"push_id\":3853318605,\"size\":1,\"distinct_size\":1,\"ref\":\"refs/heads/master\",\"head\":\"c1fa92ef3a563ea8fecdfaaf5d2fd7f92c8f3ee4\",\"before\":\"8a8b9e011d743356cfda1fe5c092a5090f4d26db\",\"commits\":[{\"sha\":\"c1fa92ef3a563ea8fecdfaaf5d2fd7f92c8f3ee4\",\"author\":{\"email\":\"1549930735@qq.com\",\"name\":\"paraofheaven\"},\"message\":\"update\",\"distinct\":true,\"url\":\"https://api.github.com/repos/paraofheaven/xm-wxapp/commits/c1fa92ef3a563ea8fecdfaaf5d2fd7f92c8f3ee4\"}]},\"public\":true,\"created_at\":\"2019-07-25T02:45:11Z\"},{\"id\":\"10079767809\",\"type\":\"PushEvent\",\"actor\":{\"id\":25334145,\"login\":\"DIKGONZA\",\"display_login\":\"DIKGONZA\",\"gravatar_id\":\"\",\"url\":\"https://api.github.com/users/DIKGONZA\",\"avatar_url\":\"https://avatars.githubusercontent.com/u/25334145?\"},\"repo\":{\"id\":196302444,\"name\":\"DIKGONZA/nodejs\",\"url\":\"https://api.github.com/repos/DIKGONZA/nodejs\"},\"payload\":{\"push_id\":3853318609,\"size\":1,\"distinct_size\":1,\"ref\":\"refs/heads/clase-servidor-express-2-base\",\"head\":\"116f1559f99db2fbfb44cd164da6a1f5ae2f917a\",\"before\":\"b9e84cc5a56ff759bbbeca4139f34b77db696d7b\",\"commits\":[{\"sha\":\"116f1559f99db2fbfb44cd164da6a1f5ae2f917a\",\"author\":{\"email\":\"Diksongonzalez@gmail.com\",\"name\":\"Dikson\"},\"message\":\"haciendo appis, de lujo\",\"distinct\":true,\"url\":\"https://api.github.com/repos/DIKGONZA/nodejs/commits/116f1559f99db2fbfb44cd164da6a1f5ae2f917a\"}]},\"public\":true,\"created_at\":\"2019-07-25T02:45:11Z\"},{\"id\":\"10079767805\",\"type\":\"PushEvent\",\"actor\":{\"id\":533180,\"login\":\"scriptzteam\",\"display_login\":\"scriptzteam\",\"gravatar_id\":\"\",\"url\":\"https://api.github.com/users/scriptzteam\",\"avatar_url\":\"https://avatars.githubusercontent.com/u/533180?\"},\"repo\":{\"id\":153783109,\"name\":\"scriptzteam/newzNZB-Usenet-Upload-Logger-v1.1\",\"url\":\"https://api.github.com/repos/scriptzteam/newzNZB-Usenet-Upload-Logger-v1.1\"},\"payload\":{\"push_id\":3853318604,\"size\":1,\"distinct_size\":1,\"ref\":\"refs/heads/master\",\"head\":\"f2a101b5d19b7ef5996f5463af0fe273e53e8c04\",\"before\":\"967347d9f02eb27173a583d027b95a059183ff99\",\"commits\":[{\"sha\":\"f2a101b5d19b7ef5996f5463af0fe273e53e8c04\",\"author\":{\"email\":\"scriptzteam@gmail.com\",\"name\":\"scriptzteam\"},\"message\":\"^^uPdAtE\",\"distinct\":true,\"url\":\"https://api.github.com/repos/scriptzteam/newzNZB-Usenet-Upload-Logger-v1.1/commits/f2a101b5d19b7ef5996f5463af0fe273e53e8c04\"}]},\"public\":true,\"created_at\":\"2019-07-25T02:45:11Z\"},{\"id\":\"10079767801\",\"type\":\"PushEvent\",\"actor\":{\"id\":52566209,\"login\":\"tree-bot\",\"display_login\":\"tree-bot\",\"gravatar_id\":\"\",\"url\":\"https://api.github.com/users/tree-bot\",\"avatar_url\":\"https://avatars.githubusercontent.com/u/52566209?\"},\"repo\":{\"id\":195376917,\"name\":\"mirror-land/bzip2\",\"url\":\"https://api.github.com/repos/mirror-land/bzip2\"},\"payload\":{\"push_id\":3853318582,\"size\":38,\"distinct_size\":38,\"ref\":\"refs/heads/master\",\"head\":\"6a8690fc8d26c815e798c588f796eabe9d684cf0\",\"before\":\"6a89e656ebedd53a10cd1a063a32a9e4ade0da1f\",\"commits\":[{\"sha\":\"33d134030248633ffa7d60c0a35a783c46da034b\",\"author\":{\"email\":\"jseward@acm.org\",\"name\":\"Julian Seward\"},\"message\":\"bzip2-0.1\",\"distinct\":true,\"url\":\"https://api.github.com/repos/mirror-land/bzip2/commits/33d134030248633ffa7d60c0a35a783c46da034b\"},{\"sha\":\"1eb67a9d8f7f05ae310bc9ef297d176f3a3f8a37\",\"author\":{\"email\":\"jseward@acm.org\",\"name\":\"Julian Seward\"},\"message\":\"bzip2-0.1pl2\",\"distinct\":true,\"url\":\"https://api.github.com/repos/mirror-land/bzip2/commits/1eb67a9d8f7f05ae310bc9ef297d176f3a3f8a37\"},{\"sha\":\"977101ad5f833f5c0a574bfeea408e5301a6b052\",\"author\":{\"email\":\"jseward@acm.org\",\"name\":\"Julian Seward\"},\"message\":\"bzip2-0.9.0c\",\"distinct\":true,\"url\":\"https://api.github.com/repos/mirror-land/bzip2/commits/977101ad5f833f5c0a574bfeea408e5301a6b052\"},{\"sha\":\"f93cd82a9a7094ad90fd19bbc6ccf6f4627f8060\",\"author\":{\"email\":\"jseward@acm.org\",\"name\":\"Julian Seward\"},\"message\":\"bzip2-0.9.5d\",\"distinct\":true,\"url\":\"https://api.github.com/repos/mirror-land/bzip2/commits/f93cd82a9a7094ad90fd19bbc6ccf6f4627f8060\"},{\"sha\":\"795b859eee96c700e8f3c3fe68e6a9a39d95797c\",\"author\":{\"email\":\"jseward@acm.org\",\"name\":\"Julian Seward\"},\"message\":\"bzip2-1.0.1\",\"distinct\":true,\"url\":\"https://api.github.com/repos/mirror-land/bzip2/commits/795b859eee96c700e8f3c3fe68e6a9a39d95797c\"},{\"sha\":\"099d844292f60f9d58914da29e5773204dc55e7a\",\"author\":{\"email\":\"jseward@acm.org\",\"name\":\"Julian Seward\"},\"message\":\"bzip2-1.0.2\",\"distinct\":true,\"url\":\"https://api.github.com/repos/mirror-land/bzip2/commits/099d844292f60f9d58914da29e5773204dc55e7a\"},{\"sha\":\"4d540bfc95a4b0eefc1d1f388ec33534aaeb3a2f\",\"author\":{\"email\":\"jseward@acm.org\",\"name\":\"Julian Seward\"},\"message\":\"bzip2-1.0.3\",\"distinct\":true,\"url\":\"https://api.github.com/repos/mirror-land/bzip2/commits/4d540bfc95a4b0eefc1d1f388ec33534aaeb3a2f\"},{\"sha\":\"f10a33538e9bab6deb61779b3d8aae168824ef48\",\"author\":{\"email\":\"jseward@acm.org\",\"name\":\"Julian Seward\"},\"message\":\"bzip2-1.0.4\",\"distinct\":true,\"url\":\"https://api.github.com/repos/mirror-land/bzip2/commits/f10a33538e9bab6deb61779b3d8aae168824ef48\"},{\"sha\":\"a1d78c550180bde11af6c559a01721c962f9f231\",\"author\":{\"email\":\"jseward@acm.org\",\"name\":\"Julian Seward\"},\"message\":\"bzip2-1.0.5\",\"distinct\":true,\"url\":\"https://api.github.com/repos/mirror-land/bzip2/commits/a1d78c550180bde11af6c559a01721c962f9f231\"},{\"sha\":\"962d60610cb31e0f294a834e55ebb355be55d05a\",\"author\":{\"email\":\"jseward@acm.org\",\"name\":\"Julian Seward\"},\"message\":\"bzip2-1.0.6\",\"distinct\":true,\"url\":\"https://api.github.com/repos/mirror-land/bzip2/commits/962d60610cb31e0f294a834e55ebb355be55d05a\"},{\"sha\":\"5b923861db7bdd0560f3ecbc8be6e91e830066eb\",\"author\":{\"email\":\"mark@klomp.org\",\"name\":\"Mark Wielaard\"},\"message\":\"Change Julian\\'s email address to jseward@acm.org\",\"distinct\":true,\"url\":\"https://api.github.com/repos/mirror-land/bzip2/commits/5b923861db7bdd0560f3ecbc8be6e91e830066eb\"},{\"sha\":\"032a25eee83fd7556cd9e7b1829d56dcc627ddcf\",\"author\":{\"email\":\"mark@klomp.org\",\"name\":\"Mark Wielaard\"},\"message\":\"Change all bzip.org URLs to sourceware.org/bzip2\",\"distinct\":true,\"url\":\"https://api.github.com/repos/mirror-land/bzip2/commits/032a25eee83fd7556cd9e7b1829d56dcc627ddcf\"},{\"sha\":\"ddd8bae9d51c1b5d04c26be666625d559505fee4\",\"author\":{\"email\":\"mark@klomp.org\",\"name\":\"Mark Wielaard\"},\"message\":\"Adjust bzip.css images to new https://sourceware.org/bzip2/ location.\",\"distinct\":true,\"url\":\"https://api.github.com/repos/mirror-land/bzip2/commits/ddd8bae9d51c1b5d04c26be666625d559505fee4\"},{\"sha\":\"ac9b3847405574dfd6022c1a9347a4449e8c1510\",\"author\":{\"email\":\"mark@klomp.org\",\"name\":\"Mark Wielaard\"},\"message\":\"Use UTF-8 encoding and include bzip.css as link for HTML manual.\",\"distinct\":true,\"url\":\"https://api.github.com/repos/mirror-land/bzip2/commits/ac9b3847405574dfd6022c1a9347a4449e8c1510\"},{\"sha\":\"32db5b677a55fc32de6588deae2ac27c28728a05\",\"author\":{\"email\":\"mark@klomp.org\",\"name\":\"Mark Wielaard\"},\"message\":\"Add release-update.sh script.\\\\n\\\\nScript to run after a release has been tagged, signed and pushed\\\\nto git.  Will do a fresh checkout, verify the git tag, do fresh\\\\nbuild/dist, sign the dist with gpg, create a backup copy in HOME,\\\\nupload the tar.gz and sig to sourceware, checkout bzip2-htdocs,\\\\ncopy over the new changes, manual, etc. and git push that to update\\\\nhttps://sourceware.org/bzip2/\",\"distinct\":true,\"url\":\"https://api.github.com/repos/mirror-land/bzip2/commits/32db5b677a55fc32de6588deae2ac27c28728a05\"},{\"sha\":\"02fe3ca2349e45eee6dff6ca46bf9a9187f382c5\",\"author\":{\"email\":\"mark@klomp.org\",\"name\":\"Mark Wielaard\"},\"message\":\"bzip2.c (testStream): Remove set, but not used nread variable.\\\\n\\\\nModern GCC warns:\\\\n\\\\nbzip2.c: In function ‘testStream’:\\\\nbzip2.c:557:37: warning: variable ‘nread’ set but not used\\\\n[-Wunused-but-set-variable]\\\\n    Int32   bzerr, bzerr_dummy, ret, nread, streamNo, i;\\\\n                                     ^~~~~\\\\n\\\\nGCC is correct. In testStream we don\\'t care about the number of bytes\\\\nread by BZ2_bzRead. So just remove the variable and the assignment.\",\"distinct\":true,\"url\":\"https://api.github.com/repos/mirror-land/bzip2/commits/02fe3ca2349e45eee6dff6ca46bf9a9187f382c5\"},{\"sha\":\"833548edc0eb4af85ce8da193835f0f31a6c300f\",\"author\":{\"email\":\"mark@klomp.org\",\"name\":\"Mark Wielaard\"},\"message\":\"bzip2recover: Fix buffer overflow for large argv[0].\\\\n\\\\nbzip2recover.c (main) copies argv[0] to a statically sized buffer\\\\nwithout checking whether argv[0] might be too big (> 2000 chars).\\\\n\\\\nThis patch comes from Fedora and was originally reported at\\\\nhttps://bugzilla.redhat.com/show_bug.cgi?id=226979\",\"distinct\":true,\"url\":\"https://api.github.com/repos/mirror-land/bzip2/commits/833548edc0eb4af85ce8da193835f0f31a6c300f\"},{\"sha\":\"c1cdd98db3238cb711c7d9cdc5671452ce2822cb\",\"author\":{\"email\":\"mark@klomp.org\",\"name\":\"Mark Wielaard\"},\"message\":\"bzip2recover: Fix use after free issue with outFile.\\\\n\\\\nbzip2recover.c (main): Make sure to set outFile to NULL when done.\\\\n\\\\nThis was reported as CVE-2016-3189 and found in multiple distributions.\\\\nhttps://seclists.org/oss-sec/2016/q2/568\\\\n\\\\nSome more analysis can be found in:\\\\nhttps://bugzilla.redhat.com/show_bug.cgi?id=1319648\",\"distinct\":true,\"url\":\"https://api.github.com/repos/mirror-land/bzip2/commits/c1cdd98db3238cb711c7d9cdc5671452ce2822cb\"},{\"sha\":\"f51f164df0e8a2c0e055174b328b4038a040e547\",\"author\":{\"email\":\"mark@klomp.org\",\"name\":\"Mark Wielaard\"},\"message\":\"bzip2: Fix return value when combining --test,-t and -q.\\\\n\\\\nWhen passing -q to get quiet output --test would not display an error\\\\nmessage, but would also suppress the exit 2 code to indicate the file\\\\nwas corrupt. Only suppress the error message with -q, not the exit value.\\\\n\\\\nThis patch comes from Debian.\\\\n\\\\\"bunzip2 -qt returns 0 for corrupt archives\\\\\"\\\\nhttps://bugs.debian.org/279025\",\"distinct\":true,\"url\":\"https://api.github.com/repos/mirror-land/bzip2/commits/f51f164df0e8a2c0e055174b328b4038a040e547\"},{\"sha\":\"16f2c753f9959e8d7c7e1fa771b8ccc5821427aa\",\"author\":{\"email\":\"paul.l.kehrer@gmail.com\",\"name\":\"Paul Kehrer\"},\"message\":\"Fix undefined behavior in the macros SET_BH, CLEAR_BH, & ISSET_BH\\\\n\\\\nThese macros contain this pattern:\\\\n1 << ((Int32_value) & 31\\\\n\\\\nThis causes the undefined behavior sanitizers in clang and gcc to\\\\ncomplain because the shift, while ultimately stored to an unsigned\\\\nvariable, is done as a signed value. Adding a cast to unsigned for\\\\nthe int32 value resolves this issue.\",\"distinct\":true,\"url\":\"https://api.github.com/repos/mirror-land/bzip2/commits/16f2c753f9959e8d7c7e1fa771b8ccc5821427aa\"}]},\"public\":true,\"created_at\":\"2019-07-25T02:45:11Z\",\"org\":{\"id\":52557696,\"login\":\"mirror-land\",\"gravatar_id\":\"\",\"url\":\"https://api.github.com/orgs/mirror-land\",\"avatar_url\":\"https://avatars.githubusercontent.com/u/52557696?\"}},{\"id\":\"10079767799\",\"type\":\"PushEvent\",\"actor\":{\"id\":4694577,\"login\":\"camwatson\",\"display_login\":\"camwatson\",\"gravatar_id\":\"\",\"url\":\"https://api.github.com/users/camwatson\",\"avatar_url\":\"https://avatars.githubusercontent.com/u/4694577?\"},\"repo\":{\"id\":16753238,\"name\":\"camwatson/SpatialDataSets\",\"url\":\"https://api.github.com/repos/camwatson/SpatialDataSets\"},\"payload\":{\"push_id\":3853318600,\"size\":1,\"distinct_size\":1,\"ref\":\"refs/heads/master\",\"head\":\"76509cda40e81022d0aaaebc08490cbc1a44c183\",\"before\":\"d4d5fea4884ac6fadee3a08f1d17022e933ababa\",\"commits\":[{\"sha\":\"76509cda40e81022d0aaaebc08490cbc1a44c183\",\"author\":{\"email\":\"camwatson@yahoo.com\",\"name\":\"Cam Watson\"},\"message\":\"update\",\"distinct\":true,\"url\":\"https://api.github.com/repos/camwatson/SpatialDataSets/commits/76509cda40e81022d0aaaebc08490cbc1a44c183\"}]},\"public\":true,\"created_at\":\"2019-07-25T02:45:11Z\"},{\"id\":\"10079767798\",\"type\":\"PushEvent\",\"actor\":{\"id\":52504470,\"login\":\"MaxYurs\",\"display_login\":\"MaxYurs\",\"gravatar_id\":\"\",\"url\":\"https://api.github.com/users/MaxYurs\",\"avatar_url\":\"https://avatars.githubusercontent.com/u/52504470?\"},\"repo\":{\"id\":195095361,\"name\":\"MaxYurs/salinity_control\",\"url\":\"https://api.github.com/repos/MaxYurs/salinity_control\"},\"payload\":{\"push_id\":3853318602,\"size\":1,\"distinct_size\":1,\"ref\":\"refs/heads/master\",\"head\":\"09e64fbfe18e04505af2020ced827b4b42f45384\",\"before\":\"b37f925698052a6d04cec2c0bd122e834f41e6df\",\"commits\":[{\"sha\":\"09e64fbfe18e04505af2020ced827b4b42f45384\",\"author\":{\"email\":\"52504470+MaxYurs@users.noreply.github.com\",\"name\":\"MaxYurs\"},\"message\":\"Update README.md\\\\n\\\\nadd parts list\",\"distinct\":true,\"url\":\"https://api.github.com/repos/MaxYurs/salinity_control/commits/09e64fbfe18e04505af2020ced827b4b42f45384\"}]},\"public\":true,\"created_at\":\"2019-07-25T02:45:11Z\"},{\"id\":\"10079767797\",\"type\":\"PushEvent\",\"actor\":{\"id\":25943429,\"login\":\"mr-bogey\",\"display_login\":\"mr-bogey\",\"gravatar_id\":\"\",\"url\":\"https://api.github.com/users/mr-bogey\",\"avatar_url\":\"https://avatars.githubusercontent.com/u/25943429?\"},\"repo\":{\"id\":198739092,\"name\":\"mr-bogey/server\",\"url\":\"https://api.github.com/repos/mr-bogey/server\"},\"payload\":{\"push_id\":3853318597,\"size\":1,\"distinct_size\":1,\"ref\":\"refs/heads/master\",\"head\":\"4c2b3f231f67733c111353c5cf4fc008524d23f9\",\"before\":\"d973778d163655c51459664de9bbb3b5ac547f0d\",\"commits\":[{\"sha\":\"4c2b3f231f67733c111353c5cf4fc008524d23f9\",\"author\":{\"email\":\"1762076107@qq.com\",\"name\":\"mr-bogey\"},\"message\":\"add pb\",\"distinct\":true,\"url\":\"https://api.github.com/repos/mr-bogey/server/commits/4c2b3f231f67733c111353c5cf4fc008524d23f9\"}]},\"public\":true,\"created_at\":\"2019-07-25T02:45:11Z\"},{\"id\":\"10079767792\",\"type\":\"PushEvent\",\"actor\":{\"id\":51978177,\"login\":\"0TJung0\",\"display_login\":\"0TJung0\",\"gravatar_id\":\"\",\"url\":\"https://api.github.com/users/0TJung0\",\"avatar_url\":\"https://avatars.githubusercontent.com/u/51978177?\"},\"repo\":{\"id\":198365524,\"name\":\"0TJung0/Johajo2\",\"url\":\"https://api.github.com/repos/0TJung0/Johajo2\"},\"payload\":{\"push_id\":3853318595,\"size\":1,\"distinct_size\":1,\"ref\":\"refs/heads/master\",\"head\":\"3ae52e703bf70b434bfb97350c9792eda98751c7\",\"before\":\"5119fbce9da48f1d16b348d8dfe3c8f71b7f822e\",\"commits\":[{\"sha\":\"3ae52e703bf70b434bfb97350c9792eda98751c7\",\"author\":{\"email\":\"kim502119@naver.com\",\"name\":\"0TJung0\"},\"message\":\"첫번쨰\",\"distinct\":true,\"url\":\"https://api.github.com/repos/0TJung0/Johajo2/commits/3ae52e703bf70b434bfb97350c9792eda98751c7\"}]},\"public\":true,\"created_at\":\"2019-07-25T02:45:11Z\"},{\"id\":\"10079767795\",\"type\":\"CreateEvent\",\"actor\":{\"id\":53186066,\"login\":\"DannieJWright\",\"display_login\":\"DannieJWright\",\"gravatar_id\":\"\",\"url\":\"https://api.github.com/users/DannieJWright\",\"avatar_url\":\"https://avatars.githubusercontent.com/u/53186066?\"},\"repo\":{\"id\":198257234,\"name\":\"revaturebootcamp/WRAP_BackEnd\",\"url\":\"https://api.github.com/repos/revaturebootcamp/WRAP_BackEnd\"},\"payload\":{\"ref\":\"master\",\"ref_type\":\"branch\",\"master_branch\":\"master\",\"description\":\"Back end\",\"pusher_type\":\"user\"},\"public\":true,\"created_at\":\"2019-07-25T02:45:11Z\",\"org\":{\"id\":53186242,\"login\":\"revaturebootcamp\",\"gravatar_id\":\"\",\"url\":\"https://api.github.com/orgs/revaturebootcamp\",\"avatar_url\":\"https://avatars.githubusercontent.com/u/53186242?\"}},{\"id\":\"10079767787\",\"type\":\"WatchEvent\",\"actor\":{\"id\":11959047,\"login\":\"h12345jack\",\"display_login\":\"h12345jack\",\"gravatar_id\":\"\",\"url\":\"https://api.github.com/users/h12345jack\",\"avatar_url\":\"https://avatars.githubusercontent.com/u/11959047?\"},\"repo\":{\"id\":198338060,\"name\":\"fieryzig/RTRender\",\"url\":\"https://api.github.com/repos/fieryzig/RTRender\"},\"payload\":{\"action\":\"started\"},\"public\":true,\"created_at\":\"2019-07-25T02:45:11Z\"},{\"id\":\"10079767783\",\"type\":\"PushEvent\",\"actor\":{\"id\":4177645,\"login\":\"renlord\",\"display_login\":\"renlord\",\"gravatar_id\":\"\",\"url\":\"https://api.github.com/users/renlord\",\"avatar_url\":\"https://avatars.githubusercontent.com/u/4177645?\"},\"repo\":{\"id\":134026723,\"name\":\"renlord/commit-counts-dont-matter\",\"url\":\"https://api.github.com/repos/renlord/commit-counts-dont-matter\"},\"payload\":{\"push_id\":3853318586,\"size\":1,\"distinct_size\":1,\"ref\":\"refs/heads/master\",\"head\":\"c7d3dfb315024b314bfde211fcfb1da6af361de1\",\"before\":\"938657686973126629fa7d2d913f0b99c6abe0d1\",\"commits\":[{\"sha\":\"c7d3dfb315024b314bfde211fcfb1da6af361de1\",\"author\":{\"email\":\"me@renlord.com\",\"name\":\"Renlord\"},\"message\":\"do commits on github really matter that much?\",\"distinct\":true,\"url\":\"https://api.github.com/repos/renlord/commit-counts-dont-matter/commits/c7d3dfb315024b314bfde211fcfb1da6af361de1\"}]},\"public\":true,\"created_at\":\"2019-07-25T02:45:11Z\"},{\"id\":\"10079767785\",\"type\":\"PullRequestEvent\",\"actor\":{\"id\":44431867,\"login\":\"minhnguyenduy99\",\"display_login\":\"minhnguyenduy99\",\"gravatar_id\":\"\",\"url\":\"https://api.github.com/users/minhnguyenduy99\",\"avatar_url\":\"https://avatars.githubusercontent.com/u/44431867?\"},\"repo\":{\"id\":196821666,\"name\":\"Daiyamondo2018/GameUIT\",\"url\":\"https://api.github.com/repos/Daiyamondo2018/GameUIT\"},\"payload\":{\"action\":\"closed\",\"number\":5,\"pull_request\":{\"url\":\"https://api.github.com/repos/Daiyamondo2018/GameUIT/pulls/5\",\"id\":300960087,\"node_id\":\"MDExOlB1bGxSZXF1ZXN0MzAwOTYwMDg3\",\"html_url\":\"https://github.com/Daiyamondo2018/GameUIT/pull/5\",\"diff_url\":\"https://github.com/Daiyamondo2018/GameUIT/pull/5.diff\",\"patch_url\":\"https://github.com/Daiyamondo2018/GameUIT/pull/5.patch\",\"issue_url\":\"https://api.github.com/repos/Daiyamondo2018/GameUIT/issues/5\",\"number\":5,\"state\":\"closed\",\"locked\":false,\"title\":\"update beta collision\",\"user\":{\"login\":\"minhnguyenduy99\",\"id\":44431867,\"node_id\":\"MDQ6VXNlcjQ0NDMxODY3\",\"avatar_url\":\"https://avatars2.githubusercontent.com/u/44431867?v=4\",\"gravatar_id\":\"\",\"url\":\"https://api.github.com/users/minhnguyenduy99\",\"html_url\":\"https://github.com/minhnguyenduy99\",\"followers_url\":\"https://api.github.com/users/minhnguyenduy99/followers\",\"following_url\":\"https://api.github.com/users/minhnguyenduy99/following{/other_user}\",\"gists_url\":\"https://api.github.com/users/minhnguyenduy99/gists{/gist_id}\",\"starred_url\":\"https://api.github.com/users/minhnguyenduy99/starred{/owner}{/repo}\",\"subscriptions_url\":\"https://api.github.com/users/minhnguyenduy99/subscriptions\",\"organizations_url\":\"https://api.github.com/users/minhnguyenduy99/orgs\",\"repos_url\":\"https://api.github.com/users/minhnguyenduy99/repos\",\"events_url\":\"https://api.github.com/users/minhnguyenduy99/events{/privacy}\",\"received_events_url\":\"https://api.github.com/users/minhnguyenduy99/received_events\",\"type\":\"User\",\"site_admin\":false},\"body\":\"\",\"created_at\":\"2019-07-25T02:40:55Z\",\"updated_at\":\"2019-07-25T02:45:10Z\",\"closed_at\":\"2019-07-25T02:45:10Z\",\"merged_at\":\"2019-07-25T02:45:10Z\",\"merge_commit_sha\":\"effb9e1e5b432521ce604eb317939742b578d9cd\",\"assignee\":null,\"assignees\":[],\"requested_reviewers\":[],\"requested_teams\":[],\"labels\":[],\"milestone\":null,\"commits_url\":\"https://api.github.com/repos/Daiyamondo2018/GameUIT/pulls/5/commits\",\"review_comments_url\":\"https://api.github.com/repos/Daiyamondo2018/GameUIT/pulls/5/comments\",\"review_comment_url\":\"https://api.github.com/repos/Daiyamondo2018/GameUIT/pulls/comments{/number}\",\"comments_url\":\"https://api.github.com/repos/Daiyamondo2018/GameUIT/issues/5/comments\",\"statuses_url\":\"https://api.github.com/repos/Daiyamondo2018/GameUIT/statuses/ddc056772db46b44003aaad2bd0f02da500af502\",\"head\":{\"label\":\"Daiyamondo2018:Test_collision\",\"ref\":\"Test_collision\",\"sha\":\"ddc056772db46b44003aaad2bd0f02da500af502\",\"user\":{\"login\":\"Daiyamondo2018\",\"id\":45528757,\"node_id\":\"MDQ6VXNlcjQ1NTI4NzU3\",\"avatar_url\":\"https://avatars3.githubusercontent.com/u/45528757?v=4\",\"gravatar_id\":\"\",\"url\":\"https://api.github.com/users/Daiyamondo2018\",\"html_url\":\"https://github.com/Daiyamondo2018\",\"followers_url\":\"https://api.github.com/users/Daiyamondo2018/followers\",\"following_url\":\"https://api.github.com/users/Daiyamondo2018/following{/other_user}\",\"gists_url\":\"https://api.github.com/users/Daiyamondo2018/gists{/gist_id}\",\"starred_url\":\"https://api.github.com/users/Daiyamondo2018/starred{/owner}{/repo}\",\"subscriptions_url\":\"https://api.github.com/users/Daiyamondo2018/subscriptions\",\"organizations_url\":\"https://api.github.com/users/Daiyamondo2018/orgs\",\"repos_url\":\"https://api.github.com/users/Daiyamondo2018/repos\",\"events_url\":\"https://api.github.com/users/Daiyamondo2018/events{/privacy}\",\"received_events_url\":\"https://api.github.com/users/Daiyamondo2018/received_events\",\"type\":\"User\",\"site_admin\":false},\"repo\":{\"id\":196821666,\"node_id\":\"MDEwOlJlcG9zaXRvcnkxOTY4MjE2NjY=\",\"name\":\"GameUIT\",\"full_name\":\"Daiyamondo2018/GameUIT\",\"private\":false,\"owner\":{\"login\":\"Daiyamondo2018\",\"id\":45528757,\"node_id\":\"MDQ6VXNlcjQ1NTI4NzU3\",\"avatar_url\":\"https://avatars3.githubusercontent.com/u/45528757?v=4\",\"gravatar_id\":\"\",\"url\":\"https://api.github.com/users/Daiyamondo2018\",\"html_url\":\"https://github.com/Daiyamondo2018\",\"followers_url\":\"https://api.github.com/users/Daiyamondo2018/followers\",\"following_url\":\"https://api.github.com/users/Daiyamondo2018/following{/other_user}\",\"gists_url\":\"https://api.github.com/users/Daiyamondo2018/gists{/gist_id}\",\"starred_url\":\"https://api.github.com/users/Daiyamondo2018/starred{/owner}{/repo}\",\"subscriptions_url\":\"https://api.github.com/users/Daiyamondo2018/subscriptions\",\"organizations_url\":\"https://api.github.com/users/Daiyamondo2018/orgs\",\"repos_url\":\"https://api.github.com/users/Daiyamondo2018/repos\",\"events_url\":\"https://api.github.com/users/Daiyamondo2018/events{/privacy}\",\"received_events_url\":\"https://api.github.com/users/Daiyamondo2018/received_events\",\"type\":\"User\",\"site_admin\":false},\"html_url\":\"https://github.com/Daiyamondo2018/GameUIT\",\"description\":null,\"fork\":false,\"url\":\"https://api.github.com/repos/Daiyamondo2018/GameUIT\",\"forks_url\":\"https://api.github.com/repos/Daiyamondo2018/GameUIT/forks\",\"keys_url\":\"https://api.github.com/repos/Daiyamondo2018/GameUIT/keys{/key_id}\",\"collaborators_url\":\"https://api.github.com/repos/Daiyamondo2018/GameUIT/collaborators{/collaborator}\",\"teams_url\":\"https://api.github.com/repos/Daiyamondo2018/GameUIT/teams\",\"hooks_url\":\"https://api.github.com/repos/Daiyamondo2018/GameUIT/hooks\",\"issue_events_url\":\"https://api.github.com/repos/Daiyamondo2018/GameUIT/issues/events{/number}\",\"events_url\":\"https://api.github.com/repos/Daiyamondo2018/GameUIT/events\",\"assignees_url\":\"https://api.github.com/repos/Daiyamondo2018/GameUIT/assignees{/user}\",\"branches_url\":\"https://api.github.com/repos/Daiyamondo2018/GameUIT/branches{/branch}\",\"tags_url\":\"https://api.github.com/repos/Daiyamondo2018/GameUIT/tags\",\"blobs_url\":\"https://api.github.com/repos/Daiyamondo2018/GameUIT/git/blobs{/sha}\",\"git_tags_url\":\"https://api.github.com/repos/Daiyamondo2018/GameUIT/git/tags{/sha}\",\"git_refs_url\":\"https://api.github.com/repos/Daiyamondo2018/GameUIT/git/refs{/sha}\",\"trees_url\":\"https://api.github.com/repos/Daiyamondo2018/GameUIT/git/trees{/sha}\",\"statuses_url\":\"https://api.github.com/repos/Daiyamondo2018/GameUIT/statuses/{sha}\",\"languages_url\":\"https://api.github.com/repos/Daiyamondo2018/GameUIT/languages\",\"stargazers_url\":\"https://api.github.com/repos/Daiyamondo2018/GameUIT/stargazers\",\"contributors_url\":\"https://api.github.com/repos/Daiyamondo2018/GameUIT/contributors\",\"subscribers_url\":\"https://api.github.com/repos/Daiyamondo2018/GameUIT/subscribers\",\"subscription_url\":\"https://api.github.com/repos/Daiyamondo2018/GameUIT/subscription\",\"commits_url\":\"https://api.github.com/repos/Daiyamondo2018/GameUIT/commits{/sha}\",\"git_commits_url\":\"https://api.github.com/repos/Daiyamondo2018/GameUIT/git/commits{/sha}\",\"comments_url\":\"https://api.github.com/repos/Daiyamondo2018/GameUIT/comments{/number}\",\"issue_comment_url\":\"https://api.github.com/repos/Daiyamondo2018/GameUIT/issues/comments{/number}\",\"contents_url\":\"https://api.github.com/repos/Daiyamondo2018/GameUIT/contents/{+path}\",\"compare_url\":\"https://api.github.com/repos/Daiyamondo2018/GameUIT/compare/{base}...{head}\",\"merges_url\":\"https://api.github.com/repos/Daiyamondo2018/GameUIT/merges\",\"archive_url\":\"https://api.github.com/repos/Daiyamondo2018/GameUIT/{archive_format}{/ref}\",\"downloads_url\":\"https://api.github.com/repos/Daiyamondo2018/GameUIT/downloads\",\"issues_url\":\"https://api.github.com/repos/Daiyamondo2018/GameUIT/issues{/number}\",\"pulls_url\":\"https://api.github.com/repos/Daiyamondo2018/GameUIT/pulls{/number}\",\"milestones_url\":\"https://api.github.com/repos/Daiyamondo2018/GameUIT/milestones{/number}\",\"notifications_url\":\"https://api.github.com/repos/Daiyamondo2018/GameUIT/notifications{?since,all,participating}\",\"labels_url\":\"https://api.github.com/repos/Daiyamondo2018/GameUIT/labels{/name}\",\"releases_url\":\"https://api.github.com/repos/Daiyamondo2018/GameUIT/releases{/id}\",\"deployments_url\":\"https://api.github.com/repos/Daiyamondo2018/GameUIT/deployments\",\"created_at\":\"2019-07-14T10:13:53Z\",\"updated_at\":\"2019-07-25T01:12:07Z\",\"pushed_at\":\"2019-07-25T02:45:10Z\",\"git_url\":\"git://github.com/Daiyamondo2018/GameUIT.git\",\"ssh_url\":\"git@github.com:Daiyamondo2018/GameUIT.git\",\"clone_url\":\"https://github.com/Daiyamondo2018/GameUIT.git\",\"svn_url\":\"https://github.com/Daiyamondo2018/GameUIT\",\"homepage\":null,\"size\":156835,\"stargazers_count\":0,\"watchers_count\":0,\"language\":\"C++\",\"has_issues\":true,\"has_projects\":true,\"has_downloads\":true,\"has_wiki\":true,\"has_pages\":false,\"forks_count\":0,\"mirror_url\":null,\"archived\":false,\"disabled\":false,\"open_issues_count\":0,\"license\":null,\"forks\":0,\"open_issues\":0,\"watchers\":0,\"default_branch\":\"master\"}},\"base\":{\"label\":\"Daiyamondo2018:master\",\"ref\":\"master\",\"sha\":\"a49cfec3bc2e0cb98b8b43d2abbd3013d5466a2a\",\"user\":{\"login\":\"Daiyamondo2018\",\"id\":45528757,\"node_id\":\"MDQ6VXNlcjQ1NTI4NzU3\",\"avatar_url\":\"https://avatars3.githubusercontent.com/u/45528757?v=4\",\"gravatar_id\":\"\",\"url\":\"https://api.github.com/users/Daiyamondo2018\",\"html_url\":\"https://github.com/Daiyamondo2018\",\"followers_url\":\"https://api.github.com/users/Daiyamondo2018/followers\",\"following_url\":\"https://api.github.com/users/Daiyamondo2018/following{/other_user}\",\"gists_url\":\"https://api.github.com/users/Daiyamondo2018/gists{/gist_id}\",\"starred_url\":\"https://api.github.com/users/Daiyamondo2018/starred{/owner}{/repo}\",\"subscriptions_url\":\"https://api.github.com/users/Daiyamondo2018/subscriptions\",\"organizations_url\":\"https://api.github.com/users/Daiyamondo2018/orgs\",\"repos_url\":\"https://api.github.com/users/Daiyamondo2018/repos\",\"events_url\":\"https://api.github.com/users/Daiyamondo2018/events{/privacy}\",\"received_events_url\":\"https://api.github.com/users/Daiyamondo2018/received_events\",\"type\":\"User\",\"site_admin\":false},\"repo\":{\"id\":196821666,\"node_id\":\"MDEwOlJlcG9zaXRvcnkxOTY4MjE2NjY=\",\"name\":\"GameUIT\",\"full_name\":\"Daiyamondo2018/GameUIT\",\"private\":false,\"owner\":{\"login\":\"Daiyamondo2018\",\"id\":45528757,\"node_id\":\"MDQ6VXNlcjQ1NTI4NzU3\",\"avatar_url\":\"https://avatars3.githubusercontent.com/u/45528757?v=4\",\"gravatar_id\":\"\",\"url\":\"https://api.github.com/users/Daiyamondo2018\",\"html_url\":\"https://github.com/Daiyamondo2018\",\"followers_url\":\"https://api.github.com/users/Daiyamondo2018/followers\",\"following_url\":\"https://api.github.com/users/Daiyamondo2018/following{/other_user}\",\"gists_url\":\"https://api.github.com/users/Daiyamondo2018/gists{/gist_id}\",\"starred_url\":\"https://api.github.com/users/Daiyamondo2018/starred{/owner}{/repo}\",\"subscriptions_url\":\"https://api.github.com/users/Daiyamondo2018/subscriptions\",\"organizations_url\":\"https://api.github.com/users/Daiyamondo2018/orgs\",\"repos_url\":\"https://api.github.com/users/Daiyamondo2018/repos\",\"events_url\":\"https://api.github.com/users/Daiyamondo2018/events{/privacy}\",\"received_events_url\":\"https://api.github.com/users/Daiyamondo2018/received_events\",\"type\":\"User\",\"site_admin\":false},\"html_url\":\"https://github.com/Daiyamondo2018/GameUIT\",\"description\":null,\"fork\":false,\"url\":\"https://api.github.com/repos/Daiyamondo2018/GameUIT\",\"forks_url\":\"https://api.github.com/repos/Daiyamondo2018/GameUIT/forks\",\"keys_url\":\"https://api.github.com/repos/Daiyamondo2018/GameUIT/keys{/key_id}\",\"collaborators_url\":\"https://api.github.com/repos/Daiyamondo2018/GameUIT/collaborators{/collaborator}\",\"teams_url\":\"https://api.github.com/repos/Daiyamondo2018/GameUIT/teams\",\"hooks_url\":\"https://api.github.com/repos/Daiyamondo2018/GameUIT/hooks\",\"issue_events_url\":\"https://api.github.com/repos/Daiyamondo2018/GameUIT/issues/events{/number}\",\"events_url\":\"https://api.github.com/repos/Daiyamondo2018/GameUIT/events\",\"assignees_url\":\"https://api.github.com/repos/Daiyamondo2018/GameUIT/assignees{/user}\",\"branches_url\":\"https://api.github.com/repos/Daiyamondo2018/GameUIT/branches{/branch}\",\"tags_url\":\"https://api.github.com/repos/Daiyamondo2018/GameUIT/tags\",\"blobs_url\":\"https://api.github.com/repos/Daiyamondo2018/GameUIT/git/blobs{/sha}\",\"git_tags_url\":\"https://api.github.com/repos/Daiyamondo2018/GameUIT/git/tags{/sha}\",\"git_refs_url\":\"https://api.github.com/repos/Daiyamondo2018/GameUIT/git/refs{/sha}\",\"trees_url\":\"https://api.github.com/repos/Daiyamondo2018/GameUIT/git/trees{/sha}\",\"statuses_url\":\"https://api.github.com/repos/Daiyamondo2018/GameUIT/statuses/{sha}\",\"languages_url\":\"https://api.github.com/repos/Daiyamondo2018/GameUIT/languages\",\"stargazers_url\":\"https://api.github.com/repos/Daiyamondo2018/GameUIT/stargazers\",\"contributors_url\":\"https://api.github.com/repos/Daiyamondo2018/GameUIT/contributors\",\"subscribers_url\":\"https://api.github.com/repos/Daiyamondo2018/GameUIT/subscribers\",\"subscription_url\":\"https://api.github.com/repos/Daiyamondo2018/GameUIT/subscription\",\"commits_url\":\"https://api.github.com/repos/Daiyamondo2018/GameUIT/commits{/sha}\",\"git_commits_url\":\"https://api.github.com/repos/Daiyamondo2018/GameUIT/git/commits{/sha}\",\"comments_url\":\"https://api.github.com/repos/Daiyamondo2018/GameUIT/comments{/number}\",\"issue_comment_url\":\"https://api.github.com/repos/Daiyamondo2018/GameUIT/issues/comments{/number}\",\"contents_url\":\"https://api.github.com/repos/Daiyamondo2018/GameUIT/contents/{+path}\",\"compare_url\":\"https://api.github.com/repos/Daiyamondo2018/GameUIT/compare/{base}...{head}\",\"merges_url\":\"https://api.github.com/repos/Daiyamondo2018/GameUIT/merges\",\"archive_url\":\"https://api.github.com/repos/Daiyamondo2018/GameUIT/{archive_format}{/ref}\",\"downloads_url\":\"https://api.github.com/repos/Daiyamondo2018/GameUIT/downloads\",\"issues_url\":\"https://api.github.com/repos/Daiyamondo2018/GameUIT/issues{/number}\",\"pulls_url\":\"https://api.github.com/repos/Daiyamondo2018/GameUIT/pulls{/number}\",\"milestones_url\":\"https://api.github.com/repos/Daiyamondo2018/GameUIT/milestones{/number}\",\"notifications_url\":\"https://api.github.com/repos/Daiyamondo2018/GameUIT/notifications{?since,all,participating}\",\"labels_url\":\"https://api.github.com/repos/Daiyamondo2018/GameUIT/labels{/name}\",\"releases_url\":\"https://api.github.com/repos/Daiyamondo2018/GameUIT/releases{/id}\",\"deployments_url\":\"https://api.github.com/repos/Daiyamondo2018/GameUIT/deployments\",\"created_at\":\"2019-07-14T10:13:53Z\",\"updated_at\":\"2019-07-25T01:12:07Z\",\"pushed_at\":\"2019-07-25T02:45:10Z\",\"git_url\":\"git://github.com/Daiyamondo2018/GameUIT.git\",\"ssh_url\":\"git@github.com:Daiyamondo2018/GameUIT.git\",\"clone_url\":\"https://github.com/Daiyamondo2018/GameUIT.git\",\"svn_url\":\"https://github.com/Daiyamondo2018/GameUIT\",\"homepage\":null,\"size\":156835,\"stargazers_count\":0,\"watchers_count\":0,\"language\":\"C++\",\"has_issues\":true,\"has_projects\":true,\"has_downloads\":true,\"has_wiki\":true,\"has_pages\":false,\"forks_count\":0,\"mirror_url\":null,\"archived\":false,\"disabled\":false,\"open_issues_count\":0,\"license\":null,\"forks\":0,\"open_issues\":0,\"watchers\":0,\"default_branch\":\"master\"}},\"_links\":{\"self\":{\"href\":\"https://api.github.com/repos/Daiyamondo2018/GameUIT/pulls/5\"},\"html\":{\"href\":\"https://github.com/Daiyamondo2018/GameUIT/pull/5\"},\"issue\":{\"href\":\"https://api.github.com/repos/Daiyamondo2018/GameUIT/issues/5\"},\"comments\":{\"href\":\"https://api.github.com/repos/Daiyamondo2018/GameUIT/issues/5/comments\"},\"review_comments\":{\"href\":\"https://api.github.com/repos/Daiyamondo2018/GameUIT/pulls/5/comments\"},\"review_comment\":{\"href\":\"https://api.github.com/repos/Daiyamondo2018/GameUIT/pulls/comments{/number}\"},\"commits\":{\"href\":\"https://api.github.com/repos/Daiyamondo2018/GameUIT/pulls/5/commits\"},\"statuses\":{\"href\":\"https://api.github.com/repos/Daiyamondo2018/GameUIT/statuses/ddc056772db46b44003aaad2bd0f02da500af502\"}},\"author_association\":\"COLLABORATOR\",\"merged\":true,\"mergeable\":null,\"rebaseable\":null,\"mergeable_state\":\"unknown\",\"merged_by\":{\"login\":\"minhnguyenduy99\",\"id\":44431867,\"node_id\":\"MDQ6VXNlcjQ0NDMxODY3\",\"avatar_url\":\"https://avatars2.githubusercontent.com/u/44431867?v=4\",\"gravatar_id\":\"\",\"url\":\"https://api.github.com/users/minhnguyenduy99\",\"html_url\":\"https://github.com/minhnguyenduy99\",\"followers_url\":\"https://api.github.com/users/minhnguyenduy99/followers\",\"following_url\":\"https://api.github.com/users/minhnguyenduy99/following{/other_user}\",\"gists_url\":\"https://api.github.com/users/minhnguyenduy99/gists{/gist_id}\",\"starred_url\":\"https://api.github.com/users/minhnguyenduy99/starred{/owner}{/repo}\",\"subscriptions_url\":\"https://api.github.com/users/minhnguyenduy99/subscriptions\",\"organizations_url\":\"https://api.github.com/users/minhnguyenduy99/orgs\",\"repos_url\":\"https://api.github.com/users/minhnguyenduy99/repos\",\"events_url\":\"https://api.github.com/users/minhnguyenduy99/events{/privacy}\",\"received_events_url\":\"https://api.github.com/users/minhnguyenduy99/received_events\",\"type\":\"User\",\"site_admin\":false},\"comments\":0,\"review_comments\":0,\"maintainer_can_modify\":false,\"commits\":4,\"additions\":186,\"deletions\":92,\"changed_files\":17}},\"public\":true,\"created_at\":\"2019-07-25T02:45:11Z\"},{\"id\":\"10079767780\",\"type\":\"WatchEvent\",\"actor\":{\"id\":4981847,\"login\":\"thiagoabreudev\",\"display_login\":\"thiagoabreudev\",\"gravatar_id\":\"\",\"url\":\"https://api.github.com/users/thiagoabreudev\",\"avatar_url\":\"https://avatars.githubusercontent.com/u/4981847?\"},\"repo\":{\"id\":198709873,\"name\":\"DenerRodrigues/python-tradinglib\",\"url\":\"https://api.github.com/repos/DenerRodrigues/python-tradinglib\"},\"payload\":{\"action\":\"started\"},\"public\":true,\"created_at\":\"2019-07-25T02:45:11Z\"},{\"id\":\"10079767771\",\"type\":\"PushEvent\",\"actor\":{\"id\":25144277,\"login\":\"lemon1226\",\"display_login\":\"lemon1226\",\"gravatar_id\":\"\",\"url\":\"https://api.github.com/users/lemon1226\",\"avatar_url\":\"https://avatars.githubusercontent.com/u/25144277?\"},\"repo\":{\"id\":187599899,\"name\":\"lemon1226/base-utils\",\"url\":\"https://api.github.com/repos/lemon1226/base-utils\"},\"payload\":{\"push_id\":3853318577,\"size\":1,\"distinct_size\":1,\"ref\":\"refs/heads/master\",\"head\":\"e8cce2c29cb8e7a7d6933cf81feffcec3f39d8b2\",\"before\":\"2590e8aca7cbdcc6927d8d1935b733fe6f441329\",\"commits\":[{\"sha\":\"e8cce2c29cb8e7a7d6933cf81feffcec3f39d8b2\",\"author\":{\"email\":\"32800438@qq.com\",\"name\":\"zhangmeng\"},\"message\":\"修复bug\",\"distinct\":true,\"url\":\"https://api.github.com/repos/lemon1226/base-utils/commits/e8cce2c29cb8e7a7d6933cf81feffcec3f39d8b2\"}]},\"public\":true,\"created_at\":\"2019-07-25T02:45:10Z\"},{\"id\":\"10079767772\",\"type\":\"PullRequestEvent\",\"actor\":{\"id\":48228819,\"login\":\"limingu\",\"display_login\":\"limingu\",\"gravatar_id\":\"\",\"url\":\"https://api.github.com/users/limingu\",\"avatar_url\":\"https://avatars.githubusercontent.com/u/48228819?\"},\"repo\":{\"id\":51040886,\"name\":\"Azure/azure-cli\",\"url\":\"https://api.github.com/repos/Azure/azure-cli\"},\"payload\":{\"action\":\"opened\",\"number\":10046,\"pull_request\":{\"url\":\"https://api.github.com/repos/Azure/azure-cli/pulls/10046\",\"id\":300960777,\"node_id\":\"MDExOlB1bGxSZXF1ZXN0MzAwOTYwNzc3\",\"html_url\":\"https://github.com/Azure/azure-cli/pull/10046\",\"diff_url\":\"https://github.com/Azure/azure-cli/pull/10046.diff\",\"patch_url\":\"https://github.com/Azure/azure-cli/pull/10046.patch\",\"issue_url\":\"https://api.github.com/repos/Azure/azure-cli/issues/10046\",\"number\":10046,\"state\":\"open\",\"locked\":false,\"title\":\" [storage] Add --clear-content-settings for storage blob update\",\"user\":{\"login\":\"limingu\",\"id\":48228819,\"node_id\":\"MDQ6VXNlcjQ4MjI4ODE5\",\"avatar_url\":\"https://avatars3.githubusercontent.com/u/48228819?v=4\",\"gravatar_id\":\"\",\"url\":\"https://api.github.com/users/limingu\",\"html_url\":\"https://github.com/limingu\",\"followers_url\":\"https://api.github.com/users/limingu/followers\",\"following_url\":\"https://api.github.com/users/limingu/following{/other_user}\",\"gists_url\":\"https://api.github.com/users/limingu/gists{/gist_id}\",\"starred_url\":\"https://api.github.com/users/limingu/starred{/owner}{/repo}\",\"subscriptions_url\":\"https://api.github.com/users/limingu/subscriptions\",\"organizations_url\":\"https://api.github.com/users/limingu/orgs\",\"repos_url\":\"https://api.github.com/users/limingu/repos\",\"events_url\":\"https://api.github.com/users/limingu/events{/privacy}\",\"received_events_url\":\"https://api.github.com/users/limingu/received_events\",\"type\":\"User\",\"site_admin\":false},\"body\":\"\\\\r\\\\n---\\\\r\\\\n\\\\r\\\\nThis checklist is used to make sure that common guidelines for a pull request are followed.\\\\r\\\\n\\\\r\\\\n- [ ] The PR has modified HISTORY.rst describing any customer-facing, functional changes. Note that this does not include changes only to help content. (see [Modifying change log](https://github.com/Azure/azure-cli/tree/master/doc/authoring_command_modules#modify-change-log)).\\\\r\\\\n\\\\r\\\\n- [ ] I adhere to the [Command Guidelines](https://github.com/Azure/azure-cli/blob/dev/doc/command_guidelines.md).\\\\r\\\\n\",\"created_at\":\"2019-07-25T02:45:10Z\",\"updated_at\":\"2019-07-25T02:45:10Z\",\"closed_at\":null,\"merged_at\":null,\"merge_commit_sha\":null,\"assignee\":null,\"assignees\":[],\"requested_reviewers\":[],\"requested_teams\":[],\"labels\":[],\"milestone\":null,\"commits_url\":\"https://api.github.com/repos/Azure/azure-cli/pulls/10046/commits\",\"review_comments_url\":\"https://api.github.com/repos/Azure/azure-cli/pulls/10046/comments\",\"review_comment_url\":\"https://api.github.com/repos/Azure/azure-cli/pulls/comments{/number}\",\"comments_url\":\"https://api.github.com/repos/Azure/azure-cli/issues/10046/comments\",\"statuses_url\":\"https://api.github.com/repos/Azure/azure-cli/statuses/3592e77997c12023921660c011b14c54edf49509\",\"head\":{\"label\":\"limingu:content1\",\"ref\":\"content1\",\"sha\":\"3592e77997c12023921660c011b14c54edf49509\",\"user\":{\"login\":\"limingu\",\"id\":48228819,\"node_id\":\"MDQ6VXNlcjQ4MjI4ODE5\",\"avatar_url\":\"https://avatars3.githubusercontent.com/u/48228819?v=4\",\"gravatar_id\":\"\",\"url\":\"https://api.github.com/users/limingu\",\"html_url\":\"https://github.com/limingu\",\"followers_url\":\"https://api.github.com/users/limingu/followers\",\"following_url\":\"https://api.github.com/users/limingu/following{/other_user}\",\"gists_url\":\"https://api.github.com/users/limingu/gists{/gist_id}\",\"starred_url\":\"https://api.github.com/users/limingu/starred{/owner}{/repo}\",\"subscriptions_url\":\"https://api.github.com/users/limingu/subscriptions\",\"organizations_url\":\"https://api.github.com/users/limingu/orgs\",\"repos_url\":\"https://api.github.com/users/limingu/repos\",\"events_url\":\"https://api.github.com/users/limingu/events{/privacy}\",\"received_events_url\":\"https://api.github.com/users/limingu/received_events\",\"type\":\"User\",\"site_admin\":false},\"repo\":{\"id\":174034968,\"node_id\":\"MDEwOlJlcG9zaXRvcnkxNzQwMzQ5Njg=\",\"name\":\"azure-cli\",\"full_name\":\"limingu/azure-cli\",\"private\":false,\"owner\":{\"login\":\"limingu\",\"id\":48228819,\"node_id\":\"MDQ6VXNlcjQ4MjI4ODE5\",\"avatar_url\":\"https://avatars3.githubusercontent.com/u/48228819?v=4\",\"gravatar_id\":\"\",\"url\":\"https://api.github.com/users/limingu\",\"html_url\":\"https://github.com/limingu\",\"followers_url\":\"https://api.github.com/users/limingu/followers\",\"following_url\":\"https://api.github.com/users/limingu/following{/other_user}\",\"gists_url\":\"https://api.github.com/users/limingu/gists{/gist_id}\",\"starred_url\":\"https://api.github.com/users/limingu/starred{/owner}{/repo}\",\"subscriptions_url\":\"https://api.github.com/users/limingu/subscriptions\",\"organizations_url\":\"https://api.github.com/users/limingu/orgs\",\"repos_url\":\"https://api.github.com/users/limingu/repos\",\"events_url\":\"https://api.github.com/users/limingu/events{/privacy}\",\"received_events_url\":\"https://api.github.com/users/limingu/received_events\",\"type\":\"User\",\"site_admin\":false},\"html_url\":\"https://github.com/limingu/azure-cli\",\"description\":\"Command-line tools for Azure.\",\"fork\":true,\"url\":\"https://api.github.com/repos/limingu/azure-cli\",\"forks_url\":\"https://api.github.com/repos/limingu/azure-cli/forks\",\"keys_url\":\"https://api.github.com/repos/limingu/azure-cli/keys{/key_id}\",\"collaborators_url\":\"https://api.github.com/repos/limingu/azure-cli/collaborators{/collaborator}\",\"teams_url\":\"https://api.github.com/repos/limingu/azure-cli/teams\",\"hooks_url\":\"https://api.github.com/repos/limingu/azure-cli/hooks\",\"issue_events_url\":\"https://api.github.com/repos/limingu/azure-cli/issues/events{/number}\",\"events_url\":\"https://api.github.com/repos/limingu/azure-cli/events\",\"assignees_url\":\"https://api.github.com/repos/limingu/azure-cli/assignees{/user}\",\"branches_url\":\"https://api.github.com/repos/limingu/azure-cli/branches{/branch}\",\"tags_url\":\"https://api.github.com/repos/limingu/azure-cli/tags\",\"blobs_url\":\"https://api.github.com/repos/limingu/azure-cli/git/blobs{/sha}\",\"git_tags_url\":\"https://api.github.com/repos/limingu/azure-cli/git/tags{/sha}\",\"git_refs_url\":\"https://api.github.com/repos/limingu/azure-cli/git/refs{/sha}\",\"trees_url\":\"https://api.github.com/repos/limingu/azure-cli/git/trees{/sha}\",\"statuses_url\":\"https://api.github.com/repos/limingu/azure-cli/statuses/{sha}\",\"languages_url\":\"https://api.github.com/repos/limingu/azure-cli/languages\",\"stargazers_url\":\"https://api.github.com/repos/limingu/azure-cli/stargazers\",\"contributors_url\":\"https://api.github.com/repos/limingu/azure-cli/contributors\",\"subscribers_url\":\"https://api.github.com/repos/limingu/azure-cli/subscribers\",\"subscription_url\":\"https://api.github.com/repos/limingu/azure-cli/subscription\",\"commits_url\":\"https://api.github.com/repos/limingu/azure-cli/commits{/sha}\",\"git_commits_url\":\"https://api.github.com/repos/limingu/azure-cli/git/commits{/sha}\",\"comments_url\":\"https://api.github.com/repos/limingu/azure-cli/comments{/number}\",\"issue_comment_url\":\"https://api.github.com/repos/limingu/azure-cli/issues/comments{/number}\",\"contents_url\":\"https://api.github.com/repos/limingu/azure-cli/contents/{+path}\",\"compare_url\":\"https://api.github.com/repos/limingu/azure-cli/compare/{base}...{head}\",\"merges_url\":\"https://api.github.com/repos/limingu/azure-cli/merges\",\"archive_url\":\"https://api.github.com/repos/limingu/azure-cli/{archive_format}{/ref}\",\"downloads_url\":\"https://api.github.com/repos/limingu/azure-cli/downloads\",\"issues_url\":\"https://api.github.com/repos/limingu/azure-cli/issues{/number}\",\"pulls_url\":\"https://api.github.com/repos/limingu/azure-cli/pulls{/number}\",\"milestones_url\":\"https://api.github.com/repos/limingu/azure-cli/milestones{/number}\",\"notifications_url\":\"https://api.github.com/repos/limingu/azure-cli/notifications{?since,all,participating}\",\"labels_url\":\"https://api.github.com/repos/limingu/azure-cli/labels{/name}\",\"releases_url\":\"https://api.github.com/repos/limingu/azure-cli/releases{/id}\",\"deployments_url\":\"https://api.github.com/repos/limingu/azure-cli/deployments\",\"created_at\":\"2019-03-05T23:14:45Z\",\"updated_at\":\"2019-07-15T05:38:29Z\",\"pushed_at\":\"2019-07-25T02:44:28Z\",\"git_url\":\"git://github.com/limingu/azure-cli.git\",\"ssh_url\":\"git@github.com:limingu/azure-cli.git\",\"clone_url\":\"https://github.com/limingu/azure-cli.git\",\"svn_url\":\"https://github.com/limingu/azure-cli\",\"homepage\":null,\"size\":139767,\"stargazers_count\":0,\"watchers_count\":0,\"language\":\"Python\",\"has_issues\":false,\"has_projects\":true,\"has_downloads\":true,\"has_wiki\":true,\"has_pages\":false,\"forks_count\":0,\"mirror_url\":null,\"archived\":false,\"disabled\":false,\"open_issues_count\":0,\"license\":{\"key\":\"other\",\"name\":\"Other\",\"spdx_id\":\"NOASSERTION\",\"url\":null,\"node_id\":\"MDc6TGljZW5zZTA=\"},\"forks\":0,\"open_issues\":0,\"watchers\":0,\"default_branch\":\"dev\"}},\"base\":{\"label\":\"Azure:dev\",\"ref\":\"dev\",\"sha\":\"cd83e4aa58d5c0366ff8a6bf68d99c96a2b8bd4e\",\"user\":{\"login\":\"Azure\",\"id\":6844498,\"node_id\":\"MDEyOk9yZ2FuaXphdGlvbjY4NDQ0OTg=\",\"avatar_url\":\"https://avatars0.githubusercontent.com/u/6844498?v=4\",\"gravatar_id\":\"\",\"url\":\"https://api.github.com/users/Azure\",\"html_url\":\"https://github.com/Azure\",\"followers_url\":\"https://api.github.com/users/Azure/followers\",\"following_url\":\"https://api.github.com/users/Azure/following{/other_user}\",\"gists_url\":\"https://api.github.com/users/Azure/gists{/gist_id}\",\"starred_url\":\"https://api.github.com/users/Azure/starred{/owner}{/repo}\",\"subscriptions_url\":\"https://api.github.com/users/Azure/subscriptions\",\"organizations_url\":\"https://api.github.com/users/Azure/orgs\",\"repos_url\":\"https://api.github.com/users/Azure/repos\",\"events_url\":\"https://api.github.com/users/Azure/events{/privacy}\",\"received_events_url\":\"https://api.github.com/users/Azure/received_events\",\"type\":\"Organization\",\"site_admin\":false},\"repo\":{\"id\":51040886,\"node_id\":\"MDEwOlJlcG9zaXRvcnk1MTA0MDg4Ng==\",\"name\":\"azure-cli\",\"full_name\":\"Azure/azure-cli\",\"private\":false,\"owner\":{\"login\":\"Azure\",\"id\":6844498,\"node_id\":\"MDEyOk9yZ2FuaXphdGlvbjY4NDQ0OTg=\",\"avatar_url\":\"https://avatars0.githubusercontent.com/u/6844498?v=4\",\"gravatar_id\":\"\",\"url\":\"https://api.github.com/users/Azure\",\"html_url\":\"https://github.com/Azure\",\"followers_url\":\"https://api.github.com/users/Azure/followers\",\"following_url\":\"https://api.github.com/users/Azure/following{/other_user}\",\"gists_url\":\"https://api.github.com/users/Azure/gists{/gist_id}\",\"starred_url\":\"https://api.github.com/users/Azure/starred{/owner}{/repo}\",\"subscriptions_url\":\"https://api.github.com/users/Azure/subscriptions\",\"organizations_url\":\"https://api.github.com/users/Azure/orgs\",\"repos_url\":\"https://api.github.com/users/Azure/repos\",\"events_url\":\"https://api.github.com/users/Azure/events{/privacy}\",\"received_events_url\":\"https://api.github.com/users/Azure/received_events\",\"type\":\"Organization\",\"site_admin\":false},\"html_url\":\"https://github.com/Azure/azure-cli\",\"description\":\"Command-line tools for Azure.\",\"fork\":false,\"url\":\"https://api.github.com/repos/Azure/azure-cli\",\"forks_url\":\"https://api.github.com/repos/Azure/azure-cli/forks\",\"keys_url\":\"https://api.github.com/repos/Azure/azure-cli/keys{/key_id}\",\"collaborators_url\":\"https://api.github.com/repos/Azure/azure-cli/collaborators{/collaborator}\",\"teams_url\":\"https://api.github.com/repos/Azure/azure-cli/teams\",\"hooks_url\":\"https://api.github.com/repos/Azure/azure-cli/hooks\",\"issue_events_url\":\"https://api.github.com/repos/Azure/azure-cli/issues/events{/number}\",\"events_url\":\"https://api.github.com/repos/Azure/azure-cli/events\",\"assignees_url\":\"https://api.github.com/repos/Azure/azure-cli/assignees{/user}\",\"branches_url\":\"https://api.github.com/repos/Azure/azure-cli/branches{/branch}\",\"tags_url\":\"https://api.github.com/repos/Azure/azure-cli/tags\",\"blobs_url\":\"https://api.github.com/repos/Azure/azure-cli/git/blobs{/sha}\",\"git_tags_url\":\"https://api.github.com/repos/Azure/azure-cli/git/tags{/sha}\",\"git_refs_url\":\"https://api.github.com/repos/Azure/azure-cli/git/refs{/sha}\",\"trees_url\":\"https://api.github.com/repos/Azure/azure-cli/git/trees{/sha}\",\"statuses_url\":\"https://api.github.com/repos/Azure/azure-cli/statuses/{sha}\",\"languages_url\":\"https://api.github.com/repos/Azure/azure-cli/languages\",\"stargazers_url\":\"https://api.github.com/repos/Azure/azure-cli/stargazers\",\"contributors_url\":\"https://api.github.com/repos/Azure/azure-cli/contributors\",\"subscribers_url\":\"https://api.github.com/repos/Azure/azure-cli/subscribers\",\"subscription_url\":\"https://api.github.com/repos/Azure/azure-cli/subscription\",\"commits_url\":\"https://api.github.com/repos/Azure/azure-cli/commits{/sha}\",\"git_commits_url\":\"https://api.github.com/repos/Azure/azure-cli/git/commits{/sha}\",\"comments_url\":\"https://api.github.com/repos/Azure/azure-cli/comments{/number}\",\"issue_comment_url\":\"https://api.github.com/repos/Azure/azure-cli/issues/comments{/number}\",\"contents_url\":\"https://api.github.com/repos/Azure/azure-cli/contents/{+path}\",\"compare_url\":\"https://api.github.com/repos/Azure/azure-cli/compare/{base}...{head}\",\"merges_url\":\"https://api.github.com/repos/Azure/azure-cli/merges\",\"archive_url\":\"https://api.github.com/repos/Azure/azure-cli/{archive_format}{/ref}\",\"downloads_url\":\"https://api.github.com/repos/Azure/azure-cli/downloads\",\"issues_url\":\"https://api.github.com/repos/Azure/azure-cli/issues{/number}\",\"pulls_url\":\"https://api.github.com/repos/Azure/azure-cli/pulls{/number}\",\"milestones_url\":\"https://api.github.com/repos/Azure/azure-cli/milestones{/number}\",\"notifications_url\":\"https://api.github.com/repos/Azure/azure-cli/notifications{?since,all,participating}\",\"labels_url\":\"https://api.github.com/repos/Azure/azure-cli/labels{/name}\",\"releases_url\":\"https://api.github.com/repos/Azure/azure-cli/releases{/id}\",\"deployments_url\":\"https://api.github.com/repos/Azure/azure-cli/deployments\",\"created_at\":\"2016-02-04T00:21:51Z\",\"updated_at\":\"2019-07-25T01:23:38Z\",\"pushed_at\":\"2019-07-25T02:17:39Z\",\"git_url\":\"git://github.com/Azure/azure-cli.git\",\"ssh_url\":\"git@github.com:Azure/azure-cli.git\",\"clone_url\":\"https://github.com/Azure/azure-cli.git\",\"svn_url\":\"https://github.com/Azure/azure-cli\",\"homepage\":null,\"size\":140529,\"stargazers_count\":1425,\"watchers_count\":1425,\"language\":\"Python\",\"has_issues\":true,\"has_projects\":true,\"has_downloads\":true,\"has_wiki\":true,\"has_pages\":false,\"forks_count\":885,\"mirror_url\":null,\"archived\":false,\"disabled\":false,\"open_issues_count\":811,\"license\":{\"key\":\"other\",\"name\":\"Other\",\"spdx_id\":\"NOASSERTION\",\"url\":null,\"node_id\":\"MDc6TGljZW5zZTA=\"},\"forks\":885,\"open_issues\":811,\"watchers\":1425,\"default_branch\":\"dev\"}},\"_links\":{\"self\":{\"href\":\"https://api.github.com/repos/Azure/azure-cli/pulls/10046\"},\"html\":{\"href\":\"https://github.com/Azure/azure-cli/pull/10046\"},\"issue\":{\"href\":\"https://api.github.com/repos/Azure/azure-cli/issues/10046\"},\"comments\":{\"href\":\"https://api.github.com/repos/Azure/azure-cli/issues/10046/comments\"},\"review_comments\":{\"href\":\"https://api.github.com/repos/Azure/azure-cli/pulls/10046/comments\"},\"review_comment\":{\"href\":\"https://api.github.com/repos/Azure/azure-cli/pulls/comments{/number}\"},\"commits\":{\"href\":\"https://api.github.com/repos/Azure/azure-cli/pulls/10046/commits\"},\"statuses\":{\"href\":\"https://api.github.com/repos/Azure/azure-cli/statuses/3592e77997c12023921660c011b14c54edf49509\"}},\"author_association\":\"CONTRIBUTOR\",\"merged\":false,\"mergeable\":null,\"rebaseable\":null,\"mergeable_state\":\"unknown\",\"merged_by\":null,\"comments\":0,\"review_comments\":0,\"maintainer_can_modify\":true,\"commits\":2,\"additions\":53,\"deletions\":5,\"changed_files\":3}},\"public\":true,\"created_at\":\"2019-07-25T02:45:10Z\",\"org\":{\"id\":6844498,\"login\":\"Azure\",\"gravatar_id\":\"\",\"url\":\"https://api.github.com/orgs/Azure\",\"avatar_url\":\"https://avatars.githubusercontent.com/u/6844498?\"}},{\"id\":\"10079767762\",\"type\":\"PushEvent\",\"actor\":{\"id\":1616850,\"login\":\"HenrikBengtsson\",\"display_login\":\"HenrikBengtsson\",\"gravatar_id\":\"\",\"url\":\"https://api.github.com/users/HenrikBengtsson\",\"avatar_url\":\"https://avatars.githubusercontent.com/u/1616850?\"},\"repo\":{\"id\":94832006,\"name\":\"UCSF-TI/TIPCC-slash\",\"url\":\"https://api.github.com/repos/UCSF-TI/TIPCC-slash\"},\"payload\":{\"push_id\":3853318575,\"size\":1,\"distinct_size\":1,\"ref\":\"refs/heads/master\",\"head\":\"01eddd1ae1d6b8efd2ed7f94bee4985303e123b2\",\"before\":\"3cf16950d79331668e0175b3e861165fbfdedbec\",\"commits\":[{\"sha\":\"01eddd1ae1d6b8efd2ed7f94bee4985303e123b2\",\"author\":{\"email\":\"hb@aroma-project.org\",\"name\":\"hb\"},\"message\":\"STATUS: Updated figures\",\"distinct\":true,\"url\":\"https://api.github.com/repos/UCSF-TI/TIPCC-slash/commits/01eddd1ae1d6b8efd2ed7f94bee4985303e123b2\"}]},\"public\":true,\"created_at\":\"2019-07-25T02:45:10Z\",\"org\":{\"id\":14284214,\"login\":\"UCSF-TI\",\"gravatar_id\":\"\",\"url\":\"https://api.github.com/orgs/UCSF-TI\",\"avatar_url\":\"https://avatars.githubusercontent.com/u/14284214?\"}},{\"id\":\"10079767757\",\"type\":\"IssuesEvent\",\"actor\":{\"id\":4654068,\"login\":\"jamesBan\",\"display_login\":\"jamesBan\",\"gravatar_id\":\"\",\"url\":\"https://api.github.com/users/jamesBan\",\"avatar_url\":\"https://avatars.githubusercontent.com/u/4654068?\"},\"repo\":{\"id\":23150253,\"name\":\"jamesBan/jamesBan.github.io\",\"url\":\"https://api.github.com/repos/jamesBan/jamesBan.github.io\"},\"payload\":{\"action\":\"opened\",\"issue\":{\"url\":\"https://api.github.com/repos/jamesBan/jamesBan.github.io/issues/7\",\"repository_url\":\"https://api.github.com/repos/jamesBan/jamesBan.github.io\",\"labels_url\":\"https://api.github.com/repos/jamesBan/jamesBan.github.io/issues/7/labels{/name}\",\"comments_url\":\"https://api.github.com/repos/jamesBan/jamesBan.github.io/issues/7/comments\",\"events_url\":\"https://api.github.com/repos/jamesBan/jamesBan.github.io/issues/7/events\",\"html_url\":\"https://github.com/jamesBan/jamesBan.github.io/issues/7\",\"id\":472637354,\"node_id\":\"MDU6SXNzdWU0NzI2MzczNTQ=\",\"number\":7,\"title\":\"redis 主从\",\"user\":{\"login\":\"jamesBan\",\"id\":4654068,\"node_id\":\"MDQ6VXNlcjQ2NTQwNjg=\",\"avatar_url\":\"https://avatars3.githubusercontent.com/u/4654068?v=4\",\"gravatar_id\":\"\",\"url\":\"https://api.github.com/users/jamesBan\",\"html_url\":\"https://github.com/jamesBan\",\"followers_url\":\"https://api.github.com/users/jamesBan/followers\",\"following_url\":\"https://api.github.com/users/jamesBan/following{/other_user}\",\"gists_url\":\"https://api.github.com/users/jamesBan/gists{/gist_id}\",\"starred_url\":\"https://api.github.com/users/jamesBan/starred{/owner}{/repo}\",\"subscriptions_url\":\"https://api.github.com/users/jamesBan/subscriptions\",\"organizations_url\":\"https://api.github.com/users/jamesBan/orgs\",\"repos_url\":\"https://api.github.com/users/jamesBan/repos\",\"events_url\":\"https://api.github.com/users/jamesBan/events{/privacy}\",\"received_events_url\":\"https://api.github.com/users/jamesBan/received_events\",\"type\":\"User\",\"site_admin\":false},\"labels\":[{\"id\":1467903676,\"node_id\":\"MDU6TGFiZWwxNDY3OTAzNjc2\",\"url\":\"https://api.github.com/repos/jamesBan/jamesBan.github.io/labels/redis\",\"name\":\"redis\",\"color\":\"d93f0b\",\"default\":false}],\"state\":\"open\",\"locked\":false,\"assignee\":null,\"assignees\":[],\"milestone\":null,\"comments\":0,\"created_at\":\"2019-07-25T02:45:10Z\",\"updated_at\":\"2019-07-25T02:45:10Z\",\"closed_at\":null,\"author_association\":\"OWNER\",\"body\":\"### Master/slave\\\\r\\\\n\\\\r\\\\n\\\\r\\\\n\\\\r\\\\n1、10.0.10.1(master) \\\\r\\\\n\\\\r\\\\n`redis.conf`\\\\r\\\\n\\\\r\\\\n```shell\\\\r\\\\nbind 0.0.0.0\\\\r\\\\nprotect-mode no\\\\r\\\\nslave-read-only yes\\\\r\\\\n\\\\r\\\\nrequirepass foobared\\\\r\\\\n\\\\r\\\\n#disable command\\\\r\\\\nrename-command CONFIG \\\\\"\\\\\"\\\\r\\\\nrename-command FLUSHALL \\\\\"\\\\\"\\\\r\\\\nrename-command FLUSHDB\\\\r\\\\n````\\\\r\\\\n\\\\r\\\\n\\\\r\\\\n2、10.0.10.2(slave)\\\\r\\\\n\\\\r\\\\n\\u200b\\\\t`redis.conf`\\\\r\\\\n\\\\r\\\\n```shell\\\\r\\\\nbind 0.0.0.0\\\\r\\\\nprotect-mode no\\\\r\\\\nrequirepass foobared\\\\r\\\\n\\\\r\\\\n#replicaof master-ip master-port\\\\r\\\\nreplicaof 10.0.10.1\\\\r\\\\n\\\\r\\\\n# masterauth <master-password>\\\\r\\\\nmasterauth foobared\\\\r\\\\n\\\\r\\\\n#disable command\\\\r\\\\nrename-command CONFIG \\\\\"\\\\\"\\\\r\\\\nrename-command FLUSHALL \\\\\"\\\\\"\\\\r\\\\nrename-command FLUSHDB\\\\r\\\\n```\\\\r\\\\n\\\\r\\\\n###sentinel 模式\\\\r\\\\n\\\\r\\\\n1、主服务器（10.0.10.1）\\\\r\\\\n\\\\r\\\\n`sentinel.conf`\\\\r\\\\n\\\\r\\\\n```\\\\r\\\\n#sentinel monitor <master-name> <ip> <redis-port> <quorum>\\\\r\\\\n\\\\r\\\\nsentinel monitor mymaster redis1 6379 2\\\\r\\\\n\\\\r\\\\n#sentinel auth-pass <master-name> <password>\\\\r\\\\n\\\\r\\\\nsentinel auth-pass mymaster foobared\\\\r\\\\n```\\\\r\\\\n\\\\r\\\\n\\\\r\\\\n\\\\r\\\\n\\\\r\\\\n\\\\r\\\\n###  Codis（读写分离、集群动态扩容）\\\\r\\\\ntodo\"}},\"public\":true,\"created_at\":\"2019-07-25T02:45:10Z\"}]'"
      ]
     },
     "execution_count": 36,
     "metadata": {},
     "output_type": "execute_result"
    }
   ],
   "source": [
    "get_request.text"
   ]
  },
  {
   "cell_type": "code",
   "execution_count": 38,
   "metadata": {
    "collapsed": true
   },
   "outputs": [
    {
     "data": {
      "text/plain": [
       "b'[{\"id\":\"10079767836\",\"type\":\"PushEvent\",\"actor\":{\"id\":4945153,\"login\":\"apan1121\",\"display_login\":\"apan1121\",\"gravatar_id\":\"\",\"url\":\"https://api.github.com/users/apan1121\",\"avatar_url\":\"https://avatars.githubusercontent.com/u/4945153?\"},\"repo\":{\"id\":98047378,\"name\":\"apan1121/powerInfo\",\"url\":\"https://api.github.com/repos/apan1121/powerInfo\"},\"payload\":{\"push_id\":3853318630,\"size\":1,\"distinct_size\":1,\"ref\":\"refs/heads/gh-pages\",\"head\":\"861de8fe143112a580ffe8932f8e8c9da505a590\",\"before\":\"30d7e66e165a8ada3aa5755793f992656a6fa374\",\"commits\":[{\"sha\":\"861de8fe143112a580ffe8932f8e8c9da505a590\",\"author\":{\"email\":\"apan1121@gmail.com\",\"name\":\"byron-linode\"},\"message\":\"[auto] add new log\",\"distinct\":true,\"url\":\"https://api.github.com/repos/apan1121/powerInfo/commits/861de8fe143112a580ffe8932f8e8c9da505a590\"}]},\"public\":true,\"created_at\":\"2019-07-25T02:45:11Z\"},{\"id\":\"10079767834\",\"type\":\"PushEvent\",\"actor\":{\"id\":44431867,\"login\":\"minhnguyenduy99\",\"display_login\":\"minhnguyenduy99\",\"gravatar_id\":\"\",\"url\":\"https://api.github.com/users/minhnguyenduy99\",\"avatar_url\":\"https://avatars.githubusercontent.com/u/44431867?\"},\"repo\":{\"id\":196821666,\"name\":\"Daiyamondo2018/GameUIT\",\"url\":\"https://api.github.com/repos/Daiyamondo2018/GameUIT\"},\"payload\":{\"push_id\":3853318628,\"size\":5,\"distinct_size\":1,\"ref\":\"refs/heads/master\",\"head\":\"effb9e1e5b432521ce604eb317939742b578d9cd\",\"before\":\"a49cfec3bc2e0cb98b8b43d2abbd3013d5466a2a\",\"commits\":[{\"sha\":\"dfcc1a43152bad8f5ed393345ecf87aa5b47f156\",\"author\":{\"email\":\"minhnguyenduy99@gmail.com\",\"name\":\"Nguyen Duy Minh\"},\"message\":\"Update\",\"distinct\":false,\"url\":\"https://api.github.com/repos/Daiyamondo2018/GameUIT/commits/dfcc1a43152bad8f5ed393345ecf87aa5b47f156\"},{\"sha\":\"d84e56b34ddb36ea3775944c744f93ae6c1d58a3\",\"author\":{\"email\":\"minhnguyenduy99@gmail.com\",\"name\":\"Nguyen Duy Minh\"},\"message\":\"Merge branch \\'Test_collision\\' of https://github.com/Daiyamondo2018/GameUIT into Test_collision\",\"distinct\":false,\"url\":\"https://api.github.com/repos/Daiyamondo2018/GameUIT/commits/d84e56b34ddb36ea3775944c744f93ae6c1d58a3\"},{\"sha\":\"9b3e82f49fe68319ad6d669171cd937dce6182e6\",\"author\":{\"email\":\"minhnguyenduy99@gmail.com\",\"name\":\"Nguyen Duy Minh\"},\"message\":\"Update\",\"distinct\":false,\"url\":\"https://api.github.com/repos/Daiyamondo2018/GameUIT/commits/9b3e82f49fe68319ad6d669171cd937dce6182e6\"},{\"sha\":\"ddc056772db46b44003aaad2bd0f02da500af502\",\"author\":{\"email\":\"44431867+minhnguyenduy99@users.noreply.github.com\",\"name\":\"minhnguyenduy99\"},\"message\":\"Merge branch \\'master\\' into Test_collision\",\"distinct\":false,\"url\":\"https://api.github.com/repos/Daiyamondo2018/GameUIT/commits/ddc056772db46b44003aaad2bd0f02da500af502\"},{\"sha\":\"effb9e1e5b432521ce604eb317939742b578d9cd\",\"author\":{\"email\":\"44431867+minhnguyenduy99@users.noreply.github.com\",\"name\":\"minhnguyenduy99\"},\"message\":\"Merge pull request #5 from Daiyamondo2018/Test_collision\\\\n\\\\nupdate beta collision\",\"distinct\":true,\"url\":\"https://api.github.com/repos/Daiyamondo2018/GameUIT/commits/effb9e1e5b432521ce604eb317939742b578d9cd\"}]},\"public\":true,\"created_at\":\"2019-07-25T02:45:11Z\"},{\"id\":\"10079767831\",\"type\":\"PushEvent\",\"actor\":{\"id\":37233625,\"login\":\"tammytdo\",\"display_login\":\"tammytdo\",\"gravatar_id\":\"\",\"url\":\"https://api.github.com/users/tammytdo\",\"avatar_url\":\"https://avatars.githubusercontent.com/u/37233625?\"},\"repo\":{\"id\":195910629,\"name\":\"tammytdo/401_labs\",\"url\":\"https://api.github.com/repos/tammytdo/401_labs\"},\"payload\":{\"push_id\":3853318623,\"size\":1,\"distinct_size\":1,\"ref\":\"refs/heads/http_server\",\"head\":\"9a7f563716dab417cbe4296957bcb558955fde74\",\"before\":\"23415c59c6d75964d0a10aec8fc03aa42431c2f1\",\"commits\":[{\"sha\":\"9a7f563716dab417cbe4296957bcb558955fde74\",\"author\":{\"email\":\"tammytdo11@gmail.com\",\"name\":\"tammytdo11\"},\"message\":\"search query data rendering in browser\",\"distinct\":true,\"url\":\"https://api.github.com/repos/tammytdo/401_labs/commits/9a7f563716dab417cbe4296957bcb558955fde74\"}]},\"public\":true,\"created_at\":\"2019-07-25T02:45:11Z\"},{\"id\":\"10079767832\",\"type\":\"CreateEvent\",\"actor\":{\"id\":52971853,\"login\":\"n13r\",\"display_login\":\"n13r\",\"gravatar_id\":\"\",\"url\":\"https://api.github.com/users/n13r\",\"avatar_url\":\"https://avatars.githubusercontent.com/u/52971853?\"},\"repo\":{\"id\":198744103,\"name\":\"n13r/n13r.github.io\",\"url\":\"https://api.github.com/repos/n13r/n13r.github.io\"},\"payload\":{\"ref\":\"master\",\"ref_type\":\"branch\",\"master_branch\":\"master\",\"description\":\"Im new start from small project.\",\"pusher_type\":\"user\"},\"public\":true,\"created_at\":\"2019-07-25T02:45:11Z\"},{\"id\":\"10079767830\",\"type\":\"PushEvent\",\"actor\":{\"id\":1787865,\"login\":\"figo930\",\"display_login\":\"figo930\",\"gravatar_id\":\"\",\"url\":\"https://api.github.com/users/figo930\",\"avatar_url\":\"https://avatars.githubusercontent.com/u/1787865?\"},\"repo\":{\"id\":187750956,\"name\":\"figo930/solo-blog\",\"url\":\"https://api.github.com/repos/figo930/solo-blog\"},\"payload\":{\"push_id\":3853318619,\"size\":1,\"distinct_size\":1,\"ref\":\"refs/heads/master\",\"head\":\"d18d6ec2ea159aaee98f09450c4798a944741e18\",\"before\":\"e64ddcb046ff57abf0497857057aa17809e72883\",\"commits\":[{\"sha\":\"d18d6ec2ea159aaee98f09450c4798a944741e18\",\"author\":{\"email\":\"figo.lzz@gmail.com\",\"name\":\"fly\"},\"message\":\":memo: \\xe6\\x9b\\xb4\\xe6\\x96\\xb0\\xe5\\x8d\\x9a\\xe5\\xae\\xa2\",\"distinct\":true,\"url\":\"https://api.github.com/repos/figo930/solo-blog/commits/d18d6ec2ea159aaee98f09450c4798a944741e18\"}]},\"public\":true,\"created_at\":\"2019-07-25T02:45:11Z\"},{\"id\":\"10079767829\",\"type\":\"PushEvent\",\"actor\":{\"id\":30195442,\"login\":\"caicaicn\",\"display_login\":\"caicaicn\",\"gravatar_id\":\"\",\"url\":\"https://api.github.com/users/caicaicn\",\"avatar_url\":\"https://avatars.githubusercontent.com/u/30195442?\"},\"repo\":{\"id\":198157777,\"name\":\"caicaicn/vue-demo\",\"url\":\"https://api.github.com/repos/caicaicn/vue-demo\"},\"payload\":{\"push_id\":3853318625,\"size\":1,\"distinct_size\":1,\"ref\":\"refs/heads/V1.0\",\"head\":\"69fd09a07c461d17941ae45e3c6156c76ba92bfc\",\"before\":\"75dc1c4221b91f7fb03166b3f0d3d9bd6f4f7fd0\",\"commits\":[{\"sha\":\"69fd09a07c461d17941ae45e3c6156c76ba92bfc\",\"author\":{\"email\":\"cairan@peilian.com\",\"name\":\"cairan\"},\"message\":\"1\",\"distinct\":true,\"url\":\"https://api.github.com/repos/caicaicn/vue-demo/commits/69fd09a07c461d17941ae45e3c6156c76ba92bfc\"}]},\"public\":true,\"created_at\":\"2019-07-25T02:45:11Z\"},{\"id\":\"10079767826\",\"type\":\"PushEvent\",\"actor\":{\"id\":50294555,\"login\":\"doingway2much\",\"display_login\":\"doingway2much\",\"gravatar_id\":\"\",\"url\":\"https://api.github.com/users/doingway2much\",\"avatar_url\":\"https://avatars.githubusercontent.com/u/50294555?\"},\"repo\":{\"id\":196731269,\"name\":\"doingway2much/ProjectOne\",\"url\":\"https://api.github.com/repos/doingway2much/ProjectOne\"},\"payload\":{\"push_id\":3853318624,\"size\":1,\"distinct_size\":1,\"ref\":\"refs/heads/doingway2much\",\"head\":\"51dd430c2272788ee0558e1fb4e26c0fd53ba29a\",\"before\":\"0a54c6069829efa033ef43b8a27c9de5a2d05b34\",\"commits\":[{\"sha\":\"51dd430c2272788ee0558e1fb4e26c0fd53ba29a\",\"author\":{\"email\":\"sethhrandell@gmail.com\",\"name\":\"Seth Randell\"},\"message\":\"Finally got the code working fro calculating distances from coords\",\"distinct\":true,\"url\":\"https://api.github.com/repos/doingway2much/ProjectOne/commits/51dd430c2272788ee0558e1fb4e26c0fd53ba29a\"}]},\"public\":true,\"created_at\":\"2019-07-25T02:45:11Z\"},{\"id\":\"10079767825\",\"type\":\"CreateEvent\",\"actor\":{\"id\":35355806,\"login\":\"gaoweimeng\",\"display_login\":\"gaoweimeng\",\"gravatar_id\":\"\",\"url\":\"https://api.github.com/users/gaoweimeng\",\"avatar_url\":\"https://avatars.githubusercontent.com/u/35355806?\"},\"repo\":{\"id\":198743870,\"name\":\"gaoweimeng/monitoring-platform\",\"url\":\"https://api.github.com/repos/gaoweimeng/monitoring-platform\"},\"payload\":{\"ref\":\"master\",\"ref_type\":\"branch\",\"master_branch\":\"master\",\"description\":\"\\xe7\\x9b\\x91\\xe6\\x8e\\xa7\\xe7\\xb3\\xbb\\xe7\\xbb\\x9f\",\"pusher_type\":\"user\"},\"public\":true,\"created_at\":\"2019-07-25T02:45:11Z\"},{\"id\":\"10079767824\",\"type\":\"DeleteEvent\",\"actor\":{\"id\":52566209,\"login\":\"tree-bot\",\"display_login\":\"tree-bot\",\"gravatar_id\":\"\",\"url\":\"https://api.github.com/users/tree-bot\",\"avatar_url\":\"https://avatars.githubusercontent.com/u/52566209?\"},\"repo\":{\"id\":195376917,\"name\":\"mirror-land/bzip2\",\"url\":\"https://api.github.com/repos/mirror-land/bzip2\"},\"payload\":{\"ref\":\"v5.2\",\"ref_type\":\"branch\",\"pusher_type\":\"user\"},\"public\":true,\"created_at\":\"2019-07-25T02:45:11Z\",\"org\":{\"id\":52557696,\"login\":\"mirror-land\",\"gravatar_id\":\"\",\"url\":\"https://api.github.com/orgs/mirror-land\",\"avatar_url\":\"https://avatars.githubusercontent.com/u/52557696?\"}},{\"id\":\"10079767819\",\"type\":\"PushEvent\",\"actor\":{\"id\":40587912,\"login\":\"supermobiteam2\",\"display_login\":\"supermobiteam2\",\"gravatar_id\":\"\",\"url\":\"https://api.github.com/users/supermobiteam2\",\"avatar_url\":\"https://avatars.githubusercontent.com/u/40587912?\"},\"repo\":{\"id\":138681984,\"name\":\"supermobiteam2/Tizi\",\"url\":\"https://api.github.com/repos/supermobiteam2/Tizi\"},\"payload\":{\"push_id\":3853318615,\"size\":1,\"distinct_size\":1,\"ref\":\"refs/heads/master\",\"head\":\"2fd79a82ff0ada5aa31033b009610ab474351b45\",\"before\":\"b0a29bb9046009e8e17d29743e6e3ff8832eda9b\",\"commits\":[{\"sha\":\"2fd79a82ff0ada5aa31033b009610ab474351b45\",\"author\":{\"email\":\"40587912+supermobiteam2@users.noreply.github.com\",\"name\":\"supermobiteam2\"},\"message\":\"tizi ios\",\"distinct\":true,\"url\":\"https://api.github.com/repos/supermobiteam2/Tizi/commits/2fd79a82ff0ada5aa31033b009610ab474351b45\"}]},\"public\":true,\"created_at\":\"2019-07-25T02:45:11Z\"},{\"id\":\"10079767818\",\"type\":\"PushEvent\",\"actor\":{\"id\":4970,\"login\":\"gugod\",\"display_login\":\"gugod\",\"gravatar_id\":\"\",\"url\":\"https://api.github.com/users/gugod\",\"avatar_url\":\"https://avatars.githubusercontent.com/u/4970?\"},\"repo\":{\"id\":115630585,\"name\":\"g0v-data/mirror-minutely\",\"url\":\"https://api.github.com/repos/g0v-data/mirror-minutely\"},\"payload\":{\"push_id\":3853318614,\"size\":1,\"distinct_size\":1,\"ref\":\"refs/heads/master\",\"head\":\"df0f7f0c80a567b2592cb78c44fc979dc0d999df\",\"before\":\"2d5834b49b2976c829192ceeb1f89f7d67ba95ef\",\"commits\":[{\"sha\":\"df0f7f0c80a567b2592cb78c44fc979dc0d999df\",\"author\":{\"email\":\"nobody@nowhere\",\"name\":\"nobody\"},\"message\":\"\",\"distinct\":true,\"url\":\"https://api.github.com/repos/g0v-data/mirror-minutely/commits/df0f7f0c80a567b2592cb78c44fc979dc0d999df\"}]},\"public\":true,\"created_at\":\"2019-07-25T02:45:11Z\",\"org\":{\"id\":5207509,\"login\":\"g0v-data\",\"gravatar_id\":\"\",\"url\":\"https://api.github.com/orgs/g0v-data\",\"avatar_url\":\"https://avatars.githubusercontent.com/u/5207509?\"}},{\"id\":\"10079767816\",\"type\":\"PushEvent\",\"actor\":{\"id\":40529132,\"login\":\"agusasdfkajsd\",\"display_login\":\"agusasdfkajsd\",\"gravatar_id\":\"\",\"url\":\"https://api.github.com/users/agusasdfkajsd\",\"avatar_url\":\"https://avatars.githubusercontent.com/u/40529132?\"},\"repo\":{\"id\":193111177,\"name\":\"agusasdfkajsd/serverip\",\"url\":\"https://api.github.com/repos/agusasdfkajsd/serverip\"},\"payload\":{\"push_id\":3853318613,\"size\":1,\"distinct_size\":1,\"ref\":\"refs/heads/master\",\"head\":\"682bfef13a659c459b2c29792437e67840ebba26\",\"before\":\"13b4ed657c99cb2e695ffb9000acbcb526881ba7\",\"commits\":[{\"sha\":\"682bfef13a659c459b2c29792437e67840ebba26\",\"author\":{\"email\":\"root@informixAperez.NZXT\",\"name\":\"root\"},\"message\":\"IP actualizada Wed Jul 24 23:45:02 -03 2019\",\"distinct\":true,\"url\":\"https://api.github.com/repos/agusasdfkajsd/serverip/commits/682bfef13a659c459b2c29792437e67840ebba26\"}]},\"public\":true,\"created_at\":\"2019-07-25T02:45:11Z\"},{\"id\":\"10079767811\",\"type\":\"DeleteEvent\",\"actor\":{\"id\":52566209,\"login\":\"tree-bot\",\"display_login\":\"tree-bot\",\"gravatar_id\":\"\",\"url\":\"https://api.github.com/users/tree-bot\",\"avatar_url\":\"https://avatars.githubusercontent.com/u/52566209?\"},\"repo\":{\"id\":195376917,\"name\":\"mirror-land/bzip2\",\"url\":\"https://api.github.com/repos/mirror-land/bzip2\"},\"payload\":{\"ref\":\"v5.0\",\"ref_type\":\"branch\",\"pusher_type\":\"user\"},\"public\":true,\"created_at\":\"2019-07-25T02:45:11Z\",\"org\":{\"id\":52557696,\"login\":\"mirror-land\",\"gravatar_id\":\"\",\"url\":\"https://api.github.com/orgs/mirror-land\",\"avatar_url\":\"https://avatars.githubusercontent.com/u/52557696?\"}},{\"id\":\"10079767807\",\"type\":\"PushEvent\",\"actor\":{\"id\":15208100,\"login\":\"paraofheaven\",\"display_login\":\"paraofheaven\",\"gravatar_id\":\"\",\"url\":\"https://api.github.com/users/paraofheaven\",\"avatar_url\":\"https://avatars.githubusercontent.com/u/15208100?\"},\"repo\":{\"id\":198192704,\"name\":\"paraofheaven/xm-wxapp\",\"url\":\"https://api.github.com/repos/paraofheaven/xm-wxapp\"},\"payload\":{\"push_id\":3853318605,\"size\":1,\"distinct_size\":1,\"ref\":\"refs/heads/master\",\"head\":\"c1fa92ef3a563ea8fecdfaaf5d2fd7f92c8f3ee4\",\"before\":\"8a8b9e011d743356cfda1fe5c092a5090f4d26db\",\"commits\":[{\"sha\":\"c1fa92ef3a563ea8fecdfaaf5d2fd7f92c8f3ee4\",\"author\":{\"email\":\"1549930735@qq.com\",\"name\":\"paraofheaven\"},\"message\":\"update\",\"distinct\":true,\"url\":\"https://api.github.com/repos/paraofheaven/xm-wxapp/commits/c1fa92ef3a563ea8fecdfaaf5d2fd7f92c8f3ee4\"}]},\"public\":true,\"created_at\":\"2019-07-25T02:45:11Z\"},{\"id\":\"10079767809\",\"type\":\"PushEvent\",\"actor\":{\"id\":25334145,\"login\":\"DIKGONZA\",\"display_login\":\"DIKGONZA\",\"gravatar_id\":\"\",\"url\":\"https://api.github.com/users/DIKGONZA\",\"avatar_url\":\"https://avatars.githubusercontent.com/u/25334145?\"},\"repo\":{\"id\":196302444,\"name\":\"DIKGONZA/nodejs\",\"url\":\"https://api.github.com/repos/DIKGONZA/nodejs\"},\"payload\":{\"push_id\":3853318609,\"size\":1,\"distinct_size\":1,\"ref\":\"refs/heads/clase-servidor-express-2-base\",\"head\":\"116f1559f99db2fbfb44cd164da6a1f5ae2f917a\",\"before\":\"b9e84cc5a56ff759bbbeca4139f34b77db696d7b\",\"commits\":[{\"sha\":\"116f1559f99db2fbfb44cd164da6a1f5ae2f917a\",\"author\":{\"email\":\"Diksongonzalez@gmail.com\",\"name\":\"Dikson\"},\"message\":\"haciendo appis, de lujo\",\"distinct\":true,\"url\":\"https://api.github.com/repos/DIKGONZA/nodejs/commits/116f1559f99db2fbfb44cd164da6a1f5ae2f917a\"}]},\"public\":true,\"created_at\":\"2019-07-25T02:45:11Z\"},{\"id\":\"10079767805\",\"type\":\"PushEvent\",\"actor\":{\"id\":533180,\"login\":\"scriptzteam\",\"display_login\":\"scriptzteam\",\"gravatar_id\":\"\",\"url\":\"https://api.github.com/users/scriptzteam\",\"avatar_url\":\"https://avatars.githubusercontent.com/u/533180?\"},\"repo\":{\"id\":153783109,\"name\":\"scriptzteam/newzNZB-Usenet-Upload-Logger-v1.1\",\"url\":\"https://api.github.com/repos/scriptzteam/newzNZB-Usenet-Upload-Logger-v1.1\"},\"payload\":{\"push_id\":3853318604,\"size\":1,\"distinct_size\":1,\"ref\":\"refs/heads/master\",\"head\":\"f2a101b5d19b7ef5996f5463af0fe273e53e8c04\",\"before\":\"967347d9f02eb27173a583d027b95a059183ff99\",\"commits\":[{\"sha\":\"f2a101b5d19b7ef5996f5463af0fe273e53e8c04\",\"author\":{\"email\":\"scriptzteam@gmail.com\",\"name\":\"scriptzteam\"},\"message\":\"^^uPdAtE\",\"distinct\":true,\"url\":\"https://api.github.com/repos/scriptzteam/newzNZB-Usenet-Upload-Logger-v1.1/commits/f2a101b5d19b7ef5996f5463af0fe273e53e8c04\"}]},\"public\":true,\"created_at\":\"2019-07-25T02:45:11Z\"},{\"id\":\"10079767801\",\"type\":\"PushEvent\",\"actor\":{\"id\":52566209,\"login\":\"tree-bot\",\"display_login\":\"tree-bot\",\"gravatar_id\":\"\",\"url\":\"https://api.github.com/users/tree-bot\",\"avatar_url\":\"https://avatars.githubusercontent.com/u/52566209?\"},\"repo\":{\"id\":195376917,\"name\":\"mirror-land/bzip2\",\"url\":\"https://api.github.com/repos/mirror-land/bzip2\"},\"payload\":{\"push_id\":3853318582,\"size\":38,\"distinct_size\":38,\"ref\":\"refs/heads/master\",\"head\":\"6a8690fc8d26c815e798c588f796eabe9d684cf0\",\"before\":\"6a89e656ebedd53a10cd1a063a32a9e4ade0da1f\",\"commits\":[{\"sha\":\"33d134030248633ffa7d60c0a35a783c46da034b\",\"author\":{\"email\":\"jseward@acm.org\",\"name\":\"Julian Seward\"},\"message\":\"bzip2-0.1\",\"distinct\":true,\"url\":\"https://api.github.com/repos/mirror-land/bzip2/commits/33d134030248633ffa7d60c0a35a783c46da034b\"},{\"sha\":\"1eb67a9d8f7f05ae310bc9ef297d176f3a3f8a37\",\"author\":{\"email\":\"jseward@acm.org\",\"name\":\"Julian Seward\"},\"message\":\"bzip2-0.1pl2\",\"distinct\":true,\"url\":\"https://api.github.com/repos/mirror-land/bzip2/commits/1eb67a9d8f7f05ae310bc9ef297d176f3a3f8a37\"},{\"sha\":\"977101ad5f833f5c0a574bfeea408e5301a6b052\",\"author\":{\"email\":\"jseward@acm.org\",\"name\":\"Julian Seward\"},\"message\":\"bzip2-0.9.0c\",\"distinct\":true,\"url\":\"https://api.github.com/repos/mirror-land/bzip2/commits/977101ad5f833f5c0a574bfeea408e5301a6b052\"},{\"sha\":\"f93cd82a9a7094ad90fd19bbc6ccf6f4627f8060\",\"author\":{\"email\":\"jseward@acm.org\",\"name\":\"Julian Seward\"},\"message\":\"bzip2-0.9.5d\",\"distinct\":true,\"url\":\"https://api.github.com/repos/mirror-land/bzip2/commits/f93cd82a9a7094ad90fd19bbc6ccf6f4627f8060\"},{\"sha\":\"795b859eee96c700e8f3c3fe68e6a9a39d95797c\",\"author\":{\"email\":\"jseward@acm.org\",\"name\":\"Julian Seward\"},\"message\":\"bzip2-1.0.1\",\"distinct\":true,\"url\":\"https://api.github.com/repos/mirror-land/bzip2/commits/795b859eee96c700e8f3c3fe68e6a9a39d95797c\"},{\"sha\":\"099d844292f60f9d58914da29e5773204dc55e7a\",\"author\":{\"email\":\"jseward@acm.org\",\"name\":\"Julian Seward\"},\"message\":\"bzip2-1.0.2\",\"distinct\":true,\"url\":\"https://api.github.com/repos/mirror-land/bzip2/commits/099d844292f60f9d58914da29e5773204dc55e7a\"},{\"sha\":\"4d540bfc95a4b0eefc1d1f388ec33534aaeb3a2f\",\"author\":{\"email\":\"jseward@acm.org\",\"name\":\"Julian Seward\"},\"message\":\"bzip2-1.0.3\",\"distinct\":true,\"url\":\"https://api.github.com/repos/mirror-land/bzip2/commits/4d540bfc95a4b0eefc1d1f388ec33534aaeb3a2f\"},{\"sha\":\"f10a33538e9bab6deb61779b3d8aae168824ef48\",\"author\":{\"email\":\"jseward@acm.org\",\"name\":\"Julian Seward\"},\"message\":\"bzip2-1.0.4\",\"distinct\":true,\"url\":\"https://api.github.com/repos/mirror-land/bzip2/commits/f10a33538e9bab6deb61779b3d8aae168824ef48\"},{\"sha\":\"a1d78c550180bde11af6c559a01721c962f9f231\",\"author\":{\"email\":\"jseward@acm.org\",\"name\":\"Julian Seward\"},\"message\":\"bzip2-1.0.5\",\"distinct\":true,\"url\":\"https://api.github.com/repos/mirror-land/bzip2/commits/a1d78c550180bde11af6c559a01721c962f9f231\"},{\"sha\":\"962d60610cb31e0f294a834e55ebb355be55d05a\",\"author\":{\"email\":\"jseward@acm.org\",\"name\":\"Julian Seward\"},\"message\":\"bzip2-1.0.6\",\"distinct\":true,\"url\":\"https://api.github.com/repos/mirror-land/bzip2/commits/962d60610cb31e0f294a834e55ebb355be55d05a\"},{\"sha\":\"5b923861db7bdd0560f3ecbc8be6e91e830066eb\",\"author\":{\"email\":\"mark@klomp.org\",\"name\":\"Mark Wielaard\"},\"message\":\"Change Julian\\'s email address to jseward@acm.org\",\"distinct\":true,\"url\":\"https://api.github.com/repos/mirror-land/bzip2/commits/5b923861db7bdd0560f3ecbc8be6e91e830066eb\"},{\"sha\":\"032a25eee83fd7556cd9e7b1829d56dcc627ddcf\",\"author\":{\"email\":\"mark@klomp.org\",\"name\":\"Mark Wielaard\"},\"message\":\"Change all bzip.org URLs to sourceware.org/bzip2\",\"distinct\":true,\"url\":\"https://api.github.com/repos/mirror-land/bzip2/commits/032a25eee83fd7556cd9e7b1829d56dcc627ddcf\"},{\"sha\":\"ddd8bae9d51c1b5d04c26be666625d559505fee4\",\"author\":{\"email\":\"mark@klomp.org\",\"name\":\"Mark Wielaard\"},\"message\":\"Adjust bzip.css images to new https://sourceware.org/bzip2/ location.\",\"distinct\":true,\"url\":\"https://api.github.com/repos/mirror-land/bzip2/commits/ddd8bae9d51c1b5d04c26be666625d559505fee4\"},{\"sha\":\"ac9b3847405574dfd6022c1a9347a4449e8c1510\",\"author\":{\"email\":\"mark@klomp.org\",\"name\":\"Mark Wielaard\"},\"message\":\"Use UTF-8 encoding and include bzip.css as link for HTML manual.\",\"distinct\":true,\"url\":\"https://api.github.com/repos/mirror-land/bzip2/commits/ac9b3847405574dfd6022c1a9347a4449e8c1510\"},{\"sha\":\"32db5b677a55fc32de6588deae2ac27c28728a05\",\"author\":{\"email\":\"mark@klomp.org\",\"name\":\"Mark Wielaard\"},\"message\":\"Add release-update.sh script.\\\\n\\\\nScript to run after a release has been tagged, signed and pushed\\\\nto git.  Will do a fresh checkout, verify the git tag, do fresh\\\\nbuild/dist, sign the dist with gpg, create a backup copy in HOME,\\\\nupload the tar.gz and sig to sourceware, checkout bzip2-htdocs,\\\\ncopy over the new changes, manual, etc. and git push that to update\\\\nhttps://sourceware.org/bzip2/\",\"distinct\":true,\"url\":\"https://api.github.com/repos/mirror-land/bzip2/commits/32db5b677a55fc32de6588deae2ac27c28728a05\"},{\"sha\":\"02fe3ca2349e45eee6dff6ca46bf9a9187f382c5\",\"author\":{\"email\":\"mark@klomp.org\",\"name\":\"Mark Wielaard\"},\"message\":\"bzip2.c (testStream): Remove set, but not used nread variable.\\\\n\\\\nModern GCC warns:\\\\n\\\\nbzip2.c: In function \\xe2\\x80\\x98testStream\\xe2\\x80\\x99:\\\\nbzip2.c:557:37: warning: variable \\xe2\\x80\\x98nread\\xe2\\x80\\x99 set but not used\\\\n[-Wunused-but-set-variable]\\\\n    Int32   bzerr, bzerr_dummy, ret, nread, streamNo, i;\\\\n                                     ^~~~~\\\\n\\\\nGCC is correct. In testStream we don\\'t care about the number of bytes\\\\nread by BZ2_bzRead. So just remove the variable and the assignment.\",\"distinct\":true,\"url\":\"https://api.github.com/repos/mirror-land/bzip2/commits/02fe3ca2349e45eee6dff6ca46bf9a9187f382c5\"},{\"sha\":\"833548edc0eb4af85ce8da193835f0f31a6c300f\",\"author\":{\"email\":\"mark@klomp.org\",\"name\":\"Mark Wielaard\"},\"message\":\"bzip2recover: Fix buffer overflow for large argv[0].\\\\n\\\\nbzip2recover.c (main) copies argv[0] to a statically sized buffer\\\\nwithout checking whether argv[0] might be too big (> 2000 chars).\\\\n\\\\nThis patch comes from Fedora and was originally reported at\\\\nhttps://bugzilla.redhat.com/show_bug.cgi?id=226979\",\"distinct\":true,\"url\":\"https://api.github.com/repos/mirror-land/bzip2/commits/833548edc0eb4af85ce8da193835f0f31a6c300f\"},{\"sha\":\"c1cdd98db3238cb711c7d9cdc5671452ce2822cb\",\"author\":{\"email\":\"mark@klomp.org\",\"name\":\"Mark Wielaard\"},\"message\":\"bzip2recover: Fix use after free issue with outFile.\\\\n\\\\nbzip2recover.c (main): Make sure to set outFile to NULL when done.\\\\n\\\\nThis was reported as CVE-2016-3189 and found in multiple distributions.\\\\nhttps://seclists.org/oss-sec/2016/q2/568\\\\n\\\\nSome more analysis can be found in:\\\\nhttps://bugzilla.redhat.com/show_bug.cgi?id=1319648\",\"distinct\":true,\"url\":\"https://api.github.com/repos/mirror-land/bzip2/commits/c1cdd98db3238cb711c7d9cdc5671452ce2822cb\"},{\"sha\":\"f51f164df0e8a2c0e055174b328b4038a040e547\",\"author\":{\"email\":\"mark@klomp.org\",\"name\":\"Mark Wielaard\"},\"message\":\"bzip2: Fix return value when combining --test,-t and -q.\\\\n\\\\nWhen passing -q to get quiet output --test would not display an error\\\\nmessage, but would also suppress the exit 2 code to indicate the file\\\\nwas corrupt. Only suppress the error message with -q, not the exit value.\\\\n\\\\nThis patch comes from Debian.\\\\n\\\\\"bunzip2 -qt returns 0 for corrupt archives\\\\\"\\\\nhttps://bugs.debian.org/279025\",\"distinct\":true,\"url\":\"https://api.github.com/repos/mirror-land/bzip2/commits/f51f164df0e8a2c0e055174b328b4038a040e547\"},{\"sha\":\"16f2c753f9959e8d7c7e1fa771b8ccc5821427aa\",\"author\":{\"email\":\"paul.l.kehrer@gmail.com\",\"name\":\"Paul Kehrer\"},\"message\":\"Fix undefined behavior in the macros SET_BH, CLEAR_BH, & ISSET_BH\\\\n\\\\nThese macros contain this pattern:\\\\n1 << ((Int32_value) & 31\\\\n\\\\nThis causes the undefined behavior sanitizers in clang and gcc to\\\\ncomplain because the shift, while ultimately stored to an unsigned\\\\nvariable, is done as a signed value. Adding a cast to unsigned for\\\\nthe int32 value resolves this issue.\",\"distinct\":true,\"url\":\"https://api.github.com/repos/mirror-land/bzip2/commits/16f2c753f9959e8d7c7e1fa771b8ccc5821427aa\"}]},\"public\":true,\"created_at\":\"2019-07-25T02:45:11Z\",\"org\":{\"id\":52557696,\"login\":\"mirror-land\",\"gravatar_id\":\"\",\"url\":\"https://api.github.com/orgs/mirror-land\",\"avatar_url\":\"https://avatars.githubusercontent.com/u/52557696?\"}},{\"id\":\"10079767799\",\"type\":\"PushEvent\",\"actor\":{\"id\":4694577,\"login\":\"camwatson\",\"display_login\":\"camwatson\",\"gravatar_id\":\"\",\"url\":\"https://api.github.com/users/camwatson\",\"avatar_url\":\"https://avatars.githubusercontent.com/u/4694577?\"},\"repo\":{\"id\":16753238,\"name\":\"camwatson/SpatialDataSets\",\"url\":\"https://api.github.com/repos/camwatson/SpatialDataSets\"},\"payload\":{\"push_id\":3853318600,\"size\":1,\"distinct_size\":1,\"ref\":\"refs/heads/master\",\"head\":\"76509cda40e81022d0aaaebc08490cbc1a44c183\",\"before\":\"d4d5fea4884ac6fadee3a08f1d17022e933ababa\",\"commits\":[{\"sha\":\"76509cda40e81022d0aaaebc08490cbc1a44c183\",\"author\":{\"email\":\"camwatson@yahoo.com\",\"name\":\"Cam Watson\"},\"message\":\"update\",\"distinct\":true,\"url\":\"https://api.github.com/repos/camwatson/SpatialDataSets/commits/76509cda40e81022d0aaaebc08490cbc1a44c183\"}]},\"public\":true,\"created_at\":\"2019-07-25T02:45:11Z\"},{\"id\":\"10079767798\",\"type\":\"PushEvent\",\"actor\":{\"id\":52504470,\"login\":\"MaxYurs\",\"display_login\":\"MaxYurs\",\"gravatar_id\":\"\",\"url\":\"https://api.github.com/users/MaxYurs\",\"avatar_url\":\"https://avatars.githubusercontent.com/u/52504470?\"},\"repo\":{\"id\":195095361,\"name\":\"MaxYurs/salinity_control\",\"url\":\"https://api.github.com/repos/MaxYurs/salinity_control\"},\"payload\":{\"push_id\":3853318602,\"size\":1,\"distinct_size\":1,\"ref\":\"refs/heads/master\",\"head\":\"09e64fbfe18e04505af2020ced827b4b42f45384\",\"before\":\"b37f925698052a6d04cec2c0bd122e834f41e6df\",\"commits\":[{\"sha\":\"09e64fbfe18e04505af2020ced827b4b42f45384\",\"author\":{\"email\":\"52504470+MaxYurs@users.noreply.github.com\",\"name\":\"MaxYurs\"},\"message\":\"Update README.md\\\\n\\\\nadd parts list\",\"distinct\":true,\"url\":\"https://api.github.com/repos/MaxYurs/salinity_control/commits/09e64fbfe18e04505af2020ced827b4b42f45384\"}]},\"public\":true,\"created_at\":\"2019-07-25T02:45:11Z\"},{\"id\":\"10079767797\",\"type\":\"PushEvent\",\"actor\":{\"id\":25943429,\"login\":\"mr-bogey\",\"display_login\":\"mr-bogey\",\"gravatar_id\":\"\",\"url\":\"https://api.github.com/users/mr-bogey\",\"avatar_url\":\"https://avatars.githubusercontent.com/u/25943429?\"},\"repo\":{\"id\":198739092,\"name\":\"mr-bogey/server\",\"url\":\"https://api.github.com/repos/mr-bogey/server\"},\"payload\":{\"push_id\":3853318597,\"size\":1,\"distinct_size\":1,\"ref\":\"refs/heads/master\",\"head\":\"4c2b3f231f67733c111353c5cf4fc008524d23f9\",\"before\":\"d973778d163655c51459664de9bbb3b5ac547f0d\",\"commits\":[{\"sha\":\"4c2b3f231f67733c111353c5cf4fc008524d23f9\",\"author\":{\"email\":\"1762076107@qq.com\",\"name\":\"mr-bogey\"},\"message\":\"add pb\",\"distinct\":true,\"url\":\"https://api.github.com/repos/mr-bogey/server/commits/4c2b3f231f67733c111353c5cf4fc008524d23f9\"}]},\"public\":true,\"created_at\":\"2019-07-25T02:45:11Z\"},{\"id\":\"10079767792\",\"type\":\"PushEvent\",\"actor\":{\"id\":51978177,\"login\":\"0TJung0\",\"display_login\":\"0TJung0\",\"gravatar_id\":\"\",\"url\":\"https://api.github.com/users/0TJung0\",\"avatar_url\":\"https://avatars.githubusercontent.com/u/51978177?\"},\"repo\":{\"id\":198365524,\"name\":\"0TJung0/Johajo2\",\"url\":\"https://api.github.com/repos/0TJung0/Johajo2\"},\"payload\":{\"push_id\":3853318595,\"size\":1,\"distinct_size\":1,\"ref\":\"refs/heads/master\",\"head\":\"3ae52e703bf70b434bfb97350c9792eda98751c7\",\"before\":\"5119fbce9da48f1d16b348d8dfe3c8f71b7f822e\",\"commits\":[{\"sha\":\"3ae52e703bf70b434bfb97350c9792eda98751c7\",\"author\":{\"email\":\"kim502119@naver.com\",\"name\":\"0TJung0\"},\"message\":\"\\xec\\xb2\\xab\\xeb\\xb2\\x88\\xec\\xa8\\xb0\",\"distinct\":true,\"url\":\"https://api.github.com/repos/0TJung0/Johajo2/commits/3ae52e703bf70b434bfb97350c9792eda98751c7\"}]},\"public\":true,\"created_at\":\"2019-07-25T02:45:11Z\"},{\"id\":\"10079767795\",\"type\":\"CreateEvent\",\"actor\":{\"id\":53186066,\"login\":\"DannieJWright\",\"display_login\":\"DannieJWright\",\"gravatar_id\":\"\",\"url\":\"https://api.github.com/users/DannieJWright\",\"avatar_url\":\"https://avatars.githubusercontent.com/u/53186066?\"},\"repo\":{\"id\":198257234,\"name\":\"revaturebootcamp/WRAP_BackEnd\",\"url\":\"https://api.github.com/repos/revaturebootcamp/WRAP_BackEnd\"},\"payload\":{\"ref\":\"master\",\"ref_type\":\"branch\",\"master_branch\":\"master\",\"description\":\"Back end\",\"pusher_type\":\"user\"},\"public\":true,\"created_at\":\"2019-07-25T02:45:11Z\",\"org\":{\"id\":53186242,\"login\":\"revaturebootcamp\",\"gravatar_id\":\"\",\"url\":\"https://api.github.com/orgs/revaturebootcamp\",\"avatar_url\":\"https://avatars.githubusercontent.com/u/53186242?\"}},{\"id\":\"10079767787\",\"type\":\"WatchEvent\",\"actor\":{\"id\":11959047,\"login\":\"h12345jack\",\"display_login\":\"h12345jack\",\"gravatar_id\":\"\",\"url\":\"https://api.github.com/users/h12345jack\",\"avatar_url\":\"https://avatars.githubusercontent.com/u/11959047?\"},\"repo\":{\"id\":198338060,\"name\":\"fieryzig/RTRender\",\"url\":\"https://api.github.com/repos/fieryzig/RTRender\"},\"payload\":{\"action\":\"started\"},\"public\":true,\"created_at\":\"2019-07-25T02:45:11Z\"},{\"id\":\"10079767783\",\"type\":\"PushEvent\",\"actor\":{\"id\":4177645,\"login\":\"renlord\",\"display_login\":\"renlord\",\"gravatar_id\":\"\",\"url\":\"https://api.github.com/users/renlord\",\"avatar_url\":\"https://avatars.githubusercontent.com/u/4177645?\"},\"repo\":{\"id\":134026723,\"name\":\"renlord/commit-counts-dont-matter\",\"url\":\"https://api.github.com/repos/renlord/commit-counts-dont-matter\"},\"payload\":{\"push_id\":3853318586,\"size\":1,\"distinct_size\":1,\"ref\":\"refs/heads/master\",\"head\":\"c7d3dfb315024b314bfde211fcfb1da6af361de1\",\"before\":\"938657686973126629fa7d2d913f0b99c6abe0d1\",\"commits\":[{\"sha\":\"c7d3dfb315024b314bfde211fcfb1da6af361de1\",\"author\":{\"email\":\"me@renlord.com\",\"name\":\"Renlord\"},\"message\":\"do commits on github really matter that much?\",\"distinct\":true,\"url\":\"https://api.github.com/repos/renlord/commit-counts-dont-matter/commits/c7d3dfb315024b314bfde211fcfb1da6af361de1\"}]},\"public\":true,\"created_at\":\"2019-07-25T02:45:11Z\"},{\"id\":\"10079767785\",\"type\":\"PullRequestEvent\",\"actor\":{\"id\":44431867,\"login\":\"minhnguyenduy99\",\"display_login\":\"minhnguyenduy99\",\"gravatar_id\":\"\",\"url\":\"https://api.github.com/users/minhnguyenduy99\",\"avatar_url\":\"https://avatars.githubusercontent.com/u/44431867?\"},\"repo\":{\"id\":196821666,\"name\":\"Daiyamondo2018/GameUIT\",\"url\":\"https://api.github.com/repos/Daiyamondo2018/GameUIT\"},\"payload\":{\"action\":\"closed\",\"number\":5,\"pull_request\":{\"url\":\"https://api.github.com/repos/Daiyamondo2018/GameUIT/pulls/5\",\"id\":300960087,\"node_id\":\"MDExOlB1bGxSZXF1ZXN0MzAwOTYwMDg3\",\"html_url\":\"https://github.com/Daiyamondo2018/GameUIT/pull/5\",\"diff_url\":\"https://github.com/Daiyamondo2018/GameUIT/pull/5.diff\",\"patch_url\":\"https://github.com/Daiyamondo2018/GameUIT/pull/5.patch\",\"issue_url\":\"https://api.github.com/repos/Daiyamondo2018/GameUIT/issues/5\",\"number\":5,\"state\":\"closed\",\"locked\":false,\"title\":\"update beta collision\",\"user\":{\"login\":\"minhnguyenduy99\",\"id\":44431867,\"node_id\":\"MDQ6VXNlcjQ0NDMxODY3\",\"avatar_url\":\"https://avatars2.githubusercontent.com/u/44431867?v=4\",\"gravatar_id\":\"\",\"url\":\"https://api.github.com/users/minhnguyenduy99\",\"html_url\":\"https://github.com/minhnguyenduy99\",\"followers_url\":\"https://api.github.com/users/minhnguyenduy99/followers\",\"following_url\":\"https://api.github.com/users/minhnguyenduy99/following{/other_user}\",\"gists_url\":\"https://api.github.com/users/minhnguyenduy99/gists{/gist_id}\",\"starred_url\":\"https://api.github.com/users/minhnguyenduy99/starred{/owner}{/repo}\",\"subscriptions_url\":\"https://api.github.com/users/minhnguyenduy99/subscriptions\",\"organizations_url\":\"https://api.github.com/users/minhnguyenduy99/orgs\",\"repos_url\":\"https://api.github.com/users/minhnguyenduy99/repos\",\"events_url\":\"https://api.github.com/users/minhnguyenduy99/events{/privacy}\",\"received_events_url\":\"https://api.github.com/users/minhnguyenduy99/received_events\",\"type\":\"User\",\"site_admin\":false},\"body\":\"\",\"created_at\":\"2019-07-25T02:40:55Z\",\"updated_at\":\"2019-07-25T02:45:10Z\",\"closed_at\":\"2019-07-25T02:45:10Z\",\"merged_at\":\"2019-07-25T02:45:10Z\",\"merge_commit_sha\":\"effb9e1e5b432521ce604eb317939742b578d9cd\",\"assignee\":null,\"assignees\":[],\"requested_reviewers\":[],\"requested_teams\":[],\"labels\":[],\"milestone\":null,\"commits_url\":\"https://api.github.com/repos/Daiyamondo2018/GameUIT/pulls/5/commits\",\"review_comments_url\":\"https://api.github.com/repos/Daiyamondo2018/GameUIT/pulls/5/comments\",\"review_comment_url\":\"https://api.github.com/repos/Daiyamondo2018/GameUIT/pulls/comments{/number}\",\"comments_url\":\"https://api.github.com/repos/Daiyamondo2018/GameUIT/issues/5/comments\",\"statuses_url\":\"https://api.github.com/repos/Daiyamondo2018/GameUIT/statuses/ddc056772db46b44003aaad2bd0f02da500af502\",\"head\":{\"label\":\"Daiyamondo2018:Test_collision\",\"ref\":\"Test_collision\",\"sha\":\"ddc056772db46b44003aaad2bd0f02da500af502\",\"user\":{\"login\":\"Daiyamondo2018\",\"id\":45528757,\"node_id\":\"MDQ6VXNlcjQ1NTI4NzU3\",\"avatar_url\":\"https://avatars3.githubusercontent.com/u/45528757?v=4\",\"gravatar_id\":\"\",\"url\":\"https://api.github.com/users/Daiyamondo2018\",\"html_url\":\"https://github.com/Daiyamondo2018\",\"followers_url\":\"https://api.github.com/users/Daiyamondo2018/followers\",\"following_url\":\"https://api.github.com/users/Daiyamondo2018/following{/other_user}\",\"gists_url\":\"https://api.github.com/users/Daiyamondo2018/gists{/gist_id}\",\"starred_url\":\"https://api.github.com/users/Daiyamondo2018/starred{/owner}{/repo}\",\"subscriptions_url\":\"https://api.github.com/users/Daiyamondo2018/subscriptions\",\"organizations_url\":\"https://api.github.com/users/Daiyamondo2018/orgs\",\"repos_url\":\"https://api.github.com/users/Daiyamondo2018/repos\",\"events_url\":\"https://api.github.com/users/Daiyamondo2018/events{/privacy}\",\"received_events_url\":\"https://api.github.com/users/Daiyamondo2018/received_events\",\"type\":\"User\",\"site_admin\":false},\"repo\":{\"id\":196821666,\"node_id\":\"MDEwOlJlcG9zaXRvcnkxOTY4MjE2NjY=\",\"name\":\"GameUIT\",\"full_name\":\"Daiyamondo2018/GameUIT\",\"private\":false,\"owner\":{\"login\":\"Daiyamondo2018\",\"id\":45528757,\"node_id\":\"MDQ6VXNlcjQ1NTI4NzU3\",\"avatar_url\":\"https://avatars3.githubusercontent.com/u/45528757?v=4\",\"gravatar_id\":\"\",\"url\":\"https://api.github.com/users/Daiyamondo2018\",\"html_url\":\"https://github.com/Daiyamondo2018\",\"followers_url\":\"https://api.github.com/users/Daiyamondo2018/followers\",\"following_url\":\"https://api.github.com/users/Daiyamondo2018/following{/other_user}\",\"gists_url\":\"https://api.github.com/users/Daiyamondo2018/gists{/gist_id}\",\"starred_url\":\"https://api.github.com/users/Daiyamondo2018/starred{/owner}{/repo}\",\"subscriptions_url\":\"https://api.github.com/users/Daiyamondo2018/subscriptions\",\"organizations_url\":\"https://api.github.com/users/Daiyamondo2018/orgs\",\"repos_url\":\"https://api.github.com/users/Daiyamondo2018/repos\",\"events_url\":\"https://api.github.com/users/Daiyamondo2018/events{/privacy}\",\"received_events_url\":\"https://api.github.com/users/Daiyamondo2018/received_events\",\"type\":\"User\",\"site_admin\":false},\"html_url\":\"https://github.com/Daiyamondo2018/GameUIT\",\"description\":null,\"fork\":false,\"url\":\"https://api.github.com/repos/Daiyamondo2018/GameUIT\",\"forks_url\":\"https://api.github.com/repos/Daiyamondo2018/GameUIT/forks\",\"keys_url\":\"https://api.github.com/repos/Daiyamondo2018/GameUIT/keys{/key_id}\",\"collaborators_url\":\"https://api.github.com/repos/Daiyamondo2018/GameUIT/collaborators{/collaborator}\",\"teams_url\":\"https://api.github.com/repos/Daiyamondo2018/GameUIT/teams\",\"hooks_url\":\"https://api.github.com/repos/Daiyamondo2018/GameUIT/hooks\",\"issue_events_url\":\"https://api.github.com/repos/Daiyamondo2018/GameUIT/issues/events{/number}\",\"events_url\":\"https://api.github.com/repos/Daiyamondo2018/GameUIT/events\",\"assignees_url\":\"https://api.github.com/repos/Daiyamondo2018/GameUIT/assignees{/user}\",\"branches_url\":\"https://api.github.com/repos/Daiyamondo2018/GameUIT/branches{/branch}\",\"tags_url\":\"https://api.github.com/repos/Daiyamondo2018/GameUIT/tags\",\"blobs_url\":\"https://api.github.com/repos/Daiyamondo2018/GameUIT/git/blobs{/sha}\",\"git_tags_url\":\"https://api.github.com/repos/Daiyamondo2018/GameUIT/git/tags{/sha}\",\"git_refs_url\":\"https://api.github.com/repos/Daiyamondo2018/GameUIT/git/refs{/sha}\",\"trees_url\":\"https://api.github.com/repos/Daiyamondo2018/GameUIT/git/trees{/sha}\",\"statuses_url\":\"https://api.github.com/repos/Daiyamondo2018/GameUIT/statuses/{sha}\",\"languages_url\":\"https://api.github.com/repos/Daiyamondo2018/GameUIT/languages\",\"stargazers_url\":\"https://api.github.com/repos/Daiyamondo2018/GameUIT/stargazers\",\"contributors_url\":\"https://api.github.com/repos/Daiyamondo2018/GameUIT/contributors\",\"subscribers_url\":\"https://api.github.com/repos/Daiyamondo2018/GameUIT/subscribers\",\"subscription_url\":\"https://api.github.com/repos/Daiyamondo2018/GameUIT/subscription\",\"commits_url\":\"https://api.github.com/repos/Daiyamondo2018/GameUIT/commits{/sha}\",\"git_commits_url\":\"https://api.github.com/repos/Daiyamondo2018/GameUIT/git/commits{/sha}\",\"comments_url\":\"https://api.github.com/repos/Daiyamondo2018/GameUIT/comments{/number}\",\"issue_comment_url\":\"https://api.github.com/repos/Daiyamondo2018/GameUIT/issues/comments{/number}\",\"contents_url\":\"https://api.github.com/repos/Daiyamondo2018/GameUIT/contents/{+path}\",\"compare_url\":\"https://api.github.com/repos/Daiyamondo2018/GameUIT/compare/{base}...{head}\",\"merges_url\":\"https://api.github.com/repos/Daiyamondo2018/GameUIT/merges\",\"archive_url\":\"https://api.github.com/repos/Daiyamondo2018/GameUIT/{archive_format}{/ref}\",\"downloads_url\":\"https://api.github.com/repos/Daiyamondo2018/GameUIT/downloads\",\"issues_url\":\"https://api.github.com/repos/Daiyamondo2018/GameUIT/issues{/number}\",\"pulls_url\":\"https://api.github.com/repos/Daiyamondo2018/GameUIT/pulls{/number}\",\"milestones_url\":\"https://api.github.com/repos/Daiyamondo2018/GameUIT/milestones{/number}\",\"notifications_url\":\"https://api.github.com/repos/Daiyamondo2018/GameUIT/notifications{?since,all,participating}\",\"labels_url\":\"https://api.github.com/repos/Daiyamondo2018/GameUIT/labels{/name}\",\"releases_url\":\"https://api.github.com/repos/Daiyamondo2018/GameUIT/releases{/id}\",\"deployments_url\":\"https://api.github.com/repos/Daiyamondo2018/GameUIT/deployments\",\"created_at\":\"2019-07-14T10:13:53Z\",\"updated_at\":\"2019-07-25T01:12:07Z\",\"pushed_at\":\"2019-07-25T02:45:10Z\",\"git_url\":\"git://github.com/Daiyamondo2018/GameUIT.git\",\"ssh_url\":\"git@github.com:Daiyamondo2018/GameUIT.git\",\"clone_url\":\"https://github.com/Daiyamondo2018/GameUIT.git\",\"svn_url\":\"https://github.com/Daiyamondo2018/GameUIT\",\"homepage\":null,\"size\":156835,\"stargazers_count\":0,\"watchers_count\":0,\"language\":\"C++\",\"has_issues\":true,\"has_projects\":true,\"has_downloads\":true,\"has_wiki\":true,\"has_pages\":false,\"forks_count\":0,\"mirror_url\":null,\"archived\":false,\"disabled\":false,\"open_issues_count\":0,\"license\":null,\"forks\":0,\"open_issues\":0,\"watchers\":0,\"default_branch\":\"master\"}},\"base\":{\"label\":\"Daiyamondo2018:master\",\"ref\":\"master\",\"sha\":\"a49cfec3bc2e0cb98b8b43d2abbd3013d5466a2a\",\"user\":{\"login\":\"Daiyamondo2018\",\"id\":45528757,\"node_id\":\"MDQ6VXNlcjQ1NTI4NzU3\",\"avatar_url\":\"https://avatars3.githubusercontent.com/u/45528757?v=4\",\"gravatar_id\":\"\",\"url\":\"https://api.github.com/users/Daiyamondo2018\",\"html_url\":\"https://github.com/Daiyamondo2018\",\"followers_url\":\"https://api.github.com/users/Daiyamondo2018/followers\",\"following_url\":\"https://api.github.com/users/Daiyamondo2018/following{/other_user}\",\"gists_url\":\"https://api.github.com/users/Daiyamondo2018/gists{/gist_id}\",\"starred_url\":\"https://api.github.com/users/Daiyamondo2018/starred{/owner}{/repo}\",\"subscriptions_url\":\"https://api.github.com/users/Daiyamondo2018/subscriptions\",\"organizations_url\":\"https://api.github.com/users/Daiyamondo2018/orgs\",\"repos_url\":\"https://api.github.com/users/Daiyamondo2018/repos\",\"events_url\":\"https://api.github.com/users/Daiyamondo2018/events{/privacy}\",\"received_events_url\":\"https://api.github.com/users/Daiyamondo2018/received_events\",\"type\":\"User\",\"site_admin\":false},\"repo\":{\"id\":196821666,\"node_id\":\"MDEwOlJlcG9zaXRvcnkxOTY4MjE2NjY=\",\"name\":\"GameUIT\",\"full_name\":\"Daiyamondo2018/GameUIT\",\"private\":false,\"owner\":{\"login\":\"Daiyamondo2018\",\"id\":45528757,\"node_id\":\"MDQ6VXNlcjQ1NTI4NzU3\",\"avatar_url\":\"https://avatars3.githubusercontent.com/u/45528757?v=4\",\"gravatar_id\":\"\",\"url\":\"https://api.github.com/users/Daiyamondo2018\",\"html_url\":\"https://github.com/Daiyamondo2018\",\"followers_url\":\"https://api.github.com/users/Daiyamondo2018/followers\",\"following_url\":\"https://api.github.com/users/Daiyamondo2018/following{/other_user}\",\"gists_url\":\"https://api.github.com/users/Daiyamondo2018/gists{/gist_id}\",\"starred_url\":\"https://api.github.com/users/Daiyamondo2018/starred{/owner}{/repo}\",\"subscriptions_url\":\"https://api.github.com/users/Daiyamondo2018/subscriptions\",\"organizations_url\":\"https://api.github.com/users/Daiyamondo2018/orgs\",\"repos_url\":\"https://api.github.com/users/Daiyamondo2018/repos\",\"events_url\":\"https://api.github.com/users/Daiyamondo2018/events{/privacy}\",\"received_events_url\":\"https://api.github.com/users/Daiyamondo2018/received_events\",\"type\":\"User\",\"site_admin\":false},\"html_url\":\"https://github.com/Daiyamondo2018/GameUIT\",\"description\":null,\"fork\":false,\"url\":\"https://api.github.com/repos/Daiyamondo2018/GameUIT\",\"forks_url\":\"https://api.github.com/repos/Daiyamondo2018/GameUIT/forks\",\"keys_url\":\"https://api.github.com/repos/Daiyamondo2018/GameUIT/keys{/key_id}\",\"collaborators_url\":\"https://api.github.com/repos/Daiyamondo2018/GameUIT/collaborators{/collaborator}\",\"teams_url\":\"https://api.github.com/repos/Daiyamondo2018/GameUIT/teams\",\"hooks_url\":\"https://api.github.com/repos/Daiyamondo2018/GameUIT/hooks\",\"issue_events_url\":\"https://api.github.com/repos/Daiyamondo2018/GameUIT/issues/events{/number}\",\"events_url\":\"https://api.github.com/repos/Daiyamondo2018/GameUIT/events\",\"assignees_url\":\"https://api.github.com/repos/Daiyamondo2018/GameUIT/assignees{/user}\",\"branches_url\":\"https://api.github.com/repos/Daiyamondo2018/GameUIT/branches{/branch}\",\"tags_url\":\"https://api.github.com/repos/Daiyamondo2018/GameUIT/tags\",\"blobs_url\":\"https://api.github.com/repos/Daiyamondo2018/GameUIT/git/blobs{/sha}\",\"git_tags_url\":\"https://api.github.com/repos/Daiyamondo2018/GameUIT/git/tags{/sha}\",\"git_refs_url\":\"https://api.github.com/repos/Daiyamondo2018/GameUIT/git/refs{/sha}\",\"trees_url\":\"https://api.github.com/repos/Daiyamondo2018/GameUIT/git/trees{/sha}\",\"statuses_url\":\"https://api.github.com/repos/Daiyamondo2018/GameUIT/statuses/{sha}\",\"languages_url\":\"https://api.github.com/repos/Daiyamondo2018/GameUIT/languages\",\"stargazers_url\":\"https://api.github.com/repos/Daiyamondo2018/GameUIT/stargazers\",\"contributors_url\":\"https://api.github.com/repos/Daiyamondo2018/GameUIT/contributors\",\"subscribers_url\":\"https://api.github.com/repos/Daiyamondo2018/GameUIT/subscribers\",\"subscription_url\":\"https://api.github.com/repos/Daiyamondo2018/GameUIT/subscription\",\"commits_url\":\"https://api.github.com/repos/Daiyamondo2018/GameUIT/commits{/sha}\",\"git_commits_url\":\"https://api.github.com/repos/Daiyamondo2018/GameUIT/git/commits{/sha}\",\"comments_url\":\"https://api.github.com/repos/Daiyamondo2018/GameUIT/comments{/number}\",\"issue_comment_url\":\"https://api.github.com/repos/Daiyamondo2018/GameUIT/issues/comments{/number}\",\"contents_url\":\"https://api.github.com/repos/Daiyamondo2018/GameUIT/contents/{+path}\",\"compare_url\":\"https://api.github.com/repos/Daiyamondo2018/GameUIT/compare/{base}...{head}\",\"merges_url\":\"https://api.github.com/repos/Daiyamondo2018/GameUIT/merges\",\"archive_url\":\"https://api.github.com/repos/Daiyamondo2018/GameUIT/{archive_format}{/ref}\",\"downloads_url\":\"https://api.github.com/repos/Daiyamondo2018/GameUIT/downloads\",\"issues_url\":\"https://api.github.com/repos/Daiyamondo2018/GameUIT/issues{/number}\",\"pulls_url\":\"https://api.github.com/repos/Daiyamondo2018/GameUIT/pulls{/number}\",\"milestones_url\":\"https://api.github.com/repos/Daiyamondo2018/GameUIT/milestones{/number}\",\"notifications_url\":\"https://api.github.com/repos/Daiyamondo2018/GameUIT/notifications{?since,all,participating}\",\"labels_url\":\"https://api.github.com/repos/Daiyamondo2018/GameUIT/labels{/name}\",\"releases_url\":\"https://api.github.com/repos/Daiyamondo2018/GameUIT/releases{/id}\",\"deployments_url\":\"https://api.github.com/repos/Daiyamondo2018/GameUIT/deployments\",\"created_at\":\"2019-07-14T10:13:53Z\",\"updated_at\":\"2019-07-25T01:12:07Z\",\"pushed_at\":\"2019-07-25T02:45:10Z\",\"git_url\":\"git://github.com/Daiyamondo2018/GameUIT.git\",\"ssh_url\":\"git@github.com:Daiyamondo2018/GameUIT.git\",\"clone_url\":\"https://github.com/Daiyamondo2018/GameUIT.git\",\"svn_url\":\"https://github.com/Daiyamondo2018/GameUIT\",\"homepage\":null,\"size\":156835,\"stargazers_count\":0,\"watchers_count\":0,\"language\":\"C++\",\"has_issues\":true,\"has_projects\":true,\"has_downloads\":true,\"has_wiki\":true,\"has_pages\":false,\"forks_count\":0,\"mirror_url\":null,\"archived\":false,\"disabled\":false,\"open_issues_count\":0,\"license\":null,\"forks\":0,\"open_issues\":0,\"watchers\":0,\"default_branch\":\"master\"}},\"_links\":{\"self\":{\"href\":\"https://api.github.com/repos/Daiyamondo2018/GameUIT/pulls/5\"},\"html\":{\"href\":\"https://github.com/Daiyamondo2018/GameUIT/pull/5\"},\"issue\":{\"href\":\"https://api.github.com/repos/Daiyamondo2018/GameUIT/issues/5\"},\"comments\":{\"href\":\"https://api.github.com/repos/Daiyamondo2018/GameUIT/issues/5/comments\"},\"review_comments\":{\"href\":\"https://api.github.com/repos/Daiyamondo2018/GameUIT/pulls/5/comments\"},\"review_comment\":{\"href\":\"https://api.github.com/repos/Daiyamondo2018/GameUIT/pulls/comments{/number}\"},\"commits\":{\"href\":\"https://api.github.com/repos/Daiyamondo2018/GameUIT/pulls/5/commits\"},\"statuses\":{\"href\":\"https://api.github.com/repos/Daiyamondo2018/GameUIT/statuses/ddc056772db46b44003aaad2bd0f02da500af502\"}},\"author_association\":\"COLLABORATOR\",\"merged\":true,\"mergeable\":null,\"rebaseable\":null,\"mergeable_state\":\"unknown\",\"merged_by\":{\"login\":\"minhnguyenduy99\",\"id\":44431867,\"node_id\":\"MDQ6VXNlcjQ0NDMxODY3\",\"avatar_url\":\"https://avatars2.githubusercontent.com/u/44431867?v=4\",\"gravatar_id\":\"\",\"url\":\"https://api.github.com/users/minhnguyenduy99\",\"html_url\":\"https://github.com/minhnguyenduy99\",\"followers_url\":\"https://api.github.com/users/minhnguyenduy99/followers\",\"following_url\":\"https://api.github.com/users/minhnguyenduy99/following{/other_user}\",\"gists_url\":\"https://api.github.com/users/minhnguyenduy99/gists{/gist_id}\",\"starred_url\":\"https://api.github.com/users/minhnguyenduy99/starred{/owner}{/repo}\",\"subscriptions_url\":\"https://api.github.com/users/minhnguyenduy99/subscriptions\",\"organizations_url\":\"https://api.github.com/users/minhnguyenduy99/orgs\",\"repos_url\":\"https://api.github.com/users/minhnguyenduy99/repos\",\"events_url\":\"https://api.github.com/users/minhnguyenduy99/events{/privacy}\",\"received_events_url\":\"https://api.github.com/users/minhnguyenduy99/received_events\",\"type\":\"User\",\"site_admin\":false},\"comments\":0,\"review_comments\":0,\"maintainer_can_modify\":false,\"commits\":4,\"additions\":186,\"deletions\":92,\"changed_files\":17}},\"public\":true,\"created_at\":\"2019-07-25T02:45:11Z\"},{\"id\":\"10079767780\",\"type\":\"WatchEvent\",\"actor\":{\"id\":4981847,\"login\":\"thiagoabreudev\",\"display_login\":\"thiagoabreudev\",\"gravatar_id\":\"\",\"url\":\"https://api.github.com/users/thiagoabreudev\",\"avatar_url\":\"https://avatars.githubusercontent.com/u/4981847?\"},\"repo\":{\"id\":198709873,\"name\":\"DenerRodrigues/python-tradinglib\",\"url\":\"https://api.github.com/repos/DenerRodrigues/python-tradinglib\"},\"payload\":{\"action\":\"started\"},\"public\":true,\"created_at\":\"2019-07-25T02:45:11Z\"},{\"id\":\"10079767771\",\"type\":\"PushEvent\",\"actor\":{\"id\":25144277,\"login\":\"lemon1226\",\"display_login\":\"lemon1226\",\"gravatar_id\":\"\",\"url\":\"https://api.github.com/users/lemon1226\",\"avatar_url\":\"https://avatars.githubusercontent.com/u/25144277?\"},\"repo\":{\"id\":187599899,\"name\":\"lemon1226/base-utils\",\"url\":\"https://api.github.com/repos/lemon1226/base-utils\"},\"payload\":{\"push_id\":3853318577,\"size\":1,\"distinct_size\":1,\"ref\":\"refs/heads/master\",\"head\":\"e8cce2c29cb8e7a7d6933cf81feffcec3f39d8b2\",\"before\":\"2590e8aca7cbdcc6927d8d1935b733fe6f441329\",\"commits\":[{\"sha\":\"e8cce2c29cb8e7a7d6933cf81feffcec3f39d8b2\",\"author\":{\"email\":\"32800438@qq.com\",\"name\":\"zhangmeng\"},\"message\":\"\\xe4\\xbf\\xae\\xe5\\xa4\\x8dbug\",\"distinct\":true,\"url\":\"https://api.github.com/repos/lemon1226/base-utils/commits/e8cce2c29cb8e7a7d6933cf81feffcec3f39d8b2\"}]},\"public\":true,\"created_at\":\"2019-07-25T02:45:10Z\"},{\"id\":\"10079767772\",\"type\":\"PullRequestEvent\",\"actor\":{\"id\":48228819,\"login\":\"limingu\",\"display_login\":\"limingu\",\"gravatar_id\":\"\",\"url\":\"https://api.github.com/users/limingu\",\"avatar_url\":\"https://avatars.githubusercontent.com/u/48228819?\"},\"repo\":{\"id\":51040886,\"name\":\"Azure/azure-cli\",\"url\":\"https://api.github.com/repos/Azure/azure-cli\"},\"payload\":{\"action\":\"opened\",\"number\":10046,\"pull_request\":{\"url\":\"https://api.github.com/repos/Azure/azure-cli/pulls/10046\",\"id\":300960777,\"node_id\":\"MDExOlB1bGxSZXF1ZXN0MzAwOTYwNzc3\",\"html_url\":\"https://github.com/Azure/azure-cli/pull/10046\",\"diff_url\":\"https://github.com/Azure/azure-cli/pull/10046.diff\",\"patch_url\":\"https://github.com/Azure/azure-cli/pull/10046.patch\",\"issue_url\":\"https://api.github.com/repos/Azure/azure-cli/issues/10046\",\"number\":10046,\"state\":\"open\",\"locked\":false,\"title\":\" [storage] Add --clear-content-settings for storage blob update\",\"user\":{\"login\":\"limingu\",\"id\":48228819,\"node_id\":\"MDQ6VXNlcjQ4MjI4ODE5\",\"avatar_url\":\"https://avatars3.githubusercontent.com/u/48228819?v=4\",\"gravatar_id\":\"\",\"url\":\"https://api.github.com/users/limingu\",\"html_url\":\"https://github.com/limingu\",\"followers_url\":\"https://api.github.com/users/limingu/followers\",\"following_url\":\"https://api.github.com/users/limingu/following{/other_user}\",\"gists_url\":\"https://api.github.com/users/limingu/gists{/gist_id}\",\"starred_url\":\"https://api.github.com/users/limingu/starred{/owner}{/repo}\",\"subscriptions_url\":\"https://api.github.com/users/limingu/subscriptions\",\"organizations_url\":\"https://api.github.com/users/limingu/orgs\",\"repos_url\":\"https://api.github.com/users/limingu/repos\",\"events_url\":\"https://api.github.com/users/limingu/events{/privacy}\",\"received_events_url\":\"https://api.github.com/users/limingu/received_events\",\"type\":\"User\",\"site_admin\":false},\"body\":\"\\\\r\\\\n---\\\\r\\\\n\\\\r\\\\nThis checklist is used to make sure that common guidelines for a pull request are followed.\\\\r\\\\n\\\\r\\\\n- [ ] The PR has modified HISTORY.rst describing any customer-facing, functional changes. Note that this does not include changes only to help content. (see [Modifying change log](https://github.com/Azure/azure-cli/tree/master/doc/authoring_command_modules#modify-change-log)).\\\\r\\\\n\\\\r\\\\n- [ ] I adhere to the [Command Guidelines](https://github.com/Azure/azure-cli/blob/dev/doc/command_guidelines.md).\\\\r\\\\n\",\"created_at\":\"2019-07-25T02:45:10Z\",\"updated_at\":\"2019-07-25T02:45:10Z\",\"closed_at\":null,\"merged_at\":null,\"merge_commit_sha\":null,\"assignee\":null,\"assignees\":[],\"requested_reviewers\":[],\"requested_teams\":[],\"labels\":[],\"milestone\":null,\"commits_url\":\"https://api.github.com/repos/Azure/azure-cli/pulls/10046/commits\",\"review_comments_url\":\"https://api.github.com/repos/Azure/azure-cli/pulls/10046/comments\",\"review_comment_url\":\"https://api.github.com/repos/Azure/azure-cli/pulls/comments{/number}\",\"comments_url\":\"https://api.github.com/repos/Azure/azure-cli/issues/10046/comments\",\"statuses_url\":\"https://api.github.com/repos/Azure/azure-cli/statuses/3592e77997c12023921660c011b14c54edf49509\",\"head\":{\"label\":\"limingu:content1\",\"ref\":\"content1\",\"sha\":\"3592e77997c12023921660c011b14c54edf49509\",\"user\":{\"login\":\"limingu\",\"id\":48228819,\"node_id\":\"MDQ6VXNlcjQ4MjI4ODE5\",\"avatar_url\":\"https://avatars3.githubusercontent.com/u/48228819?v=4\",\"gravatar_id\":\"\",\"url\":\"https://api.github.com/users/limingu\",\"html_url\":\"https://github.com/limingu\",\"followers_url\":\"https://api.github.com/users/limingu/followers\",\"following_url\":\"https://api.github.com/users/limingu/following{/other_user}\",\"gists_url\":\"https://api.github.com/users/limingu/gists{/gist_id}\",\"starred_url\":\"https://api.github.com/users/limingu/starred{/owner}{/repo}\",\"subscriptions_url\":\"https://api.github.com/users/limingu/subscriptions\",\"organizations_url\":\"https://api.github.com/users/limingu/orgs\",\"repos_url\":\"https://api.github.com/users/limingu/repos\",\"events_url\":\"https://api.github.com/users/limingu/events{/privacy}\",\"received_events_url\":\"https://api.github.com/users/limingu/received_events\",\"type\":\"User\",\"site_admin\":false},\"repo\":{\"id\":174034968,\"node_id\":\"MDEwOlJlcG9zaXRvcnkxNzQwMzQ5Njg=\",\"name\":\"azure-cli\",\"full_name\":\"limingu/azure-cli\",\"private\":false,\"owner\":{\"login\":\"limingu\",\"id\":48228819,\"node_id\":\"MDQ6VXNlcjQ4MjI4ODE5\",\"avatar_url\":\"https://avatars3.githubusercontent.com/u/48228819?v=4\",\"gravatar_id\":\"\",\"url\":\"https://api.github.com/users/limingu\",\"html_url\":\"https://github.com/limingu\",\"followers_url\":\"https://api.github.com/users/limingu/followers\",\"following_url\":\"https://api.github.com/users/limingu/following{/other_user}\",\"gists_url\":\"https://api.github.com/users/limingu/gists{/gist_id}\",\"starred_url\":\"https://api.github.com/users/limingu/starred{/owner}{/repo}\",\"subscriptions_url\":\"https://api.github.com/users/limingu/subscriptions\",\"organizations_url\":\"https://api.github.com/users/limingu/orgs\",\"repos_url\":\"https://api.github.com/users/limingu/repos\",\"events_url\":\"https://api.github.com/users/limingu/events{/privacy}\",\"received_events_url\":\"https://api.github.com/users/limingu/received_events\",\"type\":\"User\",\"site_admin\":false},\"html_url\":\"https://github.com/limingu/azure-cli\",\"description\":\"Command-line tools for Azure.\",\"fork\":true,\"url\":\"https://api.github.com/repos/limingu/azure-cli\",\"forks_url\":\"https://api.github.com/repos/limingu/azure-cli/forks\",\"keys_url\":\"https://api.github.com/repos/limingu/azure-cli/keys{/key_id}\",\"collaborators_url\":\"https://api.github.com/repos/limingu/azure-cli/collaborators{/collaborator}\",\"teams_url\":\"https://api.github.com/repos/limingu/azure-cli/teams\",\"hooks_url\":\"https://api.github.com/repos/limingu/azure-cli/hooks\",\"issue_events_url\":\"https://api.github.com/repos/limingu/azure-cli/issues/events{/number}\",\"events_url\":\"https://api.github.com/repos/limingu/azure-cli/events\",\"assignees_url\":\"https://api.github.com/repos/limingu/azure-cli/assignees{/user}\",\"branches_url\":\"https://api.github.com/repos/limingu/azure-cli/branches{/branch}\",\"tags_url\":\"https://api.github.com/repos/limingu/azure-cli/tags\",\"blobs_url\":\"https://api.github.com/repos/limingu/azure-cli/git/blobs{/sha}\",\"git_tags_url\":\"https://api.github.com/repos/limingu/azure-cli/git/tags{/sha}\",\"git_refs_url\":\"https://api.github.com/repos/limingu/azure-cli/git/refs{/sha}\",\"trees_url\":\"https://api.github.com/repos/limingu/azure-cli/git/trees{/sha}\",\"statuses_url\":\"https://api.github.com/repos/limingu/azure-cli/statuses/{sha}\",\"languages_url\":\"https://api.github.com/repos/limingu/azure-cli/languages\",\"stargazers_url\":\"https://api.github.com/repos/limingu/azure-cli/stargazers\",\"contributors_url\":\"https://api.github.com/repos/limingu/azure-cli/contributors\",\"subscribers_url\":\"https://api.github.com/repos/limingu/azure-cli/subscribers\",\"subscription_url\":\"https://api.github.com/repos/limingu/azure-cli/subscription\",\"commits_url\":\"https://api.github.com/repos/limingu/azure-cli/commits{/sha}\",\"git_commits_url\":\"https://api.github.com/repos/limingu/azure-cli/git/commits{/sha}\",\"comments_url\":\"https://api.github.com/repos/limingu/azure-cli/comments{/number}\",\"issue_comment_url\":\"https://api.github.com/repos/limingu/azure-cli/issues/comments{/number}\",\"contents_url\":\"https://api.github.com/repos/limingu/azure-cli/contents/{+path}\",\"compare_url\":\"https://api.github.com/repos/limingu/azure-cli/compare/{base}...{head}\",\"merges_url\":\"https://api.github.com/repos/limingu/azure-cli/merges\",\"archive_url\":\"https://api.github.com/repos/limingu/azure-cli/{archive_format}{/ref}\",\"downloads_url\":\"https://api.github.com/repos/limingu/azure-cli/downloads\",\"issues_url\":\"https://api.github.com/repos/limingu/azure-cli/issues{/number}\",\"pulls_url\":\"https://api.github.com/repos/limingu/azure-cli/pulls{/number}\",\"milestones_url\":\"https://api.github.com/repos/limingu/azure-cli/milestones{/number}\",\"notifications_url\":\"https://api.github.com/repos/limingu/azure-cli/notifications{?since,all,participating}\",\"labels_url\":\"https://api.github.com/repos/limingu/azure-cli/labels{/name}\",\"releases_url\":\"https://api.github.com/repos/limingu/azure-cli/releases{/id}\",\"deployments_url\":\"https://api.github.com/repos/limingu/azure-cli/deployments\",\"created_at\":\"2019-03-05T23:14:45Z\",\"updated_at\":\"2019-07-15T05:38:29Z\",\"pushed_at\":\"2019-07-25T02:44:28Z\",\"git_url\":\"git://github.com/limingu/azure-cli.git\",\"ssh_url\":\"git@github.com:limingu/azure-cli.git\",\"clone_url\":\"https://github.com/limingu/azure-cli.git\",\"svn_url\":\"https://github.com/limingu/azure-cli\",\"homepage\":null,\"size\":139767,\"stargazers_count\":0,\"watchers_count\":0,\"language\":\"Python\",\"has_issues\":false,\"has_projects\":true,\"has_downloads\":true,\"has_wiki\":true,\"has_pages\":false,\"forks_count\":0,\"mirror_url\":null,\"archived\":false,\"disabled\":false,\"open_issues_count\":0,\"license\":{\"key\":\"other\",\"name\":\"Other\",\"spdx_id\":\"NOASSERTION\",\"url\":null,\"node_id\":\"MDc6TGljZW5zZTA=\"},\"forks\":0,\"open_issues\":0,\"watchers\":0,\"default_branch\":\"dev\"}},\"base\":{\"label\":\"Azure:dev\",\"ref\":\"dev\",\"sha\":\"cd83e4aa58d5c0366ff8a6bf68d99c96a2b8bd4e\",\"user\":{\"login\":\"Azure\",\"id\":6844498,\"node_id\":\"MDEyOk9yZ2FuaXphdGlvbjY4NDQ0OTg=\",\"avatar_url\":\"https://avatars0.githubusercontent.com/u/6844498?v=4\",\"gravatar_id\":\"\",\"url\":\"https://api.github.com/users/Azure\",\"html_url\":\"https://github.com/Azure\",\"followers_url\":\"https://api.github.com/users/Azure/followers\",\"following_url\":\"https://api.github.com/users/Azure/following{/other_user}\",\"gists_url\":\"https://api.github.com/users/Azure/gists{/gist_id}\",\"starred_url\":\"https://api.github.com/users/Azure/starred{/owner}{/repo}\",\"subscriptions_url\":\"https://api.github.com/users/Azure/subscriptions\",\"organizations_url\":\"https://api.github.com/users/Azure/orgs\",\"repos_url\":\"https://api.github.com/users/Azure/repos\",\"events_url\":\"https://api.github.com/users/Azure/events{/privacy}\",\"received_events_url\":\"https://api.github.com/users/Azure/received_events\",\"type\":\"Organization\",\"site_admin\":false},\"repo\":{\"id\":51040886,\"node_id\":\"MDEwOlJlcG9zaXRvcnk1MTA0MDg4Ng==\",\"name\":\"azure-cli\",\"full_name\":\"Azure/azure-cli\",\"private\":false,\"owner\":{\"login\":\"Azure\",\"id\":6844498,\"node_id\":\"MDEyOk9yZ2FuaXphdGlvbjY4NDQ0OTg=\",\"avatar_url\":\"https://avatars0.githubusercontent.com/u/6844498?v=4\",\"gravatar_id\":\"\",\"url\":\"https://api.github.com/users/Azure\",\"html_url\":\"https://github.com/Azure\",\"followers_url\":\"https://api.github.com/users/Azure/followers\",\"following_url\":\"https://api.github.com/users/Azure/following{/other_user}\",\"gists_url\":\"https://api.github.com/users/Azure/gists{/gist_id}\",\"starred_url\":\"https://api.github.com/users/Azure/starred{/owner}{/repo}\",\"subscriptions_url\":\"https://api.github.com/users/Azure/subscriptions\",\"organizations_url\":\"https://api.github.com/users/Azure/orgs\",\"repos_url\":\"https://api.github.com/users/Azure/repos\",\"events_url\":\"https://api.github.com/users/Azure/events{/privacy}\",\"received_events_url\":\"https://api.github.com/users/Azure/received_events\",\"type\":\"Organization\",\"site_admin\":false},\"html_url\":\"https://github.com/Azure/azure-cli\",\"description\":\"Command-line tools for Azure.\",\"fork\":false,\"url\":\"https://api.github.com/repos/Azure/azure-cli\",\"forks_url\":\"https://api.github.com/repos/Azure/azure-cli/forks\",\"keys_url\":\"https://api.github.com/repos/Azure/azure-cli/keys{/key_id}\",\"collaborators_url\":\"https://api.github.com/repos/Azure/azure-cli/collaborators{/collaborator}\",\"teams_url\":\"https://api.github.com/repos/Azure/azure-cli/teams\",\"hooks_url\":\"https://api.github.com/repos/Azure/azure-cli/hooks\",\"issue_events_url\":\"https://api.github.com/repos/Azure/azure-cli/issues/events{/number}\",\"events_url\":\"https://api.github.com/repos/Azure/azure-cli/events\",\"assignees_url\":\"https://api.github.com/repos/Azure/azure-cli/assignees{/user}\",\"branches_url\":\"https://api.github.com/repos/Azure/azure-cli/branches{/branch}\",\"tags_url\":\"https://api.github.com/repos/Azure/azure-cli/tags\",\"blobs_url\":\"https://api.github.com/repos/Azure/azure-cli/git/blobs{/sha}\",\"git_tags_url\":\"https://api.github.com/repos/Azure/azure-cli/git/tags{/sha}\",\"git_refs_url\":\"https://api.github.com/repos/Azure/azure-cli/git/refs{/sha}\",\"trees_url\":\"https://api.github.com/repos/Azure/azure-cli/git/trees{/sha}\",\"statuses_url\":\"https://api.github.com/repos/Azure/azure-cli/statuses/{sha}\",\"languages_url\":\"https://api.github.com/repos/Azure/azure-cli/languages\",\"stargazers_url\":\"https://api.github.com/repos/Azure/azure-cli/stargazers\",\"contributors_url\":\"https://api.github.com/repos/Azure/azure-cli/contributors\",\"subscribers_url\":\"https://api.github.com/repos/Azure/azure-cli/subscribers\",\"subscription_url\":\"https://api.github.com/repos/Azure/azure-cli/subscription\",\"commits_url\":\"https://api.github.com/repos/Azure/azure-cli/commits{/sha}\",\"git_commits_url\":\"https://api.github.com/repos/Azure/azure-cli/git/commits{/sha}\",\"comments_url\":\"https://api.github.com/repos/Azure/azure-cli/comments{/number}\",\"issue_comment_url\":\"https://api.github.com/repos/Azure/azure-cli/issues/comments{/number}\",\"contents_url\":\"https://api.github.com/repos/Azure/azure-cli/contents/{+path}\",\"compare_url\":\"https://api.github.com/repos/Azure/azure-cli/compare/{base}...{head}\",\"merges_url\":\"https://api.github.com/repos/Azure/azure-cli/merges\",\"archive_url\":\"https://api.github.com/repos/Azure/azure-cli/{archive_format}{/ref}\",\"downloads_url\":\"https://api.github.com/repos/Azure/azure-cli/downloads\",\"issues_url\":\"https://api.github.com/repos/Azure/azure-cli/issues{/number}\",\"pulls_url\":\"https://api.github.com/repos/Azure/azure-cli/pulls{/number}\",\"milestones_url\":\"https://api.github.com/repos/Azure/azure-cli/milestones{/number}\",\"notifications_url\":\"https://api.github.com/repos/Azure/azure-cli/notifications{?since,all,participating}\",\"labels_url\":\"https://api.github.com/repos/Azure/azure-cli/labels{/name}\",\"releases_url\":\"https://api.github.com/repos/Azure/azure-cli/releases{/id}\",\"deployments_url\":\"https://api.github.com/repos/Azure/azure-cli/deployments\",\"created_at\":\"2016-02-04T00:21:51Z\",\"updated_at\":\"2019-07-25T01:23:38Z\",\"pushed_at\":\"2019-07-25T02:17:39Z\",\"git_url\":\"git://github.com/Azure/azure-cli.git\",\"ssh_url\":\"git@github.com:Azure/azure-cli.git\",\"clone_url\":\"https://github.com/Azure/azure-cli.git\",\"svn_url\":\"https://github.com/Azure/azure-cli\",\"homepage\":null,\"size\":140529,\"stargazers_count\":1425,\"watchers_count\":1425,\"language\":\"Python\",\"has_issues\":true,\"has_projects\":true,\"has_downloads\":true,\"has_wiki\":true,\"has_pages\":false,\"forks_count\":885,\"mirror_url\":null,\"archived\":false,\"disabled\":false,\"open_issues_count\":811,\"license\":{\"key\":\"other\",\"name\":\"Other\",\"spdx_id\":\"NOASSERTION\",\"url\":null,\"node_id\":\"MDc6TGljZW5zZTA=\"},\"forks\":885,\"open_issues\":811,\"watchers\":1425,\"default_branch\":\"dev\"}},\"_links\":{\"self\":{\"href\":\"https://api.github.com/repos/Azure/azure-cli/pulls/10046\"},\"html\":{\"href\":\"https://github.com/Azure/azure-cli/pull/10046\"},\"issue\":{\"href\":\"https://api.github.com/repos/Azure/azure-cli/issues/10046\"},\"comments\":{\"href\":\"https://api.github.com/repos/Azure/azure-cli/issues/10046/comments\"},\"review_comments\":{\"href\":\"https://api.github.com/repos/Azure/azure-cli/pulls/10046/comments\"},\"review_comment\":{\"href\":\"https://api.github.com/repos/Azure/azure-cli/pulls/comments{/number}\"},\"commits\":{\"href\":\"https://api.github.com/repos/Azure/azure-cli/pulls/10046/commits\"},\"statuses\":{\"href\":\"https://api.github.com/repos/Azure/azure-cli/statuses/3592e77997c12023921660c011b14c54edf49509\"}},\"author_association\":\"CONTRIBUTOR\",\"merged\":false,\"mergeable\":null,\"rebaseable\":null,\"mergeable_state\":\"unknown\",\"merged_by\":null,\"comments\":0,\"review_comments\":0,\"maintainer_can_modify\":true,\"commits\":2,\"additions\":53,\"deletions\":5,\"changed_files\":3}},\"public\":true,\"created_at\":\"2019-07-25T02:45:10Z\",\"org\":{\"id\":6844498,\"login\":\"Azure\",\"gravatar_id\":\"\",\"url\":\"https://api.github.com/orgs/Azure\",\"avatar_url\":\"https://avatars.githubusercontent.com/u/6844498?\"}},{\"id\":\"10079767762\",\"type\":\"PushEvent\",\"actor\":{\"id\":1616850,\"login\":\"HenrikBengtsson\",\"display_login\":\"HenrikBengtsson\",\"gravatar_id\":\"\",\"url\":\"https://api.github.com/users/HenrikBengtsson\",\"avatar_url\":\"https://avatars.githubusercontent.com/u/1616850?\"},\"repo\":{\"id\":94832006,\"name\":\"UCSF-TI/TIPCC-slash\",\"url\":\"https://api.github.com/repos/UCSF-TI/TIPCC-slash\"},\"payload\":{\"push_id\":3853318575,\"size\":1,\"distinct_size\":1,\"ref\":\"refs/heads/master\",\"head\":\"01eddd1ae1d6b8efd2ed7f94bee4985303e123b2\",\"before\":\"3cf16950d79331668e0175b3e861165fbfdedbec\",\"commits\":[{\"sha\":\"01eddd1ae1d6b8efd2ed7f94bee4985303e123b2\",\"author\":{\"email\":\"hb@aroma-project.org\",\"name\":\"hb\"},\"message\":\"STATUS: Updated figures\",\"distinct\":true,\"url\":\"https://api.github.com/repos/UCSF-TI/TIPCC-slash/commits/01eddd1ae1d6b8efd2ed7f94bee4985303e123b2\"}]},\"public\":true,\"created_at\":\"2019-07-25T02:45:10Z\",\"org\":{\"id\":14284214,\"login\":\"UCSF-TI\",\"gravatar_id\":\"\",\"url\":\"https://api.github.com/orgs/UCSF-TI\",\"avatar_url\":\"https://avatars.githubusercontent.com/u/14284214?\"}},{\"id\":\"10079767757\",\"type\":\"IssuesEvent\",\"actor\":{\"id\":4654068,\"login\":\"jamesBan\",\"display_login\":\"jamesBan\",\"gravatar_id\":\"\",\"url\":\"https://api.github.com/users/jamesBan\",\"avatar_url\":\"https://avatars.githubusercontent.com/u/4654068?\"},\"repo\":{\"id\":23150253,\"name\":\"jamesBan/jamesBan.github.io\",\"url\":\"https://api.github.com/repos/jamesBan/jamesBan.github.io\"},\"payload\":{\"action\":\"opened\",\"issue\":{\"url\":\"https://api.github.com/repos/jamesBan/jamesBan.github.io/issues/7\",\"repository_url\":\"https://api.github.com/repos/jamesBan/jamesBan.github.io\",\"labels_url\":\"https://api.github.com/repos/jamesBan/jamesBan.github.io/issues/7/labels{/name}\",\"comments_url\":\"https://api.github.com/repos/jamesBan/jamesBan.github.io/issues/7/comments\",\"events_url\":\"https://api.github.com/repos/jamesBan/jamesBan.github.io/issues/7/events\",\"html_url\":\"https://github.com/jamesBan/jamesBan.github.io/issues/7\",\"id\":472637354,\"node_id\":\"MDU6SXNzdWU0NzI2MzczNTQ=\",\"number\":7,\"title\":\"redis \\xe4\\xb8\\xbb\\xe4\\xbb\\x8e\",\"user\":{\"login\":\"jamesBan\",\"id\":4654068,\"node_id\":\"MDQ6VXNlcjQ2NTQwNjg=\",\"avatar_url\":\"https://avatars3.githubusercontent.com/u/4654068?v=4\",\"gravatar_id\":\"\",\"url\":\"https://api.github.com/users/jamesBan\",\"html_url\":\"https://github.com/jamesBan\",\"followers_url\":\"https://api.github.com/users/jamesBan/followers\",\"following_url\":\"https://api.github.com/users/jamesBan/following{/other_user}\",\"gists_url\":\"https://api.github.com/users/jamesBan/gists{/gist_id}\",\"starred_url\":\"https://api.github.com/users/jamesBan/starred{/owner}{/repo}\",\"subscriptions_url\":\"https://api.github.com/users/jamesBan/subscriptions\",\"organizations_url\":\"https://api.github.com/users/jamesBan/orgs\",\"repos_url\":\"https://api.github.com/users/jamesBan/repos\",\"events_url\":\"https://api.github.com/users/jamesBan/events{/privacy}\",\"received_events_url\":\"https://api.github.com/users/jamesBan/received_events\",\"type\":\"User\",\"site_admin\":false},\"labels\":[{\"id\":1467903676,\"node_id\":\"MDU6TGFiZWwxNDY3OTAzNjc2\",\"url\":\"https://api.github.com/repos/jamesBan/jamesBan.github.io/labels/redis\",\"name\":\"redis\",\"color\":\"d93f0b\",\"default\":false}],\"state\":\"open\",\"locked\":false,\"assignee\":null,\"assignees\":[],\"milestone\":null,\"comments\":0,\"created_at\":\"2019-07-25T02:45:10Z\",\"updated_at\":\"2019-07-25T02:45:10Z\",\"closed_at\":null,\"author_association\":\"OWNER\",\"body\":\"### Master/slave\\\\r\\\\n\\\\r\\\\n\\\\r\\\\n\\\\r\\\\n1\\xe3\\x80\\x8110.0.10.1(master) \\\\r\\\\n\\\\r\\\\n`redis.conf`\\\\r\\\\n\\\\r\\\\n```shell\\\\r\\\\nbind 0.0.0.0\\\\r\\\\nprotect-mode no\\\\r\\\\nslave-read-only yes\\\\r\\\\n\\\\r\\\\nrequirepass foobared\\\\r\\\\n\\\\r\\\\n#disable command\\\\r\\\\nrename-command CONFIG \\\\\"\\\\\"\\\\r\\\\nrename-command FLUSHALL \\\\\"\\\\\"\\\\r\\\\nrename-command FLUSHDB\\\\r\\\\n````\\\\r\\\\n\\\\r\\\\n\\\\r\\\\n2\\xe3\\x80\\x8110.0.10.2(slave)\\\\r\\\\n\\\\r\\\\n\\xe2\\x80\\x8b\\\\t`redis.conf`\\\\r\\\\n\\\\r\\\\n```shell\\\\r\\\\nbind 0.0.0.0\\\\r\\\\nprotect-mode no\\\\r\\\\nrequirepass foobared\\\\r\\\\n\\\\r\\\\n#replicaof master-ip master-port\\\\r\\\\nreplicaof 10.0.10.1\\\\r\\\\n\\\\r\\\\n# masterauth <master-password>\\\\r\\\\nmasterauth foobared\\\\r\\\\n\\\\r\\\\n#disable command\\\\r\\\\nrename-command CONFIG \\\\\"\\\\\"\\\\r\\\\nrename-command FLUSHALL \\\\\"\\\\\"\\\\r\\\\nrename-command FLUSHDB\\\\r\\\\n```\\\\r\\\\n\\\\r\\\\n###sentinel \\xe6\\xa8\\xa1\\xe5\\xbc\\x8f\\\\r\\\\n\\\\r\\\\n1\\xe3\\x80\\x81\\xe4\\xb8\\xbb\\xe6\\x9c\\x8d\\xe5\\x8a\\xa1\\xe5\\x99\\xa8\\xef\\xbc\\x8810.0.10.1\\xef\\xbc\\x89\\\\r\\\\n\\\\r\\\\n`sentinel.conf`\\\\r\\\\n\\\\r\\\\n```\\\\r\\\\n#sentinel monitor <master-name> <ip> <redis-port> <quorum>\\\\r\\\\n\\\\r\\\\nsentinel monitor mymaster redis1 6379 2\\\\r\\\\n\\\\r\\\\n#sentinel auth-pass <master-name> <password>\\\\r\\\\n\\\\r\\\\nsentinel auth-pass mymaster foobared\\\\r\\\\n```\\\\r\\\\n\\\\r\\\\n\\\\r\\\\n\\\\r\\\\n\\\\r\\\\n\\\\r\\\\n###  Codis\\xef\\xbc\\x88\\xe8\\xaf\\xbb\\xe5\\x86\\x99\\xe5\\x88\\x86\\xe7\\xa6\\xbb\\xe3\\x80\\x81\\xe9\\x9b\\x86\\xe7\\xbe\\xa4\\xe5\\x8a\\xa8\\xe6\\x80\\x81\\xe6\\x89\\xa9\\xe5\\xae\\xb9\\xef\\xbc\\x89\\\\r\\\\ntodo\"}},\"public\":true,\"created_at\":\"2019-07-25T02:45:10Z\"}]'"
      ]
     },
     "execution_count": 38,
     "metadata": {},
     "output_type": "execute_result"
    }
   ],
   "source": [
    "get_request.content"
   ]
  },
  {
   "cell_type": "code",
   "execution_count": 39,
   "metadata": {},
   "outputs": [],
   "source": [
    "from PIL import Image\n",
    "from io import BytesIO"
   ]
  },
  {
   "cell_type": "code",
   "execution_count": 41,
   "metadata": {},
   "outputs": [
    {
     "data": {
      "text/plain": [
       "<_io.BytesIO at 0x5edec50>"
      ]
     },
     "execution_count": 41,
     "metadata": {},
     "output_type": "execute_result"
    }
   ],
   "source": [
    "Image.open(BytesIO(get_request.content))"
   ]
  },
  {
   "cell_type": "code",
   "execution_count": 49,
   "metadata": {},
   "outputs": [],
   "source": [
    "get_request = requests.get('http://api.github.com/events')"
   ]
  },
  {
   "cell_type": "code",
   "execution_count": 50,
   "metadata": {},
   "outputs": [
    {
     "data": {
      "text/plain": [
       "b''"
      ]
     },
     "execution_count": 50,
     "metadata": {},
     "output_type": "execute_result"
    }
   ],
   "source": [
    "get_request.raw.read(10)"
   ]
  },
  {
   "cell_type": "code",
   "execution_count": 51,
   "metadata": {
    "collapsed": true
   },
   "outputs": [
    {
     "data": {
      "text/plain": [
       "50"
      ]
     },
     "execution_count": 51,
     "metadata": {},
     "output_type": "execute_result"
    },
    {
     "data": {
      "text/plain": [
       "50"
      ]
     },
     "execution_count": 51,
     "metadata": {},
     "output_type": "execute_result"
    },
    {
     "data": {
      "text/plain": [
       "50"
      ]
     },
     "execution_count": 51,
     "metadata": {},
     "output_type": "execute_result"
    },
    {
     "data": {
      "text/plain": [
       "50"
      ]
     },
     "execution_count": 51,
     "metadata": {},
     "output_type": "execute_result"
    },
    {
     "data": {
      "text/plain": [
       "50"
      ]
     },
     "execution_count": 51,
     "metadata": {},
     "output_type": "execute_result"
    },
    {
     "data": {
      "text/plain": [
       "50"
      ]
     },
     "execution_count": 51,
     "metadata": {},
     "output_type": "execute_result"
    },
    {
     "data": {
      "text/plain": [
       "50"
      ]
     },
     "execution_count": 51,
     "metadata": {},
     "output_type": "execute_result"
    },
    {
     "data": {
      "text/plain": [
       "50"
      ]
     },
     "execution_count": 51,
     "metadata": {},
     "output_type": "execute_result"
    },
    {
     "data": {
      "text/plain": [
       "50"
      ]
     },
     "execution_count": 51,
     "metadata": {},
     "output_type": "execute_result"
    },
    {
     "data": {
      "text/plain": [
       "50"
      ]
     },
     "execution_count": 51,
     "metadata": {},
     "output_type": "execute_result"
    },
    {
     "data": {
      "text/plain": [
       "50"
      ]
     },
     "execution_count": 51,
     "metadata": {},
     "output_type": "execute_result"
    },
    {
     "data": {
      "text/plain": [
       "50"
      ]
     },
     "execution_count": 51,
     "metadata": {},
     "output_type": "execute_result"
    },
    {
     "data": {
      "text/plain": [
       "50"
      ]
     },
     "execution_count": 51,
     "metadata": {},
     "output_type": "execute_result"
    },
    {
     "data": {
      "text/plain": [
       "50"
      ]
     },
     "execution_count": 51,
     "metadata": {},
     "output_type": "execute_result"
    },
    {
     "data": {
      "text/plain": [
       "50"
      ]
     },
     "execution_count": 51,
     "metadata": {},
     "output_type": "execute_result"
    },
    {
     "data": {
      "text/plain": [
       "50"
      ]
     },
     "execution_count": 51,
     "metadata": {},
     "output_type": "execute_result"
    },
    {
     "data": {
      "text/plain": [
       "50"
      ]
     },
     "execution_count": 51,
     "metadata": {},
     "output_type": "execute_result"
    },
    {
     "data": {
      "text/plain": [
       "50"
      ]
     },
     "execution_count": 51,
     "metadata": {},
     "output_type": "execute_result"
    },
    {
     "data": {
      "text/plain": [
       "50"
      ]
     },
     "execution_count": 51,
     "metadata": {},
     "output_type": "execute_result"
    },
    {
     "data": {
      "text/plain": [
       "50"
      ]
     },
     "execution_count": 51,
     "metadata": {},
     "output_type": "execute_result"
    },
    {
     "data": {
      "text/plain": [
       "50"
      ]
     },
     "execution_count": 51,
     "metadata": {},
     "output_type": "execute_result"
    },
    {
     "data": {
      "text/plain": [
       "50"
      ]
     },
     "execution_count": 51,
     "metadata": {},
     "output_type": "execute_result"
    },
    {
     "data": {
      "text/plain": [
       "50"
      ]
     },
     "execution_count": 51,
     "metadata": {},
     "output_type": "execute_result"
    },
    {
     "data": {
      "text/plain": [
       "50"
      ]
     },
     "execution_count": 51,
     "metadata": {},
     "output_type": "execute_result"
    },
    {
     "data": {
      "text/plain": [
       "50"
      ]
     },
     "execution_count": 51,
     "metadata": {},
     "output_type": "execute_result"
    },
    {
     "data": {
      "text/plain": [
       "50"
      ]
     },
     "execution_count": 51,
     "metadata": {},
     "output_type": "execute_result"
    },
    {
     "data": {
      "text/plain": [
       "50"
      ]
     },
     "execution_count": 51,
     "metadata": {},
     "output_type": "execute_result"
    },
    {
     "data": {
      "text/plain": [
       "50"
      ]
     },
     "execution_count": 51,
     "metadata": {},
     "output_type": "execute_result"
    },
    {
     "data": {
      "text/plain": [
       "50"
      ]
     },
     "execution_count": 51,
     "metadata": {},
     "output_type": "execute_result"
    },
    {
     "data": {
      "text/plain": [
       "50"
      ]
     },
     "execution_count": 51,
     "metadata": {},
     "output_type": "execute_result"
    },
    {
     "data": {
      "text/plain": [
       "50"
      ]
     },
     "execution_count": 51,
     "metadata": {},
     "output_type": "execute_result"
    },
    {
     "data": {
      "text/plain": [
       "50"
      ]
     },
     "execution_count": 51,
     "metadata": {},
     "output_type": "execute_result"
    },
    {
     "data": {
      "text/plain": [
       "50"
      ]
     },
     "execution_count": 51,
     "metadata": {},
     "output_type": "execute_result"
    },
    {
     "data": {
      "text/plain": [
       "50"
      ]
     },
     "execution_count": 51,
     "metadata": {},
     "output_type": "execute_result"
    },
    {
     "data": {
      "text/plain": [
       "50"
      ]
     },
     "execution_count": 51,
     "metadata": {},
     "output_type": "execute_result"
    },
    {
     "data": {
      "text/plain": [
       "50"
      ]
     },
     "execution_count": 51,
     "metadata": {},
     "output_type": "execute_result"
    },
    {
     "data": {
      "text/plain": [
       "50"
      ]
     },
     "execution_count": 51,
     "metadata": {},
     "output_type": "execute_result"
    },
    {
     "data": {
      "text/plain": [
       "50"
      ]
     },
     "execution_count": 51,
     "metadata": {},
     "output_type": "execute_result"
    },
    {
     "data": {
      "text/plain": [
       "50"
      ]
     },
     "execution_count": 51,
     "metadata": {},
     "output_type": "execute_result"
    },
    {
     "data": {
      "text/plain": [
       "50"
      ]
     },
     "execution_count": 51,
     "metadata": {},
     "output_type": "execute_result"
    },
    {
     "data": {
      "text/plain": [
       "50"
      ]
     },
     "execution_count": 51,
     "metadata": {},
     "output_type": "execute_result"
    },
    {
     "data": {
      "text/plain": [
       "50"
      ]
     },
     "execution_count": 51,
     "metadata": {},
     "output_type": "execute_result"
    },
    {
     "data": {
      "text/plain": [
       "50"
      ]
     },
     "execution_count": 51,
     "metadata": {},
     "output_type": "execute_result"
    },
    {
     "data": {
      "text/plain": [
       "50"
      ]
     },
     "execution_count": 51,
     "metadata": {},
     "output_type": "execute_result"
    },
    {
     "data": {
      "text/plain": [
       "50"
      ]
     },
     "execution_count": 51,
     "metadata": {},
     "output_type": "execute_result"
    },
    {
     "data": {
      "text/plain": [
       "50"
      ]
     },
     "execution_count": 51,
     "metadata": {},
     "output_type": "execute_result"
    },
    {
     "data": {
      "text/plain": [
       "50"
      ]
     },
     "execution_count": 51,
     "metadata": {},
     "output_type": "execute_result"
    },
    {
     "data": {
      "text/plain": [
       "50"
      ]
     },
     "execution_count": 51,
     "metadata": {},
     "output_type": "execute_result"
    },
    {
     "data": {
      "text/plain": [
       "50"
      ]
     },
     "execution_count": 51,
     "metadata": {},
     "output_type": "execute_result"
    },
    {
     "data": {
      "text/plain": [
       "50"
      ]
     },
     "execution_count": 51,
     "metadata": {},
     "output_type": "execute_result"
    },
    {
     "data": {
      "text/plain": [
       "50"
      ]
     },
     "execution_count": 51,
     "metadata": {},
     "output_type": "execute_result"
    },
    {
     "data": {
      "text/plain": [
       "50"
      ]
     },
     "execution_count": 51,
     "metadata": {},
     "output_type": "execute_result"
    },
    {
     "data": {
      "text/plain": [
       "50"
      ]
     },
     "execution_count": 51,
     "metadata": {},
     "output_type": "execute_result"
    },
    {
     "data": {
      "text/plain": [
       "50"
      ]
     },
     "execution_count": 51,
     "metadata": {},
     "output_type": "execute_result"
    },
    {
     "data": {
      "text/plain": [
       "50"
      ]
     },
     "execution_count": 51,
     "metadata": {},
     "output_type": "execute_result"
    },
    {
     "data": {
      "text/plain": [
       "50"
      ]
     },
     "execution_count": 51,
     "metadata": {},
     "output_type": "execute_result"
    },
    {
     "data": {
      "text/plain": [
       "50"
      ]
     },
     "execution_count": 51,
     "metadata": {},
     "output_type": "execute_result"
    },
    {
     "data": {
      "text/plain": [
       "50"
      ]
     },
     "execution_count": 51,
     "metadata": {},
     "output_type": "execute_result"
    },
    {
     "data": {
      "text/plain": [
       "50"
      ]
     },
     "execution_count": 51,
     "metadata": {},
     "output_type": "execute_result"
    },
    {
     "data": {
      "text/plain": [
       "50"
      ]
     },
     "execution_count": 51,
     "metadata": {},
     "output_type": "execute_result"
    },
    {
     "data": {
      "text/plain": [
       "50"
      ]
     },
     "execution_count": 51,
     "metadata": {},
     "output_type": "execute_result"
    },
    {
     "data": {
      "text/plain": [
       "50"
      ]
     },
     "execution_count": 51,
     "metadata": {},
     "output_type": "execute_result"
    },
    {
     "data": {
      "text/plain": [
       "50"
      ]
     },
     "execution_count": 51,
     "metadata": {},
     "output_type": "execute_result"
    },
    {
     "data": {
      "text/plain": [
       "50"
      ]
     },
     "execution_count": 51,
     "metadata": {},
     "output_type": "execute_result"
    },
    {
     "data": {
      "text/plain": [
       "50"
      ]
     },
     "execution_count": 51,
     "metadata": {},
     "output_type": "execute_result"
    },
    {
     "data": {
      "text/plain": [
       "50"
      ]
     },
     "execution_count": 51,
     "metadata": {},
     "output_type": "execute_result"
    },
    {
     "data": {
      "text/plain": [
       "50"
      ]
     },
     "execution_count": 51,
     "metadata": {},
     "output_type": "execute_result"
    },
    {
     "data": {
      "text/plain": [
       "50"
      ]
     },
     "execution_count": 51,
     "metadata": {},
     "output_type": "execute_result"
    },
    {
     "data": {
      "text/plain": [
       "50"
      ]
     },
     "execution_count": 51,
     "metadata": {},
     "output_type": "execute_result"
    },
    {
     "data": {
      "text/plain": [
       "50"
      ]
     },
     "execution_count": 51,
     "metadata": {},
     "output_type": "execute_result"
    },
    {
     "data": {
      "text/plain": [
       "50"
      ]
     },
     "execution_count": 51,
     "metadata": {},
     "output_type": "execute_result"
    },
    {
     "data": {
      "text/plain": [
       "50"
      ]
     },
     "execution_count": 51,
     "metadata": {},
     "output_type": "execute_result"
    },
    {
     "data": {
      "text/plain": [
       "50"
      ]
     },
     "execution_count": 51,
     "metadata": {},
     "output_type": "execute_result"
    },
    {
     "data": {
      "text/plain": [
       "50"
      ]
     },
     "execution_count": 51,
     "metadata": {},
     "output_type": "execute_result"
    },
    {
     "data": {
      "text/plain": [
       "50"
      ]
     },
     "execution_count": 51,
     "metadata": {},
     "output_type": "execute_result"
    },
    {
     "data": {
      "text/plain": [
       "50"
      ]
     },
     "execution_count": 51,
     "metadata": {},
     "output_type": "execute_result"
    },
    {
     "data": {
      "text/plain": [
       "50"
      ]
     },
     "execution_count": 51,
     "metadata": {},
     "output_type": "execute_result"
    },
    {
     "data": {
      "text/plain": [
       "50"
      ]
     },
     "execution_count": 51,
     "metadata": {},
     "output_type": "execute_result"
    },
    {
     "data": {
      "text/plain": [
       "50"
      ]
     },
     "execution_count": 51,
     "metadata": {},
     "output_type": "execute_result"
    },
    {
     "data": {
      "text/plain": [
       "50"
      ]
     },
     "execution_count": 51,
     "metadata": {},
     "output_type": "execute_result"
    },
    {
     "data": {
      "text/plain": [
       "50"
      ]
     },
     "execution_count": 51,
     "metadata": {},
     "output_type": "execute_result"
    },
    {
     "data": {
      "text/plain": [
       "50"
      ]
     },
     "execution_count": 51,
     "metadata": {},
     "output_type": "execute_result"
    },
    {
     "data": {
      "text/plain": [
       "50"
      ]
     },
     "execution_count": 51,
     "metadata": {},
     "output_type": "execute_result"
    },
    {
     "data": {
      "text/plain": [
       "50"
      ]
     },
     "execution_count": 51,
     "metadata": {},
     "output_type": "execute_result"
    },
    {
     "data": {
      "text/plain": [
       "50"
      ]
     },
     "execution_count": 51,
     "metadata": {},
     "output_type": "execute_result"
    },
    {
     "data": {
      "text/plain": [
       "50"
      ]
     },
     "execution_count": 51,
     "metadata": {},
     "output_type": "execute_result"
    },
    {
     "data": {
      "text/plain": [
       "50"
      ]
     },
     "execution_count": 51,
     "metadata": {},
     "output_type": "execute_result"
    },
    {
     "data": {
      "text/plain": [
       "50"
      ]
     },
     "execution_count": 51,
     "metadata": {},
     "output_type": "execute_result"
    },
    {
     "data": {
      "text/plain": [
       "50"
      ]
     },
     "execution_count": 51,
     "metadata": {},
     "output_type": "execute_result"
    },
    {
     "data": {
      "text/plain": [
       "50"
      ]
     },
     "execution_count": 51,
     "metadata": {},
     "output_type": "execute_result"
    },
    {
     "data": {
      "text/plain": [
       "50"
      ]
     },
     "execution_count": 51,
     "metadata": {},
     "output_type": "execute_result"
    },
    {
     "data": {
      "text/plain": [
       "50"
      ]
     },
     "execution_count": 51,
     "metadata": {},
     "output_type": "execute_result"
    },
    {
     "data": {
      "text/plain": [
       "50"
      ]
     },
     "execution_count": 51,
     "metadata": {},
     "output_type": "execute_result"
    },
    {
     "data": {
      "text/plain": [
       "50"
      ]
     },
     "execution_count": 51,
     "metadata": {},
     "output_type": "execute_result"
    },
    {
     "data": {
      "text/plain": [
       "50"
      ]
     },
     "execution_count": 51,
     "metadata": {},
     "output_type": "execute_result"
    },
    {
     "data": {
      "text/plain": [
       "50"
      ]
     },
     "execution_count": 51,
     "metadata": {},
     "output_type": "execute_result"
    },
    {
     "data": {
      "text/plain": [
       "50"
      ]
     },
     "execution_count": 51,
     "metadata": {},
     "output_type": "execute_result"
    },
    {
     "data": {
      "text/plain": [
       "50"
      ]
     },
     "execution_count": 51,
     "metadata": {},
     "output_type": "execute_result"
    },
    {
     "data": {
      "text/plain": [
       "50"
      ]
     },
     "execution_count": 51,
     "metadata": {},
     "output_type": "execute_result"
    },
    {
     "data": {
      "text/plain": [
       "50"
      ]
     },
     "execution_count": 51,
     "metadata": {},
     "output_type": "execute_result"
    },
    {
     "data": {
      "text/plain": [
       "50"
      ]
     },
     "execution_count": 51,
     "metadata": {},
     "output_type": "execute_result"
    },
    {
     "data": {
      "text/plain": [
       "50"
      ]
     },
     "execution_count": 51,
     "metadata": {},
     "output_type": "execute_result"
    },
    {
     "data": {
      "text/plain": [
       "50"
      ]
     },
     "execution_count": 51,
     "metadata": {},
     "output_type": "execute_result"
    },
    {
     "data": {
      "text/plain": [
       "50"
      ]
     },
     "execution_count": 51,
     "metadata": {},
     "output_type": "execute_result"
    },
    {
     "data": {
      "text/plain": [
       "50"
      ]
     },
     "execution_count": 51,
     "metadata": {},
     "output_type": "execute_result"
    },
    {
     "data": {
      "text/plain": [
       "50"
      ]
     },
     "execution_count": 51,
     "metadata": {},
     "output_type": "execute_result"
    },
    {
     "data": {
      "text/plain": [
       "50"
      ]
     },
     "execution_count": 51,
     "metadata": {},
     "output_type": "execute_result"
    },
    {
     "data": {
      "text/plain": [
       "50"
      ]
     },
     "execution_count": 51,
     "metadata": {},
     "output_type": "execute_result"
    },
    {
     "data": {
      "text/plain": [
       "50"
      ]
     },
     "execution_count": 51,
     "metadata": {},
     "output_type": "execute_result"
    },
    {
     "data": {
      "text/plain": [
       "50"
      ]
     },
     "execution_count": 51,
     "metadata": {},
     "output_type": "execute_result"
    },
    {
     "data": {
      "text/plain": [
       "50"
      ]
     },
     "execution_count": 51,
     "metadata": {},
     "output_type": "execute_result"
    },
    {
     "data": {
      "text/plain": [
       "50"
      ]
     },
     "execution_count": 51,
     "metadata": {},
     "output_type": "execute_result"
    },
    {
     "data": {
      "text/plain": [
       "50"
      ]
     },
     "execution_count": 51,
     "metadata": {},
     "output_type": "execute_result"
    },
    {
     "data": {
      "text/plain": [
       "50"
      ]
     },
     "execution_count": 51,
     "metadata": {},
     "output_type": "execute_result"
    },
    {
     "data": {
      "text/plain": [
       "50"
      ]
     },
     "execution_count": 51,
     "metadata": {},
     "output_type": "execute_result"
    },
    {
     "data": {
      "text/plain": [
       "50"
      ]
     },
     "execution_count": 51,
     "metadata": {},
     "output_type": "execute_result"
    },
    {
     "data": {
      "text/plain": [
       "50"
      ]
     },
     "execution_count": 51,
     "metadata": {},
     "output_type": "execute_result"
    },
    {
     "data": {
      "text/plain": [
       "50"
      ]
     },
     "execution_count": 51,
     "metadata": {},
     "output_type": "execute_result"
    },
    {
     "data": {
      "text/plain": [
       "50"
      ]
     },
     "execution_count": 51,
     "metadata": {},
     "output_type": "execute_result"
    },
    {
     "data": {
      "text/plain": [
       "50"
      ]
     },
     "execution_count": 51,
     "metadata": {},
     "output_type": "execute_result"
    },
    {
     "data": {
      "text/plain": [
       "50"
      ]
     },
     "execution_count": 51,
     "metadata": {},
     "output_type": "execute_result"
    },
    {
     "data": {
      "text/plain": [
       "50"
      ]
     },
     "execution_count": 51,
     "metadata": {},
     "output_type": "execute_result"
    },
    {
     "data": {
      "text/plain": [
       "50"
      ]
     },
     "execution_count": 51,
     "metadata": {},
     "output_type": "execute_result"
    },
    {
     "data": {
      "text/plain": [
       "50"
      ]
     },
     "execution_count": 51,
     "metadata": {},
     "output_type": "execute_result"
    },
    {
     "data": {
      "text/plain": [
       "50"
      ]
     },
     "execution_count": 51,
     "metadata": {},
     "output_type": "execute_result"
    },
    {
     "data": {
      "text/plain": [
       "50"
      ]
     },
     "execution_count": 51,
     "metadata": {},
     "output_type": "execute_result"
    },
    {
     "data": {
      "text/plain": [
       "50"
      ]
     },
     "execution_count": 51,
     "metadata": {},
     "output_type": "execute_result"
    },
    {
     "data": {
      "text/plain": [
       "50"
      ]
     },
     "execution_count": 51,
     "metadata": {},
     "output_type": "execute_result"
    },
    {
     "data": {
      "text/plain": [
       "50"
      ]
     },
     "execution_count": 51,
     "metadata": {},
     "output_type": "execute_result"
    },
    {
     "data": {
      "text/plain": [
       "50"
      ]
     },
     "execution_count": 51,
     "metadata": {},
     "output_type": "execute_result"
    },
    {
     "data": {
      "text/plain": [
       "50"
      ]
     },
     "execution_count": 51,
     "metadata": {},
     "output_type": "execute_result"
    },
    {
     "data": {
      "text/plain": [
       "50"
      ]
     },
     "execution_count": 51,
     "metadata": {},
     "output_type": "execute_result"
    },
    {
     "data": {
      "text/plain": [
       "50"
      ]
     },
     "execution_count": 51,
     "metadata": {},
     "output_type": "execute_result"
    },
    {
     "data": {
      "text/plain": [
       "50"
      ]
     },
     "execution_count": 51,
     "metadata": {},
     "output_type": "execute_result"
    },
    {
     "data": {
      "text/plain": [
       "50"
      ]
     },
     "execution_count": 51,
     "metadata": {},
     "output_type": "execute_result"
    },
    {
     "data": {
      "text/plain": [
       "50"
      ]
     },
     "execution_count": 51,
     "metadata": {},
     "output_type": "execute_result"
    },
    {
     "data": {
      "text/plain": [
       "50"
      ]
     },
     "execution_count": 51,
     "metadata": {},
     "output_type": "execute_result"
    },
    {
     "data": {
      "text/plain": [
       "50"
      ]
     },
     "execution_count": 51,
     "metadata": {},
     "output_type": "execute_result"
    },
    {
     "data": {
      "text/plain": [
       "50"
      ]
     },
     "execution_count": 51,
     "metadata": {},
     "output_type": "execute_result"
    },
    {
     "data": {
      "text/plain": [
       "50"
      ]
     },
     "execution_count": 51,
     "metadata": {},
     "output_type": "execute_result"
    },
    {
     "data": {
      "text/plain": [
       "50"
      ]
     },
     "execution_count": 51,
     "metadata": {},
     "output_type": "execute_result"
    },
    {
     "data": {
      "text/plain": [
       "50"
      ]
     },
     "execution_count": 51,
     "metadata": {},
     "output_type": "execute_result"
    },
    {
     "data": {
      "text/plain": [
       "50"
      ]
     },
     "execution_count": 51,
     "metadata": {},
     "output_type": "execute_result"
    },
    {
     "data": {
      "text/plain": [
       "50"
      ]
     },
     "execution_count": 51,
     "metadata": {},
     "output_type": "execute_result"
    },
    {
     "data": {
      "text/plain": [
       "50"
      ]
     },
     "execution_count": 51,
     "metadata": {},
     "output_type": "execute_result"
    },
    {
     "data": {
      "text/plain": [
       "50"
      ]
     },
     "execution_count": 51,
     "metadata": {},
     "output_type": "execute_result"
    },
    {
     "data": {
      "text/plain": [
       "50"
      ]
     },
     "execution_count": 51,
     "metadata": {},
     "output_type": "execute_result"
    },
    {
     "data": {
      "text/plain": [
       "50"
      ]
     },
     "execution_count": 51,
     "metadata": {},
     "output_type": "execute_result"
    },
    {
     "data": {
      "text/plain": [
       "50"
      ]
     },
     "execution_count": 51,
     "metadata": {},
     "output_type": "execute_result"
    },
    {
     "data": {
      "text/plain": [
       "50"
      ]
     },
     "execution_count": 51,
     "metadata": {},
     "output_type": "execute_result"
    },
    {
     "data": {
      "text/plain": [
       "50"
      ]
     },
     "execution_count": 51,
     "metadata": {},
     "output_type": "execute_result"
    },
    {
     "data": {
      "text/plain": [
       "50"
      ]
     },
     "execution_count": 51,
     "metadata": {},
     "output_type": "execute_result"
    },
    {
     "data": {
      "text/plain": [
       "50"
      ]
     },
     "execution_count": 51,
     "metadata": {},
     "output_type": "execute_result"
    },
    {
     "data": {
      "text/plain": [
       "50"
      ]
     },
     "execution_count": 51,
     "metadata": {},
     "output_type": "execute_result"
    },
    {
     "data": {
      "text/plain": [
       "50"
      ]
     },
     "execution_count": 51,
     "metadata": {},
     "output_type": "execute_result"
    },
    {
     "data": {
      "text/plain": [
       "50"
      ]
     },
     "execution_count": 51,
     "metadata": {},
     "output_type": "execute_result"
    },
    {
     "data": {
      "text/plain": [
       "50"
      ]
     },
     "execution_count": 51,
     "metadata": {},
     "output_type": "execute_result"
    },
    {
     "data": {
      "text/plain": [
       "50"
      ]
     },
     "execution_count": 51,
     "metadata": {},
     "output_type": "execute_result"
    },
    {
     "data": {
      "text/plain": [
       "50"
      ]
     },
     "execution_count": 51,
     "metadata": {},
     "output_type": "execute_result"
    },
    {
     "data": {
      "text/plain": [
       "50"
      ]
     },
     "execution_count": 51,
     "metadata": {},
     "output_type": "execute_result"
    },
    {
     "data": {
      "text/plain": [
       "50"
      ]
     },
     "execution_count": 51,
     "metadata": {},
     "output_type": "execute_result"
    },
    {
     "data": {
      "text/plain": [
       "50"
      ]
     },
     "execution_count": 51,
     "metadata": {},
     "output_type": "execute_result"
    },
    {
     "data": {
      "text/plain": [
       "50"
      ]
     },
     "execution_count": 51,
     "metadata": {},
     "output_type": "execute_result"
    },
    {
     "data": {
      "text/plain": [
       "50"
      ]
     },
     "execution_count": 51,
     "metadata": {},
     "output_type": "execute_result"
    },
    {
     "data": {
      "text/plain": [
       "50"
      ]
     },
     "execution_count": 51,
     "metadata": {},
     "output_type": "execute_result"
    },
    {
     "data": {
      "text/plain": [
       "50"
      ]
     },
     "execution_count": 51,
     "metadata": {},
     "output_type": "execute_result"
    },
    {
     "data": {
      "text/plain": [
       "50"
      ]
     },
     "execution_count": 51,
     "metadata": {},
     "output_type": "execute_result"
    },
    {
     "data": {
      "text/plain": [
       "50"
      ]
     },
     "execution_count": 51,
     "metadata": {},
     "output_type": "execute_result"
    },
    {
     "data": {
      "text/plain": [
       "50"
      ]
     },
     "execution_count": 51,
     "metadata": {},
     "output_type": "execute_result"
    },
    {
     "data": {
      "text/plain": [
       "50"
      ]
     },
     "execution_count": 51,
     "metadata": {},
     "output_type": "execute_result"
    },
    {
     "data": {
      "text/plain": [
       "50"
      ]
     },
     "execution_count": 51,
     "metadata": {},
     "output_type": "execute_result"
    },
    {
     "data": {
      "text/plain": [
       "50"
      ]
     },
     "execution_count": 51,
     "metadata": {},
     "output_type": "execute_result"
    },
    {
     "data": {
      "text/plain": [
       "50"
      ]
     },
     "execution_count": 51,
     "metadata": {},
     "output_type": "execute_result"
    },
    {
     "data": {
      "text/plain": [
       "50"
      ]
     },
     "execution_count": 51,
     "metadata": {},
     "output_type": "execute_result"
    },
    {
     "data": {
      "text/plain": [
       "50"
      ]
     },
     "execution_count": 51,
     "metadata": {},
     "output_type": "execute_result"
    },
    {
     "data": {
      "text/plain": [
       "50"
      ]
     },
     "execution_count": 51,
     "metadata": {},
     "output_type": "execute_result"
    },
    {
     "data": {
      "text/plain": [
       "50"
      ]
     },
     "execution_count": 51,
     "metadata": {},
     "output_type": "execute_result"
    },
    {
     "data": {
      "text/plain": [
       "50"
      ]
     },
     "execution_count": 51,
     "metadata": {},
     "output_type": "execute_result"
    },
    {
     "data": {
      "text/plain": [
       "50"
      ]
     },
     "execution_count": 51,
     "metadata": {},
     "output_type": "execute_result"
    },
    {
     "data": {
      "text/plain": [
       "50"
      ]
     },
     "execution_count": 51,
     "metadata": {},
     "output_type": "execute_result"
    },
    {
     "data": {
      "text/plain": [
       "50"
      ]
     },
     "execution_count": 51,
     "metadata": {},
     "output_type": "execute_result"
    },
    {
     "data": {
      "text/plain": [
       "50"
      ]
     },
     "execution_count": 51,
     "metadata": {},
     "output_type": "execute_result"
    },
    {
     "data": {
      "text/plain": [
       "50"
      ]
     },
     "execution_count": 51,
     "metadata": {},
     "output_type": "execute_result"
    },
    {
     "data": {
      "text/plain": [
       "50"
      ]
     },
     "execution_count": 51,
     "metadata": {},
     "output_type": "execute_result"
    },
    {
     "data": {
      "text/plain": [
       "50"
      ]
     },
     "execution_count": 51,
     "metadata": {},
     "output_type": "execute_result"
    },
    {
     "data": {
      "text/plain": [
       "50"
      ]
     },
     "execution_count": 51,
     "metadata": {},
     "output_type": "execute_result"
    },
    {
     "data": {
      "text/plain": [
       "50"
      ]
     },
     "execution_count": 51,
     "metadata": {},
     "output_type": "execute_result"
    },
    {
     "data": {
      "text/plain": [
       "50"
      ]
     },
     "execution_count": 51,
     "metadata": {},
     "output_type": "execute_result"
    },
    {
     "data": {
      "text/plain": [
       "50"
      ]
     },
     "execution_count": 51,
     "metadata": {},
     "output_type": "execute_result"
    },
    {
     "data": {
      "text/plain": [
       "50"
      ]
     },
     "execution_count": 51,
     "metadata": {},
     "output_type": "execute_result"
    },
    {
     "data": {
      "text/plain": [
       "50"
      ]
     },
     "execution_count": 51,
     "metadata": {},
     "output_type": "execute_result"
    },
    {
     "data": {
      "text/plain": [
       "50"
      ]
     },
     "execution_count": 51,
     "metadata": {},
     "output_type": "execute_result"
    },
    {
     "data": {
      "text/plain": [
       "50"
      ]
     },
     "execution_count": 51,
     "metadata": {},
     "output_type": "execute_result"
    },
    {
     "data": {
      "text/plain": [
       "50"
      ]
     },
     "execution_count": 51,
     "metadata": {},
     "output_type": "execute_result"
    },
    {
     "data": {
      "text/plain": [
       "50"
      ]
     },
     "execution_count": 51,
     "metadata": {},
     "output_type": "execute_result"
    },
    {
     "data": {
      "text/plain": [
       "50"
      ]
     },
     "execution_count": 51,
     "metadata": {},
     "output_type": "execute_result"
    },
    {
     "data": {
      "text/plain": [
       "50"
      ]
     },
     "execution_count": 51,
     "metadata": {},
     "output_type": "execute_result"
    },
    {
     "data": {
      "text/plain": [
       "50"
      ]
     },
     "execution_count": 51,
     "metadata": {},
     "output_type": "execute_result"
    },
    {
     "data": {
      "text/plain": [
       "50"
      ]
     },
     "execution_count": 51,
     "metadata": {},
     "output_type": "execute_result"
    },
    {
     "data": {
      "text/plain": [
       "50"
      ]
     },
     "execution_count": 51,
     "metadata": {},
     "output_type": "execute_result"
    },
    {
     "data": {
      "text/plain": [
       "50"
      ]
     },
     "execution_count": 51,
     "metadata": {},
     "output_type": "execute_result"
    },
    {
     "data": {
      "text/plain": [
       "50"
      ]
     },
     "execution_count": 51,
     "metadata": {},
     "output_type": "execute_result"
    },
    {
     "data": {
      "text/plain": [
       "50"
      ]
     },
     "execution_count": 51,
     "metadata": {},
     "output_type": "execute_result"
    },
    {
     "data": {
      "text/plain": [
       "50"
      ]
     },
     "execution_count": 51,
     "metadata": {},
     "output_type": "execute_result"
    },
    {
     "data": {
      "text/plain": [
       "50"
      ]
     },
     "execution_count": 51,
     "metadata": {},
     "output_type": "execute_result"
    },
    {
     "data": {
      "text/plain": [
       "50"
      ]
     },
     "execution_count": 51,
     "metadata": {},
     "output_type": "execute_result"
    },
    {
     "data": {
      "text/plain": [
       "50"
      ]
     },
     "execution_count": 51,
     "metadata": {},
     "output_type": "execute_result"
    },
    {
     "data": {
      "text/plain": [
       "50"
      ]
     },
     "execution_count": 51,
     "metadata": {},
     "output_type": "execute_result"
    },
    {
     "data": {
      "text/plain": [
       "50"
      ]
     },
     "execution_count": 51,
     "metadata": {},
     "output_type": "execute_result"
    },
    {
     "data": {
      "text/plain": [
       "50"
      ]
     },
     "execution_count": 51,
     "metadata": {},
     "output_type": "execute_result"
    },
    {
     "data": {
      "text/plain": [
       "50"
      ]
     },
     "execution_count": 51,
     "metadata": {},
     "output_type": "execute_result"
    },
    {
     "data": {
      "text/plain": [
       "50"
      ]
     },
     "execution_count": 51,
     "metadata": {},
     "output_type": "execute_result"
    },
    {
     "data": {
      "text/plain": [
       "50"
      ]
     },
     "execution_count": 51,
     "metadata": {},
     "output_type": "execute_result"
    },
    {
     "data": {
      "text/plain": [
       "50"
      ]
     },
     "execution_count": 51,
     "metadata": {},
     "output_type": "execute_result"
    },
    {
     "data": {
      "text/plain": [
       "50"
      ]
     },
     "execution_count": 51,
     "metadata": {},
     "output_type": "execute_result"
    },
    {
     "data": {
      "text/plain": [
       "50"
      ]
     },
     "execution_count": 51,
     "metadata": {},
     "output_type": "execute_result"
    },
    {
     "data": {
      "text/plain": [
       "50"
      ]
     },
     "execution_count": 51,
     "metadata": {},
     "output_type": "execute_result"
    },
    {
     "data": {
      "text/plain": [
       "50"
      ]
     },
     "execution_count": 51,
     "metadata": {},
     "output_type": "execute_result"
    },
    {
     "data": {
      "text/plain": [
       "50"
      ]
     },
     "execution_count": 51,
     "metadata": {},
     "output_type": "execute_result"
    },
    {
     "data": {
      "text/plain": [
       "50"
      ]
     },
     "execution_count": 51,
     "metadata": {},
     "output_type": "execute_result"
    },
    {
     "data": {
      "text/plain": [
       "50"
      ]
     },
     "execution_count": 51,
     "metadata": {},
     "output_type": "execute_result"
    },
    {
     "data": {
      "text/plain": [
       "50"
      ]
     },
     "execution_count": 51,
     "metadata": {},
     "output_type": "execute_result"
    },
    {
     "data": {
      "text/plain": [
       "50"
      ]
     },
     "execution_count": 51,
     "metadata": {},
     "output_type": "execute_result"
    },
    {
     "data": {
      "text/plain": [
       "50"
      ]
     },
     "execution_count": 51,
     "metadata": {},
     "output_type": "execute_result"
    },
    {
     "data": {
      "text/plain": [
       "50"
      ]
     },
     "execution_count": 51,
     "metadata": {},
     "output_type": "execute_result"
    },
    {
     "data": {
      "text/plain": [
       "50"
      ]
     },
     "execution_count": 51,
     "metadata": {},
     "output_type": "execute_result"
    },
    {
     "data": {
      "text/plain": [
       "50"
      ]
     },
     "execution_count": 51,
     "metadata": {},
     "output_type": "execute_result"
    },
    {
     "data": {
      "text/plain": [
       "50"
      ]
     },
     "execution_count": 51,
     "metadata": {},
     "output_type": "execute_result"
    },
    {
     "data": {
      "text/plain": [
       "50"
      ]
     },
     "execution_count": 51,
     "metadata": {},
     "output_type": "execute_result"
    },
    {
     "data": {
      "text/plain": [
       "50"
      ]
     },
     "execution_count": 51,
     "metadata": {},
     "output_type": "execute_result"
    },
    {
     "data": {
      "text/plain": [
       "50"
      ]
     },
     "execution_count": 51,
     "metadata": {},
     "output_type": "execute_result"
    },
    {
     "data": {
      "text/plain": [
       "50"
      ]
     },
     "execution_count": 51,
     "metadata": {},
     "output_type": "execute_result"
    },
    {
     "data": {
      "text/plain": [
       "50"
      ]
     },
     "execution_count": 51,
     "metadata": {},
     "output_type": "execute_result"
    },
    {
     "data": {
      "text/plain": [
       "50"
      ]
     },
     "execution_count": 51,
     "metadata": {},
     "output_type": "execute_result"
    },
    {
     "data": {
      "text/plain": [
       "50"
      ]
     },
     "execution_count": 51,
     "metadata": {},
     "output_type": "execute_result"
    },
    {
     "data": {
      "text/plain": [
       "50"
      ]
     },
     "execution_count": 51,
     "metadata": {},
     "output_type": "execute_result"
    },
    {
     "data": {
      "text/plain": [
       "50"
      ]
     },
     "execution_count": 51,
     "metadata": {},
     "output_type": "execute_result"
    },
    {
     "data": {
      "text/plain": [
       "50"
      ]
     },
     "execution_count": 51,
     "metadata": {},
     "output_type": "execute_result"
    },
    {
     "data": {
      "text/plain": [
       "50"
      ]
     },
     "execution_count": 51,
     "metadata": {},
     "output_type": "execute_result"
    },
    {
     "data": {
      "text/plain": [
       "50"
      ]
     },
     "execution_count": 51,
     "metadata": {},
     "output_type": "execute_result"
    },
    {
     "data": {
      "text/plain": [
       "50"
      ]
     },
     "execution_count": 51,
     "metadata": {},
     "output_type": "execute_result"
    },
    {
     "data": {
      "text/plain": [
       "50"
      ]
     },
     "execution_count": 51,
     "metadata": {},
     "output_type": "execute_result"
    },
    {
     "data": {
      "text/plain": [
       "50"
      ]
     },
     "execution_count": 51,
     "metadata": {},
     "output_type": "execute_result"
    },
    {
     "data": {
      "text/plain": [
       "50"
      ]
     },
     "execution_count": 51,
     "metadata": {},
     "output_type": "execute_result"
    },
    {
     "data": {
      "text/plain": [
       "50"
      ]
     },
     "execution_count": 51,
     "metadata": {},
     "output_type": "execute_result"
    },
    {
     "data": {
      "text/plain": [
       "50"
      ]
     },
     "execution_count": 51,
     "metadata": {},
     "output_type": "execute_result"
    },
    {
     "data": {
      "text/plain": [
       "50"
      ]
     },
     "execution_count": 51,
     "metadata": {},
     "output_type": "execute_result"
    },
    {
     "data": {
      "text/plain": [
       "50"
      ]
     },
     "execution_count": 51,
     "metadata": {},
     "output_type": "execute_result"
    },
    {
     "data": {
      "text/plain": [
       "50"
      ]
     },
     "execution_count": 51,
     "metadata": {},
     "output_type": "execute_result"
    },
    {
     "data": {
      "text/plain": [
       "50"
      ]
     },
     "execution_count": 51,
     "metadata": {},
     "output_type": "execute_result"
    },
    {
     "data": {
      "text/plain": [
       "50"
      ]
     },
     "execution_count": 51,
     "metadata": {},
     "output_type": "execute_result"
    },
    {
     "data": {
      "text/plain": [
       "50"
      ]
     },
     "execution_count": 51,
     "metadata": {},
     "output_type": "execute_result"
    },
    {
     "data": {
      "text/plain": [
       "50"
      ]
     },
     "execution_count": 51,
     "metadata": {},
     "output_type": "execute_result"
    },
    {
     "data": {
      "text/plain": [
       "50"
      ]
     },
     "execution_count": 51,
     "metadata": {},
     "output_type": "execute_result"
    },
    {
     "data": {
      "text/plain": [
       "50"
      ]
     },
     "execution_count": 51,
     "metadata": {},
     "output_type": "execute_result"
    },
    {
     "data": {
      "text/plain": [
       "50"
      ]
     },
     "execution_count": 51,
     "metadata": {},
     "output_type": "execute_result"
    },
    {
     "data": {
      "text/plain": [
       "50"
      ]
     },
     "execution_count": 51,
     "metadata": {},
     "output_type": "execute_result"
    },
    {
     "data": {
      "text/plain": [
       "50"
      ]
     },
     "execution_count": 51,
     "metadata": {},
     "output_type": "execute_result"
    },
    {
     "data": {
      "text/plain": [
       "50"
      ]
     },
     "execution_count": 51,
     "metadata": {},
     "output_type": "execute_result"
    },
    {
     "data": {
      "text/plain": [
       "50"
      ]
     },
     "execution_count": 51,
     "metadata": {},
     "output_type": "execute_result"
    },
    {
     "data": {
      "text/plain": [
       "50"
      ]
     },
     "execution_count": 51,
     "metadata": {},
     "output_type": "execute_result"
    },
    {
     "data": {
      "text/plain": [
       "50"
      ]
     },
     "execution_count": 51,
     "metadata": {},
     "output_type": "execute_result"
    },
    {
     "data": {
      "text/plain": [
       "50"
      ]
     },
     "execution_count": 51,
     "metadata": {},
     "output_type": "execute_result"
    },
    {
     "data": {
      "text/plain": [
       "50"
      ]
     },
     "execution_count": 51,
     "metadata": {},
     "output_type": "execute_result"
    },
    {
     "data": {
      "text/plain": [
       "50"
      ]
     },
     "execution_count": 51,
     "metadata": {},
     "output_type": "execute_result"
    },
    {
     "data": {
      "text/plain": [
       "50"
      ]
     },
     "execution_count": 51,
     "metadata": {},
     "output_type": "execute_result"
    },
    {
     "data": {
      "text/plain": [
       "50"
      ]
     },
     "execution_count": 51,
     "metadata": {},
     "output_type": "execute_result"
    },
    {
     "data": {
      "text/plain": [
       "50"
      ]
     },
     "execution_count": 51,
     "metadata": {},
     "output_type": "execute_result"
    },
    {
     "data": {
      "text/plain": [
       "50"
      ]
     },
     "execution_count": 51,
     "metadata": {},
     "output_type": "execute_result"
    },
    {
     "data": {
      "text/plain": [
       "50"
      ]
     },
     "execution_count": 51,
     "metadata": {},
     "output_type": "execute_result"
    },
    {
     "data": {
      "text/plain": [
       "50"
      ]
     },
     "execution_count": 51,
     "metadata": {},
     "output_type": "execute_result"
    },
    {
     "data": {
      "text/plain": [
       "50"
      ]
     },
     "execution_count": 51,
     "metadata": {},
     "output_type": "execute_result"
    },
    {
     "data": {
      "text/plain": [
       "50"
      ]
     },
     "execution_count": 51,
     "metadata": {},
     "output_type": "execute_result"
    },
    {
     "data": {
      "text/plain": [
       "50"
      ]
     },
     "execution_count": 51,
     "metadata": {},
     "output_type": "execute_result"
    },
    {
     "data": {
      "text/plain": [
       "50"
      ]
     },
     "execution_count": 51,
     "metadata": {},
     "output_type": "execute_result"
    },
    {
     "data": {
      "text/plain": [
       "50"
      ]
     },
     "execution_count": 51,
     "metadata": {},
     "output_type": "execute_result"
    },
    {
     "data": {
      "text/plain": [
       "50"
      ]
     },
     "execution_count": 51,
     "metadata": {},
     "output_type": "execute_result"
    },
    {
     "data": {
      "text/plain": [
       "50"
      ]
     },
     "execution_count": 51,
     "metadata": {},
     "output_type": "execute_result"
    },
    {
     "data": {
      "text/plain": [
       "50"
      ]
     },
     "execution_count": 51,
     "metadata": {},
     "output_type": "execute_result"
    },
    {
     "data": {
      "text/plain": [
       "50"
      ]
     },
     "execution_count": 51,
     "metadata": {},
     "output_type": "execute_result"
    },
    {
     "data": {
      "text/plain": [
       "50"
      ]
     },
     "execution_count": 51,
     "metadata": {},
     "output_type": "execute_result"
    },
    {
     "data": {
      "text/plain": [
       "50"
      ]
     },
     "execution_count": 51,
     "metadata": {},
     "output_type": "execute_result"
    },
    {
     "data": {
      "text/plain": [
       "50"
      ]
     },
     "execution_count": 51,
     "metadata": {},
     "output_type": "execute_result"
    },
    {
     "data": {
      "text/plain": [
       "50"
      ]
     },
     "execution_count": 51,
     "metadata": {},
     "output_type": "execute_result"
    },
    {
     "data": {
      "text/plain": [
       "50"
      ]
     },
     "execution_count": 51,
     "metadata": {},
     "output_type": "execute_result"
    },
    {
     "data": {
      "text/plain": [
       "50"
      ]
     },
     "execution_count": 51,
     "metadata": {},
     "output_type": "execute_result"
    },
    {
     "data": {
      "text/plain": [
       "50"
      ]
     },
     "execution_count": 51,
     "metadata": {},
     "output_type": "execute_result"
    },
    {
     "data": {
      "text/plain": [
       "50"
      ]
     },
     "execution_count": 51,
     "metadata": {},
     "output_type": "execute_result"
    },
    {
     "data": {
      "text/plain": [
       "50"
      ]
     },
     "execution_count": 51,
     "metadata": {},
     "output_type": "execute_result"
    },
    {
     "data": {
      "text/plain": [
       "50"
      ]
     },
     "execution_count": 51,
     "metadata": {},
     "output_type": "execute_result"
    },
    {
     "data": {
      "text/plain": [
       "50"
      ]
     },
     "execution_count": 51,
     "metadata": {},
     "output_type": "execute_result"
    },
    {
     "data": {
      "text/plain": [
       "50"
      ]
     },
     "execution_count": 51,
     "metadata": {},
     "output_type": "execute_result"
    },
    {
     "data": {
      "text/plain": [
       "50"
      ]
     },
     "execution_count": 51,
     "metadata": {},
     "output_type": "execute_result"
    },
    {
     "data": {
      "text/plain": [
       "50"
      ]
     },
     "execution_count": 51,
     "metadata": {},
     "output_type": "execute_result"
    },
    {
     "data": {
      "text/plain": [
       "50"
      ]
     },
     "execution_count": 51,
     "metadata": {},
     "output_type": "execute_result"
    },
    {
     "data": {
      "text/plain": [
       "50"
      ]
     },
     "execution_count": 51,
     "metadata": {},
     "output_type": "execute_result"
    },
    {
     "data": {
      "text/plain": [
       "50"
      ]
     },
     "execution_count": 51,
     "metadata": {},
     "output_type": "execute_result"
    },
    {
     "data": {
      "text/plain": [
       "50"
      ]
     },
     "execution_count": 51,
     "metadata": {},
     "output_type": "execute_result"
    },
    {
     "data": {
      "text/plain": [
       "50"
      ]
     },
     "execution_count": 51,
     "metadata": {},
     "output_type": "execute_result"
    },
    {
     "data": {
      "text/plain": [
       "50"
      ]
     },
     "execution_count": 51,
     "metadata": {},
     "output_type": "execute_result"
    },
    {
     "data": {
      "text/plain": [
       "50"
      ]
     },
     "execution_count": 51,
     "metadata": {},
     "output_type": "execute_result"
    },
    {
     "data": {
      "text/plain": [
       "50"
      ]
     },
     "execution_count": 51,
     "metadata": {},
     "output_type": "execute_result"
    },
    {
     "data": {
      "text/plain": [
       "50"
      ]
     },
     "execution_count": 51,
     "metadata": {},
     "output_type": "execute_result"
    },
    {
     "data": {
      "text/plain": [
       "50"
      ]
     },
     "execution_count": 51,
     "metadata": {},
     "output_type": "execute_result"
    },
    {
     "data": {
      "text/plain": [
       "50"
      ]
     },
     "execution_count": 51,
     "metadata": {},
     "output_type": "execute_result"
    },
    {
     "data": {
      "text/plain": [
       "50"
      ]
     },
     "execution_count": 51,
     "metadata": {},
     "output_type": "execute_result"
    },
    {
     "data": {
      "text/plain": [
       "50"
      ]
     },
     "execution_count": 51,
     "metadata": {},
     "output_type": "execute_result"
    },
    {
     "data": {
      "text/plain": [
       "50"
      ]
     },
     "execution_count": 51,
     "metadata": {},
     "output_type": "execute_result"
    },
    {
     "data": {
      "text/plain": [
       "50"
      ]
     },
     "execution_count": 51,
     "metadata": {},
     "output_type": "execute_result"
    },
    {
     "data": {
      "text/plain": [
       "50"
      ]
     },
     "execution_count": 51,
     "metadata": {},
     "output_type": "execute_result"
    },
    {
     "data": {
      "text/plain": [
       "50"
      ]
     },
     "execution_count": 51,
     "metadata": {},
     "output_type": "execute_result"
    },
    {
     "data": {
      "text/plain": [
       "50"
      ]
     },
     "execution_count": 51,
     "metadata": {},
     "output_type": "execute_result"
    },
    {
     "data": {
      "text/plain": [
       "50"
      ]
     },
     "execution_count": 51,
     "metadata": {},
     "output_type": "execute_result"
    },
    {
     "data": {
      "text/plain": [
       "50"
      ]
     },
     "execution_count": 51,
     "metadata": {},
     "output_type": "execute_result"
    },
    {
     "data": {
      "text/plain": [
       "50"
      ]
     },
     "execution_count": 51,
     "metadata": {},
     "output_type": "execute_result"
    },
    {
     "data": {
      "text/plain": [
       "50"
      ]
     },
     "execution_count": 51,
     "metadata": {},
     "output_type": "execute_result"
    },
    {
     "data": {
      "text/plain": [
       "50"
      ]
     },
     "execution_count": 51,
     "metadata": {},
     "output_type": "execute_result"
    },
    {
     "data": {
      "text/plain": [
       "50"
      ]
     },
     "execution_count": 51,
     "metadata": {},
     "output_type": "execute_result"
    },
    {
     "data": {
      "text/plain": [
       "50"
      ]
     },
     "execution_count": 51,
     "metadata": {},
     "output_type": "execute_result"
    },
    {
     "data": {
      "text/plain": [
       "50"
      ]
     },
     "execution_count": 51,
     "metadata": {},
     "output_type": "execute_result"
    },
    {
     "data": {
      "text/plain": [
       "50"
      ]
     },
     "execution_count": 51,
     "metadata": {},
     "output_type": "execute_result"
    },
    {
     "data": {
      "text/plain": [
       "50"
      ]
     },
     "execution_count": 51,
     "metadata": {},
     "output_type": "execute_result"
    },
    {
     "data": {
      "text/plain": [
       "50"
      ]
     },
     "execution_count": 51,
     "metadata": {},
     "output_type": "execute_result"
    },
    {
     "data": {
      "text/plain": [
       "50"
      ]
     },
     "execution_count": 51,
     "metadata": {},
     "output_type": "execute_result"
    },
    {
     "data": {
      "text/plain": [
       "50"
      ]
     },
     "execution_count": 51,
     "metadata": {},
     "output_type": "execute_result"
    },
    {
     "data": {
      "text/plain": [
       "50"
      ]
     },
     "execution_count": 51,
     "metadata": {},
     "output_type": "execute_result"
    },
    {
     "data": {
      "text/plain": [
       "50"
      ]
     },
     "execution_count": 51,
     "metadata": {},
     "output_type": "execute_result"
    },
    {
     "data": {
      "text/plain": [
       "50"
      ]
     },
     "execution_count": 51,
     "metadata": {},
     "output_type": "execute_result"
    },
    {
     "data": {
      "text/plain": [
       "50"
      ]
     },
     "execution_count": 51,
     "metadata": {},
     "output_type": "execute_result"
    },
    {
     "data": {
      "text/plain": [
       "50"
      ]
     },
     "execution_count": 51,
     "metadata": {},
     "output_type": "execute_result"
    },
    {
     "data": {
      "text/plain": [
       "50"
      ]
     },
     "execution_count": 51,
     "metadata": {},
     "output_type": "execute_result"
    },
    {
     "data": {
      "text/plain": [
       "50"
      ]
     },
     "execution_count": 51,
     "metadata": {},
     "output_type": "execute_result"
    },
    {
     "data": {
      "text/plain": [
       "50"
      ]
     },
     "execution_count": 51,
     "metadata": {},
     "output_type": "execute_result"
    },
    {
     "data": {
      "text/plain": [
       "50"
      ]
     },
     "execution_count": 51,
     "metadata": {},
     "output_type": "execute_result"
    },
    {
     "data": {
      "text/plain": [
       "50"
      ]
     },
     "execution_count": 51,
     "metadata": {},
     "output_type": "execute_result"
    },
    {
     "data": {
      "text/plain": [
       "50"
      ]
     },
     "execution_count": 51,
     "metadata": {},
     "output_type": "execute_result"
    },
    {
     "data": {
      "text/plain": [
       "50"
      ]
     },
     "execution_count": 51,
     "metadata": {},
     "output_type": "execute_result"
    },
    {
     "data": {
      "text/plain": [
       "50"
      ]
     },
     "execution_count": 51,
     "metadata": {},
     "output_type": "execute_result"
    },
    {
     "data": {
      "text/plain": [
       "50"
      ]
     },
     "execution_count": 51,
     "metadata": {},
     "output_type": "execute_result"
    },
    {
     "data": {
      "text/plain": [
       "50"
      ]
     },
     "execution_count": 51,
     "metadata": {},
     "output_type": "execute_result"
    },
    {
     "data": {
      "text/plain": [
       "50"
      ]
     },
     "execution_count": 51,
     "metadata": {},
     "output_type": "execute_result"
    },
    {
     "data": {
      "text/plain": [
       "50"
      ]
     },
     "execution_count": 51,
     "metadata": {},
     "output_type": "execute_result"
    },
    {
     "data": {
      "text/plain": [
       "50"
      ]
     },
     "execution_count": 51,
     "metadata": {},
     "output_type": "execute_result"
    },
    {
     "data": {
      "text/plain": [
       "50"
      ]
     },
     "execution_count": 51,
     "metadata": {},
     "output_type": "execute_result"
    },
    {
     "data": {
      "text/plain": [
       "50"
      ]
     },
     "execution_count": 51,
     "metadata": {},
     "output_type": "execute_result"
    },
    {
     "data": {
      "text/plain": [
       "50"
      ]
     },
     "execution_count": 51,
     "metadata": {},
     "output_type": "execute_result"
    },
    {
     "data": {
      "text/plain": [
       "50"
      ]
     },
     "execution_count": 51,
     "metadata": {},
     "output_type": "execute_result"
    },
    {
     "data": {
      "text/plain": [
       "50"
      ]
     },
     "execution_count": 51,
     "metadata": {},
     "output_type": "execute_result"
    },
    {
     "data": {
      "text/plain": [
       "50"
      ]
     },
     "execution_count": 51,
     "metadata": {},
     "output_type": "execute_result"
    },
    {
     "data": {
      "text/plain": [
       "50"
      ]
     },
     "execution_count": 51,
     "metadata": {},
     "output_type": "execute_result"
    },
    {
     "data": {
      "text/plain": [
       "50"
      ]
     },
     "execution_count": 51,
     "metadata": {},
     "output_type": "execute_result"
    },
    {
     "data": {
      "text/plain": [
       "50"
      ]
     },
     "execution_count": 51,
     "metadata": {},
     "output_type": "execute_result"
    },
    {
     "data": {
      "text/plain": [
       "50"
      ]
     },
     "execution_count": 51,
     "metadata": {},
     "output_type": "execute_result"
    },
    {
     "data": {
      "text/plain": [
       "50"
      ]
     },
     "execution_count": 51,
     "metadata": {},
     "output_type": "execute_result"
    },
    {
     "data": {
      "text/plain": [
       "50"
      ]
     },
     "execution_count": 51,
     "metadata": {},
     "output_type": "execute_result"
    },
    {
     "data": {
      "text/plain": [
       "50"
      ]
     },
     "execution_count": 51,
     "metadata": {},
     "output_type": "execute_result"
    },
    {
     "data": {
      "text/plain": [
       "50"
      ]
     },
     "execution_count": 51,
     "metadata": {},
     "output_type": "execute_result"
    },
    {
     "data": {
      "text/plain": [
       "50"
      ]
     },
     "execution_count": 51,
     "metadata": {},
     "output_type": "execute_result"
    },
    {
     "data": {
      "text/plain": [
       "50"
      ]
     },
     "execution_count": 51,
     "metadata": {},
     "output_type": "execute_result"
    },
    {
     "data": {
      "text/plain": [
       "50"
      ]
     },
     "execution_count": 51,
     "metadata": {},
     "output_type": "execute_result"
    },
    {
     "data": {
      "text/plain": [
       "50"
      ]
     },
     "execution_count": 51,
     "metadata": {},
     "output_type": "execute_result"
    },
    {
     "data": {
      "text/plain": [
       "50"
      ]
     },
     "execution_count": 51,
     "metadata": {},
     "output_type": "execute_result"
    },
    {
     "data": {
      "text/plain": [
       "50"
      ]
     },
     "execution_count": 51,
     "metadata": {},
     "output_type": "execute_result"
    },
    {
     "data": {
      "text/plain": [
       "50"
      ]
     },
     "execution_count": 51,
     "metadata": {},
     "output_type": "execute_result"
    },
    {
     "data": {
      "text/plain": [
       "50"
      ]
     },
     "execution_count": 51,
     "metadata": {},
     "output_type": "execute_result"
    },
    {
     "data": {
      "text/plain": [
       "50"
      ]
     },
     "execution_count": 51,
     "metadata": {},
     "output_type": "execute_result"
    },
    {
     "data": {
      "text/plain": [
       "50"
      ]
     },
     "execution_count": 51,
     "metadata": {},
     "output_type": "execute_result"
    },
    {
     "data": {
      "text/plain": [
       "50"
      ]
     },
     "execution_count": 51,
     "metadata": {},
     "output_type": "execute_result"
    },
    {
     "data": {
      "text/plain": [
       "50"
      ]
     },
     "execution_count": 51,
     "metadata": {},
     "output_type": "execute_result"
    },
    {
     "data": {
      "text/plain": [
       "50"
      ]
     },
     "execution_count": 51,
     "metadata": {},
     "output_type": "execute_result"
    },
    {
     "data": {
      "text/plain": [
       "50"
      ]
     },
     "execution_count": 51,
     "metadata": {},
     "output_type": "execute_result"
    },
    {
     "data": {
      "text/plain": [
       "50"
      ]
     },
     "execution_count": 51,
     "metadata": {},
     "output_type": "execute_result"
    },
    {
     "data": {
      "text/plain": [
       "50"
      ]
     },
     "execution_count": 51,
     "metadata": {},
     "output_type": "execute_result"
    },
    {
     "data": {
      "text/plain": [
       "50"
      ]
     },
     "execution_count": 51,
     "metadata": {},
     "output_type": "execute_result"
    },
    {
     "data": {
      "text/plain": [
       "50"
      ]
     },
     "execution_count": 51,
     "metadata": {},
     "output_type": "execute_result"
    },
    {
     "data": {
      "text/plain": [
       "50"
      ]
     },
     "execution_count": 51,
     "metadata": {},
     "output_type": "execute_result"
    },
    {
     "data": {
      "text/plain": [
       "50"
      ]
     },
     "execution_count": 51,
     "metadata": {},
     "output_type": "execute_result"
    },
    {
     "data": {
      "text/plain": [
       "50"
      ]
     },
     "execution_count": 51,
     "metadata": {},
     "output_type": "execute_result"
    },
    {
     "data": {
      "text/plain": [
       "50"
      ]
     },
     "execution_count": 51,
     "metadata": {},
     "output_type": "execute_result"
    },
    {
     "data": {
      "text/plain": [
       "50"
      ]
     },
     "execution_count": 51,
     "metadata": {},
     "output_type": "execute_result"
    },
    {
     "data": {
      "text/plain": [
       "50"
      ]
     },
     "execution_count": 51,
     "metadata": {},
     "output_type": "execute_result"
    },
    {
     "data": {
      "text/plain": [
       "50"
      ]
     },
     "execution_count": 51,
     "metadata": {},
     "output_type": "execute_result"
    },
    {
     "data": {
      "text/plain": [
       "50"
      ]
     },
     "execution_count": 51,
     "metadata": {},
     "output_type": "execute_result"
    },
    {
     "data": {
      "text/plain": [
       "50"
      ]
     },
     "execution_count": 51,
     "metadata": {},
     "output_type": "execute_result"
    },
    {
     "data": {
      "text/plain": [
       "50"
      ]
     },
     "execution_count": 51,
     "metadata": {},
     "output_type": "execute_result"
    },
    {
     "data": {
      "text/plain": [
       "50"
      ]
     },
     "execution_count": 51,
     "metadata": {},
     "output_type": "execute_result"
    },
    {
     "data": {
      "text/plain": [
       "50"
      ]
     },
     "execution_count": 51,
     "metadata": {},
     "output_type": "execute_result"
    },
    {
     "data": {
      "text/plain": [
       "50"
      ]
     },
     "execution_count": 51,
     "metadata": {},
     "output_type": "execute_result"
    },
    {
     "data": {
      "text/plain": [
       "50"
      ]
     },
     "execution_count": 51,
     "metadata": {},
     "output_type": "execute_result"
    },
    {
     "data": {
      "text/plain": [
       "50"
      ]
     },
     "execution_count": 51,
     "metadata": {},
     "output_type": "execute_result"
    },
    {
     "data": {
      "text/plain": [
       "50"
      ]
     },
     "execution_count": 51,
     "metadata": {},
     "output_type": "execute_result"
    },
    {
     "data": {
      "text/plain": [
       "50"
      ]
     },
     "execution_count": 51,
     "metadata": {},
     "output_type": "execute_result"
    },
    {
     "data": {
      "text/plain": [
       "50"
      ]
     },
     "execution_count": 51,
     "metadata": {},
     "output_type": "execute_result"
    },
    {
     "data": {
      "text/plain": [
       "50"
      ]
     },
     "execution_count": 51,
     "metadata": {},
     "output_type": "execute_result"
    },
    {
     "data": {
      "text/plain": [
       "50"
      ]
     },
     "execution_count": 51,
     "metadata": {},
     "output_type": "execute_result"
    },
    {
     "data": {
      "text/plain": [
       "50"
      ]
     },
     "execution_count": 51,
     "metadata": {},
     "output_type": "execute_result"
    },
    {
     "data": {
      "text/plain": [
       "50"
      ]
     },
     "execution_count": 51,
     "metadata": {},
     "output_type": "execute_result"
    },
    {
     "data": {
      "text/plain": [
       "50"
      ]
     },
     "execution_count": 51,
     "metadata": {},
     "output_type": "execute_result"
    },
    {
     "data": {
      "text/plain": [
       "50"
      ]
     },
     "execution_count": 51,
     "metadata": {},
     "output_type": "execute_result"
    },
    {
     "data": {
      "text/plain": [
       "50"
      ]
     },
     "execution_count": 51,
     "metadata": {},
     "output_type": "execute_result"
    },
    {
     "data": {
      "text/plain": [
       "50"
      ]
     },
     "execution_count": 51,
     "metadata": {},
     "output_type": "execute_result"
    },
    {
     "data": {
      "text/plain": [
       "50"
      ]
     },
     "execution_count": 51,
     "metadata": {},
     "output_type": "execute_result"
    },
    {
     "data": {
      "text/plain": [
       "50"
      ]
     },
     "execution_count": 51,
     "metadata": {},
     "output_type": "execute_result"
    },
    {
     "data": {
      "text/plain": [
       "50"
      ]
     },
     "execution_count": 51,
     "metadata": {},
     "output_type": "execute_result"
    },
    {
     "data": {
      "text/plain": [
       "50"
      ]
     },
     "execution_count": 51,
     "metadata": {},
     "output_type": "execute_result"
    },
    {
     "data": {
      "text/plain": [
       "50"
      ]
     },
     "execution_count": 51,
     "metadata": {},
     "output_type": "execute_result"
    },
    {
     "data": {
      "text/plain": [
       "50"
      ]
     },
     "execution_count": 51,
     "metadata": {},
     "output_type": "execute_result"
    },
    {
     "data": {
      "text/plain": [
       "50"
      ]
     },
     "execution_count": 51,
     "metadata": {},
     "output_type": "execute_result"
    },
    {
     "data": {
      "text/plain": [
       "50"
      ]
     },
     "execution_count": 51,
     "metadata": {},
     "output_type": "execute_result"
    },
    {
     "data": {
      "text/plain": [
       "50"
      ]
     },
     "execution_count": 51,
     "metadata": {},
     "output_type": "execute_result"
    },
    {
     "data": {
      "text/plain": [
       "50"
      ]
     },
     "execution_count": 51,
     "metadata": {},
     "output_type": "execute_result"
    },
    {
     "data": {
      "text/plain": [
       "50"
      ]
     },
     "execution_count": 51,
     "metadata": {},
     "output_type": "execute_result"
    },
    {
     "data": {
      "text/plain": [
       "50"
      ]
     },
     "execution_count": 51,
     "metadata": {},
     "output_type": "execute_result"
    },
    {
     "data": {
      "text/plain": [
       "50"
      ]
     },
     "execution_count": 51,
     "metadata": {},
     "output_type": "execute_result"
    },
    {
     "data": {
      "text/plain": [
       "50"
      ]
     },
     "execution_count": 51,
     "metadata": {},
     "output_type": "execute_result"
    },
    {
     "data": {
      "text/plain": [
       "50"
      ]
     },
     "execution_count": 51,
     "metadata": {},
     "output_type": "execute_result"
    },
    {
     "data": {
      "text/plain": [
       "50"
      ]
     },
     "execution_count": 51,
     "metadata": {},
     "output_type": "execute_result"
    },
    {
     "data": {
      "text/plain": [
       "50"
      ]
     },
     "execution_count": 51,
     "metadata": {},
     "output_type": "execute_result"
    },
    {
     "data": {
      "text/plain": [
       "50"
      ]
     },
     "execution_count": 51,
     "metadata": {},
     "output_type": "execute_result"
    },
    {
     "data": {
      "text/plain": [
       "50"
      ]
     },
     "execution_count": 51,
     "metadata": {},
     "output_type": "execute_result"
    },
    {
     "data": {
      "text/plain": [
       "50"
      ]
     },
     "execution_count": 51,
     "metadata": {},
     "output_type": "execute_result"
    },
    {
     "data": {
      "text/plain": [
       "50"
      ]
     },
     "execution_count": 51,
     "metadata": {},
     "output_type": "execute_result"
    },
    {
     "data": {
      "text/plain": [
       "50"
      ]
     },
     "execution_count": 51,
     "metadata": {},
     "output_type": "execute_result"
    },
    {
     "data": {
      "text/plain": [
       "50"
      ]
     },
     "execution_count": 51,
     "metadata": {},
     "output_type": "execute_result"
    },
    {
     "data": {
      "text/plain": [
       "50"
      ]
     },
     "execution_count": 51,
     "metadata": {},
     "output_type": "execute_result"
    },
    {
     "data": {
      "text/plain": [
       "50"
      ]
     },
     "execution_count": 51,
     "metadata": {},
     "output_type": "execute_result"
    },
    {
     "data": {
      "text/plain": [
       "50"
      ]
     },
     "execution_count": 51,
     "metadata": {},
     "output_type": "execute_result"
    },
    {
     "data": {
      "text/plain": [
       "50"
      ]
     },
     "execution_count": 51,
     "metadata": {},
     "output_type": "execute_result"
    },
    {
     "data": {
      "text/plain": [
       "50"
      ]
     },
     "execution_count": 51,
     "metadata": {},
     "output_type": "execute_result"
    },
    {
     "data": {
      "text/plain": [
       "50"
      ]
     },
     "execution_count": 51,
     "metadata": {},
     "output_type": "execute_result"
    },
    {
     "data": {
      "text/plain": [
       "50"
      ]
     },
     "execution_count": 51,
     "metadata": {},
     "output_type": "execute_result"
    },
    {
     "data": {
      "text/plain": [
       "50"
      ]
     },
     "execution_count": 51,
     "metadata": {},
     "output_type": "execute_result"
    },
    {
     "data": {
      "text/plain": [
       "50"
      ]
     },
     "execution_count": 51,
     "metadata": {},
     "output_type": "execute_result"
    },
    {
     "data": {
      "text/plain": [
       "50"
      ]
     },
     "execution_count": 51,
     "metadata": {},
     "output_type": "execute_result"
    },
    {
     "data": {
      "text/plain": [
       "50"
      ]
     },
     "execution_count": 51,
     "metadata": {},
     "output_type": "execute_result"
    },
    {
     "data": {
      "text/plain": [
       "50"
      ]
     },
     "execution_count": 51,
     "metadata": {},
     "output_type": "execute_result"
    },
    {
     "data": {
      "text/plain": [
       "50"
      ]
     },
     "execution_count": 51,
     "metadata": {},
     "output_type": "execute_result"
    },
    {
     "data": {
      "text/plain": [
       "50"
      ]
     },
     "execution_count": 51,
     "metadata": {},
     "output_type": "execute_result"
    },
    {
     "data": {
      "text/plain": [
       "50"
      ]
     },
     "execution_count": 51,
     "metadata": {},
     "output_type": "execute_result"
    },
    {
     "data": {
      "text/plain": [
       "50"
      ]
     },
     "execution_count": 51,
     "metadata": {},
     "output_type": "execute_result"
    },
    {
     "data": {
      "text/plain": [
       "50"
      ]
     },
     "execution_count": 51,
     "metadata": {},
     "output_type": "execute_result"
    },
    {
     "data": {
      "text/plain": [
       "50"
      ]
     },
     "execution_count": 51,
     "metadata": {},
     "output_type": "execute_result"
    },
    {
     "data": {
      "text/plain": [
       "50"
      ]
     },
     "execution_count": 51,
     "metadata": {},
     "output_type": "execute_result"
    },
    {
     "data": {
      "text/plain": [
       "50"
      ]
     },
     "execution_count": 51,
     "metadata": {},
     "output_type": "execute_result"
    },
    {
     "data": {
      "text/plain": [
       "50"
      ]
     },
     "execution_count": 51,
     "metadata": {},
     "output_type": "execute_result"
    },
    {
     "data": {
      "text/plain": [
       "50"
      ]
     },
     "execution_count": 51,
     "metadata": {},
     "output_type": "execute_result"
    },
    {
     "data": {
      "text/plain": [
       "50"
      ]
     },
     "execution_count": 51,
     "metadata": {},
     "output_type": "execute_result"
    },
    {
     "data": {
      "text/plain": [
       "50"
      ]
     },
     "execution_count": 51,
     "metadata": {},
     "output_type": "execute_result"
    },
    {
     "data": {
      "text/plain": [
       "50"
      ]
     },
     "execution_count": 51,
     "metadata": {},
     "output_type": "execute_result"
    },
    {
     "data": {
      "text/plain": [
       "50"
      ]
     },
     "execution_count": 51,
     "metadata": {},
     "output_type": "execute_result"
    },
    {
     "data": {
      "text/plain": [
       "50"
      ]
     },
     "execution_count": 51,
     "metadata": {},
     "output_type": "execute_result"
    },
    {
     "data": {
      "text/plain": [
       "50"
      ]
     },
     "execution_count": 51,
     "metadata": {},
     "output_type": "execute_result"
    },
    {
     "data": {
      "text/plain": [
       "50"
      ]
     },
     "execution_count": 51,
     "metadata": {},
     "output_type": "execute_result"
    },
    {
     "data": {
      "text/plain": [
       "50"
      ]
     },
     "execution_count": 51,
     "metadata": {},
     "output_type": "execute_result"
    },
    {
     "data": {
      "text/plain": [
       "50"
      ]
     },
     "execution_count": 51,
     "metadata": {},
     "output_type": "execute_result"
    },
    {
     "data": {
      "text/plain": [
       "50"
      ]
     },
     "execution_count": 51,
     "metadata": {},
     "output_type": "execute_result"
    },
    {
     "data": {
      "text/plain": [
       "50"
      ]
     },
     "execution_count": 51,
     "metadata": {},
     "output_type": "execute_result"
    },
    {
     "data": {
      "text/plain": [
       "50"
      ]
     },
     "execution_count": 51,
     "metadata": {},
     "output_type": "execute_result"
    },
    {
     "data": {
      "text/plain": [
       "50"
      ]
     },
     "execution_count": 51,
     "metadata": {},
     "output_type": "execute_result"
    },
    {
     "data": {
      "text/plain": [
       "50"
      ]
     },
     "execution_count": 51,
     "metadata": {},
     "output_type": "execute_result"
    },
    {
     "data": {
      "text/plain": [
       "50"
      ]
     },
     "execution_count": 51,
     "metadata": {},
     "output_type": "execute_result"
    },
    {
     "data": {
      "text/plain": [
       "50"
      ]
     },
     "execution_count": 51,
     "metadata": {},
     "output_type": "execute_result"
    },
    {
     "data": {
      "text/plain": [
       "50"
      ]
     },
     "execution_count": 51,
     "metadata": {},
     "output_type": "execute_result"
    },
    {
     "data": {
      "text/plain": [
       "50"
      ]
     },
     "execution_count": 51,
     "metadata": {},
     "output_type": "execute_result"
    },
    {
     "data": {
      "text/plain": [
       "50"
      ]
     },
     "execution_count": 51,
     "metadata": {},
     "output_type": "execute_result"
    },
    {
     "data": {
      "text/plain": [
       "50"
      ]
     },
     "execution_count": 51,
     "metadata": {},
     "output_type": "execute_result"
    },
    {
     "data": {
      "text/plain": [
       "50"
      ]
     },
     "execution_count": 51,
     "metadata": {},
     "output_type": "execute_result"
    },
    {
     "data": {
      "text/plain": [
       "50"
      ]
     },
     "execution_count": 51,
     "metadata": {},
     "output_type": "execute_result"
    },
    {
     "data": {
      "text/plain": [
       "50"
      ]
     },
     "execution_count": 51,
     "metadata": {},
     "output_type": "execute_result"
    },
    {
     "data": {
      "text/plain": [
       "50"
      ]
     },
     "execution_count": 51,
     "metadata": {},
     "output_type": "execute_result"
    },
    {
     "data": {
      "text/plain": [
       "50"
      ]
     },
     "execution_count": 51,
     "metadata": {},
     "output_type": "execute_result"
    },
    {
     "data": {
      "text/plain": [
       "50"
      ]
     },
     "execution_count": 51,
     "metadata": {},
     "output_type": "execute_result"
    },
    {
     "data": {
      "text/plain": [
       "50"
      ]
     },
     "execution_count": 51,
     "metadata": {},
     "output_type": "execute_result"
    },
    {
     "data": {
      "text/plain": [
       "50"
      ]
     },
     "execution_count": 51,
     "metadata": {},
     "output_type": "execute_result"
    },
    {
     "data": {
      "text/plain": [
       "50"
      ]
     },
     "execution_count": 51,
     "metadata": {},
     "output_type": "execute_result"
    },
    {
     "data": {
      "text/plain": [
       "50"
      ]
     },
     "execution_count": 51,
     "metadata": {},
     "output_type": "execute_result"
    },
    {
     "data": {
      "text/plain": [
       "50"
      ]
     },
     "execution_count": 51,
     "metadata": {},
     "output_type": "execute_result"
    },
    {
     "data": {
      "text/plain": [
       "50"
      ]
     },
     "execution_count": 51,
     "metadata": {},
     "output_type": "execute_result"
    },
    {
     "data": {
      "text/plain": [
       "50"
      ]
     },
     "execution_count": 51,
     "metadata": {},
     "output_type": "execute_result"
    },
    {
     "data": {
      "text/plain": [
       "50"
      ]
     },
     "execution_count": 51,
     "metadata": {},
     "output_type": "execute_result"
    },
    {
     "data": {
      "text/plain": [
       "50"
      ]
     },
     "execution_count": 51,
     "metadata": {},
     "output_type": "execute_result"
    },
    {
     "data": {
      "text/plain": [
       "50"
      ]
     },
     "execution_count": 51,
     "metadata": {},
     "output_type": "execute_result"
    },
    {
     "data": {
      "text/plain": [
       "50"
      ]
     },
     "execution_count": 51,
     "metadata": {},
     "output_type": "execute_result"
    },
    {
     "data": {
      "text/plain": [
       "50"
      ]
     },
     "execution_count": 51,
     "metadata": {},
     "output_type": "execute_result"
    },
    {
     "data": {
      "text/plain": [
       "50"
      ]
     },
     "execution_count": 51,
     "metadata": {},
     "output_type": "execute_result"
    },
    {
     "data": {
      "text/plain": [
       "50"
      ]
     },
     "execution_count": 51,
     "metadata": {},
     "output_type": "execute_result"
    },
    {
     "data": {
      "text/plain": [
       "50"
      ]
     },
     "execution_count": 51,
     "metadata": {},
     "output_type": "execute_result"
    },
    {
     "data": {
      "text/plain": [
       "50"
      ]
     },
     "execution_count": 51,
     "metadata": {},
     "output_type": "execute_result"
    },
    {
     "data": {
      "text/plain": [
       "50"
      ]
     },
     "execution_count": 51,
     "metadata": {},
     "output_type": "execute_result"
    },
    {
     "data": {
      "text/plain": [
       "50"
      ]
     },
     "execution_count": 51,
     "metadata": {},
     "output_type": "execute_result"
    },
    {
     "data": {
      "text/plain": [
       "50"
      ]
     },
     "execution_count": 51,
     "metadata": {},
     "output_type": "execute_result"
    },
    {
     "data": {
      "text/plain": [
       "50"
      ]
     },
     "execution_count": 51,
     "metadata": {},
     "output_type": "execute_result"
    },
    {
     "data": {
      "text/plain": [
       "50"
      ]
     },
     "execution_count": 51,
     "metadata": {},
     "output_type": "execute_result"
    },
    {
     "data": {
      "text/plain": [
       "50"
      ]
     },
     "execution_count": 51,
     "metadata": {},
     "output_type": "execute_result"
    },
    {
     "data": {
      "text/plain": [
       "50"
      ]
     },
     "execution_count": 51,
     "metadata": {},
     "output_type": "execute_result"
    },
    {
     "data": {
      "text/plain": [
       "50"
      ]
     },
     "execution_count": 51,
     "metadata": {},
     "output_type": "execute_result"
    },
    {
     "data": {
      "text/plain": [
       "50"
      ]
     },
     "execution_count": 51,
     "metadata": {},
     "output_type": "execute_result"
    },
    {
     "data": {
      "text/plain": [
       "50"
      ]
     },
     "execution_count": 51,
     "metadata": {},
     "output_type": "execute_result"
    },
    {
     "data": {
      "text/plain": [
       "50"
      ]
     },
     "execution_count": 51,
     "metadata": {},
     "output_type": "execute_result"
    },
    {
     "data": {
      "text/plain": [
       "50"
      ]
     },
     "execution_count": 51,
     "metadata": {},
     "output_type": "execute_result"
    },
    {
     "data": {
      "text/plain": [
       "50"
      ]
     },
     "execution_count": 51,
     "metadata": {},
     "output_type": "execute_result"
    },
    {
     "data": {
      "text/plain": [
       "50"
      ]
     },
     "execution_count": 51,
     "metadata": {},
     "output_type": "execute_result"
    },
    {
     "data": {
      "text/plain": [
       "50"
      ]
     },
     "execution_count": 51,
     "metadata": {},
     "output_type": "execute_result"
    },
    {
     "data": {
      "text/plain": [
       "50"
      ]
     },
     "execution_count": 51,
     "metadata": {},
     "output_type": "execute_result"
    },
    {
     "data": {
      "text/plain": [
       "50"
      ]
     },
     "execution_count": 51,
     "metadata": {},
     "output_type": "execute_result"
    },
    {
     "data": {
      "text/plain": [
       "50"
      ]
     },
     "execution_count": 51,
     "metadata": {},
     "output_type": "execute_result"
    },
    {
     "data": {
      "text/plain": [
       "50"
      ]
     },
     "execution_count": 51,
     "metadata": {},
     "output_type": "execute_result"
    },
    {
     "data": {
      "text/plain": [
       "50"
      ]
     },
     "execution_count": 51,
     "metadata": {},
     "output_type": "execute_result"
    },
    {
     "data": {
      "text/plain": [
       "50"
      ]
     },
     "execution_count": 51,
     "metadata": {},
     "output_type": "execute_result"
    },
    {
     "data": {
      "text/plain": [
       "50"
      ]
     },
     "execution_count": 51,
     "metadata": {},
     "output_type": "execute_result"
    },
    {
     "data": {
      "text/plain": [
       "50"
      ]
     },
     "execution_count": 51,
     "metadata": {},
     "output_type": "execute_result"
    },
    {
     "data": {
      "text/plain": [
       "50"
      ]
     },
     "execution_count": 51,
     "metadata": {},
     "output_type": "execute_result"
    },
    {
     "data": {
      "text/plain": [
       "50"
      ]
     },
     "execution_count": 51,
     "metadata": {},
     "output_type": "execute_result"
    },
    {
     "data": {
      "text/plain": [
       "50"
      ]
     },
     "execution_count": 51,
     "metadata": {},
     "output_type": "execute_result"
    },
    {
     "data": {
      "text/plain": [
       "50"
      ]
     },
     "execution_count": 51,
     "metadata": {},
     "output_type": "execute_result"
    },
    {
     "data": {
      "text/plain": [
       "50"
      ]
     },
     "execution_count": 51,
     "metadata": {},
     "output_type": "execute_result"
    },
    {
     "data": {
      "text/plain": [
       "50"
      ]
     },
     "execution_count": 51,
     "metadata": {},
     "output_type": "execute_result"
    },
    {
     "data": {
      "text/plain": [
       "50"
      ]
     },
     "execution_count": 51,
     "metadata": {},
     "output_type": "execute_result"
    },
    {
     "data": {
      "text/plain": [
       "50"
      ]
     },
     "execution_count": 51,
     "metadata": {},
     "output_type": "execute_result"
    },
    {
     "data": {
      "text/plain": [
       "50"
      ]
     },
     "execution_count": 51,
     "metadata": {},
     "output_type": "execute_result"
    },
    {
     "data": {
      "text/plain": [
       "50"
      ]
     },
     "execution_count": 51,
     "metadata": {},
     "output_type": "execute_result"
    },
    {
     "data": {
      "text/plain": [
       "50"
      ]
     },
     "execution_count": 51,
     "metadata": {},
     "output_type": "execute_result"
    },
    {
     "data": {
      "text/plain": [
       "50"
      ]
     },
     "execution_count": 51,
     "metadata": {},
     "output_type": "execute_result"
    },
    {
     "data": {
      "text/plain": [
       "50"
      ]
     },
     "execution_count": 51,
     "metadata": {},
     "output_type": "execute_result"
    },
    {
     "data": {
      "text/plain": [
       "50"
      ]
     },
     "execution_count": 51,
     "metadata": {},
     "output_type": "execute_result"
    },
    {
     "data": {
      "text/plain": [
       "50"
      ]
     },
     "execution_count": 51,
     "metadata": {},
     "output_type": "execute_result"
    },
    {
     "data": {
      "text/plain": [
       "50"
      ]
     },
     "execution_count": 51,
     "metadata": {},
     "output_type": "execute_result"
    },
    {
     "data": {
      "text/plain": [
       "50"
      ]
     },
     "execution_count": 51,
     "metadata": {},
     "output_type": "execute_result"
    },
    {
     "data": {
      "text/plain": [
       "50"
      ]
     },
     "execution_count": 51,
     "metadata": {},
     "output_type": "execute_result"
    },
    {
     "data": {
      "text/plain": [
       "50"
      ]
     },
     "execution_count": 51,
     "metadata": {},
     "output_type": "execute_result"
    },
    {
     "data": {
      "text/plain": [
       "50"
      ]
     },
     "execution_count": 51,
     "metadata": {},
     "output_type": "execute_result"
    },
    {
     "data": {
      "text/plain": [
       "50"
      ]
     },
     "execution_count": 51,
     "metadata": {},
     "output_type": "execute_result"
    },
    {
     "data": {
      "text/plain": [
       "50"
      ]
     },
     "execution_count": 51,
     "metadata": {},
     "output_type": "execute_result"
    },
    {
     "data": {
      "text/plain": [
       "50"
      ]
     },
     "execution_count": 51,
     "metadata": {},
     "output_type": "execute_result"
    },
    {
     "data": {
      "text/plain": [
       "50"
      ]
     },
     "execution_count": 51,
     "metadata": {},
     "output_type": "execute_result"
    },
    {
     "data": {
      "text/plain": [
       "50"
      ]
     },
     "execution_count": 51,
     "metadata": {},
     "output_type": "execute_result"
    },
    {
     "data": {
      "text/plain": [
       "50"
      ]
     },
     "execution_count": 51,
     "metadata": {},
     "output_type": "execute_result"
    },
    {
     "data": {
      "text/plain": [
       "50"
      ]
     },
     "execution_count": 51,
     "metadata": {},
     "output_type": "execute_result"
    },
    {
     "data": {
      "text/plain": [
       "50"
      ]
     },
     "execution_count": 51,
     "metadata": {},
     "output_type": "execute_result"
    },
    {
     "data": {
      "text/plain": [
       "50"
      ]
     },
     "execution_count": 51,
     "metadata": {},
     "output_type": "execute_result"
    },
    {
     "data": {
      "text/plain": [
       "50"
      ]
     },
     "execution_count": 51,
     "metadata": {},
     "output_type": "execute_result"
    },
    {
     "data": {
      "text/plain": [
       "50"
      ]
     },
     "execution_count": 51,
     "metadata": {},
     "output_type": "execute_result"
    },
    {
     "data": {
      "text/plain": [
       "50"
      ]
     },
     "execution_count": 51,
     "metadata": {},
     "output_type": "execute_result"
    },
    {
     "data": {
      "text/plain": [
       "50"
      ]
     },
     "execution_count": 51,
     "metadata": {},
     "output_type": "execute_result"
    },
    {
     "data": {
      "text/plain": [
       "50"
      ]
     },
     "execution_count": 51,
     "metadata": {},
     "output_type": "execute_result"
    },
    {
     "data": {
      "text/plain": [
       "50"
      ]
     },
     "execution_count": 51,
     "metadata": {},
     "output_type": "execute_result"
    },
    {
     "data": {
      "text/plain": [
       "50"
      ]
     },
     "execution_count": 51,
     "metadata": {},
     "output_type": "execute_result"
    },
    {
     "data": {
      "text/plain": [
       "50"
      ]
     },
     "execution_count": 51,
     "metadata": {},
     "output_type": "execute_result"
    },
    {
     "data": {
      "text/plain": [
       "50"
      ]
     },
     "execution_count": 51,
     "metadata": {},
     "output_type": "execute_result"
    },
    {
     "data": {
      "text/plain": [
       "50"
      ]
     },
     "execution_count": 51,
     "metadata": {},
     "output_type": "execute_result"
    },
    {
     "data": {
      "text/plain": [
       "50"
      ]
     },
     "execution_count": 51,
     "metadata": {},
     "output_type": "execute_result"
    },
    {
     "data": {
      "text/plain": [
       "50"
      ]
     },
     "execution_count": 51,
     "metadata": {},
     "output_type": "execute_result"
    },
    {
     "data": {
      "text/plain": [
       "50"
      ]
     },
     "execution_count": 51,
     "metadata": {},
     "output_type": "execute_result"
    },
    {
     "data": {
      "text/plain": [
       "50"
      ]
     },
     "execution_count": 51,
     "metadata": {},
     "output_type": "execute_result"
    },
    {
     "data": {
      "text/plain": [
       "50"
      ]
     },
     "execution_count": 51,
     "metadata": {},
     "output_type": "execute_result"
    },
    {
     "data": {
      "text/plain": [
       "50"
      ]
     },
     "execution_count": 51,
     "metadata": {},
     "output_type": "execute_result"
    },
    {
     "data": {
      "text/plain": [
       "50"
      ]
     },
     "execution_count": 51,
     "metadata": {},
     "output_type": "execute_result"
    },
    {
     "data": {
      "text/plain": [
       "50"
      ]
     },
     "execution_count": 51,
     "metadata": {},
     "output_type": "execute_result"
    },
    {
     "data": {
      "text/plain": [
       "50"
      ]
     },
     "execution_count": 51,
     "metadata": {},
     "output_type": "execute_result"
    },
    {
     "data": {
      "text/plain": [
       "50"
      ]
     },
     "execution_count": 51,
     "metadata": {},
     "output_type": "execute_result"
    },
    {
     "data": {
      "text/plain": [
       "50"
      ]
     },
     "execution_count": 51,
     "metadata": {},
     "output_type": "execute_result"
    },
    {
     "data": {
      "text/plain": [
       "50"
      ]
     },
     "execution_count": 51,
     "metadata": {},
     "output_type": "execute_result"
    },
    {
     "data": {
      "text/plain": [
       "50"
      ]
     },
     "execution_count": 51,
     "metadata": {},
     "output_type": "execute_result"
    },
    {
     "data": {
      "text/plain": [
       "50"
      ]
     },
     "execution_count": 51,
     "metadata": {},
     "output_type": "execute_result"
    },
    {
     "data": {
      "text/plain": [
       "50"
      ]
     },
     "execution_count": 51,
     "metadata": {},
     "output_type": "execute_result"
    },
    {
     "data": {
      "text/plain": [
       "50"
      ]
     },
     "execution_count": 51,
     "metadata": {},
     "output_type": "execute_result"
    },
    {
     "data": {
      "text/plain": [
       "50"
      ]
     },
     "execution_count": 51,
     "metadata": {},
     "output_type": "execute_result"
    },
    {
     "data": {
      "text/plain": [
       "50"
      ]
     },
     "execution_count": 51,
     "metadata": {},
     "output_type": "execute_result"
    },
    {
     "data": {
      "text/plain": [
       "50"
      ]
     },
     "execution_count": 51,
     "metadata": {},
     "output_type": "execute_result"
    },
    {
     "data": {
      "text/plain": [
       "50"
      ]
     },
     "execution_count": 51,
     "metadata": {},
     "output_type": "execute_result"
    },
    {
     "data": {
      "text/plain": [
       "50"
      ]
     },
     "execution_count": 51,
     "metadata": {},
     "output_type": "execute_result"
    },
    {
     "data": {
      "text/plain": [
       "50"
      ]
     },
     "execution_count": 51,
     "metadata": {},
     "output_type": "execute_result"
    },
    {
     "data": {
      "text/plain": [
       "50"
      ]
     },
     "execution_count": 51,
     "metadata": {},
     "output_type": "execute_result"
    },
    {
     "data": {
      "text/plain": [
       "50"
      ]
     },
     "execution_count": 51,
     "metadata": {},
     "output_type": "execute_result"
    },
    {
     "data": {
      "text/plain": [
       "50"
      ]
     },
     "execution_count": 51,
     "metadata": {},
     "output_type": "execute_result"
    },
    {
     "data": {
      "text/plain": [
       "50"
      ]
     },
     "execution_count": 51,
     "metadata": {},
     "output_type": "execute_result"
    },
    {
     "data": {
      "text/plain": [
       "50"
      ]
     },
     "execution_count": 51,
     "metadata": {},
     "output_type": "execute_result"
    },
    {
     "data": {
      "text/plain": [
       "50"
      ]
     },
     "execution_count": 51,
     "metadata": {},
     "output_type": "execute_result"
    },
    {
     "data": {
      "text/plain": [
       "50"
      ]
     },
     "execution_count": 51,
     "metadata": {},
     "output_type": "execute_result"
    },
    {
     "data": {
      "text/plain": [
       "50"
      ]
     },
     "execution_count": 51,
     "metadata": {},
     "output_type": "execute_result"
    },
    {
     "data": {
      "text/plain": [
       "50"
      ]
     },
     "execution_count": 51,
     "metadata": {},
     "output_type": "execute_result"
    },
    {
     "data": {
      "text/plain": [
       "50"
      ]
     },
     "execution_count": 51,
     "metadata": {},
     "output_type": "execute_result"
    },
    {
     "data": {
      "text/plain": [
       "50"
      ]
     },
     "execution_count": 51,
     "metadata": {},
     "output_type": "execute_result"
    },
    {
     "data": {
      "text/plain": [
       "50"
      ]
     },
     "execution_count": 51,
     "metadata": {},
     "output_type": "execute_result"
    },
    {
     "data": {
      "text/plain": [
       "50"
      ]
     },
     "execution_count": 51,
     "metadata": {},
     "output_type": "execute_result"
    },
    {
     "data": {
      "text/plain": [
       "50"
      ]
     },
     "execution_count": 51,
     "metadata": {},
     "output_type": "execute_result"
    },
    {
     "data": {
      "text/plain": [
       "50"
      ]
     },
     "execution_count": 51,
     "metadata": {},
     "output_type": "execute_result"
    },
    {
     "data": {
      "text/plain": [
       "50"
      ]
     },
     "execution_count": 51,
     "metadata": {},
     "output_type": "execute_result"
    },
    {
     "data": {
      "text/plain": [
       "50"
      ]
     },
     "execution_count": 51,
     "metadata": {},
     "output_type": "execute_result"
    },
    {
     "data": {
      "text/plain": [
       "50"
      ]
     },
     "execution_count": 51,
     "metadata": {},
     "output_type": "execute_result"
    },
    {
     "data": {
      "text/plain": [
       "50"
      ]
     },
     "execution_count": 51,
     "metadata": {},
     "output_type": "execute_result"
    },
    {
     "data": {
      "text/plain": [
       "50"
      ]
     },
     "execution_count": 51,
     "metadata": {},
     "output_type": "execute_result"
    },
    {
     "data": {
      "text/plain": [
       "50"
      ]
     },
     "execution_count": 51,
     "metadata": {},
     "output_type": "execute_result"
    },
    {
     "data": {
      "text/plain": [
       "50"
      ]
     },
     "execution_count": 51,
     "metadata": {},
     "output_type": "execute_result"
    },
    {
     "data": {
      "text/plain": [
       "50"
      ]
     },
     "execution_count": 51,
     "metadata": {},
     "output_type": "execute_result"
    },
    {
     "data": {
      "text/plain": [
       "50"
      ]
     },
     "execution_count": 51,
     "metadata": {},
     "output_type": "execute_result"
    },
    {
     "data": {
      "text/plain": [
       "50"
      ]
     },
     "execution_count": 51,
     "metadata": {},
     "output_type": "execute_result"
    },
    {
     "data": {
      "text/plain": [
       "50"
      ]
     },
     "execution_count": 51,
     "metadata": {},
     "output_type": "execute_result"
    },
    {
     "data": {
      "text/plain": [
       "50"
      ]
     },
     "execution_count": 51,
     "metadata": {},
     "output_type": "execute_result"
    },
    {
     "data": {
      "text/plain": [
       "50"
      ]
     },
     "execution_count": 51,
     "metadata": {},
     "output_type": "execute_result"
    },
    {
     "data": {
      "text/plain": [
       "50"
      ]
     },
     "execution_count": 51,
     "metadata": {},
     "output_type": "execute_result"
    },
    {
     "data": {
      "text/plain": [
       "50"
      ]
     },
     "execution_count": 51,
     "metadata": {},
     "output_type": "execute_result"
    },
    {
     "data": {
      "text/plain": [
       "50"
      ]
     },
     "execution_count": 51,
     "metadata": {},
     "output_type": "execute_result"
    },
    {
     "data": {
      "text/plain": [
       "50"
      ]
     },
     "execution_count": 51,
     "metadata": {},
     "output_type": "execute_result"
    },
    {
     "data": {
      "text/plain": [
       "50"
      ]
     },
     "execution_count": 51,
     "metadata": {},
     "output_type": "execute_result"
    },
    {
     "data": {
      "text/plain": [
       "50"
      ]
     },
     "execution_count": 51,
     "metadata": {},
     "output_type": "execute_result"
    },
    {
     "data": {
      "text/plain": [
       "50"
      ]
     },
     "execution_count": 51,
     "metadata": {},
     "output_type": "execute_result"
    },
    {
     "data": {
      "text/plain": [
       "50"
      ]
     },
     "execution_count": 51,
     "metadata": {},
     "output_type": "execute_result"
    },
    {
     "data": {
      "text/plain": [
       "50"
      ]
     },
     "execution_count": 51,
     "metadata": {},
     "output_type": "execute_result"
    },
    {
     "data": {
      "text/plain": [
       "50"
      ]
     },
     "execution_count": 51,
     "metadata": {},
     "output_type": "execute_result"
    },
    {
     "data": {
      "text/plain": [
       "50"
      ]
     },
     "execution_count": 51,
     "metadata": {},
     "output_type": "execute_result"
    },
    {
     "data": {
      "text/plain": [
       "50"
      ]
     },
     "execution_count": 51,
     "metadata": {},
     "output_type": "execute_result"
    },
    {
     "data": {
      "text/plain": [
       "50"
      ]
     },
     "execution_count": 51,
     "metadata": {},
     "output_type": "execute_result"
    },
    {
     "data": {
      "text/plain": [
       "50"
      ]
     },
     "execution_count": 51,
     "metadata": {},
     "output_type": "execute_result"
    },
    {
     "data": {
      "text/plain": [
       "50"
      ]
     },
     "execution_count": 51,
     "metadata": {},
     "output_type": "execute_result"
    },
    {
     "data": {
      "text/plain": [
       "50"
      ]
     },
     "execution_count": 51,
     "metadata": {},
     "output_type": "execute_result"
    },
    {
     "data": {
      "text/plain": [
       "50"
      ]
     },
     "execution_count": 51,
     "metadata": {},
     "output_type": "execute_result"
    },
    {
     "data": {
      "text/plain": [
       "50"
      ]
     },
     "execution_count": 51,
     "metadata": {},
     "output_type": "execute_result"
    },
    {
     "data": {
      "text/plain": [
       "50"
      ]
     },
     "execution_count": 51,
     "metadata": {},
     "output_type": "execute_result"
    },
    {
     "data": {
      "text/plain": [
       "50"
      ]
     },
     "execution_count": 51,
     "metadata": {},
     "output_type": "execute_result"
    },
    {
     "data": {
      "text/plain": [
       "50"
      ]
     },
     "execution_count": 51,
     "metadata": {},
     "output_type": "execute_result"
    },
    {
     "data": {
      "text/plain": [
       "50"
      ]
     },
     "execution_count": 51,
     "metadata": {},
     "output_type": "execute_result"
    },
    {
     "data": {
      "text/plain": [
       "50"
      ]
     },
     "execution_count": 51,
     "metadata": {},
     "output_type": "execute_result"
    },
    {
     "data": {
      "text/plain": [
       "50"
      ]
     },
     "execution_count": 51,
     "metadata": {},
     "output_type": "execute_result"
    },
    {
     "data": {
      "text/plain": [
       "50"
      ]
     },
     "execution_count": 51,
     "metadata": {},
     "output_type": "execute_result"
    },
    {
     "data": {
      "text/plain": [
       "50"
      ]
     },
     "execution_count": 51,
     "metadata": {},
     "output_type": "execute_result"
    },
    {
     "data": {
      "text/plain": [
       "50"
      ]
     },
     "execution_count": 51,
     "metadata": {},
     "output_type": "execute_result"
    },
    {
     "data": {
      "text/plain": [
       "50"
      ]
     },
     "execution_count": 51,
     "metadata": {},
     "output_type": "execute_result"
    },
    {
     "data": {
      "text/plain": [
       "50"
      ]
     },
     "execution_count": 51,
     "metadata": {},
     "output_type": "execute_result"
    },
    {
     "data": {
      "text/plain": [
       "50"
      ]
     },
     "execution_count": 51,
     "metadata": {},
     "output_type": "execute_result"
    },
    {
     "data": {
      "text/plain": [
       "50"
      ]
     },
     "execution_count": 51,
     "metadata": {},
     "output_type": "execute_result"
    },
    {
     "data": {
      "text/plain": [
       "50"
      ]
     },
     "execution_count": 51,
     "metadata": {},
     "output_type": "execute_result"
    },
    {
     "data": {
      "text/plain": [
       "50"
      ]
     },
     "execution_count": 51,
     "metadata": {},
     "output_type": "execute_result"
    },
    {
     "data": {
      "text/plain": [
       "50"
      ]
     },
     "execution_count": 51,
     "metadata": {},
     "output_type": "execute_result"
    },
    {
     "data": {
      "text/plain": [
       "50"
      ]
     },
     "execution_count": 51,
     "metadata": {},
     "output_type": "execute_result"
    },
    {
     "data": {
      "text/plain": [
       "50"
      ]
     },
     "execution_count": 51,
     "metadata": {},
     "output_type": "execute_result"
    },
    {
     "data": {
      "text/plain": [
       "50"
      ]
     },
     "execution_count": 51,
     "metadata": {},
     "output_type": "execute_result"
    },
    {
     "data": {
      "text/plain": [
       "50"
      ]
     },
     "execution_count": 51,
     "metadata": {},
     "output_type": "execute_result"
    },
    {
     "data": {
      "text/plain": [
       "50"
      ]
     },
     "execution_count": 51,
     "metadata": {},
     "output_type": "execute_result"
    },
    {
     "data": {
      "text/plain": [
       "50"
      ]
     },
     "execution_count": 51,
     "metadata": {},
     "output_type": "execute_result"
    },
    {
     "data": {
      "text/plain": [
       "50"
      ]
     },
     "execution_count": 51,
     "metadata": {},
     "output_type": "execute_result"
    },
    {
     "data": {
      "text/plain": [
       "50"
      ]
     },
     "execution_count": 51,
     "metadata": {},
     "output_type": "execute_result"
    },
    {
     "data": {
      "text/plain": [
       "50"
      ]
     },
     "execution_count": 51,
     "metadata": {},
     "output_type": "execute_result"
    },
    {
     "data": {
      "text/plain": [
       "50"
      ]
     },
     "execution_count": 51,
     "metadata": {},
     "output_type": "execute_result"
    },
    {
     "data": {
      "text/plain": [
       "50"
      ]
     },
     "execution_count": 51,
     "metadata": {},
     "output_type": "execute_result"
    },
    {
     "data": {
      "text/plain": [
       "50"
      ]
     },
     "execution_count": 51,
     "metadata": {},
     "output_type": "execute_result"
    },
    {
     "data": {
      "text/plain": [
       "50"
      ]
     },
     "execution_count": 51,
     "metadata": {},
     "output_type": "execute_result"
    },
    {
     "data": {
      "text/plain": [
       "50"
      ]
     },
     "execution_count": 51,
     "metadata": {},
     "output_type": "execute_result"
    },
    {
     "data": {
      "text/plain": [
       "50"
      ]
     },
     "execution_count": 51,
     "metadata": {},
     "output_type": "execute_result"
    },
    {
     "data": {
      "text/plain": [
       "50"
      ]
     },
     "execution_count": 51,
     "metadata": {},
     "output_type": "execute_result"
    },
    {
     "data": {
      "text/plain": [
       "50"
      ]
     },
     "execution_count": 51,
     "metadata": {},
     "output_type": "execute_result"
    },
    {
     "data": {
      "text/plain": [
       "50"
      ]
     },
     "execution_count": 51,
     "metadata": {},
     "output_type": "execute_result"
    },
    {
     "data": {
      "text/plain": [
       "50"
      ]
     },
     "execution_count": 51,
     "metadata": {},
     "output_type": "execute_result"
    },
    {
     "data": {
      "text/plain": [
       "50"
      ]
     },
     "execution_count": 51,
     "metadata": {},
     "output_type": "execute_result"
    },
    {
     "data": {
      "text/plain": [
       "50"
      ]
     },
     "execution_count": 51,
     "metadata": {},
     "output_type": "execute_result"
    },
    {
     "data": {
      "text/plain": [
       "50"
      ]
     },
     "execution_count": 51,
     "metadata": {},
     "output_type": "execute_result"
    },
    {
     "data": {
      "text/plain": [
       "50"
      ]
     },
     "execution_count": 51,
     "metadata": {},
     "output_type": "execute_result"
    },
    {
     "data": {
      "text/plain": [
       "50"
      ]
     },
     "execution_count": 51,
     "metadata": {},
     "output_type": "execute_result"
    },
    {
     "data": {
      "text/plain": [
       "50"
      ]
     },
     "execution_count": 51,
     "metadata": {},
     "output_type": "execute_result"
    },
    {
     "data": {
      "text/plain": [
       "50"
      ]
     },
     "execution_count": 51,
     "metadata": {},
     "output_type": "execute_result"
    },
    {
     "data": {
      "text/plain": [
       "50"
      ]
     },
     "execution_count": 51,
     "metadata": {},
     "output_type": "execute_result"
    },
    {
     "data": {
      "text/plain": [
       "50"
      ]
     },
     "execution_count": 51,
     "metadata": {},
     "output_type": "execute_result"
    },
    {
     "data": {
      "text/plain": [
       "50"
      ]
     },
     "execution_count": 51,
     "metadata": {},
     "output_type": "execute_result"
    },
    {
     "data": {
      "text/plain": [
       "50"
      ]
     },
     "execution_count": 51,
     "metadata": {},
     "output_type": "execute_result"
    },
    {
     "data": {
      "text/plain": [
       "50"
      ]
     },
     "execution_count": 51,
     "metadata": {},
     "output_type": "execute_result"
    },
    {
     "data": {
      "text/plain": [
       "50"
      ]
     },
     "execution_count": 51,
     "metadata": {},
     "output_type": "execute_result"
    },
    {
     "data": {
      "text/plain": [
       "50"
      ]
     },
     "execution_count": 51,
     "metadata": {},
     "output_type": "execute_result"
    },
    {
     "data": {
      "text/plain": [
       "50"
      ]
     },
     "execution_count": 51,
     "metadata": {},
     "output_type": "execute_result"
    },
    {
     "data": {
      "text/plain": [
       "50"
      ]
     },
     "execution_count": 51,
     "metadata": {},
     "output_type": "execute_result"
    },
    {
     "data": {
      "text/plain": [
       "50"
      ]
     },
     "execution_count": 51,
     "metadata": {},
     "output_type": "execute_result"
    },
    {
     "data": {
      "text/plain": [
       "50"
      ]
     },
     "execution_count": 51,
     "metadata": {},
     "output_type": "execute_result"
    },
    {
     "data": {
      "text/plain": [
       "50"
      ]
     },
     "execution_count": 51,
     "metadata": {},
     "output_type": "execute_result"
    },
    {
     "data": {
      "text/plain": [
       "50"
      ]
     },
     "execution_count": 51,
     "metadata": {},
     "output_type": "execute_result"
    },
    {
     "data": {
      "text/plain": [
       "50"
      ]
     },
     "execution_count": 51,
     "metadata": {},
     "output_type": "execute_result"
    },
    {
     "data": {
      "text/plain": [
       "50"
      ]
     },
     "execution_count": 51,
     "metadata": {},
     "output_type": "execute_result"
    },
    {
     "data": {
      "text/plain": [
       "50"
      ]
     },
     "execution_count": 51,
     "metadata": {},
     "output_type": "execute_result"
    },
    {
     "data": {
      "text/plain": [
       "50"
      ]
     },
     "execution_count": 51,
     "metadata": {},
     "output_type": "execute_result"
    },
    {
     "data": {
      "text/plain": [
       "50"
      ]
     },
     "execution_count": 51,
     "metadata": {},
     "output_type": "execute_result"
    },
    {
     "data": {
      "text/plain": [
       "50"
      ]
     },
     "execution_count": 51,
     "metadata": {},
     "output_type": "execute_result"
    },
    {
     "data": {
      "text/plain": [
       "50"
      ]
     },
     "execution_count": 51,
     "metadata": {},
     "output_type": "execute_result"
    },
    {
     "data": {
      "text/plain": [
       "50"
      ]
     },
     "execution_count": 51,
     "metadata": {},
     "output_type": "execute_result"
    },
    {
     "data": {
      "text/plain": [
       "50"
      ]
     },
     "execution_count": 51,
     "metadata": {},
     "output_type": "execute_result"
    },
    {
     "data": {
      "text/plain": [
       "50"
      ]
     },
     "execution_count": 51,
     "metadata": {},
     "output_type": "execute_result"
    },
    {
     "data": {
      "text/plain": [
       "50"
      ]
     },
     "execution_count": 51,
     "metadata": {},
     "output_type": "execute_result"
    },
    {
     "data": {
      "text/plain": [
       "50"
      ]
     },
     "execution_count": 51,
     "metadata": {},
     "output_type": "execute_result"
    },
    {
     "data": {
      "text/plain": [
       "50"
      ]
     },
     "execution_count": 51,
     "metadata": {},
     "output_type": "execute_result"
    },
    {
     "data": {
      "text/plain": [
       "50"
      ]
     },
     "execution_count": 51,
     "metadata": {},
     "output_type": "execute_result"
    },
    {
     "data": {
      "text/plain": [
       "50"
      ]
     },
     "execution_count": 51,
     "metadata": {},
     "output_type": "execute_result"
    },
    {
     "data": {
      "text/plain": [
       "50"
      ]
     },
     "execution_count": 51,
     "metadata": {},
     "output_type": "execute_result"
    },
    {
     "data": {
      "text/plain": [
       "50"
      ]
     },
     "execution_count": 51,
     "metadata": {},
     "output_type": "execute_result"
    },
    {
     "data": {
      "text/plain": [
       "50"
      ]
     },
     "execution_count": 51,
     "metadata": {},
     "output_type": "execute_result"
    },
    {
     "data": {
      "text/plain": [
       "50"
      ]
     },
     "execution_count": 51,
     "metadata": {},
     "output_type": "execute_result"
    },
    {
     "data": {
      "text/plain": [
       "50"
      ]
     },
     "execution_count": 51,
     "metadata": {},
     "output_type": "execute_result"
    },
    {
     "data": {
      "text/plain": [
       "50"
      ]
     },
     "execution_count": 51,
     "metadata": {},
     "output_type": "execute_result"
    },
    {
     "data": {
      "text/plain": [
       "50"
      ]
     },
     "execution_count": 51,
     "metadata": {},
     "output_type": "execute_result"
    },
    {
     "data": {
      "text/plain": [
       "50"
      ]
     },
     "execution_count": 51,
     "metadata": {},
     "output_type": "execute_result"
    },
    {
     "data": {
      "text/plain": [
       "50"
      ]
     },
     "execution_count": 51,
     "metadata": {},
     "output_type": "execute_result"
    },
    {
     "data": {
      "text/plain": [
       "50"
      ]
     },
     "execution_count": 51,
     "metadata": {},
     "output_type": "execute_result"
    },
    {
     "data": {
      "text/plain": [
       "50"
      ]
     },
     "execution_count": 51,
     "metadata": {},
     "output_type": "execute_result"
    },
    {
     "data": {
      "text/plain": [
       "50"
      ]
     },
     "execution_count": 51,
     "metadata": {},
     "output_type": "execute_result"
    },
    {
     "data": {
      "text/plain": [
       "50"
      ]
     },
     "execution_count": 51,
     "metadata": {},
     "output_type": "execute_result"
    },
    {
     "data": {
      "text/plain": [
       "50"
      ]
     },
     "execution_count": 51,
     "metadata": {},
     "output_type": "execute_result"
    },
    {
     "data": {
      "text/plain": [
       "50"
      ]
     },
     "execution_count": 51,
     "metadata": {},
     "output_type": "execute_result"
    },
    {
     "data": {
      "text/plain": [
       "50"
      ]
     },
     "execution_count": 51,
     "metadata": {},
     "output_type": "execute_result"
    },
    {
     "data": {
      "text/plain": [
       "50"
      ]
     },
     "execution_count": 51,
     "metadata": {},
     "output_type": "execute_result"
    },
    {
     "data": {
      "text/plain": [
       "50"
      ]
     },
     "execution_count": 51,
     "metadata": {},
     "output_type": "execute_result"
    },
    {
     "data": {
      "text/plain": [
       "50"
      ]
     },
     "execution_count": 51,
     "metadata": {},
     "output_type": "execute_result"
    },
    {
     "data": {
      "text/plain": [
       "50"
      ]
     },
     "execution_count": 51,
     "metadata": {},
     "output_type": "execute_result"
    },
    {
     "data": {
      "text/plain": [
       "50"
      ]
     },
     "execution_count": 51,
     "metadata": {},
     "output_type": "execute_result"
    },
    {
     "data": {
      "text/plain": [
       "50"
      ]
     },
     "execution_count": 51,
     "metadata": {},
     "output_type": "execute_result"
    },
    {
     "data": {
      "text/plain": [
       "50"
      ]
     },
     "execution_count": 51,
     "metadata": {},
     "output_type": "execute_result"
    },
    {
     "data": {
      "text/plain": [
       "50"
      ]
     },
     "execution_count": 51,
     "metadata": {},
     "output_type": "execute_result"
    },
    {
     "data": {
      "text/plain": [
       "50"
      ]
     },
     "execution_count": 51,
     "metadata": {},
     "output_type": "execute_result"
    },
    {
     "data": {
      "text/plain": [
       "50"
      ]
     },
     "execution_count": 51,
     "metadata": {},
     "output_type": "execute_result"
    },
    {
     "data": {
      "text/plain": [
       "50"
      ]
     },
     "execution_count": 51,
     "metadata": {},
     "output_type": "execute_result"
    },
    {
     "data": {
      "text/plain": [
       "50"
      ]
     },
     "execution_count": 51,
     "metadata": {},
     "output_type": "execute_result"
    },
    {
     "data": {
      "text/plain": [
       "50"
      ]
     },
     "execution_count": 51,
     "metadata": {},
     "output_type": "execute_result"
    },
    {
     "data": {
      "text/plain": [
       "50"
      ]
     },
     "execution_count": 51,
     "metadata": {},
     "output_type": "execute_result"
    },
    {
     "data": {
      "text/plain": [
       "50"
      ]
     },
     "execution_count": 51,
     "metadata": {},
     "output_type": "execute_result"
    },
    {
     "data": {
      "text/plain": [
       "50"
      ]
     },
     "execution_count": 51,
     "metadata": {},
     "output_type": "execute_result"
    },
    {
     "data": {
      "text/plain": [
       "50"
      ]
     },
     "execution_count": 51,
     "metadata": {},
     "output_type": "execute_result"
    },
    {
     "data": {
      "text/plain": [
       "50"
      ]
     },
     "execution_count": 51,
     "metadata": {},
     "output_type": "execute_result"
    },
    {
     "data": {
      "text/plain": [
       "50"
      ]
     },
     "execution_count": 51,
     "metadata": {},
     "output_type": "execute_result"
    },
    {
     "data": {
      "text/plain": [
       "50"
      ]
     },
     "execution_count": 51,
     "metadata": {},
     "output_type": "execute_result"
    },
    {
     "data": {
      "text/plain": [
       "50"
      ]
     },
     "execution_count": 51,
     "metadata": {},
     "output_type": "execute_result"
    },
    {
     "data": {
      "text/plain": [
       "50"
      ]
     },
     "execution_count": 51,
     "metadata": {},
     "output_type": "execute_result"
    },
    {
     "data": {
      "text/plain": [
       "50"
      ]
     },
     "execution_count": 51,
     "metadata": {},
     "output_type": "execute_result"
    },
    {
     "data": {
      "text/plain": [
       "50"
      ]
     },
     "execution_count": 51,
     "metadata": {},
     "output_type": "execute_result"
    },
    {
     "data": {
      "text/plain": [
       "50"
      ]
     },
     "execution_count": 51,
     "metadata": {},
     "output_type": "execute_result"
    },
    {
     "data": {
      "text/plain": [
       "50"
      ]
     },
     "execution_count": 51,
     "metadata": {},
     "output_type": "execute_result"
    },
    {
     "data": {
      "text/plain": [
       "50"
      ]
     },
     "execution_count": 51,
     "metadata": {},
     "output_type": "execute_result"
    },
    {
     "data": {
      "text/plain": [
       "50"
      ]
     },
     "execution_count": 51,
     "metadata": {},
     "output_type": "execute_result"
    },
    {
     "data": {
      "text/plain": [
       "50"
      ]
     },
     "execution_count": 51,
     "metadata": {},
     "output_type": "execute_result"
    },
    {
     "data": {
      "text/plain": [
       "50"
      ]
     },
     "execution_count": 51,
     "metadata": {},
     "output_type": "execute_result"
    },
    {
     "data": {
      "text/plain": [
       "50"
      ]
     },
     "execution_count": 51,
     "metadata": {},
     "output_type": "execute_result"
    },
    {
     "data": {
      "text/plain": [
       "50"
      ]
     },
     "execution_count": 51,
     "metadata": {},
     "output_type": "execute_result"
    },
    {
     "data": {
      "text/plain": [
       "50"
      ]
     },
     "execution_count": 51,
     "metadata": {},
     "output_type": "execute_result"
    },
    {
     "data": {
      "text/plain": [
       "50"
      ]
     },
     "execution_count": 51,
     "metadata": {},
     "output_type": "execute_result"
    },
    {
     "data": {
      "text/plain": [
       "50"
      ]
     },
     "execution_count": 51,
     "metadata": {},
     "output_type": "execute_result"
    },
    {
     "data": {
      "text/plain": [
       "50"
      ]
     },
     "execution_count": 51,
     "metadata": {},
     "output_type": "execute_result"
    },
    {
     "data": {
      "text/plain": [
       "50"
      ]
     },
     "execution_count": 51,
     "metadata": {},
     "output_type": "execute_result"
    },
    {
     "data": {
      "text/plain": [
       "50"
      ]
     },
     "execution_count": 51,
     "metadata": {},
     "output_type": "execute_result"
    },
    {
     "data": {
      "text/plain": [
       "50"
      ]
     },
     "execution_count": 51,
     "metadata": {},
     "output_type": "execute_result"
    },
    {
     "data": {
      "text/plain": [
       "50"
      ]
     },
     "execution_count": 51,
     "metadata": {},
     "output_type": "execute_result"
    },
    {
     "data": {
      "text/plain": [
       "50"
      ]
     },
     "execution_count": 51,
     "metadata": {},
     "output_type": "execute_result"
    },
    {
     "data": {
      "text/plain": [
       "50"
      ]
     },
     "execution_count": 51,
     "metadata": {},
     "output_type": "execute_result"
    },
    {
     "data": {
      "text/plain": [
       "50"
      ]
     },
     "execution_count": 51,
     "metadata": {},
     "output_type": "execute_result"
    },
    {
     "data": {
      "text/plain": [
       "50"
      ]
     },
     "execution_count": 51,
     "metadata": {},
     "output_type": "execute_result"
    },
    {
     "data": {
      "text/plain": [
       "50"
      ]
     },
     "execution_count": 51,
     "metadata": {},
     "output_type": "execute_result"
    },
    {
     "data": {
      "text/plain": [
       "50"
      ]
     },
     "execution_count": 51,
     "metadata": {},
     "output_type": "execute_result"
    },
    {
     "data": {
      "text/plain": [
       "50"
      ]
     },
     "execution_count": 51,
     "metadata": {},
     "output_type": "execute_result"
    },
    {
     "data": {
      "text/plain": [
       "50"
      ]
     },
     "execution_count": 51,
     "metadata": {},
     "output_type": "execute_result"
    },
    {
     "data": {
      "text/plain": [
       "50"
      ]
     },
     "execution_count": 51,
     "metadata": {},
     "output_type": "execute_result"
    },
    {
     "data": {
      "text/plain": [
       "50"
      ]
     },
     "execution_count": 51,
     "metadata": {},
     "output_type": "execute_result"
    },
    {
     "data": {
      "text/plain": [
       "50"
      ]
     },
     "execution_count": 51,
     "metadata": {},
     "output_type": "execute_result"
    },
    {
     "data": {
      "text/plain": [
       "50"
      ]
     },
     "execution_count": 51,
     "metadata": {},
     "output_type": "execute_result"
    },
    {
     "data": {
      "text/plain": [
       "50"
      ]
     },
     "execution_count": 51,
     "metadata": {},
     "output_type": "execute_result"
    },
    {
     "data": {
      "text/plain": [
       "50"
      ]
     },
     "execution_count": 51,
     "metadata": {},
     "output_type": "execute_result"
    },
    {
     "data": {
      "text/plain": [
       "50"
      ]
     },
     "execution_count": 51,
     "metadata": {},
     "output_type": "execute_result"
    },
    {
     "data": {
      "text/plain": [
       "50"
      ]
     },
     "execution_count": 51,
     "metadata": {},
     "output_type": "execute_result"
    },
    {
     "data": {
      "text/plain": [
       "50"
      ]
     },
     "execution_count": 51,
     "metadata": {},
     "output_type": "execute_result"
    },
    {
     "data": {
      "text/plain": [
       "50"
      ]
     },
     "execution_count": 51,
     "metadata": {},
     "output_type": "execute_result"
    },
    {
     "data": {
      "text/plain": [
       "50"
      ]
     },
     "execution_count": 51,
     "metadata": {},
     "output_type": "execute_result"
    },
    {
     "data": {
      "text/plain": [
       "50"
      ]
     },
     "execution_count": 51,
     "metadata": {},
     "output_type": "execute_result"
    },
    {
     "data": {
      "text/plain": [
       "50"
      ]
     },
     "execution_count": 51,
     "metadata": {},
     "output_type": "execute_result"
    },
    {
     "data": {
      "text/plain": [
       "50"
      ]
     },
     "execution_count": 51,
     "metadata": {},
     "output_type": "execute_result"
    },
    {
     "data": {
      "text/plain": [
       "50"
      ]
     },
     "execution_count": 51,
     "metadata": {},
     "output_type": "execute_result"
    },
    {
     "data": {
      "text/plain": [
       "50"
      ]
     },
     "execution_count": 51,
     "metadata": {},
     "output_type": "execute_result"
    },
    {
     "data": {
      "text/plain": [
       "50"
      ]
     },
     "execution_count": 51,
     "metadata": {},
     "output_type": "execute_result"
    },
    {
     "data": {
      "text/plain": [
       "50"
      ]
     },
     "execution_count": 51,
     "metadata": {},
     "output_type": "execute_result"
    },
    {
     "data": {
      "text/plain": [
       "50"
      ]
     },
     "execution_count": 51,
     "metadata": {},
     "output_type": "execute_result"
    },
    {
     "data": {
      "text/plain": [
       "50"
      ]
     },
     "execution_count": 51,
     "metadata": {},
     "output_type": "execute_result"
    },
    {
     "data": {
      "text/plain": [
       "50"
      ]
     },
     "execution_count": 51,
     "metadata": {},
     "output_type": "execute_result"
    },
    {
     "data": {
      "text/plain": [
       "50"
      ]
     },
     "execution_count": 51,
     "metadata": {},
     "output_type": "execute_result"
    },
    {
     "data": {
      "text/plain": [
       "50"
      ]
     },
     "execution_count": 51,
     "metadata": {},
     "output_type": "execute_result"
    },
    {
     "data": {
      "text/plain": [
       "50"
      ]
     },
     "execution_count": 51,
     "metadata": {},
     "output_type": "execute_result"
    },
    {
     "data": {
      "text/plain": [
       "50"
      ]
     },
     "execution_count": 51,
     "metadata": {},
     "output_type": "execute_result"
    },
    {
     "data": {
      "text/plain": [
       "50"
      ]
     },
     "execution_count": 51,
     "metadata": {},
     "output_type": "execute_result"
    },
    {
     "data": {
      "text/plain": [
       "50"
      ]
     },
     "execution_count": 51,
     "metadata": {},
     "output_type": "execute_result"
    },
    {
     "data": {
      "text/plain": [
       "50"
      ]
     },
     "execution_count": 51,
     "metadata": {},
     "output_type": "execute_result"
    },
    {
     "data": {
      "text/plain": [
       "50"
      ]
     },
     "execution_count": 51,
     "metadata": {},
     "output_type": "execute_result"
    },
    {
     "data": {
      "text/plain": [
       "50"
      ]
     },
     "execution_count": 51,
     "metadata": {},
     "output_type": "execute_result"
    },
    {
     "data": {
      "text/plain": [
       "50"
      ]
     },
     "execution_count": 51,
     "metadata": {},
     "output_type": "execute_result"
    },
    {
     "data": {
      "text/plain": [
       "50"
      ]
     },
     "execution_count": 51,
     "metadata": {},
     "output_type": "execute_result"
    },
    {
     "data": {
      "text/plain": [
       "50"
      ]
     },
     "execution_count": 51,
     "metadata": {},
     "output_type": "execute_result"
    },
    {
     "data": {
      "text/plain": [
       "50"
      ]
     },
     "execution_count": 51,
     "metadata": {},
     "output_type": "execute_result"
    },
    {
     "data": {
      "text/plain": [
       "50"
      ]
     },
     "execution_count": 51,
     "metadata": {},
     "output_type": "execute_result"
    },
    {
     "data": {
      "text/plain": [
       "50"
      ]
     },
     "execution_count": 51,
     "metadata": {},
     "output_type": "execute_result"
    },
    {
     "data": {
      "text/plain": [
       "50"
      ]
     },
     "execution_count": 51,
     "metadata": {},
     "output_type": "execute_result"
    },
    {
     "data": {
      "text/plain": [
       "50"
      ]
     },
     "execution_count": 51,
     "metadata": {},
     "output_type": "execute_result"
    },
    {
     "data": {
      "text/plain": [
       "50"
      ]
     },
     "execution_count": 51,
     "metadata": {},
     "output_type": "execute_result"
    },
    {
     "data": {
      "text/plain": [
       "50"
      ]
     },
     "execution_count": 51,
     "metadata": {},
     "output_type": "execute_result"
    },
    {
     "data": {
      "text/plain": [
       "50"
      ]
     },
     "execution_count": 51,
     "metadata": {},
     "output_type": "execute_result"
    },
    {
     "data": {
      "text/plain": [
       "50"
      ]
     },
     "execution_count": 51,
     "metadata": {},
     "output_type": "execute_result"
    },
    {
     "data": {
      "text/plain": [
       "50"
      ]
     },
     "execution_count": 51,
     "metadata": {},
     "output_type": "execute_result"
    },
    {
     "data": {
      "text/plain": [
       "50"
      ]
     },
     "execution_count": 51,
     "metadata": {},
     "output_type": "execute_result"
    },
    {
     "data": {
      "text/plain": [
       "50"
      ]
     },
     "execution_count": 51,
     "metadata": {},
     "output_type": "execute_result"
    },
    {
     "data": {
      "text/plain": [
       "50"
      ]
     },
     "execution_count": 51,
     "metadata": {},
     "output_type": "execute_result"
    },
    {
     "data": {
      "text/plain": [
       "50"
      ]
     },
     "execution_count": 51,
     "metadata": {},
     "output_type": "execute_result"
    },
    {
     "data": {
      "text/plain": [
       "50"
      ]
     },
     "execution_count": 51,
     "metadata": {},
     "output_type": "execute_result"
    },
    {
     "data": {
      "text/plain": [
       "50"
      ]
     },
     "execution_count": 51,
     "metadata": {},
     "output_type": "execute_result"
    },
    {
     "data": {
      "text/plain": [
       "50"
      ]
     },
     "execution_count": 51,
     "metadata": {},
     "output_type": "execute_result"
    },
    {
     "data": {
      "text/plain": [
       "50"
      ]
     },
     "execution_count": 51,
     "metadata": {},
     "output_type": "execute_result"
    },
    {
     "data": {
      "text/plain": [
       "50"
      ]
     },
     "execution_count": 51,
     "metadata": {},
     "output_type": "execute_result"
    },
    {
     "data": {
      "text/plain": [
       "50"
      ]
     },
     "execution_count": 51,
     "metadata": {},
     "output_type": "execute_result"
    },
    {
     "data": {
      "text/plain": [
       "50"
      ]
     },
     "execution_count": 51,
     "metadata": {},
     "output_type": "execute_result"
    },
    {
     "data": {
      "text/plain": [
       "50"
      ]
     },
     "execution_count": 51,
     "metadata": {},
     "output_type": "execute_result"
    },
    {
     "data": {
      "text/plain": [
       "50"
      ]
     },
     "execution_count": 51,
     "metadata": {},
     "output_type": "execute_result"
    },
    {
     "data": {
      "text/plain": [
       "50"
      ]
     },
     "execution_count": 51,
     "metadata": {},
     "output_type": "execute_result"
    },
    {
     "data": {
      "text/plain": [
       "50"
      ]
     },
     "execution_count": 51,
     "metadata": {},
     "output_type": "execute_result"
    },
    {
     "data": {
      "text/plain": [
       "50"
      ]
     },
     "execution_count": 51,
     "metadata": {},
     "output_type": "execute_result"
    },
    {
     "data": {
      "text/plain": [
       "50"
      ]
     },
     "execution_count": 51,
     "metadata": {},
     "output_type": "execute_result"
    },
    {
     "data": {
      "text/plain": [
       "50"
      ]
     },
     "execution_count": 51,
     "metadata": {},
     "output_type": "execute_result"
    },
    {
     "data": {
      "text/plain": [
       "50"
      ]
     },
     "execution_count": 51,
     "metadata": {},
     "output_type": "execute_result"
    },
    {
     "data": {
      "text/plain": [
       "50"
      ]
     },
     "execution_count": 51,
     "metadata": {},
     "output_type": "execute_result"
    },
    {
     "data": {
      "text/plain": [
       "50"
      ]
     },
     "execution_count": 51,
     "metadata": {},
     "output_type": "execute_result"
    },
    {
     "data": {
      "text/plain": [
       "50"
      ]
     },
     "execution_count": 51,
     "metadata": {},
     "output_type": "execute_result"
    },
    {
     "data": {
      "text/plain": [
       "50"
      ]
     },
     "execution_count": 51,
     "metadata": {},
     "output_type": "execute_result"
    },
    {
     "data": {
      "text/plain": [
       "50"
      ]
     },
     "execution_count": 51,
     "metadata": {},
     "output_type": "execute_result"
    },
    {
     "data": {
      "text/plain": [
       "50"
      ]
     },
     "execution_count": 51,
     "metadata": {},
     "output_type": "execute_result"
    },
    {
     "data": {
      "text/plain": [
       "50"
      ]
     },
     "execution_count": 51,
     "metadata": {},
     "output_type": "execute_result"
    },
    {
     "data": {
      "text/plain": [
       "50"
      ]
     },
     "execution_count": 51,
     "metadata": {},
     "output_type": "execute_result"
    },
    {
     "data": {
      "text/plain": [
       "50"
      ]
     },
     "execution_count": 51,
     "metadata": {},
     "output_type": "execute_result"
    },
    {
     "data": {
      "text/plain": [
       "50"
      ]
     },
     "execution_count": 51,
     "metadata": {},
     "output_type": "execute_result"
    },
    {
     "data": {
      "text/plain": [
       "50"
      ]
     },
     "execution_count": 51,
     "metadata": {},
     "output_type": "execute_result"
    },
    {
     "data": {
      "text/plain": [
       "50"
      ]
     },
     "execution_count": 51,
     "metadata": {},
     "output_type": "execute_result"
    },
    {
     "data": {
      "text/plain": [
       "50"
      ]
     },
     "execution_count": 51,
     "metadata": {},
     "output_type": "execute_result"
    },
    {
     "data": {
      "text/plain": [
       "50"
      ]
     },
     "execution_count": 51,
     "metadata": {},
     "output_type": "execute_result"
    },
    {
     "data": {
      "text/plain": [
       "50"
      ]
     },
     "execution_count": 51,
     "metadata": {},
     "output_type": "execute_result"
    },
    {
     "data": {
      "text/plain": [
       "50"
      ]
     },
     "execution_count": 51,
     "metadata": {},
     "output_type": "execute_result"
    },
    {
     "data": {
      "text/plain": [
       "50"
      ]
     },
     "execution_count": 51,
     "metadata": {},
     "output_type": "execute_result"
    },
    {
     "data": {
      "text/plain": [
       "50"
      ]
     },
     "execution_count": 51,
     "metadata": {},
     "output_type": "execute_result"
    },
    {
     "data": {
      "text/plain": [
       "50"
      ]
     },
     "execution_count": 51,
     "metadata": {},
     "output_type": "execute_result"
    },
    {
     "data": {
      "text/plain": [
       "50"
      ]
     },
     "execution_count": 51,
     "metadata": {},
     "output_type": "execute_result"
    },
    {
     "data": {
      "text/plain": [
       "50"
      ]
     },
     "execution_count": 51,
     "metadata": {},
     "output_type": "execute_result"
    },
    {
     "data": {
      "text/plain": [
       "50"
      ]
     },
     "execution_count": 51,
     "metadata": {},
     "output_type": "execute_result"
    },
    {
     "data": {
      "text/plain": [
       "50"
      ]
     },
     "execution_count": 51,
     "metadata": {},
     "output_type": "execute_result"
    },
    {
     "data": {
      "text/plain": [
       "50"
      ]
     },
     "execution_count": 51,
     "metadata": {},
     "output_type": "execute_result"
    },
    {
     "data": {
      "text/plain": [
       "50"
      ]
     },
     "execution_count": 51,
     "metadata": {},
     "output_type": "execute_result"
    },
    {
     "data": {
      "text/plain": [
       "50"
      ]
     },
     "execution_count": 51,
     "metadata": {},
     "output_type": "execute_result"
    },
    {
     "data": {
      "text/plain": [
       "50"
      ]
     },
     "execution_count": 51,
     "metadata": {},
     "output_type": "execute_result"
    },
    {
     "data": {
      "text/plain": [
       "50"
      ]
     },
     "execution_count": 51,
     "metadata": {},
     "output_type": "execute_result"
    },
    {
     "data": {
      "text/plain": [
       "50"
      ]
     },
     "execution_count": 51,
     "metadata": {},
     "output_type": "execute_result"
    },
    {
     "data": {
      "text/plain": [
       "50"
      ]
     },
     "execution_count": 51,
     "metadata": {},
     "output_type": "execute_result"
    },
    {
     "data": {
      "text/plain": [
       "50"
      ]
     },
     "execution_count": 51,
     "metadata": {},
     "output_type": "execute_result"
    },
    {
     "data": {
      "text/plain": [
       "50"
      ]
     },
     "execution_count": 51,
     "metadata": {},
     "output_type": "execute_result"
    },
    {
     "data": {
      "text/plain": [
       "50"
      ]
     },
     "execution_count": 51,
     "metadata": {},
     "output_type": "execute_result"
    },
    {
     "data": {
      "text/plain": [
       "50"
      ]
     },
     "execution_count": 51,
     "metadata": {},
     "output_type": "execute_result"
    },
    {
     "data": {
      "text/plain": [
       "50"
      ]
     },
     "execution_count": 51,
     "metadata": {},
     "output_type": "execute_result"
    },
    {
     "data": {
      "text/plain": [
       "50"
      ]
     },
     "execution_count": 51,
     "metadata": {},
     "output_type": "execute_result"
    },
    {
     "data": {
      "text/plain": [
       "50"
      ]
     },
     "execution_count": 51,
     "metadata": {},
     "output_type": "execute_result"
    },
    {
     "data": {
      "text/plain": [
       "50"
      ]
     },
     "execution_count": 51,
     "metadata": {},
     "output_type": "execute_result"
    },
    {
     "data": {
      "text/plain": [
       "50"
      ]
     },
     "execution_count": 51,
     "metadata": {},
     "output_type": "execute_result"
    },
    {
     "data": {
      "text/plain": [
       "50"
      ]
     },
     "execution_count": 51,
     "metadata": {},
     "output_type": "execute_result"
    },
    {
     "data": {
      "text/plain": [
       "50"
      ]
     },
     "execution_count": 51,
     "metadata": {},
     "output_type": "execute_result"
    },
    {
     "data": {
      "text/plain": [
       "50"
      ]
     },
     "execution_count": 51,
     "metadata": {},
     "output_type": "execute_result"
    },
    {
     "data": {
      "text/plain": [
       "50"
      ]
     },
     "execution_count": 51,
     "metadata": {},
     "output_type": "execute_result"
    },
    {
     "data": {
      "text/plain": [
       "50"
      ]
     },
     "execution_count": 51,
     "metadata": {},
     "output_type": "execute_result"
    },
    {
     "data": {
      "text/plain": [
       "50"
      ]
     },
     "execution_count": 51,
     "metadata": {},
     "output_type": "execute_result"
    },
    {
     "data": {
      "text/plain": [
       "50"
      ]
     },
     "execution_count": 51,
     "metadata": {},
     "output_type": "execute_result"
    },
    {
     "data": {
      "text/plain": [
       "50"
      ]
     },
     "execution_count": 51,
     "metadata": {},
     "output_type": "execute_result"
    },
    {
     "data": {
      "text/plain": [
       "50"
      ]
     },
     "execution_count": 51,
     "metadata": {},
     "output_type": "execute_result"
    },
    {
     "data": {
      "text/plain": [
       "50"
      ]
     },
     "execution_count": 51,
     "metadata": {},
     "output_type": "execute_result"
    },
    {
     "data": {
      "text/plain": [
       "50"
      ]
     },
     "execution_count": 51,
     "metadata": {},
     "output_type": "execute_result"
    },
    {
     "data": {
      "text/plain": [
       "50"
      ]
     },
     "execution_count": 51,
     "metadata": {},
     "output_type": "execute_result"
    },
    {
     "data": {
      "text/plain": [
       "50"
      ]
     },
     "execution_count": 51,
     "metadata": {},
     "output_type": "execute_result"
    },
    {
     "data": {
      "text/plain": [
       "50"
      ]
     },
     "execution_count": 51,
     "metadata": {},
     "output_type": "execute_result"
    },
    {
     "data": {
      "text/plain": [
       "50"
      ]
     },
     "execution_count": 51,
     "metadata": {},
     "output_type": "execute_result"
    },
    {
     "data": {
      "text/plain": [
       "50"
      ]
     },
     "execution_count": 51,
     "metadata": {},
     "output_type": "execute_result"
    },
    {
     "data": {
      "text/plain": [
       "50"
      ]
     },
     "execution_count": 51,
     "metadata": {},
     "output_type": "execute_result"
    },
    {
     "data": {
      "text/plain": [
       "50"
      ]
     },
     "execution_count": 51,
     "metadata": {},
     "output_type": "execute_result"
    },
    {
     "data": {
      "text/plain": [
       "50"
      ]
     },
     "execution_count": 51,
     "metadata": {},
     "output_type": "execute_result"
    },
    {
     "data": {
      "text/plain": [
       "50"
      ]
     },
     "execution_count": 51,
     "metadata": {},
     "output_type": "execute_result"
    },
    {
     "data": {
      "text/plain": [
       "50"
      ]
     },
     "execution_count": 51,
     "metadata": {},
     "output_type": "execute_result"
    },
    {
     "data": {
      "text/plain": [
       "50"
      ]
     },
     "execution_count": 51,
     "metadata": {},
     "output_type": "execute_result"
    },
    {
     "data": {
      "text/plain": [
       "50"
      ]
     },
     "execution_count": 51,
     "metadata": {},
     "output_type": "execute_result"
    },
    {
     "data": {
      "text/plain": [
       "50"
      ]
     },
     "execution_count": 51,
     "metadata": {},
     "output_type": "execute_result"
    },
    {
     "data": {
      "text/plain": [
       "50"
      ]
     },
     "execution_count": 51,
     "metadata": {},
     "output_type": "execute_result"
    },
    {
     "data": {
      "text/plain": [
       "50"
      ]
     },
     "execution_count": 51,
     "metadata": {},
     "output_type": "execute_result"
    },
    {
     "data": {
      "text/plain": [
       "50"
      ]
     },
     "execution_count": 51,
     "metadata": {},
     "output_type": "execute_result"
    },
    {
     "data": {
      "text/plain": [
       "50"
      ]
     },
     "execution_count": 51,
     "metadata": {},
     "output_type": "execute_result"
    },
    {
     "data": {
      "text/plain": [
       "50"
      ]
     },
     "execution_count": 51,
     "metadata": {},
     "output_type": "execute_result"
    },
    {
     "data": {
      "text/plain": [
       "50"
      ]
     },
     "execution_count": 51,
     "metadata": {},
     "output_type": "execute_result"
    },
    {
     "data": {
      "text/plain": [
       "50"
      ]
     },
     "execution_count": 51,
     "metadata": {},
     "output_type": "execute_result"
    },
    {
     "data": {
      "text/plain": [
       "50"
      ]
     },
     "execution_count": 51,
     "metadata": {},
     "output_type": "execute_result"
    },
    {
     "data": {
      "text/plain": [
       "50"
      ]
     },
     "execution_count": 51,
     "metadata": {},
     "output_type": "execute_result"
    },
    {
     "data": {
      "text/plain": [
       "50"
      ]
     },
     "execution_count": 51,
     "metadata": {},
     "output_type": "execute_result"
    },
    {
     "data": {
      "text/plain": [
       "50"
      ]
     },
     "execution_count": 51,
     "metadata": {},
     "output_type": "execute_result"
    },
    {
     "data": {
      "text/plain": [
       "50"
      ]
     },
     "execution_count": 51,
     "metadata": {},
     "output_type": "execute_result"
    },
    {
     "data": {
      "text/plain": [
       "50"
      ]
     },
     "execution_count": 51,
     "metadata": {},
     "output_type": "execute_result"
    },
    {
     "data": {
      "text/plain": [
       "50"
      ]
     },
     "execution_count": 51,
     "metadata": {},
     "output_type": "execute_result"
    },
    {
     "data": {
      "text/plain": [
       "50"
      ]
     },
     "execution_count": 51,
     "metadata": {},
     "output_type": "execute_result"
    },
    {
     "data": {
      "text/plain": [
       "50"
      ]
     },
     "execution_count": 51,
     "metadata": {},
     "output_type": "execute_result"
    },
    {
     "data": {
      "text/plain": [
       "50"
      ]
     },
     "execution_count": 51,
     "metadata": {},
     "output_type": "execute_result"
    },
    {
     "data": {
      "text/plain": [
       "50"
      ]
     },
     "execution_count": 51,
     "metadata": {},
     "output_type": "execute_result"
    },
    {
     "data": {
      "text/plain": [
       "50"
      ]
     },
     "execution_count": 51,
     "metadata": {},
     "output_type": "execute_result"
    },
    {
     "data": {
      "text/plain": [
       "50"
      ]
     },
     "execution_count": 51,
     "metadata": {},
     "output_type": "execute_result"
    },
    {
     "data": {
      "text/plain": [
       "50"
      ]
     },
     "execution_count": 51,
     "metadata": {},
     "output_type": "execute_result"
    },
    {
     "data": {
      "text/plain": [
       "50"
      ]
     },
     "execution_count": 51,
     "metadata": {},
     "output_type": "execute_result"
    },
    {
     "data": {
      "text/plain": [
       "50"
      ]
     },
     "execution_count": 51,
     "metadata": {},
     "output_type": "execute_result"
    },
    {
     "data": {
      "text/plain": [
       "50"
      ]
     },
     "execution_count": 51,
     "metadata": {},
     "output_type": "execute_result"
    },
    {
     "data": {
      "text/plain": [
       "50"
      ]
     },
     "execution_count": 51,
     "metadata": {},
     "output_type": "execute_result"
    },
    {
     "data": {
      "text/plain": [
       "50"
      ]
     },
     "execution_count": 51,
     "metadata": {},
     "output_type": "execute_result"
    },
    {
     "data": {
      "text/plain": [
       "50"
      ]
     },
     "execution_count": 51,
     "metadata": {},
     "output_type": "execute_result"
    },
    {
     "data": {
      "text/plain": [
       "50"
      ]
     },
     "execution_count": 51,
     "metadata": {},
     "output_type": "execute_result"
    },
    {
     "data": {
      "text/plain": [
       "50"
      ]
     },
     "execution_count": 51,
     "metadata": {},
     "output_type": "execute_result"
    },
    {
     "data": {
      "text/plain": [
       "50"
      ]
     },
     "execution_count": 51,
     "metadata": {},
     "output_type": "execute_result"
    },
    {
     "data": {
      "text/plain": [
       "50"
      ]
     },
     "execution_count": 51,
     "metadata": {},
     "output_type": "execute_result"
    },
    {
     "data": {
      "text/plain": [
       "50"
      ]
     },
     "execution_count": 51,
     "metadata": {},
     "output_type": "execute_result"
    },
    {
     "data": {
      "text/plain": [
       "50"
      ]
     },
     "execution_count": 51,
     "metadata": {},
     "output_type": "execute_result"
    },
    {
     "data": {
      "text/plain": [
       "50"
      ]
     },
     "execution_count": 51,
     "metadata": {},
     "output_type": "execute_result"
    },
    {
     "data": {
      "text/plain": [
       "50"
      ]
     },
     "execution_count": 51,
     "metadata": {},
     "output_type": "execute_result"
    },
    {
     "data": {
      "text/plain": [
       "50"
      ]
     },
     "execution_count": 51,
     "metadata": {},
     "output_type": "execute_result"
    },
    {
     "data": {
      "text/plain": [
       "50"
      ]
     },
     "execution_count": 51,
     "metadata": {},
     "output_type": "execute_result"
    },
    {
     "data": {
      "text/plain": [
       "50"
      ]
     },
     "execution_count": 51,
     "metadata": {},
     "output_type": "execute_result"
    },
    {
     "data": {
      "text/plain": [
       "50"
      ]
     },
     "execution_count": 51,
     "metadata": {},
     "output_type": "execute_result"
    },
    {
     "data": {
      "text/plain": [
       "50"
      ]
     },
     "execution_count": 51,
     "metadata": {},
     "output_type": "execute_result"
    },
    {
     "data": {
      "text/plain": [
       "50"
      ]
     },
     "execution_count": 51,
     "metadata": {},
     "output_type": "execute_result"
    },
    {
     "data": {
      "text/plain": [
       "50"
      ]
     },
     "execution_count": 51,
     "metadata": {},
     "output_type": "execute_result"
    },
    {
     "data": {
      "text/plain": [
       "50"
      ]
     },
     "execution_count": 51,
     "metadata": {},
     "output_type": "execute_result"
    },
    {
     "data": {
      "text/plain": [
       "50"
      ]
     },
     "execution_count": 51,
     "metadata": {},
     "output_type": "execute_result"
    },
    {
     "data": {
      "text/plain": [
       "50"
      ]
     },
     "execution_count": 51,
     "metadata": {},
     "output_type": "execute_result"
    },
    {
     "data": {
      "text/plain": [
       "50"
      ]
     },
     "execution_count": 51,
     "metadata": {},
     "output_type": "execute_result"
    },
    {
     "data": {
      "text/plain": [
       "50"
      ]
     },
     "execution_count": 51,
     "metadata": {},
     "output_type": "execute_result"
    },
    {
     "data": {
      "text/plain": [
       "50"
      ]
     },
     "execution_count": 51,
     "metadata": {},
     "output_type": "execute_result"
    },
    {
     "data": {
      "text/plain": [
       "50"
      ]
     },
     "execution_count": 51,
     "metadata": {},
     "output_type": "execute_result"
    },
    {
     "data": {
      "text/plain": [
       "50"
      ]
     },
     "execution_count": 51,
     "metadata": {},
     "output_type": "execute_result"
    },
    {
     "data": {
      "text/plain": [
       "50"
      ]
     },
     "execution_count": 51,
     "metadata": {},
     "output_type": "execute_result"
    },
    {
     "data": {
      "text/plain": [
       "50"
      ]
     },
     "execution_count": 51,
     "metadata": {},
     "output_type": "execute_result"
    },
    {
     "data": {
      "text/plain": [
       "50"
      ]
     },
     "execution_count": 51,
     "metadata": {},
     "output_type": "execute_result"
    },
    {
     "data": {
      "text/plain": [
       "50"
      ]
     },
     "execution_count": 51,
     "metadata": {},
     "output_type": "execute_result"
    },
    {
     "data": {
      "text/plain": [
       "50"
      ]
     },
     "execution_count": 51,
     "metadata": {},
     "output_type": "execute_result"
    },
    {
     "data": {
      "text/plain": [
       "50"
      ]
     },
     "execution_count": 51,
     "metadata": {},
     "output_type": "execute_result"
    },
    {
     "data": {
      "text/plain": [
       "50"
      ]
     },
     "execution_count": 51,
     "metadata": {},
     "output_type": "execute_result"
    },
    {
     "data": {
      "text/plain": [
       "50"
      ]
     },
     "execution_count": 51,
     "metadata": {},
     "output_type": "execute_result"
    },
    {
     "data": {
      "text/plain": [
       "50"
      ]
     },
     "execution_count": 51,
     "metadata": {},
     "output_type": "execute_result"
    },
    {
     "data": {
      "text/plain": [
       "50"
      ]
     },
     "execution_count": 51,
     "metadata": {},
     "output_type": "execute_result"
    },
    {
     "data": {
      "text/plain": [
       "50"
      ]
     },
     "execution_count": 51,
     "metadata": {},
     "output_type": "execute_result"
    },
    {
     "data": {
      "text/plain": [
       "50"
      ]
     },
     "execution_count": 51,
     "metadata": {},
     "output_type": "execute_result"
    },
    {
     "data": {
      "text/plain": [
       "50"
      ]
     },
     "execution_count": 51,
     "metadata": {},
     "output_type": "execute_result"
    },
    {
     "data": {
      "text/plain": [
       "50"
      ]
     },
     "execution_count": 51,
     "metadata": {},
     "output_type": "execute_result"
    },
    {
     "data": {
      "text/plain": [
       "50"
      ]
     },
     "execution_count": 51,
     "metadata": {},
     "output_type": "execute_result"
    },
    {
     "data": {
      "text/plain": [
       "50"
      ]
     },
     "execution_count": 51,
     "metadata": {},
     "output_type": "execute_result"
    },
    {
     "data": {
      "text/plain": [
       "50"
      ]
     },
     "execution_count": 51,
     "metadata": {},
     "output_type": "execute_result"
    },
    {
     "data": {
      "text/plain": [
       "50"
      ]
     },
     "execution_count": 51,
     "metadata": {},
     "output_type": "execute_result"
    },
    {
     "data": {
      "text/plain": [
       "50"
      ]
     },
     "execution_count": 51,
     "metadata": {},
     "output_type": "execute_result"
    },
    {
     "data": {
      "text/plain": [
       "50"
      ]
     },
     "execution_count": 51,
     "metadata": {},
     "output_type": "execute_result"
    },
    {
     "data": {
      "text/plain": [
       "50"
      ]
     },
     "execution_count": 51,
     "metadata": {},
     "output_type": "execute_result"
    },
    {
     "data": {
      "text/plain": [
       "50"
      ]
     },
     "execution_count": 51,
     "metadata": {},
     "output_type": "execute_result"
    },
    {
     "data": {
      "text/plain": [
       "50"
      ]
     },
     "execution_count": 51,
     "metadata": {},
     "output_type": "execute_result"
    },
    {
     "data": {
      "text/plain": [
       "50"
      ]
     },
     "execution_count": 51,
     "metadata": {},
     "output_type": "execute_result"
    },
    {
     "data": {
      "text/plain": [
       "50"
      ]
     },
     "execution_count": 51,
     "metadata": {},
     "output_type": "execute_result"
    },
    {
     "data": {
      "text/plain": [
       "50"
      ]
     },
     "execution_count": 51,
     "metadata": {},
     "output_type": "execute_result"
    },
    {
     "data": {
      "text/plain": [
       "50"
      ]
     },
     "execution_count": 51,
     "metadata": {},
     "output_type": "execute_result"
    },
    {
     "data": {
      "text/plain": [
       "50"
      ]
     },
     "execution_count": 51,
     "metadata": {},
     "output_type": "execute_result"
    },
    {
     "data": {
      "text/plain": [
       "50"
      ]
     },
     "execution_count": 51,
     "metadata": {},
     "output_type": "execute_result"
    },
    {
     "data": {
      "text/plain": [
       "50"
      ]
     },
     "execution_count": 51,
     "metadata": {},
     "output_type": "execute_result"
    },
    {
     "data": {
      "text/plain": [
       "50"
      ]
     },
     "execution_count": 51,
     "metadata": {},
     "output_type": "execute_result"
    },
    {
     "data": {
      "text/plain": [
       "50"
      ]
     },
     "execution_count": 51,
     "metadata": {},
     "output_type": "execute_result"
    },
    {
     "data": {
      "text/plain": [
       "50"
      ]
     },
     "execution_count": 51,
     "metadata": {},
     "output_type": "execute_result"
    },
    {
     "data": {
      "text/plain": [
       "50"
      ]
     },
     "execution_count": 51,
     "metadata": {},
     "output_type": "execute_result"
    },
    {
     "data": {
      "text/plain": [
       "50"
      ]
     },
     "execution_count": 51,
     "metadata": {},
     "output_type": "execute_result"
    },
    {
     "data": {
      "text/plain": [
       "50"
      ]
     },
     "execution_count": 51,
     "metadata": {},
     "output_type": "execute_result"
    },
    {
     "data": {
      "text/plain": [
       "50"
      ]
     },
     "execution_count": 51,
     "metadata": {},
     "output_type": "execute_result"
    },
    {
     "data": {
      "text/plain": [
       "50"
      ]
     },
     "execution_count": 51,
     "metadata": {},
     "output_type": "execute_result"
    },
    {
     "data": {
      "text/plain": [
       "50"
      ]
     },
     "execution_count": 51,
     "metadata": {},
     "output_type": "execute_result"
    },
    {
     "data": {
      "text/plain": [
       "50"
      ]
     },
     "execution_count": 51,
     "metadata": {},
     "output_type": "execute_result"
    },
    {
     "data": {
      "text/plain": [
       "50"
      ]
     },
     "execution_count": 51,
     "metadata": {},
     "output_type": "execute_result"
    },
    {
     "data": {
      "text/plain": [
       "50"
      ]
     },
     "execution_count": 51,
     "metadata": {},
     "output_type": "execute_result"
    },
    {
     "data": {
      "text/plain": [
       "50"
      ]
     },
     "execution_count": 51,
     "metadata": {},
     "output_type": "execute_result"
    },
    {
     "data": {
      "text/plain": [
       "50"
      ]
     },
     "execution_count": 51,
     "metadata": {},
     "output_type": "execute_result"
    },
    {
     "data": {
      "text/plain": [
       "50"
      ]
     },
     "execution_count": 51,
     "metadata": {},
     "output_type": "execute_result"
    },
    {
     "data": {
      "text/plain": [
       "50"
      ]
     },
     "execution_count": 51,
     "metadata": {},
     "output_type": "execute_result"
    },
    {
     "data": {
      "text/plain": [
       "50"
      ]
     },
     "execution_count": 51,
     "metadata": {},
     "output_type": "execute_result"
    },
    {
     "data": {
      "text/plain": [
       "50"
      ]
     },
     "execution_count": 51,
     "metadata": {},
     "output_type": "execute_result"
    },
    {
     "data": {
      "text/plain": [
       "50"
      ]
     },
     "execution_count": 51,
     "metadata": {},
     "output_type": "execute_result"
    },
    {
     "data": {
      "text/plain": [
       "50"
      ]
     },
     "execution_count": 51,
     "metadata": {},
     "output_type": "execute_result"
    },
    {
     "data": {
      "text/plain": [
       "50"
      ]
     },
     "execution_count": 51,
     "metadata": {},
     "output_type": "execute_result"
    },
    {
     "data": {
      "text/plain": [
       "50"
      ]
     },
     "execution_count": 51,
     "metadata": {},
     "output_type": "execute_result"
    },
    {
     "data": {
      "text/plain": [
       "50"
      ]
     },
     "execution_count": 51,
     "metadata": {},
     "output_type": "execute_result"
    },
    {
     "data": {
      "text/plain": [
       "50"
      ]
     },
     "execution_count": 51,
     "metadata": {},
     "output_type": "execute_result"
    },
    {
     "data": {
      "text/plain": [
       "50"
      ]
     },
     "execution_count": 51,
     "metadata": {},
     "output_type": "execute_result"
    },
    {
     "data": {
      "text/plain": [
       "50"
      ]
     },
     "execution_count": 51,
     "metadata": {},
     "output_type": "execute_result"
    },
    {
     "data": {
      "text/plain": [
       "50"
      ]
     },
     "execution_count": 51,
     "metadata": {},
     "output_type": "execute_result"
    },
    {
     "data": {
      "text/plain": [
       "50"
      ]
     },
     "execution_count": 51,
     "metadata": {},
     "output_type": "execute_result"
    },
    {
     "data": {
      "text/plain": [
       "50"
      ]
     },
     "execution_count": 51,
     "metadata": {},
     "output_type": "execute_result"
    },
    {
     "data": {
      "text/plain": [
       "50"
      ]
     },
     "execution_count": 51,
     "metadata": {},
     "output_type": "execute_result"
    },
    {
     "data": {
      "text/plain": [
       "50"
      ]
     },
     "execution_count": 51,
     "metadata": {},
     "output_type": "execute_result"
    },
    {
     "data": {
      "text/plain": [
       "50"
      ]
     },
     "execution_count": 51,
     "metadata": {},
     "output_type": "execute_result"
    },
    {
     "data": {
      "text/plain": [
       "50"
      ]
     },
     "execution_count": 51,
     "metadata": {},
     "output_type": "execute_result"
    },
    {
     "data": {
      "text/plain": [
       "50"
      ]
     },
     "execution_count": 51,
     "metadata": {},
     "output_type": "execute_result"
    },
    {
     "data": {
      "text/plain": [
       "50"
      ]
     },
     "execution_count": 51,
     "metadata": {},
     "output_type": "execute_result"
    },
    {
     "data": {
      "text/plain": [
       "50"
      ]
     },
     "execution_count": 51,
     "metadata": {},
     "output_type": "execute_result"
    },
    {
     "data": {
      "text/plain": [
       "50"
      ]
     },
     "execution_count": 51,
     "metadata": {},
     "output_type": "execute_result"
    },
    {
     "data": {
      "text/plain": [
       "50"
      ]
     },
     "execution_count": 51,
     "metadata": {},
     "output_type": "execute_result"
    },
    {
     "data": {
      "text/plain": [
       "50"
      ]
     },
     "execution_count": 51,
     "metadata": {},
     "output_type": "execute_result"
    },
    {
     "data": {
      "text/plain": [
       "50"
      ]
     },
     "execution_count": 51,
     "metadata": {},
     "output_type": "execute_result"
    },
    {
     "data": {
      "text/plain": [
       "50"
      ]
     },
     "execution_count": 51,
     "metadata": {},
     "output_type": "execute_result"
    },
    {
     "data": {
      "text/plain": [
       "50"
      ]
     },
     "execution_count": 51,
     "metadata": {},
     "output_type": "execute_result"
    },
    {
     "data": {
      "text/plain": [
       "50"
      ]
     },
     "execution_count": 51,
     "metadata": {},
     "output_type": "execute_result"
    },
    {
     "data": {
      "text/plain": [
       "50"
      ]
     },
     "execution_count": 51,
     "metadata": {},
     "output_type": "execute_result"
    },
    {
     "data": {
      "text/plain": [
       "50"
      ]
     },
     "execution_count": 51,
     "metadata": {},
     "output_type": "execute_result"
    },
    {
     "data": {
      "text/plain": [
       "50"
      ]
     },
     "execution_count": 51,
     "metadata": {},
     "output_type": "execute_result"
    },
    {
     "data": {
      "text/plain": [
       "50"
      ]
     },
     "execution_count": 51,
     "metadata": {},
     "output_type": "execute_result"
    },
    {
     "data": {
      "text/plain": [
       "50"
      ]
     },
     "execution_count": 51,
     "metadata": {},
     "output_type": "execute_result"
    },
    {
     "data": {
      "text/plain": [
       "50"
      ]
     },
     "execution_count": 51,
     "metadata": {},
     "output_type": "execute_result"
    },
    {
     "data": {
      "text/plain": [
       "50"
      ]
     },
     "execution_count": 51,
     "metadata": {},
     "output_type": "execute_result"
    },
    {
     "data": {
      "text/plain": [
       "50"
      ]
     },
     "execution_count": 51,
     "metadata": {},
     "output_type": "execute_result"
    },
    {
     "data": {
      "text/plain": [
       "50"
      ]
     },
     "execution_count": 51,
     "metadata": {},
     "output_type": "execute_result"
    },
    {
     "data": {
      "text/plain": [
       "50"
      ]
     },
     "execution_count": 51,
     "metadata": {},
     "output_type": "execute_result"
    },
    {
     "data": {
      "text/plain": [
       "50"
      ]
     },
     "execution_count": 51,
     "metadata": {},
     "output_type": "execute_result"
    },
    {
     "data": {
      "text/plain": [
       "50"
      ]
     },
     "execution_count": 51,
     "metadata": {},
     "output_type": "execute_result"
    },
    {
     "data": {
      "text/plain": [
       "50"
      ]
     },
     "execution_count": 51,
     "metadata": {},
     "output_type": "execute_result"
    },
    {
     "data": {
      "text/plain": [
       "50"
      ]
     },
     "execution_count": 51,
     "metadata": {},
     "output_type": "execute_result"
    },
    {
     "data": {
      "text/plain": [
       "50"
      ]
     },
     "execution_count": 51,
     "metadata": {},
     "output_type": "execute_result"
    },
    {
     "data": {
      "text/plain": [
       "50"
      ]
     },
     "execution_count": 51,
     "metadata": {},
     "output_type": "execute_result"
    },
    {
     "data": {
      "text/plain": [
       "50"
      ]
     },
     "execution_count": 51,
     "metadata": {},
     "output_type": "execute_result"
    },
    {
     "data": {
      "text/plain": [
       "50"
      ]
     },
     "execution_count": 51,
     "metadata": {},
     "output_type": "execute_result"
    },
    {
     "data": {
      "text/plain": [
       "50"
      ]
     },
     "execution_count": 51,
     "metadata": {},
     "output_type": "execute_result"
    },
    {
     "data": {
      "text/plain": [
       "50"
      ]
     },
     "execution_count": 51,
     "metadata": {},
     "output_type": "execute_result"
    },
    {
     "data": {
      "text/plain": [
       "50"
      ]
     },
     "execution_count": 51,
     "metadata": {},
     "output_type": "execute_result"
    },
    {
     "data": {
      "text/plain": [
       "50"
      ]
     },
     "execution_count": 51,
     "metadata": {},
     "output_type": "execute_result"
    },
    {
     "data": {
      "text/plain": [
       "50"
      ]
     },
     "execution_count": 51,
     "metadata": {},
     "output_type": "execute_result"
    },
    {
     "data": {
      "text/plain": [
       "50"
      ]
     },
     "execution_count": 51,
     "metadata": {},
     "output_type": "execute_result"
    },
    {
     "data": {
      "text/plain": [
       "50"
      ]
     },
     "execution_count": 51,
     "metadata": {},
     "output_type": "execute_result"
    },
    {
     "data": {
      "text/plain": [
       "50"
      ]
     },
     "execution_count": 51,
     "metadata": {},
     "output_type": "execute_result"
    },
    {
     "data": {
      "text/plain": [
       "50"
      ]
     },
     "execution_count": 51,
     "metadata": {},
     "output_type": "execute_result"
    },
    {
     "data": {
      "text/plain": [
       "50"
      ]
     },
     "execution_count": 51,
     "metadata": {},
     "output_type": "execute_result"
    },
    {
     "data": {
      "text/plain": [
       "50"
      ]
     },
     "execution_count": 51,
     "metadata": {},
     "output_type": "execute_result"
    },
    {
     "data": {
      "text/plain": [
       "50"
      ]
     },
     "execution_count": 51,
     "metadata": {},
     "output_type": "execute_result"
    },
    {
     "data": {
      "text/plain": [
       "50"
      ]
     },
     "execution_count": 51,
     "metadata": {},
     "output_type": "execute_result"
    },
    {
     "data": {
      "text/plain": [
       "50"
      ]
     },
     "execution_count": 51,
     "metadata": {},
     "output_type": "execute_result"
    },
    {
     "data": {
      "text/plain": [
       "50"
      ]
     },
     "execution_count": 51,
     "metadata": {},
     "output_type": "execute_result"
    },
    {
     "data": {
      "text/plain": [
       "50"
      ]
     },
     "execution_count": 51,
     "metadata": {},
     "output_type": "execute_result"
    },
    {
     "data": {
      "text/plain": [
       "50"
      ]
     },
     "execution_count": 51,
     "metadata": {},
     "output_type": "execute_result"
    },
    {
     "data": {
      "text/plain": [
       "50"
      ]
     },
     "execution_count": 51,
     "metadata": {},
     "output_type": "execute_result"
    },
    {
     "data": {
      "text/plain": [
       "50"
      ]
     },
     "execution_count": 51,
     "metadata": {},
     "output_type": "execute_result"
    },
    {
     "data": {
      "text/plain": [
       "50"
      ]
     },
     "execution_count": 51,
     "metadata": {},
     "output_type": "execute_result"
    },
    {
     "data": {
      "text/plain": [
       "50"
      ]
     },
     "execution_count": 51,
     "metadata": {},
     "output_type": "execute_result"
    },
    {
     "data": {
      "text/plain": [
       "50"
      ]
     },
     "execution_count": 51,
     "metadata": {},
     "output_type": "execute_result"
    },
    {
     "data": {
      "text/plain": [
       "50"
      ]
     },
     "execution_count": 51,
     "metadata": {},
     "output_type": "execute_result"
    },
    {
     "data": {
      "text/plain": [
       "50"
      ]
     },
     "execution_count": 51,
     "metadata": {},
     "output_type": "execute_result"
    },
    {
     "data": {
      "text/plain": [
       "50"
      ]
     },
     "execution_count": 51,
     "metadata": {},
     "output_type": "execute_result"
    },
    {
     "data": {
      "text/plain": [
       "50"
      ]
     },
     "execution_count": 51,
     "metadata": {},
     "output_type": "execute_result"
    },
    {
     "data": {
      "text/plain": [
       "50"
      ]
     },
     "execution_count": 51,
     "metadata": {},
     "output_type": "execute_result"
    },
    {
     "data": {
      "text/plain": [
       "50"
      ]
     },
     "execution_count": 51,
     "metadata": {},
     "output_type": "execute_result"
    },
    {
     "data": {
      "text/plain": [
       "50"
      ]
     },
     "execution_count": 51,
     "metadata": {},
     "output_type": "execute_result"
    },
    {
     "data": {
      "text/plain": [
       "50"
      ]
     },
     "execution_count": 51,
     "metadata": {},
     "output_type": "execute_result"
    },
    {
     "data": {
      "text/plain": [
       "50"
      ]
     },
     "execution_count": 51,
     "metadata": {},
     "output_type": "execute_result"
    },
    {
     "data": {
      "text/plain": [
       "50"
      ]
     },
     "execution_count": 51,
     "metadata": {},
     "output_type": "execute_result"
    },
    {
     "data": {
      "text/plain": [
       "50"
      ]
     },
     "execution_count": 51,
     "metadata": {},
     "output_type": "execute_result"
    },
    {
     "data": {
      "text/plain": [
       "50"
      ]
     },
     "execution_count": 51,
     "metadata": {},
     "output_type": "execute_result"
    },
    {
     "data": {
      "text/plain": [
       "50"
      ]
     },
     "execution_count": 51,
     "metadata": {},
     "output_type": "execute_result"
    },
    {
     "data": {
      "text/plain": [
       "50"
      ]
     },
     "execution_count": 51,
     "metadata": {},
     "output_type": "execute_result"
    },
    {
     "data": {
      "text/plain": [
       "50"
      ]
     },
     "execution_count": 51,
     "metadata": {},
     "output_type": "execute_result"
    },
    {
     "data": {
      "text/plain": [
       "50"
      ]
     },
     "execution_count": 51,
     "metadata": {},
     "output_type": "execute_result"
    },
    {
     "data": {
      "text/plain": [
       "50"
      ]
     },
     "execution_count": 51,
     "metadata": {},
     "output_type": "execute_result"
    },
    {
     "data": {
      "text/plain": [
       "50"
      ]
     },
     "execution_count": 51,
     "metadata": {},
     "output_type": "execute_result"
    },
    {
     "data": {
      "text/plain": [
       "50"
      ]
     },
     "execution_count": 51,
     "metadata": {},
     "output_type": "execute_result"
    },
    {
     "data": {
      "text/plain": [
       "50"
      ]
     },
     "execution_count": 51,
     "metadata": {},
     "output_type": "execute_result"
    },
    {
     "data": {
      "text/plain": [
       "50"
      ]
     },
     "execution_count": 51,
     "metadata": {},
     "output_type": "execute_result"
    },
    {
     "data": {
      "text/plain": [
       "50"
      ]
     },
     "execution_count": 51,
     "metadata": {},
     "output_type": "execute_result"
    },
    {
     "data": {
      "text/plain": [
       "50"
      ]
     },
     "execution_count": 51,
     "metadata": {},
     "output_type": "execute_result"
    },
    {
     "data": {
      "text/plain": [
       "50"
      ]
     },
     "execution_count": 51,
     "metadata": {},
     "output_type": "execute_result"
    },
    {
     "data": {
      "text/plain": [
       "50"
      ]
     },
     "execution_count": 51,
     "metadata": {},
     "output_type": "execute_result"
    },
    {
     "data": {
      "text/plain": [
       "50"
      ]
     },
     "execution_count": 51,
     "metadata": {},
     "output_type": "execute_result"
    },
    {
     "data": {
      "text/plain": [
       "50"
      ]
     },
     "execution_count": 51,
     "metadata": {},
     "output_type": "execute_result"
    },
    {
     "data": {
      "text/plain": [
       "50"
      ]
     },
     "execution_count": 51,
     "metadata": {},
     "output_type": "execute_result"
    },
    {
     "data": {
      "text/plain": [
       "50"
      ]
     },
     "execution_count": 51,
     "metadata": {},
     "output_type": "execute_result"
    },
    {
     "data": {
      "text/plain": [
       "50"
      ]
     },
     "execution_count": 51,
     "metadata": {},
     "output_type": "execute_result"
    },
    {
     "data": {
      "text/plain": [
       "50"
      ]
     },
     "execution_count": 51,
     "metadata": {},
     "output_type": "execute_result"
    },
    {
     "data": {
      "text/plain": [
       "50"
      ]
     },
     "execution_count": 51,
     "metadata": {},
     "output_type": "execute_result"
    },
    {
     "data": {
      "text/plain": [
       "50"
      ]
     },
     "execution_count": 51,
     "metadata": {},
     "output_type": "execute_result"
    },
    {
     "data": {
      "text/plain": [
       "50"
      ]
     },
     "execution_count": 51,
     "metadata": {},
     "output_type": "execute_result"
    },
    {
     "data": {
      "text/plain": [
       "50"
      ]
     },
     "execution_count": 51,
     "metadata": {},
     "output_type": "execute_result"
    },
    {
     "data": {
      "text/plain": [
       "50"
      ]
     },
     "execution_count": 51,
     "metadata": {},
     "output_type": "execute_result"
    },
    {
     "data": {
      "text/plain": [
       "50"
      ]
     },
     "execution_count": 51,
     "metadata": {},
     "output_type": "execute_result"
    },
    {
     "data": {
      "text/plain": [
       "50"
      ]
     },
     "execution_count": 51,
     "metadata": {},
     "output_type": "execute_result"
    },
    {
     "data": {
      "text/plain": [
       "50"
      ]
     },
     "execution_count": 51,
     "metadata": {},
     "output_type": "execute_result"
    },
    {
     "data": {
      "text/plain": [
       "50"
      ]
     },
     "execution_count": 51,
     "metadata": {},
     "output_type": "execute_result"
    },
    {
     "data": {
      "text/plain": [
       "50"
      ]
     },
     "execution_count": 51,
     "metadata": {},
     "output_type": "execute_result"
    },
    {
     "data": {
      "text/plain": [
       "50"
      ]
     },
     "execution_count": 51,
     "metadata": {},
     "output_type": "execute_result"
    },
    {
     "data": {
      "text/plain": [
       "50"
      ]
     },
     "execution_count": 51,
     "metadata": {},
     "output_type": "execute_result"
    },
    {
     "data": {
      "text/plain": [
       "50"
      ]
     },
     "execution_count": 51,
     "metadata": {},
     "output_type": "execute_result"
    },
    {
     "data": {
      "text/plain": [
       "50"
      ]
     },
     "execution_count": 51,
     "metadata": {},
     "output_type": "execute_result"
    },
    {
     "data": {
      "text/plain": [
       "50"
      ]
     },
     "execution_count": 51,
     "metadata": {},
     "output_type": "execute_result"
    },
    {
     "data": {
      "text/plain": [
       "50"
      ]
     },
     "execution_count": 51,
     "metadata": {},
     "output_type": "execute_result"
    },
    {
     "data": {
      "text/plain": [
       "50"
      ]
     },
     "execution_count": 51,
     "metadata": {},
     "output_type": "execute_result"
    },
    {
     "data": {
      "text/plain": [
       "50"
      ]
     },
     "execution_count": 51,
     "metadata": {},
     "output_type": "execute_result"
    },
    {
     "data": {
      "text/plain": [
       "50"
      ]
     },
     "execution_count": 51,
     "metadata": {},
     "output_type": "execute_result"
    },
    {
     "data": {
      "text/plain": [
       "50"
      ]
     },
     "execution_count": 51,
     "metadata": {},
     "output_type": "execute_result"
    },
    {
     "data": {
      "text/plain": [
       "50"
      ]
     },
     "execution_count": 51,
     "metadata": {},
     "output_type": "execute_result"
    },
    {
     "data": {
      "text/plain": [
       "50"
      ]
     },
     "execution_count": 51,
     "metadata": {},
     "output_type": "execute_result"
    },
    {
     "data": {
      "text/plain": [
       "50"
      ]
     },
     "execution_count": 51,
     "metadata": {},
     "output_type": "execute_result"
    },
    {
     "data": {
      "text/plain": [
       "50"
      ]
     },
     "execution_count": 51,
     "metadata": {},
     "output_type": "execute_result"
    },
    {
     "data": {
      "text/plain": [
       "50"
      ]
     },
     "execution_count": 51,
     "metadata": {},
     "output_type": "execute_result"
    },
    {
     "data": {
      "text/plain": [
       "50"
      ]
     },
     "execution_count": 51,
     "metadata": {},
     "output_type": "execute_result"
    },
    {
     "data": {
      "text/plain": [
       "50"
      ]
     },
     "execution_count": 51,
     "metadata": {},
     "output_type": "execute_result"
    },
    {
     "data": {
      "text/plain": [
       "50"
      ]
     },
     "execution_count": 51,
     "metadata": {},
     "output_type": "execute_result"
    },
    {
     "data": {
      "text/plain": [
       "50"
      ]
     },
     "execution_count": 51,
     "metadata": {},
     "output_type": "execute_result"
    },
    {
     "data": {
      "text/plain": [
       "50"
      ]
     },
     "execution_count": 51,
     "metadata": {},
     "output_type": "execute_result"
    },
    {
     "data": {
      "text/plain": [
       "50"
      ]
     },
     "execution_count": 51,
     "metadata": {},
     "output_type": "execute_result"
    },
    {
     "data": {
      "text/plain": [
       "50"
      ]
     },
     "execution_count": 51,
     "metadata": {},
     "output_type": "execute_result"
    },
    {
     "data": {
      "text/plain": [
       "50"
      ]
     },
     "execution_count": 51,
     "metadata": {},
     "output_type": "execute_result"
    },
    {
     "data": {
      "text/plain": [
       "50"
      ]
     },
     "execution_count": 51,
     "metadata": {},
     "output_type": "execute_result"
    },
    {
     "data": {
      "text/plain": [
       "50"
      ]
     },
     "execution_count": 51,
     "metadata": {},
     "output_type": "execute_result"
    },
    {
     "data": {
      "text/plain": [
       "50"
      ]
     },
     "execution_count": 51,
     "metadata": {},
     "output_type": "execute_result"
    },
    {
     "data": {
      "text/plain": [
       "50"
      ]
     },
     "execution_count": 51,
     "metadata": {},
     "output_type": "execute_result"
    },
    {
     "data": {
      "text/plain": [
       "50"
      ]
     },
     "execution_count": 51,
     "metadata": {},
     "output_type": "execute_result"
    },
    {
     "data": {
      "text/plain": [
       "50"
      ]
     },
     "execution_count": 51,
     "metadata": {},
     "output_type": "execute_result"
    },
    {
     "data": {
      "text/plain": [
       "50"
      ]
     },
     "execution_count": 51,
     "metadata": {},
     "output_type": "execute_result"
    },
    {
     "data": {
      "text/plain": [
       "50"
      ]
     },
     "execution_count": 51,
     "metadata": {},
     "output_type": "execute_result"
    },
    {
     "data": {
      "text/plain": [
       "50"
      ]
     },
     "execution_count": 51,
     "metadata": {},
     "output_type": "execute_result"
    },
    {
     "data": {
      "text/plain": [
       "50"
      ]
     },
     "execution_count": 51,
     "metadata": {},
     "output_type": "execute_result"
    },
    {
     "data": {
      "text/plain": [
       "50"
      ]
     },
     "execution_count": 51,
     "metadata": {},
     "output_type": "execute_result"
    },
    {
     "data": {
      "text/plain": [
       "50"
      ]
     },
     "execution_count": 51,
     "metadata": {},
     "output_type": "execute_result"
    },
    {
     "data": {
      "text/plain": [
       "50"
      ]
     },
     "execution_count": 51,
     "metadata": {},
     "output_type": "execute_result"
    },
    {
     "data": {
      "text/plain": [
       "50"
      ]
     },
     "execution_count": 51,
     "metadata": {},
     "output_type": "execute_result"
    },
    {
     "data": {
      "text/plain": [
       "50"
      ]
     },
     "execution_count": 51,
     "metadata": {},
     "output_type": "execute_result"
    },
    {
     "data": {
      "text/plain": [
       "50"
      ]
     },
     "execution_count": 51,
     "metadata": {},
     "output_type": "execute_result"
    },
    {
     "data": {
      "text/plain": [
       "50"
      ]
     },
     "execution_count": 51,
     "metadata": {},
     "output_type": "execute_result"
    },
    {
     "data": {
      "text/plain": [
       "50"
      ]
     },
     "execution_count": 51,
     "metadata": {},
     "output_type": "execute_result"
    },
    {
     "data": {
      "text/plain": [
       "50"
      ]
     },
     "execution_count": 51,
     "metadata": {},
     "output_type": "execute_result"
    },
    {
     "data": {
      "text/plain": [
       "50"
      ]
     },
     "execution_count": 51,
     "metadata": {},
     "output_type": "execute_result"
    },
    {
     "data": {
      "text/plain": [
       "50"
      ]
     },
     "execution_count": 51,
     "metadata": {},
     "output_type": "execute_result"
    },
    {
     "data": {
      "text/plain": [
       "50"
      ]
     },
     "execution_count": 51,
     "metadata": {},
     "output_type": "execute_result"
    },
    {
     "data": {
      "text/plain": [
       "50"
      ]
     },
     "execution_count": 51,
     "metadata": {},
     "output_type": "execute_result"
    },
    {
     "data": {
      "text/plain": [
       "50"
      ]
     },
     "execution_count": 51,
     "metadata": {},
     "output_type": "execute_result"
    },
    {
     "data": {
      "text/plain": [
       "50"
      ]
     },
     "execution_count": 51,
     "metadata": {},
     "output_type": "execute_result"
    },
    {
     "data": {
      "text/plain": [
       "50"
      ]
     },
     "execution_count": 51,
     "metadata": {},
     "output_type": "execute_result"
    },
    {
     "data": {
      "text/plain": [
       "50"
      ]
     },
     "execution_count": 51,
     "metadata": {},
     "output_type": "execute_result"
    },
    {
     "data": {
      "text/plain": [
       "50"
      ]
     },
     "execution_count": 51,
     "metadata": {},
     "output_type": "execute_result"
    },
    {
     "data": {
      "text/plain": [
       "50"
      ]
     },
     "execution_count": 51,
     "metadata": {},
     "output_type": "execute_result"
    },
    {
     "data": {
      "text/plain": [
       "50"
      ]
     },
     "execution_count": 51,
     "metadata": {},
     "output_type": "execute_result"
    },
    {
     "data": {
      "text/plain": [
       "50"
      ]
     },
     "execution_count": 51,
     "metadata": {},
     "output_type": "execute_result"
    },
    {
     "data": {
      "text/plain": [
       "50"
      ]
     },
     "execution_count": 51,
     "metadata": {},
     "output_type": "execute_result"
    },
    {
     "data": {
      "text/plain": [
       "50"
      ]
     },
     "execution_count": 51,
     "metadata": {},
     "output_type": "execute_result"
    },
    {
     "data": {
      "text/plain": [
       "50"
      ]
     },
     "execution_count": 51,
     "metadata": {},
     "output_type": "execute_result"
    },
    {
     "data": {
      "text/plain": [
       "50"
      ]
     },
     "execution_count": 51,
     "metadata": {},
     "output_type": "execute_result"
    },
    {
     "data": {
      "text/plain": [
       "50"
      ]
     },
     "execution_count": 51,
     "metadata": {},
     "output_type": "execute_result"
    },
    {
     "data": {
      "text/plain": [
       "50"
      ]
     },
     "execution_count": 51,
     "metadata": {},
     "output_type": "execute_result"
    },
    {
     "data": {
      "text/plain": [
       "50"
      ]
     },
     "execution_count": 51,
     "metadata": {},
     "output_type": "execute_result"
    },
    {
     "data": {
      "text/plain": [
       "50"
      ]
     },
     "execution_count": 51,
     "metadata": {},
     "output_type": "execute_result"
    },
    {
     "data": {
      "text/plain": [
       "50"
      ]
     },
     "execution_count": 51,
     "metadata": {},
     "output_type": "execute_result"
    },
    {
     "data": {
      "text/plain": [
       "50"
      ]
     },
     "execution_count": 51,
     "metadata": {},
     "output_type": "execute_result"
    },
    {
     "data": {
      "text/plain": [
       "50"
      ]
     },
     "execution_count": 51,
     "metadata": {},
     "output_type": "execute_result"
    },
    {
     "data": {
      "text/plain": [
       "50"
      ]
     },
     "execution_count": 51,
     "metadata": {},
     "output_type": "execute_result"
    },
    {
     "data": {
      "text/plain": [
       "50"
      ]
     },
     "execution_count": 51,
     "metadata": {},
     "output_type": "execute_result"
    },
    {
     "data": {
      "text/plain": [
       "50"
      ]
     },
     "execution_count": 51,
     "metadata": {},
     "output_type": "execute_result"
    },
    {
     "data": {
      "text/plain": [
       "50"
      ]
     },
     "execution_count": 51,
     "metadata": {},
     "output_type": "execute_result"
    },
    {
     "data": {
      "text/plain": [
       "50"
      ]
     },
     "execution_count": 51,
     "metadata": {},
     "output_type": "execute_result"
    },
    {
     "data": {
      "text/plain": [
       "50"
      ]
     },
     "execution_count": 51,
     "metadata": {},
     "output_type": "execute_result"
    },
    {
     "data": {
      "text/plain": [
       "50"
      ]
     },
     "execution_count": 51,
     "metadata": {},
     "output_type": "execute_result"
    },
    {
     "data": {
      "text/plain": [
       "50"
      ]
     },
     "execution_count": 51,
     "metadata": {},
     "output_type": "execute_result"
    },
    {
     "data": {
      "text/plain": [
       "50"
      ]
     },
     "execution_count": 51,
     "metadata": {},
     "output_type": "execute_result"
    },
    {
     "data": {
      "text/plain": [
       "50"
      ]
     },
     "execution_count": 51,
     "metadata": {},
     "output_type": "execute_result"
    },
    {
     "data": {
      "text/plain": [
       "50"
      ]
     },
     "execution_count": 51,
     "metadata": {},
     "output_type": "execute_result"
    },
    {
     "data": {
      "text/plain": [
       "50"
      ]
     },
     "execution_count": 51,
     "metadata": {},
     "output_type": "execute_result"
    },
    {
     "data": {
      "text/plain": [
       "50"
      ]
     },
     "execution_count": 51,
     "metadata": {},
     "output_type": "execute_result"
    },
    {
     "data": {
      "text/plain": [
       "50"
      ]
     },
     "execution_count": 51,
     "metadata": {},
     "output_type": "execute_result"
    },
    {
     "data": {
      "text/plain": [
       "50"
      ]
     },
     "execution_count": 51,
     "metadata": {},
     "output_type": "execute_result"
    },
    {
     "data": {
      "text/plain": [
       "50"
      ]
     },
     "execution_count": 51,
     "metadata": {},
     "output_type": "execute_result"
    },
    {
     "data": {
      "text/plain": [
       "50"
      ]
     },
     "execution_count": 51,
     "metadata": {},
     "output_type": "execute_result"
    },
    {
     "data": {
      "text/plain": [
       "50"
      ]
     },
     "execution_count": 51,
     "metadata": {},
     "output_type": "execute_result"
    },
    {
     "data": {
      "text/plain": [
       "50"
      ]
     },
     "execution_count": 51,
     "metadata": {},
     "output_type": "execute_result"
    },
    {
     "data": {
      "text/plain": [
       "50"
      ]
     },
     "execution_count": 51,
     "metadata": {},
     "output_type": "execute_result"
    },
    {
     "data": {
      "text/plain": [
       "50"
      ]
     },
     "execution_count": 51,
     "metadata": {},
     "output_type": "execute_result"
    },
    {
     "data": {
      "text/plain": [
       "50"
      ]
     },
     "execution_count": 51,
     "metadata": {},
     "output_type": "execute_result"
    },
    {
     "data": {
      "text/plain": [
       "50"
      ]
     },
     "execution_count": 51,
     "metadata": {},
     "output_type": "execute_result"
    },
    {
     "data": {
      "text/plain": [
       "50"
      ]
     },
     "execution_count": 51,
     "metadata": {},
     "output_type": "execute_result"
    },
    {
     "data": {
      "text/plain": [
       "50"
      ]
     },
     "execution_count": 51,
     "metadata": {},
     "output_type": "execute_result"
    },
    {
     "data": {
      "text/plain": [
       "50"
      ]
     },
     "execution_count": 51,
     "metadata": {},
     "output_type": "execute_result"
    },
    {
     "data": {
      "text/plain": [
       "50"
      ]
     },
     "execution_count": 51,
     "metadata": {},
     "output_type": "execute_result"
    },
    {
     "data": {
      "text/plain": [
       "50"
      ]
     },
     "execution_count": 51,
     "metadata": {},
     "output_type": "execute_result"
    },
    {
     "data": {
      "text/plain": [
       "50"
      ]
     },
     "execution_count": 51,
     "metadata": {},
     "output_type": "execute_result"
    },
    {
     "data": {
      "text/plain": [
       "50"
      ]
     },
     "execution_count": 51,
     "metadata": {},
     "output_type": "execute_result"
    },
    {
     "data": {
      "text/plain": [
       "50"
      ]
     },
     "execution_count": 51,
     "metadata": {},
     "output_type": "execute_result"
    },
    {
     "data": {
      "text/plain": [
       "50"
      ]
     },
     "execution_count": 51,
     "metadata": {},
     "output_type": "execute_result"
    },
    {
     "data": {
      "text/plain": [
       "50"
      ]
     },
     "execution_count": 51,
     "metadata": {},
     "output_type": "execute_result"
    },
    {
     "data": {
      "text/plain": [
       "50"
      ]
     },
     "execution_count": 51,
     "metadata": {},
     "output_type": "execute_result"
    },
    {
     "data": {
      "text/plain": [
       "50"
      ]
     },
     "execution_count": 51,
     "metadata": {},
     "output_type": "execute_result"
    },
    {
     "data": {
      "text/plain": [
       "50"
      ]
     },
     "execution_count": 51,
     "metadata": {},
     "output_type": "execute_result"
    },
    {
     "data": {
      "text/plain": [
       "50"
      ]
     },
     "execution_count": 51,
     "metadata": {},
     "output_type": "execute_result"
    },
    {
     "data": {
      "text/plain": [
       "50"
      ]
     },
     "execution_count": 51,
     "metadata": {},
     "output_type": "execute_result"
    },
    {
     "data": {
      "text/plain": [
       "50"
      ]
     },
     "execution_count": 51,
     "metadata": {},
     "output_type": "execute_result"
    },
    {
     "data": {
      "text/plain": [
       "50"
      ]
     },
     "execution_count": 51,
     "metadata": {},
     "output_type": "execute_result"
    },
    {
     "data": {
      "text/plain": [
       "50"
      ]
     },
     "execution_count": 51,
     "metadata": {},
     "output_type": "execute_result"
    },
    {
     "data": {
      "text/plain": [
       "50"
      ]
     },
     "execution_count": 51,
     "metadata": {},
     "output_type": "execute_result"
    },
    {
     "data": {
      "text/plain": [
       "50"
      ]
     },
     "execution_count": 51,
     "metadata": {},
     "output_type": "execute_result"
    },
    {
     "data": {
      "text/plain": [
       "50"
      ]
     },
     "execution_count": 51,
     "metadata": {},
     "output_type": "execute_result"
    },
    {
     "data": {
      "text/plain": [
       "50"
      ]
     },
     "execution_count": 51,
     "metadata": {},
     "output_type": "execute_result"
    },
    {
     "data": {
      "text/plain": [
       "50"
      ]
     },
     "execution_count": 51,
     "metadata": {},
     "output_type": "execute_result"
    },
    {
     "data": {
      "text/plain": [
       "50"
      ]
     },
     "execution_count": 51,
     "metadata": {},
     "output_type": "execute_result"
    },
    {
     "data": {
      "text/plain": [
       "50"
      ]
     },
     "execution_count": 51,
     "metadata": {},
     "output_type": "execute_result"
    },
    {
     "data": {
      "text/plain": [
       "50"
      ]
     },
     "execution_count": 51,
     "metadata": {},
     "output_type": "execute_result"
    },
    {
     "data": {
      "text/plain": [
       "50"
      ]
     },
     "execution_count": 51,
     "metadata": {},
     "output_type": "execute_result"
    },
    {
     "data": {
      "text/plain": [
       "50"
      ]
     },
     "execution_count": 51,
     "metadata": {},
     "output_type": "execute_result"
    },
    {
     "data": {
      "text/plain": [
       "50"
      ]
     },
     "execution_count": 51,
     "metadata": {},
     "output_type": "execute_result"
    },
    {
     "data": {
      "text/plain": [
       "50"
      ]
     },
     "execution_count": 51,
     "metadata": {},
     "output_type": "execute_result"
    },
    {
     "data": {
      "text/plain": [
       "50"
      ]
     },
     "execution_count": 51,
     "metadata": {},
     "output_type": "execute_result"
    },
    {
     "data": {
      "text/plain": [
       "50"
      ]
     },
     "execution_count": 51,
     "metadata": {},
     "output_type": "execute_result"
    },
    {
     "data": {
      "text/plain": [
       "50"
      ]
     },
     "execution_count": 51,
     "metadata": {},
     "output_type": "execute_result"
    },
    {
     "data": {
      "text/plain": [
       "50"
      ]
     },
     "execution_count": 51,
     "metadata": {},
     "output_type": "execute_result"
    },
    {
     "data": {
      "text/plain": [
       "50"
      ]
     },
     "execution_count": 51,
     "metadata": {},
     "output_type": "execute_result"
    },
    {
     "data": {
      "text/plain": [
       "50"
      ]
     },
     "execution_count": 51,
     "metadata": {},
     "output_type": "execute_result"
    },
    {
     "data": {
      "text/plain": [
       "50"
      ]
     },
     "execution_count": 51,
     "metadata": {},
     "output_type": "execute_result"
    },
    {
     "data": {
      "text/plain": [
       "50"
      ]
     },
     "execution_count": 51,
     "metadata": {},
     "output_type": "execute_result"
    },
    {
     "data": {
      "text/plain": [
       "50"
      ]
     },
     "execution_count": 51,
     "metadata": {},
     "output_type": "execute_result"
    },
    {
     "data": {
      "text/plain": [
       "50"
      ]
     },
     "execution_count": 51,
     "metadata": {},
     "output_type": "execute_result"
    },
    {
     "data": {
      "text/plain": [
       "50"
      ]
     },
     "execution_count": 51,
     "metadata": {},
     "output_type": "execute_result"
    },
    {
     "data": {
      "text/plain": [
       "50"
      ]
     },
     "execution_count": 51,
     "metadata": {},
     "output_type": "execute_result"
    },
    {
     "data": {
      "text/plain": [
       "50"
      ]
     },
     "execution_count": 51,
     "metadata": {},
     "output_type": "execute_result"
    },
    {
     "data": {
      "text/plain": [
       "50"
      ]
     },
     "execution_count": 51,
     "metadata": {},
     "output_type": "execute_result"
    },
    {
     "data": {
      "text/plain": [
       "50"
      ]
     },
     "execution_count": 51,
     "metadata": {},
     "output_type": "execute_result"
    },
    {
     "data": {
      "text/plain": [
       "50"
      ]
     },
     "execution_count": 51,
     "metadata": {},
     "output_type": "execute_result"
    },
    {
     "data": {
      "text/plain": [
       "50"
      ]
     },
     "execution_count": 51,
     "metadata": {},
     "output_type": "execute_result"
    },
    {
     "data": {
      "text/plain": [
       "50"
      ]
     },
     "execution_count": 51,
     "metadata": {},
     "output_type": "execute_result"
    },
    {
     "data": {
      "text/plain": [
       "50"
      ]
     },
     "execution_count": 51,
     "metadata": {},
     "output_type": "execute_result"
    },
    {
     "data": {
      "text/plain": [
       "50"
      ]
     },
     "execution_count": 51,
     "metadata": {},
     "output_type": "execute_result"
    },
    {
     "data": {
      "text/plain": [
       "50"
      ]
     },
     "execution_count": 51,
     "metadata": {},
     "output_type": "execute_result"
    },
    {
     "data": {
      "text/plain": [
       "50"
      ]
     },
     "execution_count": 51,
     "metadata": {},
     "output_type": "execute_result"
    },
    {
     "data": {
      "text/plain": [
       "50"
      ]
     },
     "execution_count": 51,
     "metadata": {},
     "output_type": "execute_result"
    },
    {
     "data": {
      "text/plain": [
       "50"
      ]
     },
     "execution_count": 51,
     "metadata": {},
     "output_type": "execute_result"
    },
    {
     "data": {
      "text/plain": [
       "50"
      ]
     },
     "execution_count": 51,
     "metadata": {},
     "output_type": "execute_result"
    },
    {
     "data": {
      "text/plain": [
       "50"
      ]
     },
     "execution_count": 51,
     "metadata": {},
     "output_type": "execute_result"
    },
    {
     "data": {
      "text/plain": [
       "50"
      ]
     },
     "execution_count": 51,
     "metadata": {},
     "output_type": "execute_result"
    },
    {
     "data": {
      "text/plain": [
       "50"
      ]
     },
     "execution_count": 51,
     "metadata": {},
     "output_type": "execute_result"
    },
    {
     "data": {
      "text/plain": [
       "50"
      ]
     },
     "execution_count": 51,
     "metadata": {},
     "output_type": "execute_result"
    },
    {
     "data": {
      "text/plain": [
       "50"
      ]
     },
     "execution_count": 51,
     "metadata": {},
     "output_type": "execute_result"
    },
    {
     "data": {
      "text/plain": [
       "50"
      ]
     },
     "execution_count": 51,
     "metadata": {},
     "output_type": "execute_result"
    },
    {
     "data": {
      "text/plain": [
       "50"
      ]
     },
     "execution_count": 51,
     "metadata": {},
     "output_type": "execute_result"
    },
    {
     "data": {
      "text/plain": [
       "50"
      ]
     },
     "execution_count": 51,
     "metadata": {},
     "output_type": "execute_result"
    },
    {
     "data": {
      "text/plain": [
       "50"
      ]
     },
     "execution_count": 51,
     "metadata": {},
     "output_type": "execute_result"
    },
    {
     "data": {
      "text/plain": [
       "50"
      ]
     },
     "execution_count": 51,
     "metadata": {},
     "output_type": "execute_result"
    },
    {
     "data": {
      "text/plain": [
       "50"
      ]
     },
     "execution_count": 51,
     "metadata": {},
     "output_type": "execute_result"
    },
    {
     "data": {
      "text/plain": [
       "50"
      ]
     },
     "execution_count": 51,
     "metadata": {},
     "output_type": "execute_result"
    },
    {
     "data": {
      "text/plain": [
       "50"
      ]
     },
     "execution_count": 51,
     "metadata": {},
     "output_type": "execute_result"
    },
    {
     "data": {
      "text/plain": [
       "50"
      ]
     },
     "execution_count": 51,
     "metadata": {},
     "output_type": "execute_result"
    },
    {
     "data": {
      "text/plain": [
       "50"
      ]
     },
     "execution_count": 51,
     "metadata": {},
     "output_type": "execute_result"
    },
    {
     "data": {
      "text/plain": [
       "50"
      ]
     },
     "execution_count": 51,
     "metadata": {},
     "output_type": "execute_result"
    },
    {
     "data": {
      "text/plain": [
       "50"
      ]
     },
     "execution_count": 51,
     "metadata": {},
     "output_type": "execute_result"
    },
    {
     "data": {
      "text/plain": [
       "50"
      ]
     },
     "execution_count": 51,
     "metadata": {},
     "output_type": "execute_result"
    },
    {
     "data": {
      "text/plain": [
       "50"
      ]
     },
     "execution_count": 51,
     "metadata": {},
     "output_type": "execute_result"
    },
    {
     "data": {
      "text/plain": [
       "50"
      ]
     },
     "execution_count": 51,
     "metadata": {},
     "output_type": "execute_result"
    },
    {
     "data": {
      "text/plain": [
       "50"
      ]
     },
     "execution_count": 51,
     "metadata": {},
     "output_type": "execute_result"
    },
    {
     "data": {
      "text/plain": [
       "50"
      ]
     },
     "execution_count": 51,
     "metadata": {},
     "output_type": "execute_result"
    },
    {
     "data": {
      "text/plain": [
       "50"
      ]
     },
     "execution_count": 51,
     "metadata": {},
     "output_type": "execute_result"
    },
    {
     "data": {
      "text/plain": [
       "50"
      ]
     },
     "execution_count": 51,
     "metadata": {},
     "output_type": "execute_result"
    },
    {
     "data": {
      "text/plain": [
       "50"
      ]
     },
     "execution_count": 51,
     "metadata": {},
     "output_type": "execute_result"
    },
    {
     "data": {
      "text/plain": [
       "50"
      ]
     },
     "execution_count": 51,
     "metadata": {},
     "output_type": "execute_result"
    },
    {
     "data": {
      "text/plain": [
       "50"
      ]
     },
     "execution_count": 51,
     "metadata": {},
     "output_type": "execute_result"
    },
    {
     "data": {
      "text/plain": [
       "50"
      ]
     },
     "execution_count": 51,
     "metadata": {},
     "output_type": "execute_result"
    },
    {
     "data": {
      "text/plain": [
       "50"
      ]
     },
     "execution_count": 51,
     "metadata": {},
     "output_type": "execute_result"
    },
    {
     "data": {
      "text/plain": [
       "50"
      ]
     },
     "execution_count": 51,
     "metadata": {},
     "output_type": "execute_result"
    },
    {
     "data": {
      "text/plain": [
       "50"
      ]
     },
     "execution_count": 51,
     "metadata": {},
     "output_type": "execute_result"
    },
    {
     "data": {
      "text/plain": [
       "50"
      ]
     },
     "execution_count": 51,
     "metadata": {},
     "output_type": "execute_result"
    },
    {
     "data": {
      "text/plain": [
       "50"
      ]
     },
     "execution_count": 51,
     "metadata": {},
     "output_type": "execute_result"
    },
    {
     "data": {
      "text/plain": [
       "50"
      ]
     },
     "execution_count": 51,
     "metadata": {},
     "output_type": "execute_result"
    },
    {
     "data": {
      "text/plain": [
       "50"
      ]
     },
     "execution_count": 51,
     "metadata": {},
     "output_type": "execute_result"
    },
    {
     "data": {
      "text/plain": [
       "50"
      ]
     },
     "execution_count": 51,
     "metadata": {},
     "output_type": "execute_result"
    },
    {
     "data": {
      "text/plain": [
       "50"
      ]
     },
     "execution_count": 51,
     "metadata": {},
     "output_type": "execute_result"
    },
    {
     "data": {
      "text/plain": [
       "50"
      ]
     },
     "execution_count": 51,
     "metadata": {},
     "output_type": "execute_result"
    },
    {
     "data": {
      "text/plain": [
       "50"
      ]
     },
     "execution_count": 51,
     "metadata": {},
     "output_type": "execute_result"
    },
    {
     "data": {
      "text/plain": [
       "50"
      ]
     },
     "execution_count": 51,
     "metadata": {},
     "output_type": "execute_result"
    },
    {
     "data": {
      "text/plain": [
       "50"
      ]
     },
     "execution_count": 51,
     "metadata": {},
     "output_type": "execute_result"
    },
    {
     "data": {
      "text/plain": [
       "50"
      ]
     },
     "execution_count": 51,
     "metadata": {},
     "output_type": "execute_result"
    },
    {
     "data": {
      "text/plain": [
       "50"
      ]
     },
     "execution_count": 51,
     "metadata": {},
     "output_type": "execute_result"
    },
    {
     "data": {
      "text/plain": [
       "50"
      ]
     },
     "execution_count": 51,
     "metadata": {},
     "output_type": "execute_result"
    },
    {
     "data": {
      "text/plain": [
       "50"
      ]
     },
     "execution_count": 51,
     "metadata": {},
     "output_type": "execute_result"
    },
    {
     "data": {
      "text/plain": [
       "50"
      ]
     },
     "execution_count": 51,
     "metadata": {},
     "output_type": "execute_result"
    },
    {
     "data": {
      "text/plain": [
       "50"
      ]
     },
     "execution_count": 51,
     "metadata": {},
     "output_type": "execute_result"
    },
    {
     "data": {
      "text/plain": [
       "50"
      ]
     },
     "execution_count": 51,
     "metadata": {},
     "output_type": "execute_result"
    },
    {
     "data": {
      "text/plain": [
       "50"
      ]
     },
     "execution_count": 51,
     "metadata": {},
     "output_type": "execute_result"
    },
    {
     "data": {
      "text/plain": [
       "50"
      ]
     },
     "execution_count": 51,
     "metadata": {},
     "output_type": "execute_result"
    },
    {
     "data": {
      "text/plain": [
       "50"
      ]
     },
     "execution_count": 51,
     "metadata": {},
     "output_type": "execute_result"
    },
    {
     "data": {
      "text/plain": [
       "50"
      ]
     },
     "execution_count": 51,
     "metadata": {},
     "output_type": "execute_result"
    },
    {
     "data": {
      "text/plain": [
       "50"
      ]
     },
     "execution_count": 51,
     "metadata": {},
     "output_type": "execute_result"
    },
    {
     "data": {
      "text/plain": [
       "50"
      ]
     },
     "execution_count": 51,
     "metadata": {},
     "output_type": "execute_result"
    },
    {
     "data": {
      "text/plain": [
       "50"
      ]
     },
     "execution_count": 51,
     "metadata": {},
     "output_type": "execute_result"
    },
    {
     "data": {
      "text/plain": [
       "50"
      ]
     },
     "execution_count": 51,
     "metadata": {},
     "output_type": "execute_result"
    },
    {
     "data": {
      "text/plain": [
       "50"
      ]
     },
     "execution_count": 51,
     "metadata": {},
     "output_type": "execute_result"
    },
    {
     "data": {
      "text/plain": [
       "50"
      ]
     },
     "execution_count": 51,
     "metadata": {},
     "output_type": "execute_result"
    },
    {
     "data": {
      "text/plain": [
       "50"
      ]
     },
     "execution_count": 51,
     "metadata": {},
     "output_type": "execute_result"
    },
    {
     "data": {
      "text/plain": [
       "50"
      ]
     },
     "execution_count": 51,
     "metadata": {},
     "output_type": "execute_result"
    },
    {
     "data": {
      "text/plain": [
       "50"
      ]
     },
     "execution_count": 51,
     "metadata": {},
     "output_type": "execute_result"
    },
    {
     "data": {
      "text/plain": [
       "50"
      ]
     },
     "execution_count": 51,
     "metadata": {},
     "output_type": "execute_result"
    },
    {
     "data": {
      "text/plain": [
       "50"
      ]
     },
     "execution_count": 51,
     "metadata": {},
     "output_type": "execute_result"
    },
    {
     "data": {
      "text/plain": [
       "50"
      ]
     },
     "execution_count": 51,
     "metadata": {},
     "output_type": "execute_result"
    },
    {
     "data": {
      "text/plain": [
       "50"
      ]
     },
     "execution_count": 51,
     "metadata": {},
     "output_type": "execute_result"
    },
    {
     "data": {
      "text/plain": [
       "50"
      ]
     },
     "execution_count": 51,
     "metadata": {},
     "output_type": "execute_result"
    },
    {
     "data": {
      "text/plain": [
       "50"
      ]
     },
     "execution_count": 51,
     "metadata": {},
     "output_type": "execute_result"
    },
    {
     "data": {
      "text/plain": [
       "50"
      ]
     },
     "execution_count": 51,
     "metadata": {},
     "output_type": "execute_result"
    },
    {
     "data": {
      "text/plain": [
       "50"
      ]
     },
     "execution_count": 51,
     "metadata": {},
     "output_type": "execute_result"
    },
    {
     "data": {
      "text/plain": [
       "50"
      ]
     },
     "execution_count": 51,
     "metadata": {},
     "output_type": "execute_result"
    },
    {
     "data": {
      "text/plain": [
       "50"
      ]
     },
     "execution_count": 51,
     "metadata": {},
     "output_type": "execute_result"
    },
    {
     "data": {
      "text/plain": [
       "50"
      ]
     },
     "execution_count": 51,
     "metadata": {},
     "output_type": "execute_result"
    },
    {
     "data": {
      "text/plain": [
       "50"
      ]
     },
     "execution_count": 51,
     "metadata": {},
     "output_type": "execute_result"
    },
    {
     "data": {
      "text/plain": [
       "50"
      ]
     },
     "execution_count": 51,
     "metadata": {},
     "output_type": "execute_result"
    },
    {
     "data": {
      "text/plain": [
       "50"
      ]
     },
     "execution_count": 51,
     "metadata": {},
     "output_type": "execute_result"
    },
    {
     "data": {
      "text/plain": [
       "50"
      ]
     },
     "execution_count": 51,
     "metadata": {},
     "output_type": "execute_result"
    },
    {
     "data": {
      "text/plain": [
       "50"
      ]
     },
     "execution_count": 51,
     "metadata": {},
     "output_type": "execute_result"
    },
    {
     "data": {
      "text/plain": [
       "50"
      ]
     },
     "execution_count": 51,
     "metadata": {},
     "output_type": "execute_result"
    },
    {
     "data": {
      "text/plain": [
       "50"
      ]
     },
     "execution_count": 51,
     "metadata": {},
     "output_type": "execute_result"
    },
    {
     "data": {
      "text/plain": [
       "50"
      ]
     },
     "execution_count": 51,
     "metadata": {},
     "output_type": "execute_result"
    },
    {
     "data": {
      "text/plain": [
       "50"
      ]
     },
     "execution_count": 51,
     "metadata": {},
     "output_type": "execute_result"
    },
    {
     "data": {
      "text/plain": [
       "50"
      ]
     },
     "execution_count": 51,
     "metadata": {},
     "output_type": "execute_result"
    },
    {
     "data": {
      "text/plain": [
       "50"
      ]
     },
     "execution_count": 51,
     "metadata": {},
     "output_type": "execute_result"
    },
    {
     "data": {
      "text/plain": [
       "50"
      ]
     },
     "execution_count": 51,
     "metadata": {},
     "output_type": "execute_result"
    },
    {
     "data": {
      "text/plain": [
       "50"
      ]
     },
     "execution_count": 51,
     "metadata": {},
     "output_type": "execute_result"
    },
    {
     "data": {
      "text/plain": [
       "50"
      ]
     },
     "execution_count": 51,
     "metadata": {},
     "output_type": "execute_result"
    },
    {
     "data": {
      "text/plain": [
       "50"
      ]
     },
     "execution_count": 51,
     "metadata": {},
     "output_type": "execute_result"
    },
    {
     "data": {
      "text/plain": [
       "50"
      ]
     },
     "execution_count": 51,
     "metadata": {},
     "output_type": "execute_result"
    },
    {
     "data": {
      "text/plain": [
       "50"
      ]
     },
     "execution_count": 51,
     "metadata": {},
     "output_type": "execute_result"
    },
    {
     "data": {
      "text/plain": [
       "50"
      ]
     },
     "execution_count": 51,
     "metadata": {},
     "output_type": "execute_result"
    },
    {
     "data": {
      "text/plain": [
       "50"
      ]
     },
     "execution_count": 51,
     "metadata": {},
     "output_type": "execute_result"
    },
    {
     "data": {
      "text/plain": [
       "50"
      ]
     },
     "execution_count": 51,
     "metadata": {},
     "output_type": "execute_result"
    },
    {
     "data": {
      "text/plain": [
       "50"
      ]
     },
     "execution_count": 51,
     "metadata": {},
     "output_type": "execute_result"
    },
    {
     "data": {
      "text/plain": [
       "50"
      ]
     },
     "execution_count": 51,
     "metadata": {},
     "output_type": "execute_result"
    },
    {
     "data": {
      "text/plain": [
       "50"
      ]
     },
     "execution_count": 51,
     "metadata": {},
     "output_type": "execute_result"
    },
    {
     "data": {
      "text/plain": [
       "50"
      ]
     },
     "execution_count": 51,
     "metadata": {},
     "output_type": "execute_result"
    },
    {
     "data": {
      "text/plain": [
       "50"
      ]
     },
     "execution_count": 51,
     "metadata": {},
     "output_type": "execute_result"
    },
    {
     "data": {
      "text/plain": [
       "50"
      ]
     },
     "execution_count": 51,
     "metadata": {},
     "output_type": "execute_result"
    },
    {
     "data": {
      "text/plain": [
       "50"
      ]
     },
     "execution_count": 51,
     "metadata": {},
     "output_type": "execute_result"
    },
    {
     "data": {
      "text/plain": [
       "50"
      ]
     },
     "execution_count": 51,
     "metadata": {},
     "output_type": "execute_result"
    },
    {
     "data": {
      "text/plain": [
       "50"
      ]
     },
     "execution_count": 51,
     "metadata": {},
     "output_type": "execute_result"
    },
    {
     "data": {
      "text/plain": [
       "50"
      ]
     },
     "execution_count": 51,
     "metadata": {},
     "output_type": "execute_result"
    },
    {
     "data": {
      "text/plain": [
       "50"
      ]
     },
     "execution_count": 51,
     "metadata": {},
     "output_type": "execute_result"
    },
    {
     "data": {
      "text/plain": [
       "50"
      ]
     },
     "execution_count": 51,
     "metadata": {},
     "output_type": "execute_result"
    },
    {
     "data": {
      "text/plain": [
       "50"
      ]
     },
     "execution_count": 51,
     "metadata": {},
     "output_type": "execute_result"
    },
    {
     "data": {
      "text/plain": [
       "50"
      ]
     },
     "execution_count": 51,
     "metadata": {},
     "output_type": "execute_result"
    },
    {
     "data": {
      "text/plain": [
       "50"
      ]
     },
     "execution_count": 51,
     "metadata": {},
     "output_type": "execute_result"
    },
    {
     "data": {
      "text/plain": [
       "50"
      ]
     },
     "execution_count": 51,
     "metadata": {},
     "output_type": "execute_result"
    },
    {
     "data": {
      "text/plain": [
       "50"
      ]
     },
     "execution_count": 51,
     "metadata": {},
     "output_type": "execute_result"
    },
    {
     "data": {
      "text/plain": [
       "50"
      ]
     },
     "execution_count": 51,
     "metadata": {},
     "output_type": "execute_result"
    },
    {
     "data": {
      "text/plain": [
       "50"
      ]
     },
     "execution_count": 51,
     "metadata": {},
     "output_type": "execute_result"
    },
    {
     "data": {
      "text/plain": [
       "50"
      ]
     },
     "execution_count": 51,
     "metadata": {},
     "output_type": "execute_result"
    },
    {
     "data": {
      "text/plain": [
       "50"
      ]
     },
     "execution_count": 51,
     "metadata": {},
     "output_type": "execute_result"
    },
    {
     "data": {
      "text/plain": [
       "50"
      ]
     },
     "execution_count": 51,
     "metadata": {},
     "output_type": "execute_result"
    },
    {
     "data": {
      "text/plain": [
       "50"
      ]
     },
     "execution_count": 51,
     "metadata": {},
     "output_type": "execute_result"
    },
    {
     "data": {
      "text/plain": [
       "50"
      ]
     },
     "execution_count": 51,
     "metadata": {},
     "output_type": "execute_result"
    },
    {
     "data": {
      "text/plain": [
       "50"
      ]
     },
     "execution_count": 51,
     "metadata": {},
     "output_type": "execute_result"
    },
    {
     "data": {
      "text/plain": [
       "50"
      ]
     },
     "execution_count": 51,
     "metadata": {},
     "output_type": "execute_result"
    },
    {
     "data": {
      "text/plain": [
       "50"
      ]
     },
     "execution_count": 51,
     "metadata": {},
     "output_type": "execute_result"
    },
    {
     "data": {
      "text/plain": [
       "50"
      ]
     },
     "execution_count": 51,
     "metadata": {},
     "output_type": "execute_result"
    },
    {
     "data": {
      "text/plain": [
       "50"
      ]
     },
     "execution_count": 51,
     "metadata": {},
     "output_type": "execute_result"
    },
    {
     "data": {
      "text/plain": [
       "50"
      ]
     },
     "execution_count": 51,
     "metadata": {},
     "output_type": "execute_result"
    },
    {
     "data": {
      "text/plain": [
       "50"
      ]
     },
     "execution_count": 51,
     "metadata": {},
     "output_type": "execute_result"
    },
    {
     "data": {
      "text/plain": [
       "50"
      ]
     },
     "execution_count": 51,
     "metadata": {},
     "output_type": "execute_result"
    },
    {
     "data": {
      "text/plain": [
       "50"
      ]
     },
     "execution_count": 51,
     "metadata": {},
     "output_type": "execute_result"
    },
    {
     "data": {
      "text/plain": [
       "50"
      ]
     },
     "execution_count": 51,
     "metadata": {},
     "output_type": "execute_result"
    },
    {
     "data": {
      "text/plain": [
       "50"
      ]
     },
     "execution_count": 51,
     "metadata": {},
     "output_type": "execute_result"
    },
    {
     "data": {
      "text/plain": [
       "50"
      ]
     },
     "execution_count": 51,
     "metadata": {},
     "output_type": "execute_result"
    },
    {
     "data": {
      "text/plain": [
       "50"
      ]
     },
     "execution_count": 51,
     "metadata": {},
     "output_type": "execute_result"
    },
    {
     "data": {
      "text/plain": [
       "50"
      ]
     },
     "execution_count": 51,
     "metadata": {},
     "output_type": "execute_result"
    },
    {
     "data": {
      "text/plain": [
       "50"
      ]
     },
     "execution_count": 51,
     "metadata": {},
     "output_type": "execute_result"
    },
    {
     "data": {
      "text/plain": [
       "50"
      ]
     },
     "execution_count": 51,
     "metadata": {},
     "output_type": "execute_result"
    },
    {
     "data": {
      "text/plain": [
       "50"
      ]
     },
     "execution_count": 51,
     "metadata": {},
     "output_type": "execute_result"
    },
    {
     "data": {
      "text/plain": [
       "50"
      ]
     },
     "execution_count": 51,
     "metadata": {},
     "output_type": "execute_result"
    },
    {
     "data": {
      "text/plain": [
       "50"
      ]
     },
     "execution_count": 51,
     "metadata": {},
     "output_type": "execute_result"
    },
    {
     "data": {
      "text/plain": [
       "50"
      ]
     },
     "execution_count": 51,
     "metadata": {},
     "output_type": "execute_result"
    },
    {
     "data": {
      "text/plain": [
       "50"
      ]
     },
     "execution_count": 51,
     "metadata": {},
     "output_type": "execute_result"
    },
    {
     "data": {
      "text/plain": [
       "50"
      ]
     },
     "execution_count": 51,
     "metadata": {},
     "output_type": "execute_result"
    },
    {
     "data": {
      "text/plain": [
       "50"
      ]
     },
     "execution_count": 51,
     "metadata": {},
     "output_type": "execute_result"
    },
    {
     "data": {
      "text/plain": [
       "50"
      ]
     },
     "execution_count": 51,
     "metadata": {},
     "output_type": "execute_result"
    },
    {
     "data": {
      "text/plain": [
       "50"
      ]
     },
     "execution_count": 51,
     "metadata": {},
     "output_type": "execute_result"
    },
    {
     "data": {
      "text/plain": [
       "50"
      ]
     },
     "execution_count": 51,
     "metadata": {},
     "output_type": "execute_result"
    },
    {
     "data": {
      "text/plain": [
       "50"
      ]
     },
     "execution_count": 51,
     "metadata": {},
     "output_type": "execute_result"
    },
    {
     "data": {
      "text/plain": [
       "50"
      ]
     },
     "execution_count": 51,
     "metadata": {},
     "output_type": "execute_result"
    },
    {
     "data": {
      "text/plain": [
       "50"
      ]
     },
     "execution_count": 51,
     "metadata": {},
     "output_type": "execute_result"
    },
    {
     "data": {
      "text/plain": [
       "50"
      ]
     },
     "execution_count": 51,
     "metadata": {},
     "output_type": "execute_result"
    },
    {
     "data": {
      "text/plain": [
       "50"
      ]
     },
     "execution_count": 51,
     "metadata": {},
     "output_type": "execute_result"
    },
    {
     "data": {
      "text/plain": [
       "50"
      ]
     },
     "execution_count": 51,
     "metadata": {},
     "output_type": "execute_result"
    },
    {
     "data": {
      "text/plain": [
       "50"
      ]
     },
     "execution_count": 51,
     "metadata": {},
     "output_type": "execute_result"
    },
    {
     "data": {
      "text/plain": [
       "50"
      ]
     },
     "execution_count": 51,
     "metadata": {},
     "output_type": "execute_result"
    },
    {
     "data": {
      "text/plain": [
       "50"
      ]
     },
     "execution_count": 51,
     "metadata": {},
     "output_type": "execute_result"
    },
    {
     "data": {
      "text/plain": [
       "50"
      ]
     },
     "execution_count": 51,
     "metadata": {},
     "output_type": "execute_result"
    },
    {
     "data": {
      "text/plain": [
       "50"
      ]
     },
     "execution_count": 51,
     "metadata": {},
     "output_type": "execute_result"
    },
    {
     "data": {
      "text/plain": [
       "50"
      ]
     },
     "execution_count": 51,
     "metadata": {},
     "output_type": "execute_result"
    },
    {
     "data": {
      "text/plain": [
       "50"
      ]
     },
     "execution_count": 51,
     "metadata": {},
     "output_type": "execute_result"
    },
    {
     "data": {
      "text/plain": [
       "50"
      ]
     },
     "execution_count": 51,
     "metadata": {},
     "output_type": "execute_result"
    },
    {
     "data": {
      "text/plain": [
       "50"
      ]
     },
     "execution_count": 51,
     "metadata": {},
     "output_type": "execute_result"
    },
    {
     "data": {
      "text/plain": [
       "50"
      ]
     },
     "execution_count": 51,
     "metadata": {},
     "output_type": "execute_result"
    },
    {
     "data": {
      "text/plain": [
       "50"
      ]
     },
     "execution_count": 51,
     "metadata": {},
     "output_type": "execute_result"
    },
    {
     "data": {
      "text/plain": [
       "50"
      ]
     },
     "execution_count": 51,
     "metadata": {},
     "output_type": "execute_result"
    },
    {
     "data": {
      "text/plain": [
       "50"
      ]
     },
     "execution_count": 51,
     "metadata": {},
     "output_type": "execute_result"
    },
    {
     "data": {
      "text/plain": [
       "50"
      ]
     },
     "execution_count": 51,
     "metadata": {},
     "output_type": "execute_result"
    },
    {
     "data": {
      "text/plain": [
       "50"
      ]
     },
     "execution_count": 51,
     "metadata": {},
     "output_type": "execute_result"
    },
    {
     "data": {
      "text/plain": [
       "50"
      ]
     },
     "execution_count": 51,
     "metadata": {},
     "output_type": "execute_result"
    },
    {
     "data": {
      "text/plain": [
       "50"
      ]
     },
     "execution_count": 51,
     "metadata": {},
     "output_type": "execute_result"
    },
    {
     "data": {
      "text/plain": [
       "50"
      ]
     },
     "execution_count": 51,
     "metadata": {},
     "output_type": "execute_result"
    },
    {
     "data": {
      "text/plain": [
       "50"
      ]
     },
     "execution_count": 51,
     "metadata": {},
     "output_type": "execute_result"
    },
    {
     "data": {
      "text/plain": [
       "50"
      ]
     },
     "execution_count": 51,
     "metadata": {},
     "output_type": "execute_result"
    },
    {
     "data": {
      "text/plain": [
       "50"
      ]
     },
     "execution_count": 51,
     "metadata": {},
     "output_type": "execute_result"
    },
    {
     "data": {
      "text/plain": [
       "50"
      ]
     },
     "execution_count": 51,
     "metadata": {},
     "output_type": "execute_result"
    },
    {
     "data": {
      "text/plain": [
       "50"
      ]
     },
     "execution_count": 51,
     "metadata": {},
     "output_type": "execute_result"
    },
    {
     "data": {
      "text/plain": [
       "50"
      ]
     },
     "execution_count": 51,
     "metadata": {},
     "output_type": "execute_result"
    },
    {
     "data": {
      "text/plain": [
       "50"
      ]
     },
     "execution_count": 51,
     "metadata": {},
     "output_type": "execute_result"
    },
    {
     "data": {
      "text/plain": [
       "50"
      ]
     },
     "execution_count": 51,
     "metadata": {},
     "output_type": "execute_result"
    },
    {
     "data": {
      "text/plain": [
       "50"
      ]
     },
     "execution_count": 51,
     "metadata": {},
     "output_type": "execute_result"
    },
    {
     "data": {
      "text/plain": [
       "50"
      ]
     },
     "execution_count": 51,
     "metadata": {},
     "output_type": "execute_result"
    },
    {
     "data": {
      "text/plain": [
       "50"
      ]
     },
     "execution_count": 51,
     "metadata": {},
     "output_type": "execute_result"
    },
    {
     "data": {
      "text/plain": [
       "50"
      ]
     },
     "execution_count": 51,
     "metadata": {},
     "output_type": "execute_result"
    },
    {
     "data": {
      "text/plain": [
       "50"
      ]
     },
     "execution_count": 51,
     "metadata": {},
     "output_type": "execute_result"
    },
    {
     "data": {
      "text/plain": [
       "50"
      ]
     },
     "execution_count": 51,
     "metadata": {},
     "output_type": "execute_result"
    },
    {
     "data": {
      "text/plain": [
       "50"
      ]
     },
     "execution_count": 51,
     "metadata": {},
     "output_type": "execute_result"
    },
    {
     "data": {
      "text/plain": [
       "50"
      ]
     },
     "execution_count": 51,
     "metadata": {},
     "output_type": "execute_result"
    },
    {
     "data": {
      "text/plain": [
       "50"
      ]
     },
     "execution_count": 51,
     "metadata": {},
     "output_type": "execute_result"
    },
    {
     "data": {
      "text/plain": [
       "50"
      ]
     },
     "execution_count": 51,
     "metadata": {},
     "output_type": "execute_result"
    },
    {
     "data": {
      "text/plain": [
       "50"
      ]
     },
     "execution_count": 51,
     "metadata": {},
     "output_type": "execute_result"
    },
    {
     "data": {
      "text/plain": [
       "50"
      ]
     },
     "execution_count": 51,
     "metadata": {},
     "output_type": "execute_result"
    },
    {
     "data": {
      "text/plain": [
       "50"
      ]
     },
     "execution_count": 51,
     "metadata": {},
     "output_type": "execute_result"
    },
    {
     "data": {
      "text/plain": [
       "50"
      ]
     },
     "execution_count": 51,
     "metadata": {},
     "output_type": "execute_result"
    },
    {
     "data": {
      "text/plain": [
       "50"
      ]
     },
     "execution_count": 51,
     "metadata": {},
     "output_type": "execute_result"
    },
    {
     "data": {
      "text/plain": [
       "50"
      ]
     },
     "execution_count": 51,
     "metadata": {},
     "output_type": "execute_result"
    },
    {
     "data": {
      "text/plain": [
       "50"
      ]
     },
     "execution_count": 51,
     "metadata": {},
     "output_type": "execute_result"
    },
    {
     "data": {
      "text/plain": [
       "50"
      ]
     },
     "execution_count": 51,
     "metadata": {},
     "output_type": "execute_result"
    },
    {
     "data": {
      "text/plain": [
       "50"
      ]
     },
     "execution_count": 51,
     "metadata": {},
     "output_type": "execute_result"
    },
    {
     "data": {
      "text/plain": [
       "50"
      ]
     },
     "execution_count": 51,
     "metadata": {},
     "output_type": "execute_result"
    },
    {
     "data": {
      "text/plain": [
       "50"
      ]
     },
     "execution_count": 51,
     "metadata": {},
     "output_type": "execute_result"
    },
    {
     "data": {
      "text/plain": [
       "50"
      ]
     },
     "execution_count": 51,
     "metadata": {},
     "output_type": "execute_result"
    },
    {
     "data": {
      "text/plain": [
       "50"
      ]
     },
     "execution_count": 51,
     "metadata": {},
     "output_type": "execute_result"
    },
    {
     "data": {
      "text/plain": [
       "50"
      ]
     },
     "execution_count": 51,
     "metadata": {},
     "output_type": "execute_result"
    },
    {
     "data": {
      "text/plain": [
       "50"
      ]
     },
     "execution_count": 51,
     "metadata": {},
     "output_type": "execute_result"
    },
    {
     "data": {
      "text/plain": [
       "50"
      ]
     },
     "execution_count": 51,
     "metadata": {},
     "output_type": "execute_result"
    },
    {
     "data": {
      "text/plain": [
       "50"
      ]
     },
     "execution_count": 51,
     "metadata": {},
     "output_type": "execute_result"
    },
    {
     "data": {
      "text/plain": [
       "50"
      ]
     },
     "execution_count": 51,
     "metadata": {},
     "output_type": "execute_result"
    },
    {
     "data": {
      "text/plain": [
       "50"
      ]
     },
     "execution_count": 51,
     "metadata": {},
     "output_type": "execute_result"
    },
    {
     "data": {
      "text/plain": [
       "50"
      ]
     },
     "execution_count": 51,
     "metadata": {},
     "output_type": "execute_result"
    },
    {
     "data": {
      "text/plain": [
       "50"
      ]
     },
     "execution_count": 51,
     "metadata": {},
     "output_type": "execute_result"
    },
    {
     "data": {
      "text/plain": [
       "50"
      ]
     },
     "execution_count": 51,
     "metadata": {},
     "output_type": "execute_result"
    },
    {
     "data": {
      "text/plain": [
       "50"
      ]
     },
     "execution_count": 51,
     "metadata": {},
     "output_type": "execute_result"
    },
    {
     "data": {
      "text/plain": [
       "50"
      ]
     },
     "execution_count": 51,
     "metadata": {},
     "output_type": "execute_result"
    },
    {
     "data": {
      "text/plain": [
       "50"
      ]
     },
     "execution_count": 51,
     "metadata": {},
     "output_type": "execute_result"
    },
    {
     "data": {
      "text/plain": [
       "50"
      ]
     },
     "execution_count": 51,
     "metadata": {},
     "output_type": "execute_result"
    },
    {
     "data": {
      "text/plain": [
       "50"
      ]
     },
     "execution_count": 51,
     "metadata": {},
     "output_type": "execute_result"
    },
    {
     "data": {
      "text/plain": [
       "50"
      ]
     },
     "execution_count": 51,
     "metadata": {},
     "output_type": "execute_result"
    },
    {
     "data": {
      "text/plain": [
       "50"
      ]
     },
     "execution_count": 51,
     "metadata": {},
     "output_type": "execute_result"
    },
    {
     "data": {
      "text/plain": [
       "50"
      ]
     },
     "execution_count": 51,
     "metadata": {},
     "output_type": "execute_result"
    },
    {
     "data": {
      "text/plain": [
       "50"
      ]
     },
     "execution_count": 51,
     "metadata": {},
     "output_type": "execute_result"
    },
    {
     "data": {
      "text/plain": [
       "50"
      ]
     },
     "execution_count": 51,
     "metadata": {},
     "output_type": "execute_result"
    },
    {
     "data": {
      "text/plain": [
       "50"
      ]
     },
     "execution_count": 51,
     "metadata": {},
     "output_type": "execute_result"
    },
    {
     "data": {
      "text/plain": [
       "50"
      ]
     },
     "execution_count": 51,
     "metadata": {},
     "output_type": "execute_result"
    },
    {
     "data": {
      "text/plain": [
       "50"
      ]
     },
     "execution_count": 51,
     "metadata": {},
     "output_type": "execute_result"
    },
    {
     "data": {
      "text/plain": [
       "50"
      ]
     },
     "execution_count": 51,
     "metadata": {},
     "output_type": "execute_result"
    },
    {
     "data": {
      "text/plain": [
       "50"
      ]
     },
     "execution_count": 51,
     "metadata": {},
     "output_type": "execute_result"
    },
    {
     "data": {
      "text/plain": [
       "50"
      ]
     },
     "execution_count": 51,
     "metadata": {},
     "output_type": "execute_result"
    },
    {
     "data": {
      "text/plain": [
       "50"
      ]
     },
     "execution_count": 51,
     "metadata": {},
     "output_type": "execute_result"
    },
    {
     "data": {
      "text/plain": [
       "50"
      ]
     },
     "execution_count": 51,
     "metadata": {},
     "output_type": "execute_result"
    },
    {
     "data": {
      "text/plain": [
       "50"
      ]
     },
     "execution_count": 51,
     "metadata": {},
     "output_type": "execute_result"
    },
    {
     "data": {
      "text/plain": [
       "50"
      ]
     },
     "execution_count": 51,
     "metadata": {},
     "output_type": "execute_result"
    },
    {
     "data": {
      "text/plain": [
       "50"
      ]
     },
     "execution_count": 51,
     "metadata": {},
     "output_type": "execute_result"
    },
    {
     "data": {
      "text/plain": [
       "50"
      ]
     },
     "execution_count": 51,
     "metadata": {},
     "output_type": "execute_result"
    },
    {
     "data": {
      "text/plain": [
       "50"
      ]
     },
     "execution_count": 51,
     "metadata": {},
     "output_type": "execute_result"
    },
    {
     "data": {
      "text/plain": [
       "50"
      ]
     },
     "execution_count": 51,
     "metadata": {},
     "output_type": "execute_result"
    },
    {
     "data": {
      "text/plain": [
       "50"
      ]
     },
     "execution_count": 51,
     "metadata": {},
     "output_type": "execute_result"
    },
    {
     "data": {
      "text/plain": [
       "50"
      ]
     },
     "execution_count": 51,
     "metadata": {},
     "output_type": "execute_result"
    },
    {
     "data": {
      "text/plain": [
       "50"
      ]
     },
     "execution_count": 51,
     "metadata": {},
     "output_type": "execute_result"
    },
    {
     "data": {
      "text/plain": [
       "50"
      ]
     },
     "execution_count": 51,
     "metadata": {},
     "output_type": "execute_result"
    },
    {
     "data": {
      "text/plain": [
       "50"
      ]
     },
     "execution_count": 51,
     "metadata": {},
     "output_type": "execute_result"
    },
    {
     "data": {
      "text/plain": [
       "50"
      ]
     },
     "execution_count": 51,
     "metadata": {},
     "output_type": "execute_result"
    },
    {
     "data": {
      "text/plain": [
       "50"
      ]
     },
     "execution_count": 51,
     "metadata": {},
     "output_type": "execute_result"
    },
    {
     "data": {
      "text/plain": [
       "50"
      ]
     },
     "execution_count": 51,
     "metadata": {},
     "output_type": "execute_result"
    },
    {
     "data": {
      "text/plain": [
       "50"
      ]
     },
     "execution_count": 51,
     "metadata": {},
     "output_type": "execute_result"
    },
    {
     "data": {
      "text/plain": [
       "50"
      ]
     },
     "execution_count": 51,
     "metadata": {},
     "output_type": "execute_result"
    },
    {
     "data": {
      "text/plain": [
       "50"
      ]
     },
     "execution_count": 51,
     "metadata": {},
     "output_type": "execute_result"
    },
    {
     "data": {
      "text/plain": [
       "50"
      ]
     },
     "execution_count": 51,
     "metadata": {},
     "output_type": "execute_result"
    },
    {
     "data": {
      "text/plain": [
       "50"
      ]
     },
     "execution_count": 51,
     "metadata": {},
     "output_type": "execute_result"
    },
    {
     "data": {
      "text/plain": [
       "50"
      ]
     },
     "execution_count": 51,
     "metadata": {},
     "output_type": "execute_result"
    },
    {
     "data": {
      "text/plain": [
       "50"
      ]
     },
     "execution_count": 51,
     "metadata": {},
     "output_type": "execute_result"
    },
    {
     "data": {
      "text/plain": [
       "50"
      ]
     },
     "execution_count": 51,
     "metadata": {},
     "output_type": "execute_result"
    },
    {
     "data": {
      "text/plain": [
       "50"
      ]
     },
     "execution_count": 51,
     "metadata": {},
     "output_type": "execute_result"
    },
    {
     "data": {
      "text/plain": [
       "50"
      ]
     },
     "execution_count": 51,
     "metadata": {},
     "output_type": "execute_result"
    },
    {
     "data": {
      "text/plain": [
       "50"
      ]
     },
     "execution_count": 51,
     "metadata": {},
     "output_type": "execute_result"
    },
    {
     "data": {
      "text/plain": [
       "50"
      ]
     },
     "execution_count": 51,
     "metadata": {},
     "output_type": "execute_result"
    },
    {
     "data": {
      "text/plain": [
       "50"
      ]
     },
     "execution_count": 51,
     "metadata": {},
     "output_type": "execute_result"
    },
    {
     "data": {
      "text/plain": [
       "50"
      ]
     },
     "execution_count": 51,
     "metadata": {},
     "output_type": "execute_result"
    },
    {
     "data": {
      "text/plain": [
       "50"
      ]
     },
     "execution_count": 51,
     "metadata": {},
     "output_type": "execute_result"
    },
    {
     "data": {
      "text/plain": [
       "50"
      ]
     },
     "execution_count": 51,
     "metadata": {},
     "output_type": "execute_result"
    },
    {
     "data": {
      "text/plain": [
       "50"
      ]
     },
     "execution_count": 51,
     "metadata": {},
     "output_type": "execute_result"
    },
    {
     "data": {
      "text/plain": [
       "50"
      ]
     },
     "execution_count": 51,
     "metadata": {},
     "output_type": "execute_result"
    },
    {
     "data": {
      "text/plain": [
       "50"
      ]
     },
     "execution_count": 51,
     "metadata": {},
     "output_type": "execute_result"
    },
    {
     "data": {
      "text/plain": [
       "50"
      ]
     },
     "execution_count": 51,
     "metadata": {},
     "output_type": "execute_result"
    },
    {
     "data": {
      "text/plain": [
       "50"
      ]
     },
     "execution_count": 51,
     "metadata": {},
     "output_type": "execute_result"
    },
    {
     "data": {
      "text/plain": [
       "50"
      ]
     },
     "execution_count": 51,
     "metadata": {},
     "output_type": "execute_result"
    },
    {
     "data": {
      "text/plain": [
       "50"
      ]
     },
     "execution_count": 51,
     "metadata": {},
     "output_type": "execute_result"
    },
    {
     "data": {
      "text/plain": [
       "50"
      ]
     },
     "execution_count": 51,
     "metadata": {},
     "output_type": "execute_result"
    },
    {
     "data": {
      "text/plain": [
       "50"
      ]
     },
     "execution_count": 51,
     "metadata": {},
     "output_type": "execute_result"
    },
    {
     "data": {
      "text/plain": [
       "50"
      ]
     },
     "execution_count": 51,
     "metadata": {},
     "output_type": "execute_result"
    },
    {
     "data": {
      "text/plain": [
       "50"
      ]
     },
     "execution_count": 51,
     "metadata": {},
     "output_type": "execute_result"
    },
    {
     "data": {
      "text/plain": [
       "50"
      ]
     },
     "execution_count": 51,
     "metadata": {},
     "output_type": "execute_result"
    },
    {
     "data": {
      "text/plain": [
       "50"
      ]
     },
     "execution_count": 51,
     "metadata": {},
     "output_type": "execute_result"
    },
    {
     "data": {
      "text/plain": [
       "50"
      ]
     },
     "execution_count": 51,
     "metadata": {},
     "output_type": "execute_result"
    },
    {
     "data": {
      "text/plain": [
       "50"
      ]
     },
     "execution_count": 51,
     "metadata": {},
     "output_type": "execute_result"
    },
    {
     "data": {
      "text/plain": [
       "50"
      ]
     },
     "execution_count": 51,
     "metadata": {},
     "output_type": "execute_result"
    },
    {
     "data": {
      "text/plain": [
       "50"
      ]
     },
     "execution_count": 51,
     "metadata": {},
     "output_type": "execute_result"
    },
    {
     "data": {
      "text/plain": [
       "50"
      ]
     },
     "execution_count": 51,
     "metadata": {},
     "output_type": "execute_result"
    },
    {
     "data": {
      "text/plain": [
       "50"
      ]
     },
     "execution_count": 51,
     "metadata": {},
     "output_type": "execute_result"
    },
    {
     "data": {
      "text/plain": [
       "50"
      ]
     },
     "execution_count": 51,
     "metadata": {},
     "output_type": "execute_result"
    },
    {
     "data": {
      "text/plain": [
       "50"
      ]
     },
     "execution_count": 51,
     "metadata": {},
     "output_type": "execute_result"
    },
    {
     "data": {
      "text/plain": [
       "50"
      ]
     },
     "execution_count": 51,
     "metadata": {},
     "output_type": "execute_result"
    },
    {
     "data": {
      "text/plain": [
       "50"
      ]
     },
     "execution_count": 51,
     "metadata": {},
     "output_type": "execute_result"
    },
    {
     "data": {
      "text/plain": [
       "50"
      ]
     },
     "execution_count": 51,
     "metadata": {},
     "output_type": "execute_result"
    },
    {
     "data": {
      "text/plain": [
       "50"
      ]
     },
     "execution_count": 51,
     "metadata": {},
     "output_type": "execute_result"
    },
    {
     "data": {
      "text/plain": [
       "50"
      ]
     },
     "execution_count": 51,
     "metadata": {},
     "output_type": "execute_result"
    },
    {
     "data": {
      "text/plain": [
       "50"
      ]
     },
     "execution_count": 51,
     "metadata": {},
     "output_type": "execute_result"
    },
    {
     "data": {
      "text/plain": [
       "50"
      ]
     },
     "execution_count": 51,
     "metadata": {},
     "output_type": "execute_result"
    },
    {
     "data": {
      "text/plain": [
       "50"
      ]
     },
     "execution_count": 51,
     "metadata": {},
     "output_type": "execute_result"
    },
    {
     "data": {
      "text/plain": [
       "50"
      ]
     },
     "execution_count": 51,
     "metadata": {},
     "output_type": "execute_result"
    },
    {
     "data": {
      "text/plain": [
       "50"
      ]
     },
     "execution_count": 51,
     "metadata": {},
     "output_type": "execute_result"
    },
    {
     "data": {
      "text/plain": [
       "50"
      ]
     },
     "execution_count": 51,
     "metadata": {},
     "output_type": "execute_result"
    },
    {
     "data": {
      "text/plain": [
       "50"
      ]
     },
     "execution_count": 51,
     "metadata": {},
     "output_type": "execute_result"
    },
    {
     "data": {
      "text/plain": [
       "50"
      ]
     },
     "execution_count": 51,
     "metadata": {},
     "output_type": "execute_result"
    },
    {
     "data": {
      "text/plain": [
       "50"
      ]
     },
     "execution_count": 51,
     "metadata": {},
     "output_type": "execute_result"
    },
    {
     "data": {
      "text/plain": [
       "50"
      ]
     },
     "execution_count": 51,
     "metadata": {},
     "output_type": "execute_result"
    },
    {
     "data": {
      "text/plain": [
       "50"
      ]
     },
     "execution_count": 51,
     "metadata": {},
     "output_type": "execute_result"
    },
    {
     "data": {
      "text/plain": [
       "50"
      ]
     },
     "execution_count": 51,
     "metadata": {},
     "output_type": "execute_result"
    },
    {
     "data": {
      "text/plain": [
       "50"
      ]
     },
     "execution_count": 51,
     "metadata": {},
     "output_type": "execute_result"
    },
    {
     "data": {
      "text/plain": [
       "50"
      ]
     },
     "execution_count": 51,
     "metadata": {},
     "output_type": "execute_result"
    },
    {
     "data": {
      "text/plain": [
       "50"
      ]
     },
     "execution_count": 51,
     "metadata": {},
     "output_type": "execute_result"
    },
    {
     "data": {
      "text/plain": [
       "50"
      ]
     },
     "execution_count": 51,
     "metadata": {},
     "output_type": "execute_result"
    },
    {
     "data": {
      "text/plain": [
       "50"
      ]
     },
     "execution_count": 51,
     "metadata": {},
     "output_type": "execute_result"
    },
    {
     "data": {
      "text/plain": [
       "50"
      ]
     },
     "execution_count": 51,
     "metadata": {},
     "output_type": "execute_result"
    },
    {
     "data": {
      "text/plain": [
       "50"
      ]
     },
     "execution_count": 51,
     "metadata": {},
     "output_type": "execute_result"
    },
    {
     "data": {
      "text/plain": [
       "50"
      ]
     },
     "execution_count": 51,
     "metadata": {},
     "output_type": "execute_result"
    },
    {
     "data": {
      "text/plain": [
       "50"
      ]
     },
     "execution_count": 51,
     "metadata": {},
     "output_type": "execute_result"
    },
    {
     "data": {
      "text/plain": [
       "50"
      ]
     },
     "execution_count": 51,
     "metadata": {},
     "output_type": "execute_result"
    },
    {
     "data": {
      "text/plain": [
       "50"
      ]
     },
     "execution_count": 51,
     "metadata": {},
     "output_type": "execute_result"
    },
    {
     "data": {
      "text/plain": [
       "50"
      ]
     },
     "execution_count": 51,
     "metadata": {},
     "output_type": "execute_result"
    },
    {
     "data": {
      "text/plain": [
       "50"
      ]
     },
     "execution_count": 51,
     "metadata": {},
     "output_type": "execute_result"
    },
    {
     "data": {
      "text/plain": [
       "50"
      ]
     },
     "execution_count": 51,
     "metadata": {},
     "output_type": "execute_result"
    },
    {
     "data": {
      "text/plain": [
       "50"
      ]
     },
     "execution_count": 51,
     "metadata": {},
     "output_type": "execute_result"
    },
    {
     "data": {
      "text/plain": [
       "18"
      ]
     },
     "execution_count": 51,
     "metadata": {},
     "output_type": "execute_result"
    }
   ],
   "source": [
    "with open('./test.txt','wb') as f:\n",
    "    for chunk in get_request.iter_content(50):\n",
    "        f.write(chunk)"
   ]
  },
  {
   "cell_type": "code",
   "execution_count": 58,
   "metadata": {},
   "outputs": [
    {
     "data": {
      "text/plain": [
       "'{\\n  \"args\": {}, \\n  \"data\": \"\", \\n  \"files\": {}, \\n  \"form\": {\\n    \"key\": \"value\"\\n  }, \\n  \"headers\": {\\n    \"Accept\": \"*/*\", \\n    \"Accept-Encoding\": \"gzip, deflate\", \\n    \"Content-Length\": \"9\", \\n    \"Content-Type\": \"application/x-www-form-urlencoded\", \\n    \"Host\": \"httpbin.org\", \\n    \"User-Agent\": \"python-requests/2.21.0\"\\n  }, \\n  \"json\": null, \\n  \"origin\": \"58.17.70.114, 58.17.70.114\", \\n  \"url\": \"https://httpbin.org/post\"\\n}\\n'"
      ]
     },
     "execution_count": 58,
     "metadata": {},
     "output_type": "execute_result"
    }
   ],
   "source": [
    "post_request.text"
   ]
  },
  {
   "cell_type": "code",
   "execution_count": 59,
   "metadata": {},
   "outputs": [],
   "source": [
    "import re"
   ]
  },
  {
   "cell_type": "code",
   "execution_count": 87,
   "metadata": {},
   "outputs": [
    {
     "data": {
      "text/plain": [
       "<_sre.SRE_Match object; span=(0, 7), match=' hello '>"
      ]
     },
     "execution_count": 87,
     "metadata": {},
     "output_type": "execute_result"
    }
   ],
   "source": [
    "pattern = re.compile('\\shello\\s')\n",
    "pattern.search(r' hello l')"
   ]
  },
  {
   "cell_type": "code",
   "execution_count": 75,
   "metadata": {},
   "outputs": [
    {
     "ename": "SyntaxError",
     "evalue": "unexpected EOF while parsing (<ipython-input-75-2a7948157db8>, line 1)",
     "output_type": "error",
     "traceback": [
      "\u001b[1;36m  File \u001b[1;32m\"<ipython-input-75-2a7948157db8>\"\u001b[1;36m, line \u001b[1;32m1\u001b[0m\n\u001b[1;33m    if match:\u001b[0m\n\u001b[1;37m             ^\u001b[0m\n\u001b[1;31mSyntaxError\u001b[0m\u001b[1;31m:\u001b[0m unexpected EOF while parsing\n"
     ]
    }
   ],
   "source": [
    "if match:"
   ]
  },
  {
   "cell_type": "code",
   "execution_count": 89,
   "metadata": {},
   "outputs": [],
   "source": [
    "p = re.compile('\\d+')"
   ]
  },
  {
   "cell_type": "code",
   "execution_count": 90,
   "metadata": {},
   "outputs": [
    {
     "data": {
      "text/plain": [
       "['11', '12', '23']"
      ]
     },
     "execution_count": 90,
     "metadata": {},
     "output_type": "execute_result"
    }
   ],
   "source": [
    "s = '11 + 12 = 23'\n",
    "p.findall(s)"
   ]
  },
  {
   "cell_type": "code",
   "execution_count": 91,
   "metadata": {},
   "outputs": [],
   "source": [
    "s = re.match('([abc])+','abc')"
   ]
  },
  {
   "cell_type": "code",
   "execution_count": 97,
   "metadata": {},
   "outputs": [
    {
     "data": {
      "text/plain": [
       "('c',)"
      ]
     },
     "execution_count": 97,
     "metadata": {},
     "output_type": "execute_result"
    }
   ],
   "source": [
    "s.groups()"
   ]
  },
  {
   "cell_type": "code",
   "execution_count": 108,
   "metadata": {},
   "outputs": [],
   "source": [
    "p = re.compile(r'(?P<word>\\b\\w+\\b)')\n",
    "p1 = re.compile(r'\\w+')\n",
    "s = 'asd fgh jkl'"
   ]
  },
  {
   "cell_type": "code",
   "execution_count": 102,
   "metadata": {},
   "outputs": [],
   "source": [
    "m = p.search(s)"
   ]
  },
  {
   "cell_type": "code",
   "execution_count": 106,
   "metadata": {},
   "outputs": [
    {
     "data": {
      "text/plain": [
       "('asd', 'asd')"
      ]
     },
     "execution_count": 106,
     "metadata": {},
     "output_type": "execute_result"
    }
   ],
   "source": [
    "m.group(0,1)"
   ]
  },
  {
   "cell_type": "code",
   "execution_count": 107,
   "metadata": {},
   "outputs": [
    {
     "data": {
      "text/plain": [
       "'asd'"
      ]
     },
     "execution_count": 107,
     "metadata": {},
     "output_type": "execute_result"
    }
   ],
   "source": [
    "m.group('word')"
   ]
  },
  {
   "cell_type": "code",
   "execution_count": 111,
   "metadata": {},
   "outputs": [],
   "source": [
    "s1 = p1.search(s)"
   ]
  },
  {
   "cell_type": "code",
   "execution_count": 116,
   "metadata": {},
   "outputs": [
    {
     "data": {
      "text/plain": [
       "'asd'"
      ]
     },
     "execution_count": 116,
     "metadata": {},
     "output_type": "execute_result"
    }
   ],
   "source": [
    "s1.group(0)"
   ]
  },
  {
   "cell_type": "code",
   "execution_count": 165,
   "metadata": {},
   "outputs": [],
   "source": [
    "p = re.compile('(?:abc)(\\w)')\n",
    "s = 'abcd'"
   ]
  },
  {
   "cell_type": "code",
   "execution_count": 166,
   "metadata": {},
   "outputs": [],
   "source": [
    "s1 = p.match(s)"
   ]
  },
  {
   "cell_type": "code",
   "execution_count": 169,
   "metadata": {},
   "outputs": [
    {
     "data": {
      "text/plain": [
       "'d'"
      ]
     },
     "execution_count": 169,
     "metadata": {},
     "output_type": "execute_result"
    }
   ],
   "source": [
    "s1.group(1)"
   ]
  },
  {
   "cell_type": "code",
   "execution_count": 202,
   "metadata": {},
   "outputs": [],
   "source": [
    "html_doc = r\"\"\"\n",
    "<html><head><title>The Dormouse's story</title></head>\n",
    "<body>\n",
    "<p class=\"title\"><b>The Dormouse's story</b></p>\n",
    "\n",
    "<p class=\"story\">Once upon a time there were three little sisters; and their names were\n",
    "<a href=\"http://example.com/elsie\" class=\"sister\" id=\"link1\">Elsie</a>,\n",
    "<a href=\"http://example.com/lacie\" class=\"sister\" id=\"link2\">Lacie</a> and\n",
    "<a href=\"http://example.com/tillie\" class=\"sister\" id=\"link3\">Tillie</a>;\n",
    "and they lived at the bottom of a well.</p>\n",
    "\n",
    "<p class=\"story\">...</p>\n",
    "\"\"\""
   ]
  },
  {
   "cell_type": "code",
   "execution_count": 203,
   "metadata": {},
   "outputs": [],
   "source": [
    "from bs4 import BeautifulSoup"
   ]
  },
  {
   "cell_type": "code",
   "execution_count": 217,
   "metadata": {},
   "outputs": [],
   "source": [
    "soup = BeautifulSoup(html_doc)"
   ]
  },
  {
   "cell_type": "code",
   "execution_count": 205,
   "metadata": {},
   "outputs": [
    {
     "data": {
      "text/plain": [
       "'<html>\\n <head>\\n  <title>\\n   The Dormouse\\'s story\\n  </title>\\n </head>\\n <body>\\n  <p class=\"title\">\\n   <b>\\n    The Dormouse\\'s story\\n   </b>\\n  </p>\\n  <p class=\"story\">\\n   Once upon a time there were three little sisters; and their names were\\n   <a class=\"sister\" href=\"http://example.com/elsie\" id=\"link1\">\\n    Elsie\\n   </a>\\n   ,\\n   <a class=\"sister\" href=\"http://example.com/lacie\" id=\"link2\">\\n    Lacie\\n   </a>\\n   and\\n   <a class=\"sister\" href=\"http://example.com/tillie\" id=\"link3\">\\n    Tillie\\n   </a>\\n   ;\\nand they lived at the bottom of a well.\\n  </p>\\n  <p class=\"story\">\\n   ...\\n  </p>\\n </body>\\n</html>'"
      ]
     },
     "execution_count": 205,
     "metadata": {},
     "output_type": "execute_result"
    }
   ],
   "source": [
    "soup.prettify()"
   ]
  },
  {
   "cell_type": "code",
   "execution_count": 206,
   "metadata": {},
   "outputs": [],
   "source": [
    "tag = soup.a"
   ]
  },
  {
   "cell_type": "code",
   "execution_count": 207,
   "metadata": {},
   "outputs": [
    {
     "data": {
      "text/plain": [
       "bs4.element.NavigableString"
      ]
     },
     "execution_count": 207,
     "metadata": {},
     "output_type": "execute_result"
    }
   ],
   "source": [
    "type(tag.string)"
   ]
  },
  {
   "cell_type": "code",
   "execution_count": 208,
   "metadata": {},
   "outputs": [
    {
     "data": {
      "text/plain": [
       "<head><title>The Dormouse's story</title></head>"
      ]
     },
     "execution_count": 208,
     "metadata": {},
     "output_type": "execute_result"
    },
    {
     "data": {
      "text/plain": [
       "<title>The Dormouse's story</title>"
      ]
     },
     "execution_count": 208,
     "metadata": {},
     "output_type": "execute_result"
    },
    {
     "data": {
      "text/plain": [
       "\"The Dormouse's story\""
      ]
     },
     "execution_count": 208,
     "metadata": {},
     "output_type": "execute_result"
    },
    {
     "data": {
      "text/plain": [
       "'\\n'"
      ]
     },
     "execution_count": 208,
     "metadata": {},
     "output_type": "execute_result"
    },
    {
     "data": {
      "text/plain": [
       "<body>\n",
       "<p class=\"title\"><b>The Dormouse's story</b></p>\n",
       "<p class=\"story\">Once upon a time there were three little sisters; and their names were\n",
       "<a class=\"sister\" href=\"http://example.com/elsie\" id=\"link1\">Elsie</a>,\n",
       "<a class=\"sister\" href=\"http://example.com/lacie\" id=\"link2\">Lacie</a> and\n",
       "<a class=\"sister\" href=\"http://example.com/tillie\" id=\"link3\">Tillie</a>;\n",
       "and they lived at the bottom of a well.</p>\n",
       "<p class=\"story\">...</p>\n",
       "</body>"
      ]
     },
     "execution_count": 208,
     "metadata": {},
     "output_type": "execute_result"
    },
    {
     "data": {
      "text/plain": [
       "'\\n'"
      ]
     },
     "execution_count": 208,
     "metadata": {},
     "output_type": "execute_result"
    },
    {
     "data": {
      "text/plain": [
       "<p class=\"title\"><b>The Dormouse's story</b></p>"
      ]
     },
     "execution_count": 208,
     "metadata": {},
     "output_type": "execute_result"
    },
    {
     "data": {
      "text/plain": [
       "<b>The Dormouse's story</b>"
      ]
     },
     "execution_count": 208,
     "metadata": {},
     "output_type": "execute_result"
    },
    {
     "data": {
      "text/plain": [
       "\"The Dormouse's story\""
      ]
     },
     "execution_count": 208,
     "metadata": {},
     "output_type": "execute_result"
    },
    {
     "data": {
      "text/plain": [
       "'\\n'"
      ]
     },
     "execution_count": 208,
     "metadata": {},
     "output_type": "execute_result"
    },
    {
     "data": {
      "text/plain": [
       "<p class=\"story\">Once upon a time there were three little sisters; and their names were\n",
       "<a class=\"sister\" href=\"http://example.com/elsie\" id=\"link1\">Elsie</a>,\n",
       "<a class=\"sister\" href=\"http://example.com/lacie\" id=\"link2\">Lacie</a> and\n",
       "<a class=\"sister\" href=\"http://example.com/tillie\" id=\"link3\">Tillie</a>;\n",
       "and they lived at the bottom of a well.</p>"
      ]
     },
     "execution_count": 208,
     "metadata": {},
     "output_type": "execute_result"
    },
    {
     "data": {
      "text/plain": [
       "'Once upon a time there were three little sisters; and their names were\\n'"
      ]
     },
     "execution_count": 208,
     "metadata": {},
     "output_type": "execute_result"
    },
    {
     "data": {
      "text/plain": [
       "<a class=\"sister\" href=\"http://example.com/elsie\" id=\"link1\">Elsie</a>"
      ]
     },
     "execution_count": 208,
     "metadata": {},
     "output_type": "execute_result"
    },
    {
     "data": {
      "text/plain": [
       "'Elsie'"
      ]
     },
     "execution_count": 208,
     "metadata": {},
     "output_type": "execute_result"
    },
    {
     "data": {
      "text/plain": [
       "',\\n'"
      ]
     },
     "execution_count": 208,
     "metadata": {},
     "output_type": "execute_result"
    },
    {
     "data": {
      "text/plain": [
       "<a class=\"sister\" href=\"http://example.com/lacie\" id=\"link2\">Lacie</a>"
      ]
     },
     "execution_count": 208,
     "metadata": {},
     "output_type": "execute_result"
    },
    {
     "data": {
      "text/plain": [
       "'Lacie'"
      ]
     },
     "execution_count": 208,
     "metadata": {},
     "output_type": "execute_result"
    },
    {
     "data": {
      "text/plain": [
       "' and\\n'"
      ]
     },
     "execution_count": 208,
     "metadata": {},
     "output_type": "execute_result"
    },
    {
     "data": {
      "text/plain": [
       "<a class=\"sister\" href=\"http://example.com/tillie\" id=\"link3\">Tillie</a>"
      ]
     },
     "execution_count": 208,
     "metadata": {},
     "output_type": "execute_result"
    },
    {
     "data": {
      "text/plain": [
       "'Tillie'"
      ]
     },
     "execution_count": 208,
     "metadata": {},
     "output_type": "execute_result"
    },
    {
     "data": {
      "text/plain": [
       "';\\nand they lived at the bottom of a well.'"
      ]
     },
     "execution_count": 208,
     "metadata": {},
     "output_type": "execute_result"
    },
    {
     "data": {
      "text/plain": [
       "'\\n'"
      ]
     },
     "execution_count": 208,
     "metadata": {},
     "output_type": "execute_result"
    },
    {
     "data": {
      "text/plain": [
       "<p class=\"story\">...</p>"
      ]
     },
     "execution_count": 208,
     "metadata": {},
     "output_type": "execute_result"
    },
    {
     "data": {
      "text/plain": [
       "'...'"
      ]
     },
     "execution_count": 208,
     "metadata": {},
     "output_type": "execute_result"
    },
    {
     "data": {
      "text/plain": [
       "'\\n'"
      ]
     },
     "execution_count": 208,
     "metadata": {},
     "output_type": "execute_result"
    }
   ],
   "source": [
    "for child in soup.html.descendants:\n",
    "    child"
   ]
  },
  {
   "cell_type": "code",
   "execution_count": 210,
   "metadata": {},
   "outputs": [
    {
     "data": {
      "text/plain": [
       "<p class=\"story\">Once upon a time there were three little sisters; and their names were\n",
       "<a class=\"sister\" href=\"http://example.com/elsie\" id=\"link1\">Elsie</a>,\n",
       "<a class=\"sister\" href=\"http://example.com/lacie\" id=\"link2\">Lacie</a> and\n",
       "<a class=\"sister\" href=\"http://example.com/tillie\" id=\"link3\">Tillie</a>;\n",
       "and they lived at the bottom of a well.</p>"
      ]
     },
     "execution_count": 210,
     "metadata": {},
     "output_type": "execute_result"
    }
   ],
   "source": [
    "soup.a.parent"
   ]
  },
  {
   "cell_type": "code",
   "execution_count": 228,
   "metadata": {},
   "outputs": [
    {
     "ename": "AttributeError",
     "evalue": "ResultSet object has no attribute 'name'. You're probably treating a list of items like a single item. Did you call find_all() when you meant to call find()?",
     "output_type": "error",
     "traceback": [
      "\u001b[1;31m---------------------------------------------------------------------------\u001b[0m",
      "\u001b[1;31mAttributeError\u001b[0m                            Traceback (most recent call last)",
      "\u001b[1;32m<ipython-input-228-923e05141024>\u001b[0m in \u001b[0;36m<module>\u001b[1;34m\u001b[0m\n\u001b[1;32m----> 1\u001b[1;33m \u001b[0msoup\u001b[0m\u001b[1;33m.\u001b[0m\u001b[0mfind_all\u001b[0m\u001b[1;33m(\u001b[0m\u001b[0mre\u001b[0m\u001b[1;33m.\u001b[0m\u001b[0mcompile\u001b[0m\u001b[1;33m(\u001b[0m\u001b[1;34m'^b'\u001b[0m\u001b[1;33m)\u001b[0m\u001b[1;33m)\u001b[0m\u001b[1;33m.\u001b[0m\u001b[0mname\u001b[0m\u001b[1;33m\u001b[0m\u001b[1;33m\u001b[0m\u001b[0m\n\u001b[0m",
      "\u001b[1;32md:\\python\\python36\\lib\\site-packages\\bs4\\element.py\u001b[0m in \u001b[0;36m__getattr__\u001b[1;34m(self, key)\u001b[0m\n\u001b[0;32m   1618\u001b[0m     \u001b[1;32mdef\u001b[0m \u001b[0m__getattr__\u001b[0m\u001b[1;33m(\u001b[0m\u001b[0mself\u001b[0m\u001b[1;33m,\u001b[0m \u001b[0mkey\u001b[0m\u001b[1;33m)\u001b[0m\u001b[1;33m:\u001b[0m\u001b[1;33m\u001b[0m\u001b[1;33m\u001b[0m\u001b[0m\n\u001b[0;32m   1619\u001b[0m         raise AttributeError(\n\u001b[1;32m-> 1620\u001b[1;33m             \u001b[1;34m\"ResultSet object has no attribute '%s'. You're probably treating a list of items like a single item. Did you call find_all() when you meant to call find()?\"\u001b[0m \u001b[1;33m%\u001b[0m \u001b[0mkey\u001b[0m\u001b[1;33m\u001b[0m\u001b[1;33m\u001b[0m\u001b[0m\n\u001b[0m\u001b[0;32m   1621\u001b[0m         )\n",
      "\u001b[1;31mAttributeError\u001b[0m: ResultSet object has no attribute 'name'. You're probably treating a list of items like a single item. Did you call find_all() when you meant to call find()?"
     ]
    }
   ],
   "source": [
    "soup.find_all(re.compile('^b'))"
   ]
  },
  {
   "cell_type": "code",
   "execution_count": 231,
   "metadata": {},
   "outputs": [
    {
     "name": "stdout",
     "output_type": "stream",
     "text": [
      "Help on function find_all in module bs4.element:\n",
      "\n",
      "find_all(self, name=None, attrs={}, recursive=True, text=None, limit=None, **kwargs)\n",
      "    Extracts a list of Tag objects that match the given\n",
      "    criteria.  You can specify the name of the Tag and any\n",
      "    attributes you want the Tag to have.\n",
      "    \n",
      "    The value of a key-value pair in the 'attrs' map can be a\n",
      "    string, a list of strings, a regular expression object, or a\n",
      "    callable that takes a string and returns whether or not the\n",
      "    string matches for some custom definition of 'matches'. The\n",
      "    same is true of the tag name.\n",
      "\n"
     ]
    }
   ],
   "source": [
    "help(BeautifulSoup.find_all)"
   ]
  },
  {
   "cell_type": "code",
   "execution_count": 232,
   "metadata": {},
   "outputs": [
    {
     "data": {
      "text/plain": [
       "[<title>The Dormouse's story</title>]"
      ]
     },
     "execution_count": 232,
     "metadata": {},
     "output_type": "execute_result"
    }
   ],
   "source": [
    "soup.select('title')"
   ]
  },
  {
   "cell_type": "code",
   "execution_count": 233,
   "metadata": {},
   "outputs": [
    {
     "data": {
      "text/plain": [
       "<title>The Dormouse's story</title>"
      ]
     },
     "execution_count": 233,
     "metadata": {},
     "output_type": "execute_result"
    }
   ],
   "source": [
    "soup.find('title')"
   ]
  },
  {
   "cell_type": "code",
   "execution_count": null,
   "metadata": {},
   "outputs": [],
   "source": []
  }
 ],
 "metadata": {
  "kernelspec": {
   "display_name": "Python 3",
   "language": "python",
   "name": "python3"
  },
  "language_info": {
   "codemirror_mode": {
    "name": "ipython",
    "version": 3
   },
   "file_extension": ".py",
   "mimetype": "text/x-python",
   "name": "python",
   "nbconvert_exporter": "python",
   "pygments_lexer": "ipython3",
   "version": "3.6.8"
  }
 },
 "nbformat": 4,
 "nbformat_minor": 2
}
